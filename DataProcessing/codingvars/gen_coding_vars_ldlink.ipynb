{
 "cells": [
  {
   "cell_type": "markdown",
   "metadata": {},
   "source": [
    "# Generating Coding Variants With LDLink\n",
    "- **Author** - Frank Grenn\n",
    "- **Date Started** - May 2020\n",
    "- **Quick Description:** use LDLink to get proxy coding variants for all risk variants in the browser. Then use ANNOVAR to get the CADD scores and aa change.\n"
   ]
  },
  {
   "cell_type": "code",
   "execution_count": null,
   "metadata": {},
   "outputs": [],
   "source": [
    "import pandas as pd\n",
    "import os\n",
    "import numpy as np\n",
    "import re"
   ]
  },
  {
   "cell_type": "code",
   "execution_count": null,
   "metadata": {},
   "outputs": [],
   "source": [
    "DATADIR = '$PATH/AppDataProcessing'\n",
    "WRKDIR = f\"{DATADIR}/codingvars\"\n",
    "TMPDIR = f\"{WRKDIR}/temp\"\n"
   ]
  },
  {
   "cell_type": "code",
   "execution_count": null,
   "metadata": {},
   "outputs": [],
   "source": [
    "!mkdir {TMPDIR}"
   ]
  },
  {
   "cell_type": "code",
   "execution_count": null,
   "metadata": {},
   "outputs": [],
   "source": []
  },
  {
   "cell_type": "markdown",
   "metadata": {},
   "source": [
    "## 1) Get List of Variants and Populations"
   ]
  },
  {
   "cell_type": "markdown",
   "metadata": {},
   "source": [
    "#### Load GWAS"
   ]
  },
  {
   "cell_type": "code",
   "execution_count": null,
   "metadata": {},
   "outputs": [],
   "source": [
    "gwas = pd.read_csv(f\"{DATADIR}/gwas_risk_variants.csv\")\n",
    "print(gwas.shape)\n",
    "print(gwas.head())"
   ]
  },
  {
   "cell_type": "code",
   "execution_count": null,
   "metadata": {},
   "outputs": [],
   "source": [
    "gwas['POP'] = np.where(gwas['GWAS']=='Asian','EAS','EUR')\n",
    "print(gwas.head())\n",
    "print(gwas.tail())"
   ]
  },
  {
   "cell_type": "code",
   "execution_count": null,
   "metadata": {},
   "outputs": [],
   "source": [
    "gwas.to_csv(f\"{WRKDIR}/variants_with_population.csv\", index=None)"
   ]
  },
  {
   "cell_type": "markdown",
   "metadata": {},
   "source": [
    "## 2) Proxy Variants\n",
    "call the R script  \n",
    "need to pass path to the variant file and an option r2 cutoff"
   ]
  },
  {
   "cell_type": "code",
   "execution_count": null,
   "metadata": {},
   "outputs": [],
   "source": [
    "r2 = \"\"#0.5"
   ]
  },
  {
   "cell_type": "code",
   "execution_count": null,
   "metadata": {},
   "outputs": [],
   "source": [
    "print(f\"Rscript getRiskSNPProxies.R {WRKDIR}/variants_with_population.csv {r2}\")"
   ]
  },
  {
   "cell_type": "markdown",
   "metadata": {},
   "source": [
    "## 3) Read Proxy Files"
   ]
  },
  {
   "cell_type": "code",
   "execution_count": null,
   "metadata": {},
   "outputs": [],
   "source": [
    "proxy_df = pd.DataFrame(columns=[\"REF_SNP\",\"RS_Number\",\"Coord\",\"R2\",\"Dprime\",\"Distance\",\"MAF\",\"Alleles\",\"Correlated_Alleles\",\"RegulomeDB\",\"Function\"])\n",
    "print(proxy_df)"
   ]
  },
  {
   "cell_type": "code",
   "execution_count": null,
   "metadata": {},
   "outputs": [],
   "source": [
    "\n",
    "for i in range(len(gwas.index)):\n",
    "    risk_var = gwas.iloc[i,:]['RSID']\n",
    "    #print(gwas.iloc[i,:]['RSID'])\n",
    "    #print(i)\n",
    "\n",
    "    proxies = pd.read_csv(f\"{WRKDIR}/proxy_snps/{risk_var}_proxies.csv\")\n",
    "    proxies['REF_SNP'] = risk_var\n",
    "    \n",
    "    proxy_df = proxy_df.append(proxies)\n",
    "    #break;\n",
    "print(proxy_df.shape)\n",
    "print(proxy_df.head())"
   ]
  },
  {
   "cell_type": "code",
   "execution_count": null,
   "metadata": {},
   "outputs": [],
   "source": [
    "set(proxy_df['X.'])"
   ]
  },
  {
   "cell_type": "code",
   "execution_count": null,
   "metadata": {},
   "outputs": [],
   "source": [
    "coding_proxies = proxy_df[(proxy_df['Function'].notna()) & (proxy_df['Function']!=\".\")]\n",
    "print(coding_proxies.shape)\n",
    "print(coding_proxies.head())"
   ]
  },
  {
   "cell_type": "code",
   "execution_count": null,
   "metadata": {},
   "outputs": [],
   "source": [
    "coding_proxies['chrbprefalt'] = coding_proxies['Coord'].str.replace(\"chr\",\"\") + \":\" + coding_proxies['Alleles'].str.replace(\"(\",\"\").str.replace(\")\",\"\").str.replace(\"/\",\":\")\n",
    "print(coding_proxies.head())"
   ]
  },
  {
   "cell_type": "code",
   "execution_count": null,
   "metadata": {},
   "outputs": [],
   "source": [
    "coding_proxies=coding_proxies.sort_values(by=['RS_Number'])\n"
   ]
  },
  {
   "cell_type": "code",
   "execution_count": null,
   "metadata": {},
   "outputs": [],
   "source": [
    "coding_proxies.shape"
   ]
  },
  {
   "cell_type": "code",
   "execution_count": null,
   "metadata": {},
   "outputs": [],
   "source": [
    "\n",
    "coding_proxies.to_csv(f\"{WRKDIR}/coding_proxies.txt\",sep=\"\\t\",index=None)"
   ]
  },
  {
   "cell_type": "markdown",
   "metadata": {},
   "source": [
    "## 3) Make avinput for ANNOVAR"
   ]
  },
  {
   "cell_type": "code",
   "execution_count": null,
   "metadata": {},
   "outputs": [],
   "source": [
    "annovar_proxies = coding_proxies[['Alleles','Coord','RS_Number']]"
   ]
  },
  {
   "cell_type": "code",
   "execution_count": null,
   "metadata": {},
   "outputs": [],
   "source": [
    "temp = annovar_proxies['Alleles'].str.replace(\"(\",\"\").str.replace(\")\",\"\").str.split(\"/\",n=1,expand=True)\n",
    "annovar_proxies['Ref']=temp[0]\n",
    "annovar_proxies['Alt']=temp[1]\n",
    "print(annovar_proxies.head())"
   ]
  },
  {
   "cell_type": "code",
   "execution_count": null,
   "metadata": {},
   "outputs": [],
   "source": [
    "annovar_proxies['Coord'] = annovar_proxies['Coord'].str.replace(\"chr\",\"\")\n",
    "temp = annovar_proxies['Coord'].str.split(\":\",n=1,expand=True)\n",
    "annovar_proxies['Chr']  = temp[0]\n",
    "annovar_proxies['Start'] = temp[1]\n",
    "annovar_proxies['End'] = temp[1]\n",
    "\n",
    "print(annovar_proxies.head())"
   ]
  },
  {
   "cell_type": "markdown",
   "metadata": {},
   "source": [
    "#### apparently the avinput needs the End position to be changed for deletions"
   ]
  },
  {
   "cell_type": "code",
   "execution_count": null,
   "metadata": {},
   "outputs": [],
   "source": [
    "annovar_proxies['Start'] = annovar_proxies['Start'].astype(int)\n",
    "\n",
    "annovar_proxies['End'] = annovar_proxies['End'].astype(int)\n",
    "annovar_proxies.loc[annovar_proxies.Alt == '-', 'End'] = annovar_proxies.loc[annovar_proxies.Alt == '-', 'Start'] + annovar_proxies.loc[annovar_proxies.Alt == '-', 'Ref'].str.len() - 1\n"
   ]
  },
  {
   "cell_type": "code",
   "execution_count": null,
   "metadata": {},
   "outputs": [],
   "source": [
    "annovar_proxies = annovar_proxies.drop_duplicates()"
   ]
  },
  {
   "cell_type": "code",
   "execution_count": null,
   "metadata": {},
   "outputs": [],
   "source": [
    "print(annovar_proxies.shape)\n",
    "print(annovar_proxies.head())"
   ]
  },
  {
   "cell_type": "code",
   "execution_count": null,
   "metadata": {},
   "outputs": [],
   "source": [
    "annovar_proxies[annovar_proxies['Alt']=='-']['End']"
   ]
  },
  {
   "cell_type": "code",
   "execution_count": null,
   "metadata": {},
   "outputs": [],
   "source": [
    "annovar_proxies[annovar_proxies['Alt']=='-']"
   ]
  },
  {
   "cell_type": "code",
   "execution_count": null,
   "metadata": {},
   "outputs": [],
   "source": [
    "annovar_proxies[['Chr', 'Start', 'End', 'Ref', 'Alt']].to_csv(f\"{WRKDIR}/coding_proxies.avinput\", index = None,sep=\" \")"
   ]
  },
  {
   "cell_type": "markdown",
   "metadata": {},
   "source": [
    "## 4) Annotate with ANNOVAR"
   ]
  },
  {
   "cell_type": "code",
   "execution_count": null,
   "metadata": {},
   "outputs": [],
   "source": [
    "!(module load annovar;\\\n",
    "table_annovar.pl coding_proxies.avinput $ANNOVAR_DATA/hg19 -buildver hg19 -out coding_proxies -remove -protocol refGene,avsnp142 -operation g,f -nastring . )"
   ]
  },
  {
   "cell_type": "markdown",
   "metadata": {},
   "source": [
    "## 5) Get CADD Scores from ANNOVAR"
   ]
  },
  {
   "cell_type": "code",
   "execution_count": null,
   "metadata": {},
   "outputs": [],
   "source": [
    "!(module load annovar;\\\n",
    "annotate_variation.pl --filter --build hg19 --dbtype cadd --buildver hg19 --otherinfo coding_proxies.avinput $ANNOVAR_DATA/hg19)\n",
    "#table_annovar.pl coding_proxies.avinput $ANNOVAR_DATA/hg19 -buildver hg19 -out coding_proxies -remove -protocol refGene,avsnp142 -operation g,f -nastring . )\n",
    "\n",
    "\n"
   ]
  },
  {
   "cell_type": "markdown",
   "metadata": {},
   "source": [
    "## 6) Combine LDLink data, CADD scores and ANNOVAR data"
   ]
  },
  {
   "cell_type": "markdown",
   "metadata": {},
   "source": [
    "#### read the annovar data"
   ]
  },
  {
   "cell_type": "code",
   "execution_count": null,
   "metadata": {},
   "outputs": [],
   "source": [
    "annovar = pd.read_csv(f\"{WRKDIR}/coding_proxies.hg19_multianno.txt\",sep=\"\\t\")\n",
    "print(annovar.shape)\n",
    "print(annovar.head())"
   ]
  },
  {
   "cell_type": "code",
   "execution_count": null,
   "metadata": {},
   "outputs": [],
   "source": [
    "annovar['chrbprefalt'] = annovar['Chr'] + \":\" + annovar['Start'] + \":\" + annovar['Ref'] + \":\" + annovar['Alt']"
   ]
  },
  {
   "cell_type": "code",
   "execution_count": null,
   "metadata": {},
   "outputs": [],
   "source": [
    "print(annovar.head())"
   ]
  },
  {
   "cell_type": "code",
   "execution_count": null,
   "metadata": {},
   "outputs": [],
   "source": [
    "annovar[annovar['Alt']=='-']"
   ]
  },
  {
   "cell_type": "code",
   "execution_count": null,
   "metadata": {},
   "outputs": [],
   "source": [
    "len(set(annovar['chrbprefalt']))"
   ]
  },
  {
   "cell_type": "code",
   "execution_count": null,
   "metadata": {},
   "outputs": [],
   "source": [
    "len(set(coding_proxies['chrbprefalt']))"
   ]
  },
  {
   "cell_type": "markdown",
   "metadata": {},
   "source": [
    "#### merge annovar data with LDLink data"
   ]
  },
  {
   "cell_type": "code",
   "execution_count": null,
   "metadata": {},
   "outputs": [],
   "source": [
    "ldlink_annovar = pd.merge(left = annovar, right = coding_proxies, on = 'chrbprefalt',how = 'inner')\n",
    "print(ldlink_annovar.shape)\n",
    "print(ldlink_annovar.head())"
   ]
  },
  {
   "cell_type": "markdown",
   "metadata": {},
   "source": [
    "#### merge that with the CADD data"
   ]
  },
  {
   "cell_type": "code",
   "execution_count": null,
   "metadata": {},
   "outputs": [],
   "source": [
    "names = [\"db\", \"cadd\", \"chr\", \"start\", \"end\", \"ref\", \"alt\"]\n",
    "cadd = pd.read_csv(f\"{WRKDIR}/coding_proxies.avinput.hg19_cadd_dropped\", sep=\"\\s\", names = names)\n",
    "\n",
    "\n",
    "print(cadd.shape)\n",
    "print(cadd.head())"
   ]
  },
  {
   "cell_type": "code",
   "execution_count": null,
   "metadata": {},
   "outputs": [],
   "source": [
    "cadd['cadd_phred'] = cadd['cadd'].str.split(\",\",n=1,expand=True)[1]\n",
    "print(cadd.head())"
   ]
  },
  {
   "cell_type": "code",
   "execution_count": null,
   "metadata": {},
   "outputs": [],
   "source": [
    "cadd['chrbprefalt'] = cadd['chr'].astype(str) + \":\" + cadd['start'].astype(str) + \":\" + cadd['ref'] + \":\" + cadd['alt']"
   ]
  },
  {
   "cell_type": "code",
   "execution_count": null,
   "metadata": {},
   "outputs": [],
   "source": [
    "cadd.shape"
   ]
  },
  {
   "cell_type": "code",
   "execution_count": null,
   "metadata": {},
   "outputs": [],
   "source": [
    "cadd.head()"
   ]
  },
  {
   "cell_type": "code",
   "execution_count": null,
   "metadata": {},
   "outputs": [],
   "source": []
  },
  {
   "cell_type": "code",
   "execution_count": null,
   "metadata": {},
   "outputs": [],
   "source": [
    "cadd_ldlink_annovar = pd.merge(left = ldlink_annovar, right = cadd, on = 'chrbprefalt', how = 'left')\n",
    "print(cadd_ldlink_annovar.shape)\n",
    "print(cadd_ldlink_annovar.head())"
   ]
  },
  {
   "cell_type": "code",
   "execution_count": null,
   "metadata": {},
   "outputs": [],
   "source": [
    "cadd_ldlink_annovar.columns"
   ]
  },
  {
   "cell_type": "markdown",
   "metadata": {},
   "source": [
    "#### Now merge with the GWAS risk variants to get the locus numbers"
   ]
  },
  {
   "cell_type": "code",
   "execution_count": null,
   "metadata": {},
   "outputs": [],
   "source": [
    "gwas = pd.read_csv(f\"{DATADIR}/gwas_risk_variants.csv\")\n",
    "gwas = gwas[['GWAS','RSID','LOC_NUM']]\n",
    "print(gwas.shape)\n",
    "print(gwas.head())"
   ]
  },
  {
   "cell_type": "code",
   "execution_count": null,
   "metadata": {},
   "outputs": [],
   "source": [
    "final = pd.merge(left = cadd_ldlink_annovar, right = gwas, left_on = 'REF_SNP', right_on = 'RSID',how = 'left')\n",
    "print(final.shape)\n",
    "print(final.head())"
   ]
  },
  {
   "cell_type": "code",
   "execution_count": null,
   "metadata": {},
   "outputs": [],
   "source": [
    "#final.to_csv(f\"{WRKDIR}/temp.csv\", index=None)"
   ]
  },
  {
   "cell_type": "code",
   "execution_count": null,
   "metadata": {},
   "outputs": [],
   "source": [
    "final_write = final[['GWAS','RS_Number','chrbprefalt','LOC_NUM','Gene.refGene','AAChange.refGene','MAF','cadd_phred','R2','Dprime','REF_SNP']]"
   ]
  },
  {
   "cell_type": "code",
   "execution_count": null,
   "metadata": {},
   "outputs": [],
   "source": [
    "print(final_write.shape)\n",
    "print(final_write.head())"
   ]
  },
  {
   "cell_type": "code",
   "execution_count": null,
   "metadata": {},
   "outputs": [],
   "source": [
    "#remove rows where annovar couldn't get the AA change\n",
    "print(final_write.shape)\n",
    "final_write = final_write[final_write['AAChange.refGene']!='.']\n",
    "print(final_write.shape)"
   ]
  },
  {
   "cell_type": "code",
   "execution_count": null,
   "metadata": {},
   "outputs": [],
   "source": [
    "final_write=final_write.sort_values(by=['RS_Number'])\n",
    "print(final_write.head())"
   ]
  },
  {
   "cell_type": "code",
   "execution_count": null,
   "metadata": {},
   "outputs": [],
   "source": [
    "final_write.to_csv(f\"{DATADIR}/results/CodingVariantsLDLink.csv\", index = False)"
   ]
  }
 ],
 "metadata": {
  "kernelspec": {
   "display_name": "Python 3",
   "language": "python",
   "name": "python3"
  },
  "language_info": {
   "codemirror_mode": {
    "name": "ipython",
    "version": 3
   },
   "file_extension": ".py",
   "mimetype": "text/x-python",
   "name": "python",
   "nbconvert_exporter": "python",
   "pygments_lexer": "ipython3",
   "version": "3.7.3"
  }
 },
 "nbformat": 4,
 "nbformat_minor": 4
}
