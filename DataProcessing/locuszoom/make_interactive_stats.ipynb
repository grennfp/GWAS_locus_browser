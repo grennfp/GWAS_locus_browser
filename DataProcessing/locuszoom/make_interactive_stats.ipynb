{
 "cells": [
  {
   "cell_type": "markdown",
   "metadata": {},
   "source": [
    "# GWAS Locus Browser Locus Zoom Scripts\n",
    "- **Author** - Frank Grenn\n",
    "- **Date Started** - June 2019\n",
    "- **Quick Description:** code to generate json files for interactive locus zoom.\n",
    "- **Data:** \n",
    "input files obtained from: [META5](https://www.ncbi.nlm.nih.gov/pubmed/31701892) and [PD Progression](https://movementdisorders.onlinelibrary.wiley.com/doi/full/10.1002/mds.27845)  \n",
    "[Static Locus Zoom](http://locuszoom.org/)  \n",
    "[Interactive Locus Zoom](https://github.com/statgen/locuszoom/wiki)\n"
   ]
  },
  {
   "cell_type": "code",
   "execution_count": null,
   "metadata": {},
   "outputs": [],
   "source": [
    "import pandas as pd\n",
    "import numpy as np"
   ]
  },
  {
   "cell_type": "code",
   "execution_count": null,
   "metadata": {},
   "outputs": [],
   "source": [
    "DATADIR= \"/path/to/AppDataProcessing\"\n",
    "WRKDIR=f\"{DATADIR}/locuszoom\""
   ]
  },
  {
   "cell_type": "markdown",
   "metadata": {},
   "source": [
    "### Must select GWAS corresponding to the summary stats loaded\n",
    "would need to modify code for progression loci, because each of the two progression loci will have a different summary statistics file to read from"
   ]
  },
  {
   "cell_type": "code",
   "execution_count": null,
   "metadata": {},
   "outputs": [],
   "source": [
    "GWAS='Progression'"
   ]
  },
  {
   "cell_type": "code",
   "execution_count": null,
   "metadata": {},
   "outputs": [],
   "source": [
    "#get summary stats\n",
    "#data = pd.read_csv(f\"{DATADIR}/meta5_sumstats_harmonized.csv\")\n",
    "data = pd.read_csv(f\"{DATADIR}/prog_hy_sumstats_harmonized.csv\")\n",
    "#data = pd.read_csv(f\"{DATADIR}/prog_ins_sumstats_harmonized.csv\")\n",
    "#data = pd.read_csv(f\"{DATADIR}/asiangwas_sumstats_harmonized.csv\")"
   ]
  },
  {
   "cell_type": "code",
   "execution_count": null,
   "metadata": {},
   "outputs": [],
   "source": [
    "gwas_risk_vars = pd.read_csv(f\"{DATADIR}/gwas_risk_variants.csv\")\n",
    "print(gwas_risk_vars.shape)\n",
    "print(gwas_risk_vars.head())"
   ]
  },
  {
   "cell_type": "code",
   "execution_count": null,
   "metadata": {},
   "outputs": [],
   "source": [
    "loci = gwas_risk_vars[gwas_risk_vars.GWAS==GWAS]\n",
    "loci"
   ]
  },
  {
   "cell_type": "code",
   "execution_count": null,
   "metadata": {},
   "outputs": [],
   "source": [
    "#if using progression loci may need to select a specific variant\n",
    "loci = loci[loci.CHR==9]\n",
    "loci"
   ]
  },
  {
   "cell_type": "code",
   "execution_count": null,
   "metadata": {},
   "outputs": [],
   "source": [
    "#loop\n",
    "for i in range(len(loci.index)):\n",
    "    chrm = (loci.iloc[i]['CHR']);\n",
    "    pos = loci.iloc[i]['BP'];\n",
    "    start = pos - 1000000;\n",
    "    end = pos + 1000000;\n",
    "    \n",
    "\n",
    "    #subset by chromosome\n",
    "    chrdata = data[(data['CHR'] == chrm.astype('int32'))]\n",
    "\n",
    "    chrdata['BP'] = chrdata['BP'].astype('int32')\n",
    "\n",
    "\n",
    "    #and then by position\n",
    "    rangeddata = chrdata[(chrdata['BP'] >= start) & (chrdata['BP'] <= end)]\n",
    "    print(len(rangeddata.index))\n",
    "    \n",
    "    #then drop rows with missing RSIDs\n",
    "    rangeddata = rangeddata.dropna(subset=['RSID'])\n",
    "    print(len(rangeddata.index))\n",
    " \n",
    "    #add quotes around certain fields to make locus zoom happy\n",
    "    ref_allele_str = '\"'+rangeddata['REF']+'\"'\n",
    "    chr_str = '\"'+rangeddata['CHR'].astype(str)+'\"'\n",
    "    variant_str = '\"'+rangeddata['CHR_BP_REF_ALT']+'\"'\n",
    "\n",
    "    rangeddata['REF']=ref_allele_str\n",
    "    rangeddata['CHR']=chr_str\n",
    "    rangeddata['CHR_BP_REF_ALT']=variant_str\n",
    "\n",
    "\n",
    "    chromosome=','.join(map(str,rangeddata['CHR'].tolist()))\n",
    "    log_pvalue=','.join(map(str,rangeddata['LOG_P'].tolist()))\n",
    "    position=','.join(map(str,rangeddata['BP'].tolist()))\n",
    "    ref_allele=','.join(map(str,rangeddata['REF'].tolist()))\n",
    "    variant=','.join(map(str,rangeddata['CHR_BP_REF_ALT'].tolist()))\n",
    "\n",
    "    jsonstring = '{{\\\n",
    "\t    \"data\": {{\\\n",
    "\t        \"chromosome\": [\\\n",
    "                {}\\\n",
    "\t        ],\\\n",
    "    \t    \"log_pvalue\": [\\\n",
    "        \t    {}\\\n",
    "        \t],\\\n",
    "        \t\"position\": [\\\n",
    "\t            {}\\\n",
    "\t        ],\\\n",
    "\t        \"ref_allele\": [\\\n",
    "\t            {}\\\n",
    "\t        ],\\\n",
    "\t        \"variant\": [\\\n",
    "\t            {}\\\n",
    "\t        ]\\\n",
    "\t    }},\\\n",
    "\t    \"lastPage\": null\\\n",
    "\t}}'.format(chromosome,log_pvalue,position,ref_allele,variant)\n",
    "\n",
    "    print(loci.iloc[i]['RSID'] + \" \" + str(loci.iloc[i]['CHR']) + \":\" + str(loci.iloc[i]['BP']))\n",
    "    json_file = open(f\"{WRKDIR}/interactive_stats/\"+loci.iloc[i]['RSID']+\"_locus.json\", \"w\")\n",
    "    json_file.write(jsonstring)\n",
    "    json_file.close()\n",
    "\t\n",
    "\t\n",
    "\t"
   ]
  }
 ],
 "metadata": {
  "kernelspec": {
   "display_name": "Python 3",
   "language": "python",
   "name": "python3"
  },
  "language_info": {
   "codemirror_mode": {
    "name": "ipython",
    "version": 3
   },
   "file_extension": ".py",
   "mimetype": "text/x-python",
   "name": "python",
   "nbconvert_exporter": "python",
   "pygments_lexer": "ipython3",
   "version": "3.7.3"
  }
 },
 "nbformat": 4,
 "nbformat_minor": 4
}
