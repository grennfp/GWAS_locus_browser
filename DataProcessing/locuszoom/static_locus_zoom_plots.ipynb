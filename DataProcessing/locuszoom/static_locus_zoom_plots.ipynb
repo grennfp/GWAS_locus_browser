{
 "cells": [
  {
   "cell_type": "markdown",
   "metadata": {},
   "source": [
    "# Generate Static LocusZoom\n",
    "- **Author** - Frank Grenn\n",
    "- **Date Started** - April 2020\n",
    "- **Quick Description:** code to generate locus zoom pngs\n",
    "- **Data:** \n",
    "[Static Locus Zoom](http://locuszoom.org/)  \n",
    "\n"
   ]
  },
  {
   "cell_type": "code",
   "execution_count": null,
   "metadata": {},
   "outputs": [],
   "source": [
    "import pandas as pd"
   ]
  },
  {
   "cell_type": "code",
   "execution_count": null,
   "metadata": {},
   "outputs": [],
   "source": [
    "DATADIR = \"$PATH/AppDataProcessing\"\n",
    "WRKDIR = f\"{DATADIR}/locuszoom\""
   ]
  },
  {
   "cell_type": "markdown",
   "metadata": {},
   "source": [
    "## Reformat the summary stats file as needed\n",
    "need a snp identifier column and a p value column"
   ]
  },
  {
   "cell_type": "code",
   "execution_count": null,
   "metadata": {},
   "outputs": [],
   "source": [
    "sum_stats = pd.read_csv(f\"{DATADIR}/asiangwas_sumstats_harmonized.csv\")\n",
    "print(sum_stats.shape)\n",
    "print(sum_stats.head())"
   ]
  },
  {
   "cell_type": "markdown",
   "metadata": {},
   "source": [
    "## Generate the hitSpec file"
   ]
  },
  {
   "cell_type": "code",
   "execution_count": null,
   "metadata": {},
   "outputs": [],
   "source": [
    "risk_vars = ['rs246814','rs9638616']\n",
    "hitSpec_file_name = f\"{WRKDIR}/hitSpec_2MB_flank_asian_gwas.txt\""
   ]
  },
  {
   "cell_type": "code",
   "execution_count": null,
   "metadata": {},
   "outputs": [],
   "source": [
    "#cols: snp\tchr\tstart\tend\tflank\trun\tm2zargs\n",
    "hitSpec_df = pd.DataFrame()\n",
    "hitSpec_df['snp']=risk_vars\n",
    "hitSpec_df['chr']='NA'\n",
    "hitSpec_df['start']='NA'\n",
    "hitSpec_df['end']='NA'\n",
    "hitSpec_df['flank']='2MB'\n",
    "hitSpec_df['run']='yes'\n",
    "hitSpec_df['m2zargs']='height=10 rfrows=20 showRecomb=T geneFontSize=.4'\n",
    "\n",
    "hitSpec_df.to_csv(hitSpec_file_name,sep='\\t',index=None)"
   ]
  },
  {
   "cell_type": "markdown",
   "metadata": {},
   "source": [
    "## Generate batch file"
   ]
  },
  {
   "cell_type": "code",
   "execution_count": null,
   "metadata": {},
   "outputs": [],
   "source": [
    "population = \"ASN\"#\"EUR\"\n",
    "formatted_sum_stats=f\"{DATADIR}/asiangwas_sumstats_harmonized.csv\"\n",
    "delim = 'comma'#'space'"
   ]
  },
  {
   "cell_type": "code",
   "execution_count": null,
   "metadata": {},
   "outputs": [],
   "source": [
    "with open(f\"{WRKDIR}/run_locus_zoom_batch.sh\",\"w\") as batch_file:\n",
    "    batch_file.write(f\"#!/bin/bash\\n\\\n",
    "module load locuszoom\\n\\\n",
    "locuszoom --metal {formatted_sum_stats} --pvalcol P --markercol RSID --hitspec {hitSpec_file_name} --delim {delim} --pop {population} --build hg19 --source 1000G_March2012 --plotonly\\n\\\n",
    "\")\n",
    "batch_file.close()"
   ]
  },
  {
   "cell_type": "code",
   "execution_count": null,
   "metadata": {},
   "outputs": [],
   "source": [
    "print(f\"sbatch {WRKDIR}/run_locus_zoom_batch.sh\")"
   ]
  },
  {
   "cell_type": "markdown",
   "metadata": {},
   "source": [
    "### move the generated files somewhere else if needed"
   ]
  },
  {
   "cell_type": "code",
   "execution_count": null,
   "metadata": {},
   "outputs": [],
   "source": [
    "!find . -name '*.pdf' -exec mv {} LocusZoomPdfs/ \\;"
   ]
  },
  {
   "cell_type": "markdown",
   "metadata": {},
   "source": [
    "## Convert the pdf to png"
   ]
  },
  {
   "cell_type": "code",
   "execution_count": null,
   "metadata": {},
   "outputs": [],
   "source": [
    "%%bash\n",
    "## GWAS Locus Browser Locus Zoom Scripts\n",
    "#- **Author** - Frank Grenn\n",
    "#- **Date Started** - June 2019\n",
    "#- **Quick Description:** script to convert locus zoom pdfs to pngs\n",
    "\n",
    "#!/bin/bash\n",
    "\n",
    "module load ImageMagick\n",
    "\n",
    "for fullfilename in \"LocusZoomPdfs\"/*; do\n",
    "\techo \"$fullfilename\"\n",
    "\tfilename=$(basename -- \"$fullfilename\")\n",
    "\tfilenamenoext=\"${filename%.*}\"\n",
    "\t\n",
    "\techo \"$filenamenoext\"\n",
    "\t\n",
    "\tsnp=\"${filenamenoext:7}\"\n",
    "\techo \"$snp\"\n",
    "\t\n",
    "\tmagick convert -density 300 -depth 8 -quality 85 \"${fullfilename}[0]\" \"LocusZoomPngs/${snp}.png\"\n",
    "done\n"
   ]
  },
  {
   "cell_type": "code",
   "execution_count": null,
   "metadata": {},
   "outputs": [],
   "source": []
  }
 ],
 "metadata": {
  "kernelspec": {
   "display_name": "Python 3",
   "language": "python",
   "name": "python3"
  },
  "language_info": {
   "codemirror_mode": {
    "name": "ipython",
    "version": 3
   },
   "file_extension": ".py",
   "mimetype": "text/x-python",
   "name": "python",
   "nbconvert_exporter": "python",
   "pygments_lexer": "ipython3",
   "version": "3.7.3"
  }
 },
 "nbformat": 4,
 "nbformat_minor": 4
}
