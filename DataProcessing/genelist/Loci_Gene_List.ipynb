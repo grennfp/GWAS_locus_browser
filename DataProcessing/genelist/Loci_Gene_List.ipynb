{
 "cells": [
  {
   "cell_type": "markdown",
   "metadata": {},
   "source": [
    "# Loci Gene List\n",
    "- **Author** - Frank Grenn\n",
    "- **Date Started** - April 2020\n",
    "- **Quick Description:** code to get summary statistics and genes for risk loci for app"
   ]
  },
  {
   "cell_type": "markdown",
   "metadata": {},
   "source": [
    " - #### 1) Get List of Genes 1Mb Up and Downstream of Risk Variants\n",
    " - #### 2) Summary Stats For Risk Variants\n",
    " - #### 3) Update the `genes_by_locus.csv` File\n",
    " - #### 4) Update the `gwas_risk_variants.csv` File\n"
   ]
  },
  {
   "cell_type": "code",
   "execution_count": null,
   "metadata": {},
   "outputs": [],
   "source": [
    "import os\n",
    "import pandas as pd\n",
    "import numpy as np"
   ]
  },
  {
   "cell_type": "code",
   "execution_count": null,
   "metadata": {},
   "outputs": [],
   "source": [
    "DATADIR='/path/to/AppDataProcessing'\n",
    "WRKDIR = f'{DATADIR}/genelist'\n",
    "refFlat_hg19 = '/path/to/refFlat_HG19.txt'\n",
    "#change this depending on the new gwas you are using\n",
    "sum_stats_file=f\"{DATADIR}/asiangwas_sumstats_harmonized.csv\""
   ]
  },
  {
   "cell_type": "markdown",
   "metadata": {},
   "source": [
    "## 1) Get List of Genes 1Mb Up and Downstream of Risk Variants\n",
    "#### refFlat .txt to .bed for overlap later"
   ]
  },
  {
   "cell_type": "code",
   "execution_count": null,
   "metadata": {},
   "outputs": [],
   "source": [
    "refFlat = pd.read_csv(refFlat_hg19, sep='\\t',header=None)\n",
    "print(refFlat.head())"
   ]
  },
  {
   "cell_type": "code",
   "execution_count": null,
   "metadata": {},
   "outputs": [],
   "source": [
    "refFlat_bed = refFlat.iloc[:,[2,4,5,0,1]]\n",
    "print(refFlat_bed.head())"
   ]
  },
  {
   "cell_type": "code",
   "execution_count": null,
   "metadata": {},
   "outputs": [],
   "source": [
    "refFlat_bed.to_csv(f\"{WRKDIR}/refFlat_HG19.bed\", index = None, header = None,sep='\\t')"
   ]
  },
  {
   "cell_type": "markdown",
   "metadata": {},
   "source": [
    "#### Extract Summary Stats for the GWAS Risk Variants\n",
    "code may need changing depending on file"
   ]
  },
  {
   "cell_type": "code",
   "execution_count": null,
   "metadata": {},
   "outputs": [],
   "source": [
    "sum_stats = pd.read_csv(sum_stats_file)\n",
    "print(sum_stats.shape)\n",
    "print(sum_stats.head())"
   ]
  },
  {
   "cell_type": "markdown",
   "metadata": {},
   "source": [
    "#### filter the for the risk variants somehow\n"
   ]
  },
  {
   "cell_type": "code",
   "execution_count": null,
   "metadata": {},
   "outputs": [],
   "source": [
    "risk_vars = sum_stats[(sum_stats['RSID']=='rs246814') | (sum_stats['RSID']=='rs9638616')]\n",
    "print(risk_vars.head())"
   ]
  },
  {
   "cell_type": "code",
   "execution_count": null,
   "metadata": {},
   "outputs": [],
   "source": [
    "risk_vars_info = risk_vars[['CHR','RSID','A1','A2','BETA','P','SE','BP','REF','ALT']]\n",
    "\n",
    "risk_vars_info = risk_vars_info.reset_index(drop=True)\n",
    "print(risk_vars_info.head())\n"
   ]
  },
  {
   "cell_type": "markdown",
   "metadata": {},
   "source": [
    "#### Manually assign the nearest gene and Locus Number\n",
    "hopefully this is stated in the gwas study paper somewhere"
   ]
  },
  {
   "cell_type": "code",
   "execution_count": null,
   "metadata": {},
   "outputs": [],
   "source": [
    "#manually assign the gene\n",
    "risk_vars_info['NEAR_GENE']= ['SV2C','WBSCR17']\n",
    "#locus number\n",
    "risk_vars_info['LOC_NUM'] = risk_vars_info.index +1"
   ]
  },
  {
   "cell_type": "code",
   "execution_count": null,
   "metadata": {},
   "outputs": [],
   "source": [
    "print(risk_vars_info.head())"
   ]
  },
  {
   "cell_type": "markdown",
   "metadata": {},
   "source": [
    "#### Make a .bed for the Risk Variants\n",
    "change position to 1 Mb up and downstream"
   ]
  },
  {
   "cell_type": "code",
   "execution_count": null,
   "metadata": {},
   "outputs": [],
   "source": [
    "risk_vars_bed = risk_vars_info[['CHR','BP','BP','NEAR_GENE','LOC_NUM']]\n",
    "risk_vars_bed.columns = ['CHR','Start','End','Nearest Gene','Locus Number']\n",
    "risk_vars_bed[['CHR']]='chr'+risk_vars_bed[['CHR']].astype(str)\n",
    "risk_vars_bed[['Start']]  = risk_vars_bed[['Start']].astype(int)-1000000\n",
    "risk_vars_bed[['End']]  = risk_vars_bed[['End']].astype(int)+1000000\n",
    "\n",
    "print(risk_vars_bed.head())"
   ]
  },
  {
   "cell_type": "code",
   "execution_count": null,
   "metadata": {},
   "outputs": [],
   "source": [
    "\n",
    "\n",
    "risk_vars_bed.to_csv(f\"{WRKDIR}/Asian_GWAS.bed\", index = None, sep='\\t')"
   ]
  },
  {
   "cell_type": "markdown",
   "metadata": {},
   "source": [
    "#### Get Overlap\n",
    "run this in terminal"
   ]
  },
  {
   "cell_type": "code",
   "execution_count": null,
   "metadata": {},
   "outputs": [],
   "source": [
    "print(f\"module load bedtools\\n\\\n",
    "intersectBed -a {WRKDIR}/Asian_GWAS.bed -b {WRKDIR}/refFlat_HG19.bed -wb > {WRKDIR}/asian_gwas_genes.txt\")"
   ]
  },
  {
   "cell_type": "code",
   "execution_count": null,
   "metadata": {},
   "outputs": [],
   "source": [
    "overlap = pd.read_csv(f\"{WRKDIR}/asian_gwas_genes.txt\",sep=\"\\t\",header=None)\n",
    "print(overlap.head())"
   ]
  },
  {
   "cell_type": "markdown",
   "metadata": {},
   "source": [
    "#### Write the List of Genes to a File"
   ]
  },
  {
   "cell_type": "code",
   "execution_count": null,
   "metadata": {},
   "outputs": [],
   "source": [
    "gene_list = overlap[[4,8]]\n",
    "gene_list = gene_list.drop_duplicates()\n",
    "gene_list.columns = ['LOC_NUM','GENE']\n",
    "print(gene_list.shape)\n",
    "gene_list.to_csv(f\"{WRKDIR}/asian_gwas_gene_list.txt\",sep='\\t',index=None)\n"
   ]
  },
  {
   "cell_type": "markdown",
   "metadata": {},
   "source": [
    "## 2) Summary Stats For Risk Variants"
   ]
  },
  {
   "cell_type": "code",
   "execution_count": null,
   "metadata": {},
   "outputs": [],
   "source": [
    "risk_vars_info"
   ]
  },
  {
   "cell_type": "markdown",
   "metadata": {},
   "source": [
    "#### Count Number of Genes Per Locus"
   ]
  },
  {
   "cell_type": "code",
   "execution_count": null,
   "metadata": {},
   "outputs": [],
   "source": [
    "risk_vars_info['NUM_GENES'] = 0\n",
    "for locnum in risk_vars_info['LOC_NUM'].tolist():\n",
    "    risk_vars_info['NUM_GENES'][(risk_vars_info['LOC_NUM']==locnum)] = len((overlap[overlap[4]==locnum])[[4,8]].drop_duplicates().index)"
   ]
  },
  {
   "cell_type": "code",
   "execution_count": null,
   "metadata": {},
   "outputs": [],
   "source": [
    "print(risk_vars_info)"
   ]
  },
  {
   "cell_type": "markdown",
   "metadata": {},
   "source": [
    "#### Do any other calculations that are missing"
   ]
  },
  {
   "cell_type": "code",
   "execution_count": null,
   "metadata": {},
   "outputs": [],
   "source": [
    "import math"
   ]
  },
  {
   "cell_type": "code",
   "execution_count": null,
   "metadata": {},
   "outputs": [],
   "source": [
    "risk_vars_info['BETA'] = pd.to_numeric(risk_vars_info['BETA'],errors='coerce')"
   ]
  },
  {
   "cell_type": "code",
   "execution_count": null,
   "metadata": {},
   "outputs": [],
   "source": [
    "risk_vars_info['OR'] = np.exp(risk_vars_info['BETA'])"
   ]
  },
  {
   "cell_type": "code",
   "execution_count": null,
   "metadata": {},
   "outputs": [],
   "source": [
    "risk_vars_info['CHR_BP'] = risk_vars_info['CHR'].astype(str)+\":\"+risk_vars_info['BP'].astype(str)"
   ]
  },
  {
   "cell_type": "code",
   "execution_count": null,
   "metadata": {},
   "outputs": [],
   "source": [
    "risk_vars_info['MAF'] = None"
   ]
  },
  {
   "cell_type": "code",
   "execution_count": null,
   "metadata": {},
   "outputs": [],
   "source": [
    "print(risk_vars_info.head())"
   ]
  },
  {
   "cell_type": "code",
   "execution_count": null,
   "metadata": {},
   "outputs": [],
   "source": [
    "risk_vars_info.to_csv(f\"{DATADIR}/AsianLoci.csv\",index=None)"
   ]
  },
  {
   "cell_type": "markdown",
   "metadata": {},
   "source": [
    "## 3) Update the `genes_by_locus.csv` File\n",
    "append new data to the current version of the file"
   ]
  },
  {
   "cell_type": "code",
   "execution_count": null,
   "metadata": {},
   "outputs": [],
   "source": [
    "genes_by_locus = pd.read_csv(f\"{DATADIR}/genes_by_locus.csv\")\n",
    "print(genes_by_locus.shape)\n",
    "print(genes_by_locus.head())"
   ]
  },
  {
   "cell_type": "code",
   "execution_count": null,
   "metadata": {},
   "outputs": [],
   "source": [
    "genes_by_locus = genes_by_locus[(genes_by_locus['GWAS']=='META5') | (genes_by_locus['GWAS']=='Progression')]\n",
    "print(genes_by_locus.shape)"
   ]
  },
  {
   "cell_type": "code",
   "execution_count": null,
   "metadata": {},
   "outputs": [],
   "source": [
    "gene_list"
   ]
  },
  {
   "cell_type": "markdown",
   "metadata": {},
   "source": [
    "#### append the new gwas data "
   ]
  },
  {
   "cell_type": "code",
   "execution_count": null,
   "metadata": {},
   "outputs": [],
   "source": [
    "gene_list['GWAS'] = 'Asian'\n",
    "genes_by_locus_new = genes_by_locus.append(gene_list,sort=True)\n",
    "print(genes_by_locus_new.shape)\n",
    "print(genes_by_locus_new.tail())"
   ]
  },
  {
   "cell_type": "code",
   "execution_count": null,
   "metadata": {},
   "outputs": [],
   "source": [
    "genes_by_locus_new.to_csv(f\"{DATADIR}/genes_by_locus.csv\",index=None)"
   ]
  },
  {
   "cell_type": "markdown",
   "metadata": {},
   "source": [
    "## 4) Update the `gwas_risk_variants.csv` File"
   ]
  },
  {
   "cell_type": "code",
   "execution_count": null,
   "metadata": {},
   "outputs": [],
   "source": [
    "all_risk_vars = pd.read_csv(f\"{DATADIR}/gwas_risk_variants.csv\")\n",
    "print(all_risk_vars.shape)\n",
    "print(all_risk_vars.head())"
   ]
  },
  {
   "cell_type": "code",
   "execution_count": null,
   "metadata": {},
   "outputs": [],
   "source": [
    "risk_vars_info"
   ]
  },
  {
   "cell_type": "code",
   "execution_count": null,
   "metadata": {},
   "outputs": [],
   "source": [
    "for_all = risk_vars_info[['LOC_NUM','RSID','CHR','BP','REF','ALT','NEAR_GENE']]\n",
    "for_all['CHR_BP'] = for_all['CHR'].astype(str)+\":\"+for_all['BP'].astype(str)\n",
    "for_all['GWAS']='Asian'\n",
    "for_all.columns = ['LOC_NUM','RSID','CHR','BP','REF','ALT','NEAR_GENE','CHR_BP','GWAS']\n",
    "print(for_all.head())"
   ]
  },
  {
   "cell_type": "code",
   "execution_count": null,
   "metadata": {},
   "outputs": [],
   "source": [
    "append_risk_vars = all_risk_vars.append(for_all)\n",
    "print(append_risk_vars.shape)\n",
    "print(append_risk_vars.head())\n",
    "print(append_risk_vars.tail())"
   ]
  },
  {
   "cell_type": "code",
   "execution_count": null,
   "metadata": {},
   "outputs": [],
   "source": [
    "append_risk_vars.to_csv(f\"{DATADIR}/gwas_risk_variants.csv\",index=None)"
   ]
  },
  {
   "cell_type": "code",
   "execution_count": null,
   "metadata": {},
   "outputs": [],
   "source": []
  }
 ],
 "metadata": {
  "kernelspec": {
   "display_name": "Python 3",
   "language": "python",
   "name": "python3"
  },
  "language_info": {
   "codemirror_mode": {
    "name": "ipython",
    "version": 3
   },
   "file_extension": ".py",
   "mimetype": "text/x-python",
   "name": "python",
   "nbconvert_exporter": "python",
   "pygments_lexer": "ipython3",
   "version": "3.7.3"
  }
 },
 "nbformat": 4,
 "nbformat_minor": 4
}
