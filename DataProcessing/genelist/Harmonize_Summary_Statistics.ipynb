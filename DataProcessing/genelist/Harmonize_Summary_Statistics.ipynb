{
 "cells": [
  {
   "cell_type": "markdown",
   "metadata": {},
   "source": [
    "# Harmonize Summary Statistics For GWAS Browser\n",
    "- **Author** - Frank Grenn\n",
    "- **Date Started** - May 2020\n",
    "- **Quick Description:** harmonize the different gwas summary statistics for use later\n",
    "\n"
   ]
  },
  {
   "cell_type": "code",
   "execution_count": null,
   "metadata": {},
   "outputs": [],
   "source": []
  },
  {
   "cell_type": "code",
   "execution_count": null,
   "metadata": {},
   "outputs": [],
   "source": [
    "import pandas as pd\n",
    "import numpy as np"
   ]
  },
  {
   "cell_type": "code",
   "execution_count": null,
   "metadata": {},
   "outputs": [],
   "source": [
    "DATADIR=\"/path/to/AppDataProcessing\""
   ]
  },
  {
   "cell_type": "code",
   "execution_count": null,
   "metadata": {},
   "outputs": [],
   "source": [
    "def formatVariant(chrm,bp,ref,alt):\n",
    "    return str(chrm)+\":\"+str(bp)+\"_\"+str(ref)+\"/\"+str(alt);"
   ]
  },
  {
   "cell_type": "markdown",
   "metadata": {},
   "source": [
    "## META5"
   ]
  },
  {
   "cell_type": "code",
   "execution_count": null,
   "metadata": {},
   "outputs": [],
   "source": [
    "#get summary stats\n",
    "data = pd.read_csv(\"/path/to/resultsForSmr_filtered.tab.gz\",sep=\"\\t\")\n",
    "print(data.shape)\n",
    "print(data.head())"
   ]
  },
  {
   "cell_type": "code",
   "execution_count": null,
   "metadata": {},
   "outputs": [],
   "source": [
    "#get the snp position data to merge\n",
    "pos_data = pd.read_csv(\"/path/to/HRC_RS_conversion_final_with_CHR.txt\", sep = \"\\t\")\n",
    "print(pos_data.shape)\n",
    "print(pos_data.head())"
   ]
  },
  {
   "cell_type": "code",
   "execution_count": null,
   "metadata": {},
   "outputs": [],
   "source": [
    "merge = pd.merge(data,pos_data,how='left',left_on='SNP',right_on='ID')\n",
    "print(merge.shape)\n",
    "print(merge.head())"
   ]
  },
  {
   "cell_type": "code",
   "execution_count": null,
   "metadata": {},
   "outputs": [],
   "source": [
    "split = merge['POS'].str.split(\":\",n=1,expand = True)\n",
    "merge['chromosome']=split[0]\n",
    "merge['position']=split[1]"
   ]
  },
  {
   "cell_type": "code",
   "execution_count": null,
   "metadata": {},
   "outputs": [],
   "source": [
    "merge['log_pvalue']=-1*np.log10(merge.p)"
   ]
  },
  {
   "cell_type": "code",
   "execution_count": null,
   "metadata": {},
   "outputs": [],
   "source": [
    "merge['variant']=merge.apply(lambda x: formatVariant(x.chromosome, x.position, x.REF, x.ALT), axis = 1)"
   ]
  },
  {
   "cell_type": "code",
   "execution_count": null,
   "metadata": {},
   "outputs": [],
   "source": [
    "print(merge.shape)\n",
    "print(merge.head())"
   ]
  },
  {
   "cell_type": "code",
   "execution_count": null,
   "metadata": {},
   "outputs": [],
   "source": [
    "print(merge.columns)"
   ]
  },
  {
   "cell_type": "code",
   "execution_count": null,
   "metadata": {},
   "outputs": [],
   "source": [
    "meta5_harm = merge[['SNP','A1','A2','REF','ALT','b','se','freq','p','log_pvalue','chromosome','position','variant']]"
   ]
  },
  {
   "cell_type": "markdown",
   "metadata": {},
   "source": [
    "harmonize the column names"
   ]
  },
  {
   "cell_type": "code",
   "execution_count": null,
   "metadata": {},
   "outputs": [],
   "source": [
    "meta5_harm.columns = ['RSID','A1','A2','REF','ALT','BETA','SE','FREQ','P','LOG_P','CHR','BP','CHR_BP_REF_ALT']\n",
    "print(meta5_harm.shape)\n",
    "print(meta5_harm.head())"
   ]
  },
  {
   "cell_type": "code",
   "execution_count": null,
   "metadata": {},
   "outputs": [],
   "source": [
    "meta5_harm.to_csv(f\"{DATADIR}/meta5_sumstats_harmonized.csv\",index=None)"
   ]
  },
  {
   "cell_type": "markdown",
   "metadata": {},
   "source": [
    "# Progression (Insomnia)\n",
    "\n"
   ]
  },
  {
   "cell_type": "code",
   "execution_count": null,
   "metadata": {},
   "outputs": [],
   "source": [
    "progi_data = pd.read_csv(\"/path/to/AppDataProcessing/locuszoom/base_INS.txt\",sep=\"\\t\")\n",
    "#locus_snp='rs61863020'\n",
    "\n",
    "print(progi_data.shape)\n",
    "print(progi_data.head())"
   ]
  },
  {
   "cell_type": "code",
   "execution_count": null,
   "metadata": {},
   "outputs": [],
   "source": [
    "progi_pos_data = pd.read_csv(\"/path/to/AppDataProcessing/locuszoom/reference.txt\")\n",
    "print(len(progi_pos_data.index))\n",
    "print(progi_pos_data.head())"
   ]
  },
  {
   "cell_type": "code",
   "execution_count": null,
   "metadata": {},
   "outputs": [],
   "source": [
    "progi_merge = pd.merge(progi_data,progi_pos_data,how='left',left_on='SNP',right_on='SNP')"
   ]
  },
  {
   "cell_type": "code",
   "execution_count": null,
   "metadata": {},
   "outputs": [],
   "source": [
    "progi_merge['START'] = progi_merge['START'].astype('int32')\n",
    "progi_merge['CHR'] = progi_merge['CHR'].astype('str')"
   ]
  },
  {
   "cell_type": "code",
   "execution_count": null,
   "metadata": {},
   "outputs": [],
   "source": [
    "print(len(progi_merge.index))\n",
    "print(progi_merge.head())"
   ]
  },
  {
   "cell_type": "code",
   "execution_count": null,
   "metadata": {},
   "outputs": [],
   "source": [
    "progi_merge['log_pvalue']=-1*np.log10(progi_merge.P)"
   ]
  },
  {
   "cell_type": "code",
   "execution_count": null,
   "metadata": {},
   "outputs": [],
   "source": [
    "progi_merge['variant']=progi_merge.apply(lambda x: formatVariant(x.CHR, x.START, x.REF, x.ALT), axis = 1)"
   ]
  },
  {
   "cell_type": "code",
   "execution_count": null,
   "metadata": {},
   "outputs": [],
   "source": [
    "print(len(progi_merge.index))\n",
    "print(progi_merge.head())"
   ]
  },
  {
   "cell_type": "code",
   "execution_count": null,
   "metadata": {},
   "outputs": [],
   "source": [
    "print(progi_merge.columns)"
   ]
  },
  {
   "cell_type": "code",
   "execution_count": null,
   "metadata": {},
   "outputs": [],
   "source": [
    "progi_merge['A1']=None\n",
    "progi_merge['A2']=None"
   ]
  },
  {
   "cell_type": "code",
   "execution_count": null,
   "metadata": {},
   "outputs": [],
   "source": [
    "progi_harm = progi_merge[['RSID','A1','A2','REF','ALT','BETA','SE','MAF','P','log_pvalue','CHR','START','variant']]"
   ]
  },
  {
   "cell_type": "code",
   "execution_count": null,
   "metadata": {},
   "outputs": [],
   "source": [
    "progi_harm.columns = ['RSID','A1','A2','REF','ALT','BETA','SE','FREQ','P','LOG_P','CHR','BP','CHR_BP_REF_ALT']\n",
    "print(progi_harm.shape)\n",
    "print(progi_harm.head())"
   ]
  },
  {
   "cell_type": "code",
   "execution_count": null,
   "metadata": {},
   "outputs": [],
   "source": [
    "progi_harm.to_csv(f\"{DATADIR}/prog_ins_sumstats_harmonized.csv\",index=None)"
   ]
  },
  {
   "cell_type": "markdown",
   "metadata": {},
   "source": [
    "# Progression (Hoehn and Yahr)"
   ]
  },
  {
   "cell_type": "code",
   "execution_count": null,
   "metadata": {},
   "outputs": [],
   "source": [
    "proghy_data = pd.read_csv(\"/path/to/AppDataProcessing/locuszoom/surv_HY3.txt\",sep=\"\\t\")\n",
    "#locus_snp='rs382940'\n",
    "print(proghy_data.shape)\n",
    "print(proghy_data.head())"
   ]
  },
  {
   "cell_type": "code",
   "execution_count": null,
   "metadata": {},
   "outputs": [],
   "source": [
    "proghy_pos_data = pd.read_csv(\"/path/to/AppDataProcessing/locuszoom/reference.txt\")\n",
    "print(len(proghy_pos_data.index))\n",
    "print(proghy_pos_data.head())"
   ]
  },
  {
   "cell_type": "code",
   "execution_count": null,
   "metadata": {},
   "outputs": [],
   "source": [
    "proghy_merge = pd.merge(proghy_data,proghy_pos_data,how='left',left_on='SNP',right_on='SNP')"
   ]
  },
  {
   "cell_type": "code",
   "execution_count": null,
   "metadata": {},
   "outputs": [],
   "source": [
    "proghy_merge['START'] = proghy_merge['START'].astype('int32')\n",
    "proghy_merge['CHR'] = proghy_merge['CHR'].astype('str')"
   ]
  },
  {
   "cell_type": "code",
   "execution_count": null,
   "metadata": {},
   "outputs": [],
   "source": [
    "print(len(proghy_merge.index))\n",
    "print(proghy_merge.head())"
   ]
  },
  {
   "cell_type": "code",
   "execution_count": null,
   "metadata": {},
   "outputs": [],
   "source": [
    "proghy_merge['log_pvalue']=-1*np.log10(proghy_merge.P)"
   ]
  },
  {
   "cell_type": "code",
   "execution_count": null,
   "metadata": {},
   "outputs": [],
   "source": [
    "proghy_merge['variant']=proghy_merge.apply(lambda x: formatVariant(x.CHR, x.START, x.REF, x.ALT), axis = 1)"
   ]
  },
  {
   "cell_type": "code",
   "execution_count": null,
   "metadata": {},
   "outputs": [],
   "source": [
    "print(len(proghy_merge.index))\n",
    "print(proghy_merge.head())"
   ]
  },
  {
   "cell_type": "code",
   "execution_count": null,
   "metadata": {},
   "outputs": [],
   "source": [
    "proghy_merge['A1']=None\n",
    "proghy_merge['A2']=None"
   ]
  },
  {
   "cell_type": "code",
   "execution_count": null,
   "metadata": {},
   "outputs": [],
   "source": [
    "proghy_harm = proghy_merge[['RSID','A1','A2','REF','ALT','BETA','SE','MAF','P','log_pvalue','CHR','START','variant']]"
   ]
  },
  {
   "cell_type": "code",
   "execution_count": null,
   "metadata": {},
   "outputs": [],
   "source": [
    "proghy_harm.columns = ['RSID','A1','A2','REF','ALT','BETA','SE','FREQ','P','LOG_P','CHR','BP','CHR_BP_REF_ALT']\n",
    "print(proghy_harm.shape)\n",
    "print(proghy_harm.head())"
   ]
  },
  {
   "cell_type": "code",
   "execution_count": null,
   "metadata": {},
   "outputs": [],
   "source": [
    "proghy_harm.to_csv(f\"{DATADIR}/prog_hy_sumstats_harmonized.csv\",index=None)"
   ]
  },
  {
   "cell_type": "markdown",
   "metadata": {},
   "source": [
    "# Asian GWAS"
   ]
  },
  {
   "cell_type": "code",
   "execution_count": null,
   "metadata": {},
   "outputs": [],
   "source": [
    "asiangwas_data = pd.read_csv(\"/path/to/6724PDcases-24851controls-5843213snps-summary-stats-metaP-SE.txt.gz\",sep='\\t')\n",
    "print(asiangwas_data.shape)\n",
    "print(asiangwas_data.head())"
   ]
  },
  {
   "cell_type": "code",
   "execution_count": null,
   "metadata": {},
   "outputs": [],
   "source": [
    "#separate the SNP col\n",
    "asiangwas_split = asiangwas_data[['CHR','BP','SNP','A1','A2','BETA','P','SE']]\n",
    "\n",
    "asiangwas_split[['SNP','BP_tmp','Ref','Alt']]=asiangwas_split['SNP'].str.split(':',expand = True)\n",
    "asiangwas_split = asiangwas_split[['CHR','BP','SNP','Ref','Alt','A1','A2','BETA','P','SE']]\n",
    "asiangwas_split = asiangwas_split.reset_index(drop=True)\n",
    "print(asiangwas_split.head())\n"
   ]
  },
  {
   "cell_type": "markdown",
   "metadata": {},
   "source": [
    "check if their A1 and A2 correspond to what should be the Ref and Alt we got from the split"
   ]
  },
  {
   "cell_type": "code",
   "execution_count": null,
   "metadata": {},
   "outputs": [],
   "source": [
    "test = asiangwas_split[['Alt', 'A1']].assign(NE=((asiangwas_split.Alt!=None) & (asiangwas_split.Alt == asiangwas_split.A1) ))\n",
    "print(test.head())\n",
    "print(\"these two numbers should be the same:\")\n",
    "print(len(asiangwas_split[asiangwas_split['Alt'].isna()==False].index))\n",
    "print(len(test[test.NE==True].index))"
   ]
  },
  {
   "cell_type": "code",
   "execution_count": null,
   "metadata": {},
   "outputs": [],
   "source": [
    "#if above two numbers are the same then we can say A1 equals Alt for these variants\n",
    "asiangwas_split['Alt']=asiangwas_split['A1']\n",
    "asiangwas_split['Ref']=asiangwas_split['A2']"
   ]
  },
  {
   "cell_type": "code",
   "execution_count": null,
   "metadata": {},
   "outputs": [],
   "source": [
    "asiangwas_split['FREQ'] = None"
   ]
  },
  {
   "cell_type": "code",
   "execution_count": null,
   "metadata": {},
   "outputs": [],
   "source": [
    "asiangwas_split['log_pvalue']=-1*np.log10(asiangwas_split.P)"
   ]
  },
  {
   "cell_type": "code",
   "execution_count": null,
   "metadata": {},
   "outputs": [],
   "source": [
    "asiangwas_split['CHR'] = asiangwas_split['CHR'].astype(str)"
   ]
  },
  {
   "cell_type": "code",
   "execution_count": null,
   "metadata": {},
   "outputs": [],
   "source": [
    "asiangwas_split['variant']=asiangwas_split.apply(lambda x: formatVariant(x.CHR, x.BP, x.Ref, x.Alt), axis = 1)"
   ]
  },
  {
   "cell_type": "code",
   "execution_count": null,
   "metadata": {},
   "outputs": [],
   "source": [
    "print(asiangwas_split.head())"
   ]
  },
  {
   "cell_type": "code",
   "execution_count": null,
   "metadata": {},
   "outputs": [],
   "source": [
    "print(asiangwas_split.columns)"
   ]
  },
  {
   "cell_type": "code",
   "execution_count": null,
   "metadata": {},
   "outputs": [],
   "source": [
    "asiangwas_harm = asiangwas_split[['SNP','A1','A2','Ref','Alt','BETA','SE','FREQ','P','log_pvalue','CHR','BP','variant']]"
   ]
  },
  {
   "cell_type": "code",
   "execution_count": null,
   "metadata": {},
   "outputs": [],
   "source": [
    "asiangwas_harm.columns = ['RSID','A1','A2','REF','ALT','BETA','SE','FREQ','P','LOG_P','CHR','BP','CHR_BP_REF_ALT']\n",
    "print(asiangwas_harm.shape)\n",
    "print(asiangwas_harm.head())"
   ]
  },
  {
   "cell_type": "code",
   "execution_count": null,
   "metadata": {},
   "outputs": [],
   "source": [
    "asiangwas_harm.to_csv(f\"{DATADIR}/asiangwas_sumstats_harmonized.csv\",index=None)"
   ]
  },
  {
   "cell_type": "code",
   "execution_count": null,
   "metadata": {},
   "outputs": [],
   "source": []
  }
 ],
 "metadata": {
  "kernelspec": {
   "display_name": "Python 3",
   "language": "python",
   "name": "python3"
  },
  "language_info": {
   "codemirror_mode": {
    "name": "ipython",
    "version": 3
   },
   "file_extension": ".py",
   "mimetype": "text/x-python",
   "name": "python",
   "nbconvert_exporter": "python",
   "pygments_lexer": "ipython3",
   "version": "3.7.3"
  }
 },
 "nbformat": 4,
 "nbformat_minor": 4
}
