{
 "cells": [
  {
   "cell_type": "markdown",
   "metadata": {},
   "source": [
    "# Collect Variant Population Frequencies Using Annovar\n",
    "- **Author** - Frank Grenn\n",
    "- **Date Started** - April 2020\n",
    "- **Quick Description:** use annovar to get population frequencies for all gwas risk variants for the app"
   ]
  },
  {
   "cell_type": "code",
   "execution_count": null,
   "metadata": {},
   "outputs": [],
   "source": [
    "import pandas as pd"
   ]
  },
  {
   "cell_type": "code",
   "execution_count": null,
   "metadata": {},
   "outputs": [],
   "source": [
    "DATADIR= \"$PATH/AppDataProcessing\"\n",
    "WRKDIR = f\"{DATADIR}/othersummarystats\""
   ]
  },
  {
   "cell_type": "markdown",
   "metadata": {},
   "source": [
    "## Get Population Frequencies From gnomAD using ANNOVAR"
   ]
  },
  {
   "cell_type": "code",
   "execution_count": null,
   "metadata": {},
   "outputs": [],
   "source": [
    "variants = pd.read_csv(f\"{DATADIR}/gwas_risk_variants.csv\")\n",
    "print(variants.shape)\n",
    "print(variants.head())"
   ]
  },
  {
   "cell_type": "code",
   "execution_count": null,
   "metadata": {},
   "outputs": [],
   "source": [
    "\n",
    "\n",
    "avinput = variants[['CHR','BP','BP','REF','ALT']]\n",
    "avinput.to_csv(f\"{WRKDIR}/gwas_risk_variants.avinput\",index=None,sep=' ')"
   ]
  },
  {
   "cell_type": "code",
   "execution_count": null,
   "metadata": {},
   "outputs": [],
   "source": [
    "with open(f\"{WRKDIR}/get_frequencies_annovar.sh\",\"w\") as bash_file:\n",
    "    bash_file.write(f'''#!/bin/bash\\n\\\n",
    "module load annovar\\n\\\n",
    "annotate_variation.pl --filter --build hg19 --dbtype gnomad211_genome --buildver hg19 --otherinfo {WRKDIR}/gwas_risk_variants.avinput $ANNOVAR_DATA/hg19''')\n",
    "bash_file.close()"
   ]
  },
  {
   "cell_type": "code",
   "execution_count": null,
   "metadata": {},
   "outputs": [],
   "source": [
    "print(f\"sbatch {WRKDIR}/get_frequencies_annovar.sh\")"
   ]
  },
  {
   "cell_type": "code",
   "execution_count": null,
   "metadata": {},
   "outputs": [],
   "source": []
  },
  {
   "cell_type": "markdown",
   "metadata": {},
   "source": [
    "gnomad211_genome:\n",
    " Chr    Start   End     Ref     Alt     AF      AF_popmax       AF_male AF_female       AF_raw  AF_afr  AF_sas  AF_amr  AF_eas  AF_nfe  AF_fin  AF_asj  AF_oth   non_topmed_AF_popmax    non_neuro_AF_popmax     non_cancer_AF_popmax    controls_AF_popmax"
   ]
  },
  {
   "cell_type": "markdown",
   "metadata": {},
   "source": [
    "gnomad_genome:\n",
    "#Chr    Start   End     Ref     Alt     gnomAD_genome_ALL       gnomAD_genome_AFR       gnomAD_genome_AMR       gnomAD_genome_ASJ       gnomAD_genome_EAgnomAD_genome_FIN        gnomAD_genome_NFE       gnomAD_genome_OTH"
   ]
  },
  {
   "cell_type": "code",
   "execution_count": null,
   "metadata": {},
   "outputs": [],
   "source": [
    "freqs = pd.read_csv(f\"{WRKDIR}/gwas_risk_variants.avinput.hg19_gnomad211_genome_dropped\",sep=\"\\t\",header=None)\n",
    "freqs.columns = ['db','freqs','snp']\n",
    "print(freqs.shape)\n",
    "print(freqs.head())"
   ]
  },
  {
   "cell_type": "code",
   "execution_count": null,
   "metadata": {},
   "outputs": [],
   "source": [
    "freqs[['CHR','START','END','REF','ALT']]=freqs.snp.str.split(\" \",expand=True)\n",
    "print(freqs.head())"
   ]
  },
  {
   "cell_type": "code",
   "execution_count": null,
   "metadata": {},
   "outputs": [],
   "source": [
    "freqs[['AF','AF_popmax','AF_male','AF_female','AF_raw','AF_afr','AF_sas','AF_amr','AF_eas','AF_nfe','AF_fin','AF_asj','AF_oth','non_topmed_AF_popmax','non_neuro_AF_popmax','non_cancer_AF_popmax','controls_AF_popmax']]=freqs.freqs.str.split(\",\",expand=True)\n",
    "print(freqs.head())"
   ]
  },
  {
   "cell_type": "code",
   "execution_count": null,
   "metadata": {},
   "outputs": [],
   "source": []
  },
  {
   "cell_type": "code",
   "execution_count": null,
   "metadata": {},
   "outputs": [],
   "source": [
    "freqs['CHR_BP'] = freqs['CHR'].astype(str)+\":\"+freqs['START'].astype(str)\n",
    "freqs = freqs.drop(labels=['freqs','snp','db','CHR','REF','ALT'],axis=1)\n",
    "print(freqs.head())"
   ]
  },
  {
   "cell_type": "code",
   "execution_count": null,
   "metadata": {},
   "outputs": [],
   "source": [
    "merged = pd.merge(left=variants,right = freqs, on = 'CHR_BP',how='inner')\n",
    "print(merged.shape)\n",
    "print(merged.head())"
   ]
  },
  {
   "cell_type": "code",
   "execution_count": null,
   "metadata": {},
   "outputs": [],
   "source": [
    "print(merged.columns)"
   ]
  },
  {
   "cell_type": "code",
   "execution_count": null,
   "metadata": {},
   "outputs": [],
   "source": [
    "merged = merged[['BP', 'CHR', 'CHR_BP', 'GWAS', 'LOC_NUM', 'NEAR_GENE', 'RSID',\n",
    "       'REF', 'ALT', 'START', 'END', 'AF', 'AF_popmax', 'AF_male', 'AF_female',\n",
    "       'AF_raw', 'AF_afr', 'AF_sas', 'AF_amr', 'AF_eas', 'AF_nfe', 'AF_fin',\n",
    "       'AF_asj', 'AF_oth', 'non_topmed_AF_popmax', 'non_neuro_AF_popmax',\n",
    "       'non_cancer_AF_popmax', 'controls_AF_popmax']]"
   ]
  },
  {
   "cell_type": "code",
   "execution_count": null,
   "metadata": {},
   "outputs": [],
   "source": [
    "merged.head()"
   ]
  },
  {
   "cell_type": "markdown",
   "metadata": {},
   "source": [
    "## Get Frequencies from our Plink Files \n",
    "#### first get case and control frequency"
   ]
  },
  {
   "cell_type": "code",
   "execution_count": null,
   "metadata": {},
   "outputs": [],
   "source": [
    "plink_bin = \"$PATH/PD_FINAL_PLINK_2018/HARDCALLS_PD_september_2018_no_cousins\""
   ]
  },
  {
   "cell_type": "code",
   "execution_count": null,
   "metadata": {},
   "outputs": [],
   "source": [
    "print(\"module load plink\")\n",
    "print(f\"plink --bfile {plink_bin} --assoc --out pd_freq\")"
   ]
  },
  {
   "cell_type": "code",
   "execution_count": null,
   "metadata": {},
   "outputs": [],
   "source": [
    "print(\"awk '{print $2,$5,$6}' pd_freq.assoc > pd_freq.txt\")"
   ]
  },
  {
   "cell_type": "code",
   "execution_count": null,
   "metadata": {},
   "outputs": [],
   "source": [
    "data = pd.read_csv(f\"$PATH/pd_freq.txt\",sep=' ')\n",
    "print(data.shape)\n",
    "print(data.head())"
   ]
  },
  {
   "cell_type": "code",
   "execution_count": null,
   "metadata": {},
   "outputs": [],
   "source": [
    "freqs_assoc = pd.merge(left=merged,right = data, left_on = 'CHR_BP',right_on = 'SNP',how='inner')\n",
    "freqs_assoc=freqs_assoc.drop('SNP',axis=1)\n",
    "print(freqs_assoc.shape)\n",
    "print(freqs_assoc.head())"
   ]
  },
  {
   "cell_type": "code",
   "execution_count": null,
   "metadata": {},
   "outputs": [],
   "source": []
  },
  {
   "cell_type": "markdown",
   "metadata": {},
   "source": [
    "#### second, get AFF and UNAFF values"
   ]
  },
  {
   "cell_type": "code",
   "execution_count": null,
   "metadata": {},
   "outputs": [],
   "source": [
    "print(f\"plink --bfile {plink_bin} --model\")"
   ]
  },
  {
   "cell_type": "code",
   "execution_count": null,
   "metadata": {},
   "outputs": [],
   "source": []
  },
  {
   "cell_type": "code",
   "execution_count": null,
   "metadata": {},
   "outputs": [],
   "source": [
    "print(\"grep SNP $PATH/plink.model > model_geno.txt\")\n",
    "print(\"grep GENO $PATH/plink.model >> model_geno.txt\")"
   ]
  },
  {
   "cell_type": "code",
   "execution_count": null,
   "metadata": {},
   "outputs": [],
   "source": [
    "model = pd.read_csv(f\"$PATH/model_geno.txt\",sep='\\s+')\n",
    "print(model.shape)\n",
    "print(model.head())"
   ]
  },
  {
   "cell_type": "code",
   "execution_count": null,
   "metadata": {},
   "outputs": [],
   "source": [
    "model_aff = model[['SNP','AFF','UNAFF']]"
   ]
  },
  {
   "cell_type": "code",
   "execution_count": null,
   "metadata": {},
   "outputs": [],
   "source": [
    "freqs_model = pd.merge(left=freqs_assoc,right = model_aff, left_on = 'CHR_BP',right_on = 'SNP',how='inner')\n",
    "freqs_model=freqs_model.drop('SNP',axis=1)\n",
    "print(freqs_model.shape)\n",
    "print(freqs_model.head())"
   ]
  },
  {
   "cell_type": "code",
   "execution_count": null,
   "metadata": {},
   "outputs": [],
   "source": [
    "freqs_model = freqs_model.rename(columns={\"F_A\": \"Frequency_PD\", \"F_U\": \"Frequency_control\"})"
   ]
  },
  {
   "cell_type": "code",
   "execution_count": null,
   "metadata": {},
   "outputs": [],
   "source": [
    "freqs_model.columns"
   ]
  },
  {
   "cell_type": "code",
   "execution_count": null,
   "metadata": {},
   "outputs": [],
   "source": []
  },
  {
   "cell_type": "code",
   "execution_count": null,
   "metadata": {},
   "outputs": [],
   "source": []
  },
  {
   "cell_type": "markdown",
   "metadata": {},
   "source": [
    "## Check Frequencies match the minor allele, which we will make the effect allele in the browser\n",
    "this only applies to META5 gwas risk variants as of now. Progression and Asian gwas variants frequencies are already for the minor allele"
   ]
  },
  {
   "cell_type": "code",
   "execution_count": null,
   "metadata": {},
   "outputs": [],
   "source": [
    "#this file should have the effect allele assigned as the minor allele which we will use to compare\n",
    "meta5_loci = pd.read_csv(f\"{DATADIR}/META5Loci.csv\")\n",
    "\n",
    "meta5_loci = meta5_loci[['RSID','EFFECT_FREQ','EFFECT_ALLELE','OTHER_ALLELE']]\n",
    "print(meta5_loci.shape)\n",
    "print(meta5_loci.head())"
   ]
  },
  {
   "cell_type": "code",
   "execution_count": null,
   "metadata": {},
   "outputs": [],
   "source": [
    "freqs_model_meta5 = freqs_model[freqs_model['GWAS']=='META5']\n",
    "print(freqs_model_meta5.shape)"
   ]
  },
  {
   "cell_type": "code",
   "execution_count": null,
   "metadata": {},
   "outputs": [],
   "source": [
    "merged = pd.merge(meta5_loci, freqs_model_meta5, left_on = 'RSID', right_on = 'RSID',how = 'inner')\n",
    "print(merged.shape)\n"
   ]
  },
  {
   "cell_type": "code",
   "execution_count": null,
   "metadata": {},
   "outputs": [],
   "source": [
    "meta5_match=merged[merged['EFFECT_ALLELE']==merged['ALT'].str.upper()]\n",
    "print(meta5_match.shape)\n",
    "print(meta5_match.head())"
   ]
  },
  {
   "cell_type": "code",
   "execution_count": null,
   "metadata": {},
   "outputs": [],
   "source": []
  },
  {
   "cell_type": "code",
   "execution_count": null,
   "metadata": {},
   "outputs": [],
   "source": [
    "meta5_mismatch=merged[merged['EFFECT_ALLELE']!=merged['ALT'].str.upper()]\n",
    "print(meta5_mismatch.shape)\n",
    "print(meta5_mismatch.head())"
   ]
  },
  {
   "cell_type": "code",
   "execution_count": null,
   "metadata": {},
   "outputs": [],
   "source": [
    "meta5_mismatch.columns"
   ]
  },
  {
   "cell_type": "code",
   "execution_count": null,
   "metadata": {},
   "outputs": [],
   "source": [
    "meta5_mismatch['AF']=1-meta5_mismatch['AF'].astype(float)\n",
    "meta5_mismatch['AF_popmax']=1-meta5_mismatch['AF_popmax'].astype(float)\n",
    "meta5_mismatch['AF_male']=1-meta5_mismatch['AF_male'].astype(float)\n",
    "meta5_mismatch['AF_female']=1-meta5_mismatch['AF_female'].astype(float)\n",
    "meta5_mismatch['AF_raw']=1-meta5_mismatch['AF_raw'].astype(float)\n",
    "meta5_mismatch['AF_afr']=1-meta5_mismatch['AF_afr'].astype(float)\n",
    "\n",
    "meta5_mismatch['AF_amr']=1-meta5_mismatch['AF_amr'].astype(float)\n",
    "meta5_mismatch['AF_eas']=1-meta5_mismatch['AF_eas'].astype(float)\n",
    "meta5_mismatch['AF_nfe']=1-meta5_mismatch['AF_nfe'].astype(float)\n",
    "meta5_mismatch['AF_fin']=1-meta5_mismatch['AF_fin'].astype(float)\n",
    "meta5_mismatch['AF_asj']=1-meta5_mismatch['AF_asj'].astype(float)\n",
    "meta5_mismatch['AF_oth']=1-meta5_mismatch['AF_oth'].astype(float)\n",
    "meta5_mismatch['non_topmed_AF_popmax']=1-meta5_mismatch['non_topmed_AF_popmax'].astype(float)\n",
    "meta5_mismatch['non_neuro_AF_popmax']=1-meta5_mismatch['non_neuro_AF_popmax'].astype(float)\n",
    "meta5_mismatch['controls_AF_popmax']=1-meta5_mismatch['controls_AF_popmax'].astype(float)\n"
   ]
  },
  {
   "cell_type": "code",
   "execution_count": null,
   "metadata": {},
   "outputs": [],
   "source": [
    "final_meta5 = meta5_match.append(meta5_mismatch)\n",
    "final_meta5 = final_meta5[['BP', 'CHR', 'CHR_BP', 'GWAS', 'LOC_NUM', 'NEAR_GENE', 'RSID', 'REF',\n",
    "       'ALT', 'START', 'END', 'AF', 'AF_popmax', 'AF_male', 'AF_female',\n",
    "       'AF_raw', 'AF_afr', 'AF_sas', 'AF_amr', 'AF_eas', 'AF_nfe', 'AF_fin',\n",
    "       'AF_asj', 'AF_oth', 'non_topmed_AF_popmax', 'non_neuro_AF_popmax',\n",
    "       'non_cancer_AF_popmax', 'controls_AF_popmax', 'Frequency_PD',\n",
    "       'Frequency_control', 'AFF', 'UNAFF']]\n",
    "print(final_meta5.shape)\n",
    "print(final_meta5.head())"
   ]
  },
  {
   "cell_type": "code",
   "execution_count": null,
   "metadata": {},
   "outputs": [],
   "source": []
  },
  {
   "cell_type": "code",
   "execution_count": null,
   "metadata": {},
   "outputs": [],
   "source": [
    "nonmeta5_freqs = freqs_model[freqs_model['GWAS']!='META5']\n",
    "print(nonmeta5_freqs.shape)\n"
   ]
  },
  {
   "cell_type": "code",
   "execution_count": null,
   "metadata": {},
   "outputs": [],
   "source": [
    "final_freqs_corrected = final_meta5.append(nonmeta5_freqs)\n",
    "print(final_freqs_corrected.shape)"
   ]
  },
  {
   "cell_type": "code",
   "execution_count": null,
   "metadata": {},
   "outputs": [],
   "source": [
    "final_freqs = final_freqs_corrected[['GWAS','LOC_NUM','RSID','Frequency_PD','Frequency_control','AFF','UNAFF','AF_afr','AF_asj','AF_eas','AF_fin','AF_nfe','AF_amr','AF_oth']]\n",
    "final_freqs.columns = ['GWAS','LOC_NUM','RSID','Frequency_PD','Frequency_control','AFF','UNAFF','African','Ashkenazi Jewish','East Asian','European (Finnish)','European (non-Finnish)','Latino','Other']"
   ]
  },
  {
   "cell_type": "code",
   "execution_count": null,
   "metadata": {},
   "outputs": [],
   "source": [
    "final_freqs.to_csv(f\"{WRKDIR}/risk_variant_pop_freqs.csv\",index=None)"
   ]
  },
  {
   "cell_type": "code",
   "execution_count": null,
   "metadata": {},
   "outputs": [],
   "source": []
  }
 ],
 "metadata": {
  "kernelspec": {
   "display_name": "Python 3",
   "language": "python",
   "name": "python3"
  },
  "language_info": {
   "codemirror_mode": {
    "name": "ipython",
    "version": 3
   },
   "file_extension": ".py",
   "mimetype": "text/x-python",
   "name": "python",
   "nbconvert_exporter": "python",
   "pygments_lexer": "ipython3",
   "version": "3.7.3"
  }
 },
 "nbformat": 4,
 "nbformat_minor": 4
}
