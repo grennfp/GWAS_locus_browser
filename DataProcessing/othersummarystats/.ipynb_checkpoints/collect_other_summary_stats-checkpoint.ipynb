{
 "cells": [
  {
   "cell_type": "markdown",
   "metadata": {},
   "source": [
    "# GWAS Locus Browser Other Summary Stats Script\n",
    "- **Author** - Frank Grenn\n",
    "- **Date Started** - January 2020\n",
    "- **Quick Description:** organize the summary statistics from other relevant GWAS studies into files for the app.\n",
    "- **Data:** \n",
    "input files obtained from: [META5](https://www.ncbi.nlm.nih.gov/pubmed/31701892), [Age at onset GWAS](https://www.ncbi.nlm.nih.gov/pubmed/30957308), [GBA modifier GWAS](https://www.ncbi.nlm.nih.gov/pubmed/31755958), [LRRK2 modifier GWAS](https://onlinelibrary.wiley.com/doi/full/10.1002/mds.27974)  \n",
    "final statistics curated by Cornelis Blauwendraat\n"
   ]
  },
  {
   "cell_type": "code",
   "execution_count": null,
   "metadata": {},
   "outputs": [],
   "source": [
    "import pandas as pd\n"
   ]
  },
  {
   "cell_type": "code",
   "execution_count": 5,
   "metadata": {},
   "outputs": [
    {
     "name": "stdout",
     "output_type": "stream",
     "text": [
      "   Locus Number DONE?  Date when done? Volunteer1 Volunteer2          SNP  \\\n",
      "0             1   NaN              NaN  Corrnelis      Lynne  rs114138760   \n",
      "1             1   NaN              NaN  Corrnelis      Lynne   rs35749011   \n",
      "2             1   NaN              NaN  Corrnelis      Lynne   rs76763715   \n",
      "3             2   NaN              NaN        NaN        NaN    rs6658353   \n",
      "4             3   NaN              NaN    Jillian   Emmeline   rs11578699   \n",
      "\n",
      "  CHR:BP (hg19)     full region (hg19)  Number of genes  CHR  ...  \\\n",
      "0   1:154898185  1:153898185-155898185               92    1  ...   \n",
      "1   1:155135036  1:154135036-156135036               92    1  ...   \n",
      "2   1:155205634  1:154205634-156205634               92    1  ...   \n",
      "3   1:161469054  1:160469054-162469054               55    1  ...   \n",
      "4   1:171719769  1:170719769-172719769               24    1  ...   \n",
      "\n",
      "  Effect allele Other allele Effect allele frequency Beta, all studies  \\\n",
      "0             c            g                  0.0112            0.2812   \n",
      "1             a            g                  0.0169            0.6068   \n",
      "2             t            c                  0.9953           -0.7467   \n",
      "3             c            g                  0.5011            0.0650   \n",
      "4             t            c                  0.1949           -0.0704   \n",
      "\n",
      "  SE, all studies  P, all studies  P, COJO, all studies  \\\n",
      "0          0.0478    4.190000e-09          1.090000e-08   \n",
      "1          0.0342    1.720000e-70          3.820000e-77   \n",
      "2          0.0765    1.590000e-22          9.900000e-23   \n",
      "3          0.0094    6.100000e-12          4.690000e-12   \n",
      "4          0.0120    4.470000e-09          4.450000e-09   \n",
      "\n",
      "   Known GWAS locus within 1MB  Locus within 250KB  Odds Ratio  \n",
      "0                            1                   1    1.324719  \n",
      "1                            1                   1    1.834551  \n",
      "2                            1                   1    0.473928  \n",
      "3                            0                   0    1.067159  \n",
      "4                            0                   0    0.932021  \n",
      "\n",
      "[5 rows x 23 columns]\n"
     ]
    }
   ],
   "source": [
    "loci = pd.read_csv(\"$PATH1/GWAS_loci_overview.csv\")\n",
    "print(loci.head())"
   ]
  },
  {
   "cell_type": "markdown",
   "metadata": {},
   "source": [
    "### age of onset"
   ]
  },
  {
   "cell_type": "code",
   "execution_count": 3,
   "metadata": {},
   "outputs": [
    {
     "name": "stdout",
     "output_type": "stream",
     "text": [
      "(7426111, 15)\n",
      "      MarkerName Allele1 Allele2   Freq1  FreqSE  MinFreq  MaxFreq  Effect  \\\n",
      "0  chr4:90666041       t       c  0.6148  0.0218   0.5505   0.6301  0.6264   \n",
      "1  chr4:90641340       t       c  0.3880  0.0210   0.3700   0.4497 -0.6131   \n",
      "2  chr4:90637601       a       g  0.6136  0.0211   0.5534   0.6319  0.6123   \n",
      "3  chr4:90678541       a       g  0.5333  0.0281   0.4736   0.5953  0.5440   \n",
      "4  chr4:90668614       t       c  0.4684  0.0242   0.4226   0.5267 -0.5430   \n",
      "\n",
      "   StdErr       P-value           Direction  HetISq  HetChiSq  HetDf  HetPVal  \n",
      "0  0.0890  1.901000e-12  +-++++++-+++++++++    38.7    27.720     17  0.04832  \n",
      "1  0.0880  3.256000e-12  -+------+---------    37.5    27.189     17  0.05535  \n",
      "2  0.0881  3.719000e-12  +-++++++-+++++++++    34.3    25.883     17  0.07662  \n",
      "3  0.0889  9.488000e-10  +-++-++--+++++++++    35.3    26.282     17  0.06947  \n",
      "4  0.0888  9.550000e-10  -+--+---+---------    34.7    26.027     17  0.07398  \n"
     ]
    }
   ],
   "source": [
    "aoo = pd.read_csv(\"$PATH2/sorted_AAO_april3_18_final_all_data.txt\", sep=\"\\t\")\n",
    "print(aoo.shape)\n",
    "print(aoo.head())"
   ]
  },
  {
   "cell_type": "code",
   "execution_count": 12,
   "metadata": {},
   "outputs": [
    {
     "name": "stdout",
     "output_type": "stream",
     "text": [
      "['MarkerName', 'Allele1', 'Allele2', 'Freq1', 'FreqSE', 'MinFreq', 'MaxFreq', 'Effect', 'StdErr', 'P-value', 'Direction', 'HetISq', 'HetChiSq', 'HetDf', 'HetPVal']\n"
     ]
    }
   ],
   "source": [
    "print(list(aoo.columns.values))"
   ]
  },
  {
   "cell_type": "code",
   "execution_count": 9,
   "metadata": {},
   "outputs": [
    {
     "name": "stdout",
     "output_type": "stream",
     "text": [
      "   Locus Number DONE?  Date when done? Volunteer1 Volunteer2          SNP  \\\n",
      "0             1   NaN              NaN  Corrnelis      Lynne  rs114138760   \n",
      "1             1   NaN              NaN  Corrnelis      Lynne   rs35749011   \n",
      "2             1   NaN              NaN  Corrnelis      Lynne   rs76763715   \n",
      "3             2   NaN              NaN        NaN        NaN    rs6658353   \n",
      "4             3   NaN              NaN    Jillian   Emmeline   rs11578699   \n",
      "\n",
      "  CHR:BP (hg19)     full region (hg19)  Number of genes  CHR  ...  \\\n",
      "0   1:154898185  1:153898185-155898185               92    1  ...   \n",
      "1   1:155135036  1:154135036-156135036               92    1  ...   \n",
      "2   1:155205634  1:154205634-156205634               92    1  ...   \n",
      "3   1:161469054  1:160469054-162469054               55    1  ...   \n",
      "4   1:171719769  1:170719769-172719769               24    1  ...   \n",
      "\n",
      "  Other allele Effect allele frequency Beta, all studies SE, all studies  \\\n",
      "0            g                  0.0112            0.2812          0.0478   \n",
      "1            g                  0.0169            0.6068          0.0342   \n",
      "2            c                  0.9953           -0.7467          0.0765   \n",
      "3            g                  0.5011            0.0650          0.0094   \n",
      "4            c                  0.1949           -0.0704          0.0120   \n",
      "\n",
      "  P, all studies  P, COJO, all studies  Known GWAS locus within 1MB  \\\n",
      "0   4.190000e-09          1.090000e-08                            1   \n",
      "1   1.720000e-70          3.820000e-77                            1   \n",
      "2   1.590000e-22          9.900000e-23                            1   \n",
      "3   6.100000e-12          4.690000e-12                            0   \n",
      "4   4.470000e-09          4.450000e-09                            0   \n",
      "\n",
      "   Locus within 250KB  Odds Ratio           chrbp  \n",
      "0                   1    1.324719  chr1:154898185  \n",
      "1                   1    1.834551  chr1:155135036  \n",
      "2                   1    0.473928  chr1:155205634  \n",
      "3                   0    1.067159  chr1:161469054  \n",
      "4                   0    0.932021  chr1:171719769  \n",
      "\n",
      "[5 rows x 24 columns]\n"
     ]
    }
   ],
   "source": [
    "loci['chrbp'] = 'chr' + loci['CHR:BP (hg19)']\n",
    "print(loci.head())"
   ]
  },
  {
   "cell_type": "code",
   "execution_count": 10,
   "metadata": {},
   "outputs": [
    {
     "name": "stdout",
     "output_type": "stream",
     "text": [
      "(90, 39)\n",
      "   Locus Number DONE?  Date when done? Volunteer1 Volunteer2          SNP  \\\n",
      "0             1   NaN              NaN  Corrnelis      Lynne  rs114138760   \n",
      "1             1   NaN              NaN  Corrnelis      Lynne   rs35749011   \n",
      "2             1   NaN              NaN  Corrnelis      Lynne   rs76763715   \n",
      "3             2   NaN              NaN        NaN        NaN    rs6658353   \n",
      "4             3   NaN              NaN    Jillian   Emmeline   rs11578699   \n",
      "\n",
      "  CHR:BP (hg19)     full region (hg19)  Number of genes  CHR  ... MinFreq  \\\n",
      "0   1:154898185  1:153898185-155898185               92    1  ...  0.0049   \n",
      "1   1:155135036  1:154135036-156135036               92    1  ...  0.0084   \n",
      "2   1:155205634  1:154205634-156205634               92    1  ...  0.9864   \n",
      "3   1:161469054  1:160469054-162469054               55    1  ...  0.4543   \n",
      "4   1:171719769  1:170719769-172719769               24    1  ...  0.1565   \n",
      "\n",
      "  MaxFreq  Effect  StdErr   P-value           Direction  HetISq  HetChiSq  \\\n",
      "0  0.0146  0.2097  0.4276  0.623900  ?+--+-----+-+++-++     0.0    11.688   \n",
      "1  0.0618 -0.8508  0.2820  0.002551  ----+---+-----+-+-     0.0     7.656   \n",
      "2  0.9981  2.5995  0.5533  0.000003  +?-+?++?-+?+-++-?+     0.0     8.289   \n",
      "3  0.5584 -0.0650  0.0877  0.458700  ----+++-+--+-+++-+     5.4    17.969   \n",
      "4  0.2098 -0.0195  0.1132  0.863100  -+++--++-++-+---?-     8.2    17.432   \n",
      "\n",
      "   HetDf  HetPVal  \n",
      "0   16.0   0.7652  \n",
      "1   17.0   0.9734  \n",
      "2   12.0   0.7621  \n",
      "3   17.0   0.3908  \n",
      "4   16.0   0.3582  \n",
      "\n",
      "[5 rows x 39 columns]\n"
     ]
    }
   ],
   "source": [
    "merge_aoo = pd.merge(loci, aoo, how='left', left_on='chrbp', right_on='MarkerName')\n",
    "print(merge_aoo.shape)\n",
    "print(merge_aoo.head())"
   ]
  },
  {
   "cell_type": "code",
   "execution_count": 31,
   "metadata": {},
   "outputs": [
    {
     "name": "stdout",
     "output_type": "stream",
     "text": [
      "           SNP Allele1 Allele2   Freq1  Effect  StdErr   P-value\n",
      "0  rs114138760       c       g  0.0107  0.2097  0.4276  0.623900\n",
      "1   rs35749011       a       g  0.0237 -0.8508  0.2820  0.002551\n",
      "2   rs76763715       t       c  0.9950  2.5995  0.5533  0.000003\n",
      "3    rs6658353       c       g  0.5017 -0.0650  0.0877  0.458700\n",
      "4   rs11578699       t       c  0.1948 -0.0195  0.1132  0.863100\n"
     ]
    }
   ],
   "source": [
    "final_aoo = merge_aoo[['SNP','Allele1','Allele2','Freq1','Effect','StdErr','P-value']]\n",
    "print(final_aoo.head())"
   ]
  },
  {
   "cell_type": "code",
   "execution_count": 32,
   "metadata": {},
   "outputs": [],
   "source": [
    "final_aoo.to_csv(\"$PATH1/results/aoo_stats.csv\",index=False)"
   ]
  },
  {
   "cell_type": "markdown",
   "metadata": {},
   "source": [
    "### GBA age of onset"
   ]
  },
  {
   "cell_type": "code",
   "execution_count": 6,
   "metadata": {},
   "outputs": [
    {
     "name": "stdout",
     "output_type": "stream",
     "text": [
      "(692963, 9)\n",
      "   CHROM      POS REF ALT  N_INFORMATIVE       Test      Beta        SE  \\\n",
      "0      1  1060355   G   C           1353  1:1060355 -0.556163  0.454815   \n",
      "1      1  1061166   T   C           1353  1:1061166 -0.509397  0.442056   \n",
      "2      1  1062025   A   G           1353  1:1062025 -0.624011  0.441528   \n",
      "3      1  1062638   A   C           1353  1:1062638 -0.351802  0.441894   \n",
      "4      1  1063241   T   G           1353  1:1063241 -0.310846  0.445900   \n",
      "\n",
      "     Pvalue  \n",
      "0  0.221393  \n",
      "1  0.249183  \n",
      "2  0.157568  \n",
      "3  0.425961  \n",
      "4  0.485727  \n"
     ]
    }
   ],
   "source": [
    "gba_aoo = pd.read_csv(\"$PATH2/GBA_case_age_at_onset_GWAS.assoc\", sep=\"\\t\")\n",
    "print(gba_aoo.shape)\n",
    "print(gba_aoo.head())"
   ]
  },
  {
   "cell_type": "code",
   "execution_count": 15,
   "metadata": {},
   "outputs": [
    {
     "name": "stdout",
     "output_type": "stream",
     "text": [
      "(90, 33)\n",
      "   Locus Number DONE?  Date when done? Volunteer1 Volunteer2          SNP  \\\n",
      "0             1   NaN              NaN  Corrnelis      Lynne  rs114138760   \n",
      "1             1   NaN              NaN  Corrnelis      Lynne   rs35749011   \n",
      "2             1   NaN              NaN  Corrnelis      Lynne   rs76763715   \n",
      "3             2   NaN              NaN        NaN        NaN    rs6658353   \n",
      "4             3   NaN              NaN    Jillian   Emmeline   rs11578699   \n",
      "\n",
      "  CHR:BP (hg19)     full region (hg19)  Number of genes  CHR  ...  \\\n",
      "0   1:154898185  1:153898185-155898185               92    1  ...   \n",
      "1   1:155135036  1:154135036-156135036               92    1  ...   \n",
      "2   1:155205634  1:154205634-156205634               92    1  ...   \n",
      "3   1:161469054  1:160469054-162469054               55    1  ...   \n",
      "4   1:171719769  1:170719769-172719769               24    1  ...   \n",
      "\n",
      "            chrbp CHROM          POS  REF  ALT  N_INFORMATIVE         Test  \\\n",
      "0  chr1:154898185   1.0  154898185.0    G    C         1353.0  1:154898185   \n",
      "1  chr1:155135036   1.0  155135036.0    G    A         1353.0  1:155135036   \n",
      "2  chr1:155205634   NaN          NaN  NaN  NaN            NaN          NaN   \n",
      "3  chr1:161469054   1.0  161469054.0    C    G         1353.0  1:161469054   \n",
      "4  chr1:171719769   1.0  171719769.0    C    T         1353.0  1:171719769   \n",
      "\n",
      "       Beta        SE    Pvalue  \n",
      "0  0.378928  1.038380  0.715169  \n",
      "1  0.522085  0.661859  0.430220  \n",
      "2       NaN       NaN       NaN  \n",
      "3 -0.849169  0.418237  0.042321  \n",
      "4 -0.043143  0.538940  0.936197  \n",
      "\n",
      "[5 rows x 33 columns]\n"
     ]
    }
   ],
   "source": [
    "merge_gba_aoo = pd.merge(loci, gba_aoo, how='left', left_on='CHR:BP (hg19)', right_on='Test')\n",
    "print(merge_gba_aoo.shape)\n",
    "print(merge_gba_aoo.head())"
   ]
  },
  {
   "cell_type": "code",
   "execution_count": 16,
   "metadata": {},
   "outputs": [
    {
     "name": "stdout",
     "output_type": "stream",
     "text": [
      "           SNP  REF  ALT      Beta        SE    Pvalue\n",
      "0  rs114138760    G    C  0.378928  1.038380  0.715169\n",
      "1   rs35749011    G    A  0.522085  0.661859  0.430220\n",
      "2   rs76763715  NaN  NaN       NaN       NaN       NaN\n",
      "3    rs6658353    C    G -0.849169  0.418237  0.042321\n",
      "4   rs11578699    C    T -0.043143  0.538940  0.936197\n"
     ]
    }
   ],
   "source": [
    "final_gba_aoo = merge_gba_aoo[['SNP','REF','ALT','Beta','SE','Pvalue']]\n",
    "print(final_gba_aoo.head())"
   ]
  },
  {
   "cell_type": "code",
   "execution_count": 17,
   "metadata": {},
   "outputs": [],
   "source": [
    "final_gba_aoo.to_csv(\"$PATH1/results/gba_aoo_stats.csv\",index=False)"
   ]
  },
  {
   "cell_type": "markdown",
   "metadata": {},
   "source": [
    "### GBA modifier"
   ]
  },
  {
   "cell_type": "code",
   "execution_count": 7,
   "metadata": {},
   "outputs": [
    {
     "name": "stdout",
     "output_type": "stream",
     "text": [
      "(684609, 15)\n",
      "   MarkerName Allele1 Allele2   Freq1  FreqSE  MinFreq  MaxFreq  Effect  \\\n",
      "0  4:90637601       a       g  0.6095  0.0045   0.6080   0.6232 -0.3191   \n",
      "1  4:90635338       c       g  0.0796  0.0039   0.0694   0.0811  0.5733   \n",
      "2  4:90641340       t       c  0.3916  0.0048   0.3771   0.3932  0.3139   \n",
      "3  4:90666041       t       c  0.6101  0.0041   0.6087   0.6224 -0.3127   \n",
      "4  4:90684278       a       g  0.9264  0.0015   0.9258   0.9299 -0.5916   \n",
      "\n",
      "   StdErr       P-value Direction  HetISq  HetChiSq  HetDf  HetPVal  \n",
      "0  0.0650  9.257000e-07        --    77.5     4.451      1  0.03488  \n",
      "1  0.1184  1.285000e-06        ++    45.8     1.845      1  0.17440  \n",
      "2  0.0651  1.410000e-06        ++    78.1     4.563      1  0.03268  \n",
      "3  0.0650  1.485000e-06        --    73.4     3.755      1  0.05265  \n",
      "4  0.1236  1.689000e-06        --     0.0     0.821      1  0.36490  \n"
     ]
    }
   ],
   "source": [
    "meta_gba = pd.read_csv(\"$PATH2/META_GBA_penetrance_modifier_carriers_GWAS.txt\", sep=\"\\t\")\n",
    "print(meta_gba.shape)\n",
    "print(meta_gba.head())"
   ]
  },
  {
   "cell_type": "code",
   "execution_count": 18,
   "metadata": {},
   "outputs": [
    {
     "name": "stdout",
     "output_type": "stream",
     "text": [
      "(90, 39)\n",
      "   Locus Number DONE?  Date when done? Volunteer1 Volunteer2          SNP  \\\n",
      "0             1   NaN              NaN  Corrnelis      Lynne  rs114138760   \n",
      "1             1   NaN              NaN  Corrnelis      Lynne   rs35749011   \n",
      "2             1   NaN              NaN  Corrnelis      Lynne   rs76763715   \n",
      "3             2   NaN              NaN        NaN        NaN    rs6658353   \n",
      "4             3   NaN              NaN    Jillian   Emmeline   rs11578699   \n",
      "\n",
      "  CHR:BP (hg19)     full region (hg19)  Number of genes  CHR  ... MinFreq  \\\n",
      "0   1:154898185  1:153898185-155898185               92    1  ...  0.0433   \n",
      "1   1:155135036  1:154135036-156135036               92    1  ...  0.3021   \n",
      "2   1:155205634  1:154205634-156205634               92    1  ...     NaN   \n",
      "3   1:161469054  1:160469054-162469054               55    1  ...  0.4974   \n",
      "4   1:171719769  1:170719769-172719769               24    1  ...  0.1889   \n",
      "\n",
      "  MaxFreq  Effect  StdErr   P-value  Direction  HetISq  HetChiSq  HetDf  \\\n",
      "0  0.0581 -0.1422  0.1515  0.347800         -+     0.0     0.414    1.0   \n",
      "1  0.3084  0.2988  0.1039  0.004036         +-    73.2     3.727    1.0   \n",
      "2     NaN     NaN     NaN       NaN        NaN     NaN       NaN    NaN   \n",
      "3  0.5023  0.0499  0.0625  0.424900         ++     0.0     0.179    1.0   \n",
      "4  0.1974 -0.0564  0.0780  0.469700         -+    72.8     3.683    1.0   \n",
      "\n",
      "   HetPVal  \n",
      "0  0.52000  \n",
      "1  0.05355  \n",
      "2      NaN  \n",
      "3  0.67250  \n",
      "4  0.05498  \n",
      "\n",
      "[5 rows x 39 columns]\n"
     ]
    }
   ],
   "source": [
    "merge_gba = pd.merge(loci, meta_gba, how='left', left_on='CHR:BP (hg19)', right_on='MarkerName')\n",
    "print(merge_gba.shape)\n",
    "print(merge_gba.head())"
   ]
  },
  {
   "cell_type": "code",
   "execution_count": 33,
   "metadata": {},
   "outputs": [
    {
     "name": "stdout",
     "output_type": "stream",
     "text": [
      "           SNP Allele1 Allele2   Freq1  Effect  StdErr   P-value\n",
      "0  rs114138760       c       g  0.0453 -0.1422  0.1515  0.347800\n",
      "1   rs35749011       a       g  0.3075  0.2988  0.1039  0.004036\n",
      "2   rs76763715     NaN     NaN     NaN     NaN     NaN       NaN\n",
      "3    rs6658353       c       g  0.5018  0.0499  0.0625  0.424900\n",
      "4   rs11578699       t       c  0.1900 -0.0564  0.0780  0.469700\n"
     ]
    }
   ],
   "source": [
    "final_gba = merge_gba[['SNP','Allele1','Allele2','Freq1','Effect','StdErr','P-value']]\n",
    "print(final_gba.head())"
   ]
  },
  {
   "cell_type": "code",
   "execution_count": 34,
   "metadata": {},
   "outputs": [],
   "source": [
    "final_gba.to_csv(\"$PATH1/results/gba_stats.csv\",index=False)"
   ]
  },
  {
   "cell_type": "code",
   "execution_count": null,
   "metadata": {},
   "outputs": [],
   "source": []
  },
  {
   "cell_type": "markdown",
   "metadata": {},
   "source": [
    "### LRRK2 modifier"
   ]
  },
  {
   "cell_type": "code",
   "execution_count": 25,
   "metadata": {},
   "outputs": [
    {
     "name": "stdout",
     "output_type": "stream",
     "text": [
      "(88, 6)\n",
      "          name      beta  std.error   p.value A1  A1_freq\n",
      "0   rs823118_C -0.413478   0.152453  0.006684  C   0.4225\n",
      "1  rs2280104_T  0.387323   0.151989  0.010823  T   0.3684\n",
      "2    rs26431_G -0.394072   0.162944  0.015587  G   0.2970\n",
      "3  rs8087969_G  0.339419   0.141325  0.016319  G   0.4498\n",
      "4  rs2251086_T -0.443993   0.214743  0.038682  T   0.1346\n"
     ]
    }
   ],
   "source": [
    "lrrk2 = pd.read_csv(\"$PATH1/othersummarystats/LRRK2_GWAS_risk_Variants.csv\")\n",
    "print(lrrk2.shape)\n",
    "print(lrrk2.head())"
   ]
  },
  {
   "cell_type": "code",
   "execution_count": 27,
   "metadata": {},
   "outputs": [
    {
     "name": "stdout",
     "output_type": "stream",
     "text": [
      "        name      beta  std.error   p.value A1  A1_freq\n",
      "0   rs823118 -0.413478   0.152453  0.006684  C   0.4225\n",
      "1  rs2280104  0.387323   0.151989  0.010823  T   0.3684\n",
      "2    rs26431 -0.394072   0.162944  0.015587  G   0.2970\n",
      "3  rs8087969  0.339419   0.141325  0.016319  G   0.4498\n",
      "4  rs2251086 -0.443993   0.214743  0.038682  T   0.1346\n"
     ]
    }
   ],
   "source": [
    "lrrk2['name']=lrrk2['name'].astype(str).str[:-2]\n",
    "print(lrrk2.head())"
   ]
  },
  {
   "cell_type": "code",
   "execution_count": 28,
   "metadata": {},
   "outputs": [
    {
     "name": "stdout",
     "output_type": "stream",
     "text": [
      "(90, 30)\n",
      "   Locus Number DONE?  Date when done? Volunteer1 Volunteer2          SNP  \\\n",
      "0             1   NaN              NaN  Corrnelis      Lynne  rs114138760   \n",
      "1             1   NaN              NaN  Corrnelis      Lynne   rs35749011   \n",
      "2             1   NaN              NaN  Corrnelis      Lynne   rs76763715   \n",
      "3             2   NaN              NaN        NaN        NaN    rs6658353   \n",
      "4             3   NaN              NaN    Jillian   Emmeline   rs11578699   \n",
      "\n",
      "  CHR:BP (hg19)     full region (hg19)  Number of genes  CHR  ...  \\\n",
      "0   1:154898185  1:153898185-155898185               92    1  ...   \n",
      "1   1:155135036  1:154135036-156135036               92    1  ...   \n",
      "2   1:155205634  1:154205634-156205634               92    1  ...   \n",
      "3   1:161469054  1:160469054-162469054               55    1  ...   \n",
      "4   1:171719769  1:170719769-172719769               24    1  ...   \n",
      "\n",
      "  Known GWAS locus within 1MB Locus within 250KB Odds Ratio           chrbp  \\\n",
      "0                           1                  1   1.324719  chr1:154898185   \n",
      "1                           1                  1   1.834551  chr1:155135036   \n",
      "2                           1                  1   0.473928  chr1:155205634   \n",
      "3                           0                  0   1.067159  chr1:161469054   \n",
      "4                           0                  0   0.932021  chr1:171719769   \n",
      "\n",
      "          name      beta  std.error   p.value  A1   A1_freq  \n",
      "0  rs114138760 -0.161807   1.511186  0.914731   C  0.010380  \n",
      "1   rs35749011 -1.126067   0.828984  0.174346   A  0.017370  \n",
      "2   rs76763715 -0.268274   0.450911  0.551870   C  0.006009  \n",
      "3    rs6658353 -0.291482   0.143856  0.042743   C  0.497200  \n",
      "4   rs11578699 -0.388740   0.190157  0.040922   T  0.192400  \n",
      "\n",
      "[5 rows x 30 columns]\n"
     ]
    }
   ],
   "source": [
    "merge_lrrk2 = pd.merge(loci, lrrk2, how='left', left_on='SNP', right_on='name')\n",
    "print(merge_lrrk2.shape)\n",
    "print(merge_lrrk2.head())"
   ]
  },
  {
   "cell_type": "code",
   "execution_count": 35,
   "metadata": {},
   "outputs": [
    {
     "name": "stdout",
     "output_type": "stream",
     "text": [
      "           SNP A1   A1_freq      beta  std.error   p.value\n",
      "0  rs114138760  C  0.010380 -0.161807   1.511186  0.914731\n",
      "1   rs35749011  A  0.017370 -1.126067   0.828984  0.174346\n",
      "2   rs76763715  C  0.006009 -0.268274   0.450911  0.551870\n",
      "3    rs6658353  C  0.497200 -0.291482   0.143856  0.042743\n",
      "4   rs11578699  T  0.192400 -0.388740   0.190157  0.040922\n"
     ]
    }
   ],
   "source": [
    "final_lrrk2 = merge_lrrk2[['SNP','A1','A1_freq','beta','std.error','p.value']]\n",
    "print(final_lrrk2.head())"
   ]
  },
  {
   "cell_type": "code",
   "execution_count": 36,
   "metadata": {},
   "outputs": [],
   "source": [
    "final_lrrk2.to_csv(\"$PATH1/results/lrrk2_stats.csv\",index=False)"
   ]
  },
  {
   "cell_type": "code",
   "execution_count": null,
   "metadata": {},
   "outputs": [],
   "source": []
  }
 ],
 "metadata": {
  "kernelspec": {
   "display_name": "Python 3",
   "language": "python",
   "name": "python3"
  },
  "language_info": {
   "codemirror_mode": {
    "name": "ipython",
    "version": 3
   },
   "file_extension": ".py",
   "mimetype": "text/x-python",
   "name": "python",
   "nbconvert_exporter": "python",
   "pygments_lexer": "ipython3",
   "version": "3.7.3"
  }
 },
 "nbformat": 4,
 "nbformat_minor": 4
}
