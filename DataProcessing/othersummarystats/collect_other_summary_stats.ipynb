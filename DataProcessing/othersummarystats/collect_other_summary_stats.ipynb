{
 "cells": [
  {
   "cell_type": "markdown",
   "metadata": {},
   "source": [
    "# Collect META5 Risk Variants Stats From Other GWAS\n",
    "- **Author** - Frank Grenn\n",
    "- **Date Started** - November 2019\n",
    "- **Quick Description:** code to gather summary stats for the meta5 risk loci in other gwases. **Note** that this list is manually edited as the end to make sure maf is consistent  \n",
    "\n",
    " - #### 1) Age of Onset GWAS\n",
    " - #### 2) GBA Age of Onset GWAS\n",
    " - #### 3) GBA Modifier GWAS\n",
    " - #### 4) LRRK2 Modifier GWAS\n",
    " - #### 5) Asian GWAS\n",
    " - #### 6) META5 GWAS\n"
   ]
  },
  {
   "cell_type": "code",
   "execution_count": null,
   "metadata": {},
   "outputs": [],
   "source": [
    "import pandas as pd\n",
    "from scipy.stats import norm"
   ]
  },
  {
   "cell_type": "code",
   "execution_count": null,
   "metadata": {},
   "outputs": [],
   "source": [
    "DATADIR ='$PATH/AppDataProcessing' \n",
    "WRKDIR = f\"{DATADIR}/othersummarystats\""
   ]
  },
  {
   "cell_type": "code",
   "execution_count": null,
   "metadata": {},
   "outputs": [],
   "source": [
    "writer = pd.ExcelWriter(f'{WRKDIR}/other_sum_stats.xlsx', engine='xlsxwriter')"
   ]
  },
  {
   "cell_type": "markdown",
   "metadata": {},
   "source": [
    "#### get all the risk variants and loci"
   ]
  },
  {
   "cell_type": "code",
   "execution_count": null,
   "metadata": {},
   "outputs": [],
   "source": [
    "meta5_loci = pd.read_csv(f\"{DATADIR}/META5Loci.csv\")\n",
    "meta5_loci['GWAS']='META5'\n",
    "print(meta5_loci.shape)\n",
    "print(meta5_loci.head())"
   ]
  },
  {
   "cell_type": "code",
   "execution_count": null,
   "metadata": {},
   "outputs": [],
   "source": [
    "prog_loci = pd.read_csv(f\"{DATADIR}/ProgressionLoci.csv\")\n",
    "prog_loci['GWAS']='Progression'\n",
    "prog_loci['EFFECT_ALLELE']=prog_loci['ALT']\n",
    "prog_loci['OTHER_ALLELE']=prog_loci['REF']\n",
    "prog_loci['P_COJO']=None\n",
    "prog_loci = prog_loci.rename(columns={\"MAF\": \"FREQ\"})\n",
    "prog_loci['EFFECT_FREQ']=prog_loci['FREQ']\n",
    "\n",
    "print(prog_loci.shape)\n",
    "print(prog_loci.head())"
   ]
  },
  {
   "cell_type": "code",
   "execution_count": null,
   "metadata": {},
   "outputs": [],
   "source": [
    "asian_loci = pd.read_csv(f\"{DATADIR}/AsianLoci.csv\")\n",
    "asian_loci['GWAS']='Asian'\n",
    "asian_loci['EFFECT_ALLELE']=asian_loci['ALT']\n",
    "asian_loci['OTHER_ALLELE']=asian_loci['REF']\n",
    "asian_loci['P_COJO']=None\n",
    "asian_loci = asian_loci.rename(columns={\"MAF\": \"FREQ\"})\n",
    "asian_loci['EFFECT_FREQ']=asian_loci['FREQ']\n",
    "print(asian_loci.shape)\n",
    "print(asian_loci.head())"
   ]
  },
  {
   "cell_type": "code",
   "execution_count": null,
   "metadata": {},
   "outputs": [],
   "source": [
    "loci = meta5_loci.append(prog_loci).append(asian_loci)\n",
    "print(loci.shape)\n",
    "print(loci.head())"
   ]
  },
  {
   "cell_type": "code",
   "execution_count": null,
   "metadata": {},
   "outputs": [],
   "source": [
    "loci_sub = loci[['RSID','CHR','BP','CHR_BP','EFFECT_FREQ','EFFECT_ALLELE','OTHER_ALLELE']]"
   ]
  },
  {
   "cell_type": "markdown",
   "metadata": {},
   "source": [
    "## 1) Age of Onset GWAS"
   ]
  },
  {
   "cell_type": "code",
   "execution_count": null,
   "metadata": {},
   "outputs": [],
   "source": [
    "aoo = pd.read_csv(\"$PATH/summary_stats/age_of_onset/sorted_AAO_april3_18_final_all_data.txt\", sep=\"\\t\")\n",
    "print(aoo.shape)\n",
    "print(aoo.head())"
   ]
  },
  {
   "cell_type": "code",
   "execution_count": null,
   "metadata": {},
   "outputs": [],
   "source": [
    "print(list(aoo.columns.values))"
   ]
  },
  {
   "cell_type": "code",
   "execution_count": null,
   "metadata": {},
   "outputs": [],
   "source": [
    "aoo_sub = aoo[['MarkerName','Allele1','Allele2','Freq1','Effect','StdErr','P-value']]"
   ]
  },
  {
   "cell_type": "code",
   "execution_count": null,
   "metadata": {},
   "outputs": [],
   "source": [
    "loci_sub['MarkerName'] = 'chr' + loci_sub['CHR_BP']\n",
    "print(loci_sub.head())"
   ]
  },
  {
   "cell_type": "code",
   "execution_count": null,
   "metadata": {},
   "outputs": [],
   "source": [
    "merge_aoo = pd.merge(loci_sub, aoo_sub, on='MarkerName',how='left')\n",
    "print(merge_aoo.shape)\n",
    "print(merge_aoo.head())"
   ]
  },
  {
   "cell_type": "markdown",
   "metadata": {},
   "source": [
    "#### now check for the right allele\n",
    "looks like Allele1 from aoo should match EFFECT_ALLELE"
   ]
  },
  {
   "cell_type": "code",
   "execution_count": null,
   "metadata": {},
   "outputs": [],
   "source": [
    "aoo_match=merge_aoo[merge_aoo['EFFECT_ALLELE']==merge_aoo['Allele1'].str.upper()]\n",
    "print(aoo_match.shape)\n",
    "print(aoo_match.head())"
   ]
  },
  {
   "cell_type": "code",
   "execution_count": null,
   "metadata": {},
   "outputs": [],
   "source": [
    "aoo_mismatch=merge_aoo[merge_aoo['EFFECT_ALLELE']!=merge_aoo['Allele1'].str.upper()]\n",
    "print(aoo_mismatch.shape)\n",
    "print(aoo_mismatch.head())"
   ]
  },
  {
   "cell_type": "code",
   "execution_count": null,
   "metadata": {},
   "outputs": [],
   "source": [
    "aoo_mismatch['Allele1']=aoo_mismatch['EFFECT_ALLELE']\n",
    "aoo_mismatch['Allele2']=aoo_mismatch['OTHER_ALLELE']\n",
    "aoo_mismatch['Freq1']=1-aoo_mismatch['Freq1']\n",
    "aoo_mismatch['Effect']=-1*aoo_mismatch['Effect']\n"
   ]
  },
  {
   "cell_type": "code",
   "execution_count": null,
   "metadata": {},
   "outputs": [],
   "source": [
    "final_aoo=aoo_mismatch.append(aoo_match)\n",
    "print(final_aoo.shape)\n",
    "print(final_aoo.head())"
   ]
  },
  {
   "cell_type": "code",
   "execution_count": null,
   "metadata": {},
   "outputs": [],
   "source": [
    "final_aoo = final_aoo[['RSID','CHR','BP','CHR_BP','Freq1','Effect','StdErr','P-value']]\n",
    "final_aoo.columns = ['RSID','CHR','BP','CHR_BP','EFFECT_FREQ','BETA','SE','P']"
   ]
  },
  {
   "cell_type": "code",
   "execution_count": null,
   "metadata": {},
   "outputs": [],
   "source": [
    "print(final_aoo.shape)\n",
    "print(final_aoo.head())"
   ]
  },
  {
   "cell_type": "code",
   "execution_count": null,
   "metadata": {},
   "outputs": [],
   "source": [
    "final_aoo.to_excel(writer, sheet_name='AAO',index=None)"
   ]
  },
  {
   "cell_type": "markdown",
   "metadata": {},
   "source": [
    "## 2) GBA Age of Onset GWAS"
   ]
  },
  {
   "cell_type": "code",
   "execution_count": null,
   "metadata": {},
   "outputs": [],
   "source": [
    "gba_aoo = pd.read_csv(\"$PATH/summary_stats/GBA_GWAS/HARDCALL_GBA_case_age.SingleWald_MAF.assoc\", sep=\"\\t\")\n",
    "print(gba_aoo.shape)\n",
    "print(gba_aoo.head())"
   ]
  },
  {
   "cell_type": "code",
   "execution_count": null,
   "metadata": {},
   "outputs": [],
   "source": [
    "gba_aoo_sub = gba_aoo[['Test','A1','A2','CHROM','POS','Beta','SE','Pvalue','MAF']]\n",
    "print(gba_aoo_sub.shape)"
   ]
  },
  {
   "cell_type": "code",
   "execution_count": null,
   "metadata": {},
   "outputs": [],
   "source": [
    "merge_gba_aoo = pd.merge(loci_sub, gba_aoo_sub, how='left', left_on='CHR_BP', right_on='Test')\n",
    "print(merge_gba_aoo.shape)\n",
    "print(merge_gba_aoo.head())"
   ]
  },
  {
   "cell_type": "markdown",
   "metadata": {},
   "source": [
    "#### now check for the right allele\n",
    "looks like A1 from gba_aoo should match EFFECT_ALLELE"
   ]
  },
  {
   "cell_type": "code",
   "execution_count": null,
   "metadata": {},
   "outputs": [],
   "source": [
    "gba_aoo_match=merge_gba_aoo[merge_gba_aoo['EFFECT_ALLELE']==merge_gba_aoo['A1']]\n",
    "print(gba_aoo_match.shape)\n",
    "print(gba_aoo_match.head())"
   ]
  },
  {
   "cell_type": "code",
   "execution_count": null,
   "metadata": {},
   "outputs": [],
   "source": [
    "gba_aoo_mismatch=merge_gba_aoo[merge_gba_aoo['EFFECT_ALLELE']!=merge_gba_aoo['A1']]\n",
    "print(gba_aoo_mismatch.shape)\n",
    "print(gba_aoo_mismatch.head())"
   ]
  },
  {
   "cell_type": "code",
   "execution_count": null,
   "metadata": {},
   "outputs": [],
   "source": [
    "gba_aoo_mismatch['MAF']=1-gba_aoo_mismatch['MAF']\n",
    "gba_aoo_mismatch['Beta']=-1*gba_aoo_mismatch['Beta']"
   ]
  },
  {
   "cell_type": "code",
   "execution_count": null,
   "metadata": {},
   "outputs": [],
   "source": [
    "final_gba_aoo=gba_aoo_mismatch.append(gba_aoo_match)\n",
    "print(final_gba_aoo.shape)\n",
    "print(final_gba_aoo.head())"
   ]
  },
  {
   "cell_type": "code",
   "execution_count": null,
   "metadata": {},
   "outputs": [],
   "source": [
    "final_gba_aoo = final_gba_aoo[['RSID','CHR','BP','CHR_BP','MAF','Beta','SE','Pvalue']]\n",
    "final_gba_aoo.columns = ['RSID','CHR','BP','CHR_BP','EFFECT_FREQ','BETA','SE','P']"
   ]
  },
  {
   "cell_type": "code",
   "execution_count": null,
   "metadata": {},
   "outputs": [],
   "source": [
    "final_gba_aoo.to_excel(writer, sheet_name='GBA_AAO',index=None)"
   ]
  },
  {
   "cell_type": "markdown",
   "metadata": {},
   "source": [
    "## 3) GBA Modifier GWAS"
   ]
  },
  {
   "cell_type": "code",
   "execution_count": null,
   "metadata": {},
   "outputs": [],
   "source": [
    "meta_gba = pd.read_csv(\"$PATH/summary_stats/GBA_GWAS/META_GBA_penetrance_modifier_carriers_GWAS.txt\", sep=\"\\t\")\n",
    "print(meta_gba.shape)\n",
    "print(meta_gba.head())"
   ]
  },
  {
   "cell_type": "code",
   "execution_count": null,
   "metadata": {},
   "outputs": [],
   "source": [
    "meta_gba_sub = meta_gba[['MarkerName','Allele1','Allele2','Freq1','StdErr','Effect','P-value']]\n",
    "print(meta_gba_sub.shape)"
   ]
  },
  {
   "cell_type": "code",
   "execution_count": null,
   "metadata": {},
   "outputs": [],
   "source": [
    "merge_gba = pd.merge(loci_sub, meta_gba_sub, how='left', left_on='CHR_BP', right_on='MarkerName')\n",
    "print(merge_gba.shape)\n",
    "print(merge_gba.head())"
   ]
  },
  {
   "cell_type": "markdown",
   "metadata": {},
   "source": [
    "#### now check for the right allele\n",
    "looks like Allele1 from gba shoul match EFFECT_ALLELE"
   ]
  },
  {
   "cell_type": "code",
   "execution_count": null,
   "metadata": {},
   "outputs": [],
   "source": [
    "gba_match=merge_gba[merge_gba['EFFECT_ALLELE']==merge_gba['Allele1'].str.upper()]\n",
    "print(gba_match.shape)\n",
    "print(gba_match.head())"
   ]
  },
  {
   "cell_type": "code",
   "execution_count": null,
   "metadata": {},
   "outputs": [],
   "source": [
    "gba_mismatch=merge_gba[merge_gba['EFFECT_ALLELE']!=merge_gba['Allele1'].str.upper()]\n",
    "print(gba_mismatch.shape)\n",
    "print(gba_mismatch.head())"
   ]
  },
  {
   "cell_type": "code",
   "execution_count": null,
   "metadata": {},
   "outputs": [],
   "source": [
    "gba_mismatch['Freq1']=1-gba_mismatch['Freq1']\n",
    "gba_mismatch['Effect']=-1*gba_mismatch['Effect']"
   ]
  },
  {
   "cell_type": "code",
   "execution_count": null,
   "metadata": {},
   "outputs": [],
   "source": [
    "final_gba = gba_match.append(gba_mismatch)\n",
    "print(final_gba.shape)\n",
    "print(final_gba.head())"
   ]
  },
  {
   "cell_type": "code",
   "execution_count": null,
   "metadata": {},
   "outputs": [],
   "source": [
    "final_gba = final_gba[['RSID','CHR','BP','CHR_BP','Freq1','Effect','StdErr','P-value']]\n",
    "final_gba.columns = ['RSID','CHR','BP','CHR_BP','EFFECT_FREQ','BETA','SE','P']"
   ]
  },
  {
   "cell_type": "code",
   "execution_count": null,
   "metadata": {},
   "outputs": [],
   "source": [
    "\n",
    "print(final_gba.head())"
   ]
  },
  {
   "cell_type": "code",
   "execution_count": null,
   "metadata": {},
   "outputs": [],
   "source": [
    "final_gba.to_excel(writer, sheet_name='GBA_mod',index=None)"
   ]
  },
  {
   "cell_type": "markdown",
   "metadata": {},
   "source": [
    "## 4) LRRK2 Modifier GWAS"
   ]
  },
  {
   "cell_type": "code",
   "execution_count": null,
   "metadata": {},
   "outputs": [],
   "source": [
    "lrrk2 = pd.read_csv(f\"{WRKDIR}/LRRK2_GWAS_risk_Variants.csv\")\n",
    "print(lrrk2.shape)\n",
    "print(lrrk2.head())"
   ]
  },
  {
   "cell_type": "code",
   "execution_count": null,
   "metadata": {},
   "outputs": [],
   "source": [
    "lrrk2['name']=lrrk2['name'].astype(str).str[:-2]\n",
    "print(lrrk2.head())"
   ]
  },
  {
   "cell_type": "code",
   "execution_count": null,
   "metadata": {},
   "outputs": [],
   "source": [
    "merge_lrrk2 = pd.merge(loci_sub, lrrk2, how='left', left_on='RSID', right_on='name')\n",
    "print(merge_lrrk2.shape)\n",
    "print(merge_lrrk2.head())"
   ]
  },
  {
   "cell_type": "markdown",
   "metadata": {},
   "source": [
    "#### now check for the right allele\n",
    "looks like A1 from lrrk2 shoul match EFFECT_ALLELE"
   ]
  },
  {
   "cell_type": "code",
   "execution_count": null,
   "metadata": {},
   "outputs": [],
   "source": [
    "lrrk2_match=merge_lrrk2[merge_lrrk2['EFFECT_ALLELE']==merge_lrrk2['A1']]\n",
    "print(lrrk2_match.shape)\n",
    "print(lrrk2_match.head())"
   ]
  },
  {
   "cell_type": "code",
   "execution_count": null,
   "metadata": {},
   "outputs": [],
   "source": [
    "lrrk2_mismatch=merge_lrrk2[merge_lrrk2['EFFECT_ALLELE']!=merge_lrrk2['A1']]\n",
    "print(lrrk2_mismatch.shape)\n",
    "print(lrrk2_mismatch.head())"
   ]
  },
  {
   "cell_type": "code",
   "execution_count": null,
   "metadata": {},
   "outputs": [],
   "source": [
    "lrrk2_mismatch['A1_freq']=1-lrrk2_mismatch['A1_freq']\n",
    "lrrk2_mismatch['beta']=-1*lrrk2_mismatch['beta']"
   ]
  },
  {
   "cell_type": "code",
   "execution_count": null,
   "metadata": {},
   "outputs": [],
   "source": [
    "final_lrrk2 = lrrk2_match.append(lrrk2_mismatch)\n",
    "print(final_lrrk2.shape)\n",
    "print(final_lrrk2.head())"
   ]
  },
  {
   "cell_type": "code",
   "execution_count": null,
   "metadata": {},
   "outputs": [],
   "source": [
    "final_lrrk2 = final_lrrk2[['RSID','CHR','BP','CHR_BP','A1_freq','beta','std.error','p.value']]\n",
    "final_lrrk2.columns = ['RSID','CHR','BP','CHR_BP','EFFECT_FREQ','BETA','SE','P']"
   ]
  },
  {
   "cell_type": "code",
   "execution_count": null,
   "metadata": {},
   "outputs": [],
   "source": [
    "print(final_lrrk2.head())"
   ]
  },
  {
   "cell_type": "code",
   "execution_count": null,
   "metadata": {},
   "outputs": [],
   "source": [
    "final_lrrk2.to_excel(writer, sheet_name='LRRK2',index=None)"
   ]
  },
  {
   "cell_type": "markdown",
   "metadata": {},
   "source": [
    "## 5) Asian GWAS"
   ]
  },
  {
   "cell_type": "code",
   "execution_count": null,
   "metadata": {},
   "outputs": [],
   "source": [
    "#6724PDcases-24851controls-5843213snps-summary-stats-maf5-metaP-SE.txt.gz\n",
    "#6724PDcases-24851controls-5843213snps-summary-stats-metaP-SE.txt.gz\n",
    "#6724PDcases-24851controls-5843213snps-summary-stats-metaP.txt.gz\n",
    "#779PDcases-13227controls-2402394snps-hmg2017-summary-stats-OR-SE.txt\n",
    "#Asian_GWAS_2019.gz\n",
    "\n",
    "asian_gwas = pd.read_csv(f\"{DATADIR}/asiangwas_sumstats_harmonized.csv\")\n",
    "print(asian_gwas.shape)\n",
    "print(asian_gwas.head())\n"
   ]
  },
  {
   "cell_type": "code",
   "execution_count": null,
   "metadata": {},
   "outputs": [],
   "source": [
    "asian_gwas_sub = asian_gwas[['RSID','A1','A2','BETA','SE','FREQ','P']]"
   ]
  },
  {
   "cell_type": "code",
   "execution_count": null,
   "metadata": {},
   "outputs": [],
   "source": [
    "loci_sub = loci[['RSID','CHR','BP','CHR_BP','EFFECT_FREQ','EFFECT_ALLELE','OTHER_ALLELE','BETA']]"
   ]
  },
  {
   "cell_type": "code",
   "execution_count": null,
   "metadata": {},
   "outputs": [],
   "source": [
    "merge_asian_gwas = pd.merge(loci_sub, asian_gwas_sub, how='left', left_on='RSID', right_on='RSID')\n",
    "print(merge_asian_gwas.shape)\n",
    "print(merge_asian_gwas.tail())"
   ]
  },
  {
   "cell_type": "code",
   "execution_count": null,
   "metadata": {},
   "outputs": [],
   "source": [
    "merge_asian_gwas"
   ]
  },
  {
   "cell_type": "markdown",
   "metadata": {},
   "source": [
    "#### now check for the right allele\n",
    "need to look at beta since we don't have freqs, looks like asian gwas A1 should match EFFECT_ALLELE"
   ]
  },
  {
   "cell_type": "code",
   "execution_count": null,
   "metadata": {},
   "outputs": [],
   "source": [
    "asian_gwas_match=merge_asian_gwas[merge_asian_gwas['EFFECT_ALLELE']==merge_asian_gwas['A1']]\n",
    "print(asian_gwas_match.shape)\n",
    "print(asian_gwas_match.head())"
   ]
  },
  {
   "cell_type": "code",
   "execution_count": null,
   "metadata": {},
   "outputs": [],
   "source": [
    "asian_gwas_mismatch=merge_asian_gwas[merge_asian_gwas['EFFECT_ALLELE']!=merge_asian_gwas['A1']]\n",
    "print(asian_gwas_mismatch.shape)\n",
    "print(asian_gwas_mismatch.tail())"
   ]
  },
  {
   "cell_type": "code",
   "execution_count": null,
   "metadata": {},
   "outputs": [],
   "source": [
    "asian_gwas_mismatch['BETA_y']=-1*asian_gwas_mismatch['BETA_y']"
   ]
  },
  {
   "cell_type": "code",
   "execution_count": null,
   "metadata": {},
   "outputs": [],
   "source": [
    "final_asian_gwas = asian_gwas_match.append(asian_gwas_mismatch)\n",
    "print(final_asian_gwas.shape)\n",
    "print(final_asian_gwas.head())"
   ]
  },
  {
   "cell_type": "code",
   "execution_count": null,
   "metadata": {},
   "outputs": [],
   "source": [
    "#for now no frequencies are available so set to NA\n",
    "final_asian_gwas['maf']=None"
   ]
  },
  {
   "cell_type": "code",
   "execution_count": null,
   "metadata": {},
   "outputs": [],
   "source": []
  },
  {
   "cell_type": "markdown",
   "metadata": {},
   "source": [
    "#### (optional) recalculate the SE if missing\n",
    "\n",
    "P = 2 * pnorm(-ABS(Z))  \n",
    "Z = beta/SE  \n",
    "in python:  \n",
    "P = 2 * norm.cdf(-abs(beta/SE))  \n",
    "or  \n",
    "SE=beta/norm.ppf(P/2)"
   ]
  },
  {
   "cell_type": "code",
   "execution_count": null,
   "metadata": {},
   "outputs": [],
   "source": [
    "no_se = final_asian_gwas[final_asian_gwas['SE']=='#NUM!']\n",
    "no_se"
   ]
  },
  {
   "cell_type": "code",
   "execution_count": null,
   "metadata": {},
   "outputs": [],
   "source": [
    "rsid_to_calc = 'rs11557080'#rs11557080"
   ]
  },
  {
   "cell_type": "code",
   "execution_count": null,
   "metadata": {},
   "outputs": [],
   "source": [
    "beta = final_asian_gwas[final_asian_gwas['RSID']==rsid_to_calc]['BETA_y']\n",
    "P = final_asian_gwas[final_asian_gwas['RSID']==rsid_to_calc]['P']\n",
    "final_asian_gwas['SE'][final_asian_gwas['RSID']==rsid_to_calc] = abs(beta/-norm.ppf(P/2))"
   ]
  },
  {
   "cell_type": "code",
   "execution_count": null,
   "metadata": {},
   "outputs": [],
   "source": [
    "final_asian_gwas[final_asian_gwas['RSID']==rsid_to_calc]"
   ]
  },
  {
   "cell_type": "code",
   "execution_count": null,
   "metadata": {},
   "outputs": [],
   "source": [
    "final_asian_gwas = final_asian_gwas[['RSID','CHR','BP','CHR_BP','maf','BETA_y','SE','P']]\n",
    "final_asian_gwas.columns = ['RSID','CHR','BP','CHR_BP','EFFECT_FREQ','BETA','SE','P']"
   ]
  },
  {
   "cell_type": "code",
   "execution_count": null,
   "metadata": {},
   "outputs": [],
   "source": []
  },
  {
   "cell_type": "code",
   "execution_count": null,
   "metadata": {},
   "outputs": [],
   "source": []
  },
  {
   "cell_type": "code",
   "execution_count": null,
   "metadata": {},
   "outputs": [],
   "source": [
    "\n",
    "print(final_asian_gwas.shape)\n",
    "print(final_asian_gwas.tail(10))\n"
   ]
  },
  {
   "cell_type": "code",
   "execution_count": null,
   "metadata": {},
   "outputs": [],
   "source": [
    "final_asian_gwas.to_excel(writer, sheet_name='Asian_GWAS',index=None)"
   ]
  },
  {
   "cell_type": "markdown",
   "metadata": {},
   "source": [
    "## 6) META5 GWAS"
   ]
  },
  {
   "cell_type": "code",
   "execution_count": null,
   "metadata": {},
   "outputs": [],
   "source": [
    "meta5_gwas = pd.read_csv(f\"{DATADIR}/meta5_sumstats_harmonized.csv\")\n",
    "print(meta5_gwas.shape)\n",
    "print(meta5_gwas.head())"
   ]
  },
  {
   "cell_type": "code",
   "execution_count": null,
   "metadata": {},
   "outputs": [],
   "source": [
    "loci_sub.columns"
   ]
  },
  {
   "cell_type": "code",
   "execution_count": null,
   "metadata": {},
   "outputs": [],
   "source": [
    "meta5_gwas_sub = meta5_gwas[['RSID','REF','ALT','A1','A2','BETA','SE','FREQ','P']]"
   ]
  },
  {
   "cell_type": "code",
   "execution_count": null,
   "metadata": {},
   "outputs": [],
   "source": [
    "loci_sub = loci[['RSID','CHR','BP','CHR_BP','EFFECT_FREQ','EFFECT_ALLELE','OTHER_ALLELE']]"
   ]
  },
  {
   "cell_type": "code",
   "execution_count": null,
   "metadata": {},
   "outputs": [],
   "source": [
    "merge_meta5_gwas = pd.merge(loci_sub, meta5_gwas_sub, how='left', left_on='RSID', right_on='RSID')\n",
    "print(merge_meta5_gwas.shape)\n",
    "print(merge_meta5_gwas.tail())"
   ]
  },
  {
   "cell_type": "code",
   "execution_count": null,
   "metadata": {},
   "outputs": [],
   "source": [
    "print(merge_meta5_gwas.head())"
   ]
  },
  {
   "cell_type": "markdown",
   "metadata": {},
   "source": [
    "#### now check for the right allele"
   ]
  },
  {
   "cell_type": "code",
   "execution_count": null,
   "metadata": {},
   "outputs": [],
   "source": [
    "meta5_gwas_match=merge_meta5_gwas[merge_meta5_gwas['EFFECT_ALLELE']==merge_meta5_gwas['A1']]\n",
    "print(meta5_gwas_match.shape)\n",
    "print(meta5_gwas_match.head())"
   ]
  },
  {
   "cell_type": "code",
   "execution_count": null,
   "metadata": {},
   "outputs": [],
   "source": [
    "meta5_gwas_mismatch=merge_meta5_gwas[merge_meta5_gwas['EFFECT_ALLELE']!=merge_meta5_gwas['A1']]\n",
    "print(meta5_gwas_mismatch.shape)\n",
    "print(meta5_gwas_mismatch.tail())"
   ]
  },
  {
   "cell_type": "code",
   "execution_count": null,
   "metadata": {},
   "outputs": [],
   "source": [
    "meta5_gwas_mismatch['BETA']=-1*meta5_gwas_mismatch['BETA']\n",
    "meta5_gwas_mismatch['FREQ']=1-meta5_gwas_mismatch['FREQ']"
   ]
  },
  {
   "cell_type": "code",
   "execution_count": null,
   "metadata": {},
   "outputs": [],
   "source": []
  },
  {
   "cell_type": "code",
   "execution_count": null,
   "metadata": {},
   "outputs": [],
   "source": [
    "final_meta5_gwas = meta5_gwas_match.append(meta5_gwas_mismatch)\n",
    "\n",
    "print(final_meta5_gwas.shape)\n",
    "print(final_meta5_gwas.head())"
   ]
  },
  {
   "cell_type": "code",
   "execution_count": null,
   "metadata": {},
   "outputs": [],
   "source": [
    "final_meta5_gwas = final_meta5_gwas[['RSID','CHR','BP','CHR_BP','FREQ','BETA','SE','P']]\n",
    "final_meta5_gwas.columns = ['RSID','CHR','BP','CHR_BP','EFFECT_FREQ','BETA','SE','P']"
   ]
  },
  {
   "cell_type": "code",
   "execution_count": null,
   "metadata": {},
   "outputs": [],
   "source": [
    "final_meta5_gwas.to_excel(writer, sheet_name='META5',index=None)"
   ]
  },
  {
   "cell_type": "markdown",
   "metadata": {},
   "source": [
    "## 7) Jansen et al 2019 Alzheimer's Disease GWAS"
   ]
  },
  {
   "cell_type": "code",
   "execution_count": null,
   "metadata": {},
   "outputs": [],
   "source": [
    "\n",
    "#ad = pd.read_csv('$PATH/summary_stats/Jansen_2019/AD_sumstats_Jansenetal.txt.gz', sep='\\t| ')\n",
    "ad = pd.read_csv('$PATH/AppDataProcessing/othersummarystats/AD_sumstats_Jansenetal_2019sept.txt.gz', sep='\\t| ')\n",
    "print(ad.shape)\n",
    "print(ad.head())"
   ]
  },
  {
   "cell_type": "code",
   "execution_count": null,
   "metadata": {},
   "outputs": [],
   "source": [
    "colnames = [name for name in ad.columns if 'Unnamed' not in name]\n",
    "colnames"
   ]
  },
  {
   "cell_type": "code",
   "execution_count": null,
   "metadata": {},
   "outputs": [],
   "source": [
    "ad_temp = ad.iloc[:,0:14]\n",
    "ad_temp.columns = colnames\n",
    "ad_temp.head()"
   ]
  },
  {
   "cell_type": "code",
   "execution_count": null,
   "metadata": {},
   "outputs": [],
   "source": [
    "ad_sub = ad[['SNP','A1','A2','EAF','BETA','SE','P']]"
   ]
  },
  {
   "cell_type": "code",
   "execution_count": null,
   "metadata": {},
   "outputs": [],
   "source": [
    "print(loci_sub.head())"
   ]
  },
  {
   "cell_type": "code",
   "execution_count": null,
   "metadata": {},
   "outputs": [],
   "source": [
    "merge_ad = pd.merge(loci_sub, ad_sub, left_on = 'RSID', right_on = 'SNP',how='left')\n",
    "print(merge_ad.shape)\n",
    "print(merge_ad.head())"
   ]
  },
  {
   "cell_type": "markdown",
   "metadata": {},
   "source": [
    "#### AD sum stats are already calculated by minor allele, so nothing extra needs to be done"
   ]
  },
  {
   "cell_type": "code",
   "execution_count": null,
   "metadata": {},
   "outputs": [],
   "source": [
    "final_ad = merge_ad[['RSID','CHR','BP','CHR_BP','EAF','BETA','SE','P']]\n",
    "final_ad.columns = ['RSID','CHR','BP','CHR_BP','EFFECT_FREQ','BETA','SE','P']"
   ]
  },
  {
   "cell_type": "code",
   "execution_count": null,
   "metadata": {},
   "outputs": [],
   "source": [
    "print(final_ad.shape)\n",
    "print(final_ad.head())\n",
    "\n"
   ]
  },
  {
   "cell_type": "code",
   "execution_count": null,
   "metadata": {},
   "outputs": [],
   "source": [
    "final_ad.to_excel(writer, sheet_name='AD',index=None)"
   ]
  },
  {
   "cell_type": "markdown",
   "metadata": {},
   "source": [
    "## 8) Nicolas et al. 2018 Amyotrophic Lateral Sclerosis GWAS"
   ]
  },
  {
   "cell_type": "code",
   "execution_count": null,
   "metadata": {},
   "outputs": [],
   "source": [
    "als = pd.read_csv(\"$PATH/summary_stats/Nicolas_2017/alsMetaSummaryStats_march21st2018.tab.zip\", sep=\"\\t\")\n",
    "print(als.shape)\n",
    "print(als.head())\n"
   ]
  },
  {
   "cell_type": "code",
   "execution_count": null,
   "metadata": {},
   "outputs": [],
   "source": [
    "als_sub = als[['SNP','Allele1','Allele2','effectAlleleFreq','Effect','StdErr','P']]"
   ]
  },
  {
   "cell_type": "code",
   "execution_count": null,
   "metadata": {},
   "outputs": [],
   "source": [
    "merge_als = pd.merge(loci_sub, als_sub, left_on='CHR_BP',right_on = 'SNP',how='left')\n",
    "print(merge_als.shape)\n",
    "print(merge_als.head())"
   ]
  },
  {
   "cell_type": "markdown",
   "metadata": {},
   "source": [
    "#### now check for the right allele\n",
    "looks like Allele1 from als should match EFFECT_ALLELE"
   ]
  },
  {
   "cell_type": "code",
   "execution_count": null,
   "metadata": {},
   "outputs": [],
   "source": [
    "als_match=merge_als[merge_als['EFFECT_ALLELE']==merge_als['Allele1'].str.upper()]\n",
    "print(als_match.shape)\n",
    "print(als_match.head())"
   ]
  },
  {
   "cell_type": "code",
   "execution_count": null,
   "metadata": {},
   "outputs": [],
   "source": [
    "als_mismatch=merge_als[merge_als['EFFECT_ALLELE']!=merge_als['Allele1'].str.upper()]\n",
    "print(als_mismatch.shape)\n",
    "print(als_mismatch.head())"
   ]
  },
  {
   "cell_type": "code",
   "execution_count": null,
   "metadata": {},
   "outputs": [],
   "source": [
    "als_mismatch['Allele1']=als_mismatch['EFFECT_ALLELE']\n",
    "als_mismatch['Allele2']=als_mismatch['OTHER_ALLELE']\n",
    "als_mismatch['effectAlleleFreq']=1-als_mismatch['effectAlleleFreq']\n",
    "als_mismatch['Effect']=-1*als_mismatch['Effect']"
   ]
  },
  {
   "cell_type": "code",
   "execution_count": null,
   "metadata": {},
   "outputs": [],
   "source": [
    "final_als=als_mismatch.append(als_match)\n",
    "print(final_als.shape)\n",
    "print(final_als.head())"
   ]
  },
  {
   "cell_type": "code",
   "execution_count": null,
   "metadata": {},
   "outputs": [],
   "source": [
    "final_als = final_als[['RSID','CHR','BP','CHR_BP','effectAlleleFreq','Effect','StdErr','P']]\n",
    "final_als.columns = ['RSID','CHR','BP','CHR_BP','EFFECT_FREQ','BETA','SE','P']"
   ]
  },
  {
   "cell_type": "code",
   "execution_count": null,
   "metadata": {},
   "outputs": [],
   "source": [
    "print(final_als.shape)\n",
    "print(final_als.head())\n",
    "\n"
   ]
  },
  {
   "cell_type": "code",
   "execution_count": null,
   "metadata": {},
   "outputs": [],
   "source": [
    "final_als.to_excel(writer, sheet_name='ALS',index=None)"
   ]
  },
  {
   "cell_type": "markdown",
   "metadata": {},
   "source": [
    "## 9) Loesch et al. 2020 Latin America GWAS"
   ]
  },
  {
   "cell_type": "code",
   "execution_count": null,
   "metadata": {},
   "outputs": [],
   "source": [
    "#reading in hg38\n",
    "la = pd.read_csv(\"$PATH/LARGE_PD/large.assoc_single.ALL.04302020.txt\", sep=\"\\t\")\n",
    "print(la.shape)\n",
    "print(la.head())\n"
   ]
  },
  {
   "cell_type": "code",
   "execution_count": null,
   "metadata": {},
   "outputs": [],
   "source": [
    "la['chrbp']=la['#SNP'].str.split(\":\").str[0].str.replace(\"chr\",\"\")+\":\"+la['#SNP'].str.split(\":\").str[1]\n",
    "print(la.head())"
   ]
  },
  {
   "cell_type": "code",
   "execution_count": null,
   "metadata": {},
   "outputs": [],
   "source": [
    "#read in hg19 conversion coordinates\n",
    "la_conv = pd.read_table(\"$PATH/AppDataProcessing/othersummarystats/large_gwas_all_pos_only.hg19.noUnmap.tsv\",header=None)\n",
    "la_conv.columns = ['chr_38','bp_38','drop1','drop2','chr_19','bp_19','drop3']\n",
    "la_conv['chrbp38']=la_conv['chr_38'].astype(str)+\":\"+la_conv['bp_38'].astype(str)\n",
    "la_conv['chrbp19']=la_conv['chr_19'].astype(str)+\":\"+la_conv['bp_19'].astype(str)\n",
    "la_conv = la_conv[['chrbp38','chrbp19']]\n",
    "\n",
    "print(la_conv.shape)\n",
    "print(la_conv.head())\n"
   ]
  },
  {
   "cell_type": "code",
   "execution_count": null,
   "metadata": {},
   "outputs": [],
   "source": [
    "merge_pos = pd.merge(left = la, right = la_conv, left_on = \"chrbp\", right_on = \"chrbp38\", how = \"left\")\n",
    "print(merge_pos.shape)\n",
    "print(merge_pos.head())"
   ]
  },
  {
   "cell_type": "code",
   "execution_count": null,
   "metadata": {},
   "outputs": [],
   "source": [
    "merge_pos['SE']=1/merge_pos['Score.SE']\n",
    "print(merge_pos.head())"
   ]
  },
  {
   "cell_type": "code",
   "execution_count": null,
   "metadata": {},
   "outputs": [],
   "source": []
  },
  {
   "cell_type": "code",
   "execution_count": null,
   "metadata": {},
   "outputs": [],
   "source": []
  },
  {
   "cell_type": "code",
   "execution_count": null,
   "metadata": {},
   "outputs": [],
   "source": [
    "la_sub = merge_pos[['chrbp19','ref','alt','freq','beta','SE','Score.pval']]"
   ]
  },
  {
   "cell_type": "code",
   "execution_count": null,
   "metadata": {},
   "outputs": [],
   "source": [
    "loci_sub.head()"
   ]
  },
  {
   "cell_type": "code",
   "execution_count": null,
   "metadata": {},
   "outputs": [],
   "source": [
    "merge_la = pd.merge(loci_sub, la_sub, left_on='CHR_BP',right_on = 'chrbp19',how='left')\n",
    "print(merge_la.shape)\n",
    "print(merge_la.head())"
   ]
  },
  {
   "cell_type": "code",
   "execution_count": null,
   "metadata": {},
   "outputs": [],
   "source": [
    "merge_la.head(20)"
   ]
  },
  {
   "cell_type": "code",
   "execution_count": null,
   "metadata": {},
   "outputs": [],
   "source": [
    "merge_la.tail(20)"
   ]
  },
  {
   "cell_type": "markdown",
   "metadata": {},
   "source": [
    "#### now check for the right allele\n",
    "looks like ref from la should match OTHER_ALLELE"
   ]
  },
  {
   "cell_type": "code",
   "execution_count": null,
   "metadata": {},
   "outputs": [],
   "source": [
    "la_match=merge_la[merge_la['OTHER_ALLELE']==merge_la['ref'].str.upper()]\n",
    "print(la_match.shape)\n",
    "print(la_match.head())"
   ]
  },
  {
   "cell_type": "code",
   "execution_count": null,
   "metadata": {},
   "outputs": [],
   "source": [
    "la_mismatch=merge_la[merge_la['OTHER_ALLELE']!=merge_la['ref'].str.upper()]\n",
    "print(la_mismatch.shape)\n",
    "print(la_mismatch.head())"
   ]
  },
  {
   "cell_type": "code",
   "execution_count": null,
   "metadata": {},
   "outputs": [],
   "source": [
    "la_mismatch['freq']=1-la_mismatch['freq']\n",
    "la_mismatch['beta']=-1*la_mismatch['beta']"
   ]
  },
  {
   "cell_type": "code",
   "execution_count": null,
   "metadata": {},
   "outputs": [],
   "source": [
    "final_la=la_mismatch.append(la_match)\n",
    "print(final_la.shape)\n",
    "print(final_la.head())"
   ]
  },
  {
   "cell_type": "code",
   "execution_count": null,
   "metadata": {},
   "outputs": [],
   "source": [
    "final_la = final_la[['RSID','CHR','BP','CHR_BP','freq','beta','SE','Score.pval']]\n",
    "final_la.columns = ['RSID','CHR','BP','CHR_BP','EFFECT_FREQ','BETA','SE','P']"
   ]
  },
  {
   "cell_type": "code",
   "execution_count": null,
   "metadata": {},
   "outputs": [],
   "source": [
    "print(final_la.shape)\n",
    "print(final_la.head())\n"
   ]
  },
  {
   "cell_type": "code",
   "execution_count": null,
   "metadata": {},
   "outputs": [],
   "source": [
    "final_la.to_csv(\"$PATH/AppDataProcessing/othersummarystats/LATAM.csv\",index=None)"
   ]
  },
  {
   "cell_type": "code",
   "execution_count": null,
   "metadata": {},
   "outputs": [],
   "source": [
    "final_la.to_excel(writer, sheet_name='LATAM',index=None)"
   ]
  },
  {
   "cell_type": "markdown",
   "metadata": {},
   "source": [
    "## 10) Blauwendraat et al. 2021 Male GWAS and Female GWAS"
   ]
  },
  {
   "cell_type": "code",
   "execution_count": null,
   "metadata": {},
   "outputs": [],
   "source": [
    "#reading in hg38\n",
    "#sexgwas = pd.read_csv(\"/$PATH/summary_stats/sex_specific/FEMALE/FEMALE_PD_filtered_sumstats_no_multi_allelics_RSID.txt\", sep=\"\\t\")\n",
    "sexgwas = pd.read_csv(\"$PATH/summary_stats/sex_specific/MALE/MALE_PD_filtered_sumstats_no_multi_allelics_RSID.txt\", sep=\"\\t\")\n",
    "print(sexgwas.shape)\n",
    "print(sexgwas.head())"
   ]
  },
  {
   "cell_type": "code",
   "execution_count": null,
   "metadata": {},
   "outputs": [],
   "source": [
    "sexgwas_sub = sexgwas[['ID','REF','ALT','MarkerName','Freq1','Effect','StdErr','P-value','Allele1','Allele2']]"
   ]
  },
  {
   "cell_type": "code",
   "execution_count": null,
   "metadata": {},
   "outputs": [],
   "source": [
    "sexgwas_sub.head()"
   ]
  },
  {
   "cell_type": "code",
   "execution_count": null,
   "metadata": {},
   "outputs": [],
   "source": [
    "merge_sexgwas = pd.merge(loci_sub, sexgwas_sub, left_on='CHR_BP',right_on = 'MarkerName',how='left')\n",
    "print(merge_sexgwas.shape)\n",
    "print(merge_sexgwas.head())"
   ]
  },
  {
   "cell_type": "code",
   "execution_count": null,
   "metadata": {},
   "outputs": [],
   "source": [
    "merge_sexgwas.tail()"
   ]
  },
  {
   "cell_type": "markdown",
   "metadata": {},
   "source": [
    "#### now check for the right allele\n",
    "looks like Allele1 from sex gwas should match EFFECT_ALLELE"
   ]
  },
  {
   "cell_type": "code",
   "execution_count": null,
   "metadata": {},
   "outputs": [],
   "source": [
    "sexgwas_match=merge_sexgwas[merge_sexgwas['EFFECT_ALLELE']==merge_sexgwas['Allele1'].str.upper()]\n",
    "print(sexgwas_match.shape)\n",
    "print(sexgwas_match.head())"
   ]
  },
  {
   "cell_type": "code",
   "execution_count": null,
   "metadata": {},
   "outputs": [],
   "source": [
    "sexgwas_mismatch=merge_sexgwas[merge_sexgwas['EFFECT_ALLELE']!=merge_sexgwas['Allele1'].str.upper()]\n",
    "print(sexgwas_mismatch.shape)\n",
    "print(sexgwas_mismatch.head())"
   ]
  },
  {
   "cell_type": "code",
   "execution_count": null,
   "metadata": {},
   "outputs": [],
   "source": [
    "sexgwas_mismatch['Freq1']=1-sexgwas_mismatch['Freq1']\n",
    "sexgwas_mismatch['Effect']=-1*sexgwas_mismatch['Effect']"
   ]
  },
  {
   "cell_type": "code",
   "execution_count": null,
   "metadata": {},
   "outputs": [],
   "source": [
    "final_sexgwas=sexgwas_mismatch.append(sexgwas_match)\n",
    "print(final_sexgwas.shape)\n",
    "print(final_sexgwas.head())"
   ]
  },
  {
   "cell_type": "code",
   "execution_count": null,
   "metadata": {},
   "outputs": [],
   "source": [
    "final_sexgwas = final_sexgwas[['RSID','CHR','BP','CHR_BP','Freq1','Effect','StdErr','P-value']]\n",
    "final_sexgwas.columns = ['RSID','CHR','BP','CHR_BP','EFFECT_FREQ','BETA','SE','P']"
   ]
  },
  {
   "cell_type": "code",
   "execution_count": null,
   "metadata": {},
   "outputs": [],
   "source": [
    "print(final_sexgwas.shape)\n",
    "print(final_sexgwas.head())\n"
   ]
  },
  {
   "cell_type": "code",
   "execution_count": null,
   "metadata": {},
   "outputs": [],
   "source": [
    "#final_sexgwas.to_csv(\"$PATH/AppDataProcessing/othersummarystats/Female_PD_GWAS.csv\",index=None)\n",
    "final_sexgwas.to_csv(\"$PATH/AppDataProcessing/othersummarystats/Male_PD_GWAS.csv\",index=None)"
   ]
  },
  {
   "cell_type": "code",
   "execution_count": null,
   "metadata": {},
   "outputs": [],
   "source": [
    "#final_sexgwas.to_excel(writer, sheet_name='Female_PD',index=None)\n",
    "final_sexgwas.to_excel(writer, sheet_name='Male_PD',index=None)"
   ]
  },
  {
   "cell_type": "code",
   "execution_count": null,
   "metadata": {},
   "outputs": [],
   "source": []
  },
  {
   "cell_type": "markdown",
   "metadata": {},
   "source": [
    "## 11) Chia et al. 2021 Lewy Body Dementia GWAS"
   ]
  },
  {
   "cell_type": "code",
   "execution_count": null,
   "metadata": {},
   "outputs": [],
   "source": [
    "#reading in hg38\n",
    "#sexgwas = pd.read_csv(\"$PATH/summary_stats/sex_specific/FEMALE/FEMALE_PD_filtered_sumstats_no_multi_allelics_RSID.txt\", sep=\"\\t\")\n",
    "lbdgwas = pd.read_csv(\"$PATH/AppDataProcessing/othersummarystats/LBD_GWAS_GCST90001390_buildGRCh38.tsv.gz\", sep=\"\\t\")\n",
    "print(lbdgwas.shape)\n",
    "print(lbdgwas.head())"
   ]
  },
  {
   "cell_type": "code",
   "execution_count": null,
   "metadata": {},
   "outputs": [],
   "source": [
    "loci_sub.head()"
   ]
  },
  {
   "cell_type": "code",
   "execution_count": null,
   "metadata": {},
   "outputs": [],
   "source": [
    "merge_lbdgwas = pd.merge(loci_sub, lbdgwas, left_on='RSID',right_on = 'variant_id',how='left')\n",
    "print(merge_lbdgwas.shape)\n",
    "print(merge_lbdgwas.head())"
   ]
  },
  {
   "cell_type": "code",
   "execution_count": null,
   "metadata": {},
   "outputs": [],
   "source": [
    "merge_lbdgwas.tail()"
   ]
  },
  {
   "cell_type": "code",
   "execution_count": null,
   "metadata": {},
   "outputs": [],
   "source": [
    "merge_lbdgwas.iloc[5:15,:]"
   ]
  },
  {
   "cell_type": "markdown",
   "metadata": {},
   "source": [
    "#### now check for the right allele\n",
    "looks like effect_allele from lbd gwas should match EFFECT_ALLELE"
   ]
  },
  {
   "cell_type": "code",
   "execution_count": null,
   "metadata": {},
   "outputs": [],
   "source": [
    "lbdgwas_match=merge_lbdgwas[merge_lbdgwas['EFFECT_ALLELE']==merge_lbdgwas['effect_allele'].str.upper()]\n",
    "print(lbdgwas_match.shape)\n",
    "print(lbdgwas_match.head())"
   ]
  },
  {
   "cell_type": "code",
   "execution_count": null,
   "metadata": {},
   "outputs": [],
   "source": [
    "lbdgwas_mismatch=merge_lbdgwas[merge_lbdgwas['EFFECT_ALLELE']!=merge_lbdgwas['effect_allele'].str.upper()]\n",
    "print(lbdgwas_mismatch.shape)\n",
    "print(lbdgwas_mismatch.head())"
   ]
  },
  {
   "cell_type": "code",
   "execution_count": null,
   "metadata": {},
   "outputs": [],
   "source": [
    "lbdgwas_mismatch['effect_allele_frequency']=1-lbdgwas_mismatch['effect_allele_frequency']\n",
    "lbdgwas_mismatch['beta']=-1*lbdgwas_mismatch['beta']"
   ]
  },
  {
   "cell_type": "code",
   "execution_count": null,
   "metadata": {},
   "outputs": [],
   "source": [
    "final_lbdgwas=lbdgwas_mismatch.append(lbdgwas_match)\n",
    "print(final_lbdgwas.shape)\n",
    "print(final_lbdgwas.head())"
   ]
  },
  {
   "cell_type": "code",
   "execution_count": null,
   "metadata": {},
   "outputs": [],
   "source": [
    "final_lbdgwas = final_lbdgwas[['RSID','CHR','BP','CHR_BP','effect_allele_frequency','beta','standard_error','p_value']]\n",
    "final_lbdgwas.columns = ['RSID','CHR','BP','CHR_BP','EFFECT_FREQ','BETA','SE','P']"
   ]
  },
  {
   "cell_type": "code",
   "execution_count": null,
   "metadata": {},
   "outputs": [],
   "source": [
    "print(final_lbdgwas.shape)\n",
    "print(final_lbdgwas.head())"
   ]
  },
  {
   "cell_type": "code",
   "execution_count": null,
   "metadata": {},
   "outputs": [],
   "source": [
    "#final_sexgwas.to_csv(\"$PATH/AppDataProcessing/othersummarystats/Female_PD_GWAS.csv\",index=None)\n",
    "final_lbdgwas.to_csv(\"$PATH/AppDataProcessing/othersummarystats/LBD_GWAS.csv\",index=None)"
   ]
  },
  {
   "cell_type": "code",
   "execution_count": null,
   "metadata": {},
   "outputs": [],
   "source": [
    "#final_sexgwas.to_excel(writer, sheet_name='Female_PD',index=None)\n",
    "final_lbdgwas.to_excel(writer, sheet_name='LBD_GWAS',index=None)"
   ]
  },
  {
   "cell_type": "code",
   "execution_count": null,
   "metadata": {},
   "outputs": [],
   "source": []
  },
  {
   "cell_type": "code",
   "execution_count": null,
   "metadata": {},
   "outputs": [],
   "source": []
  },
  {
   "cell_type": "code",
   "execution_count": null,
   "metadata": {},
   "outputs": [],
   "source": []
  },
  {
   "cell_type": "code",
   "execution_count": null,
   "metadata": {},
   "outputs": [],
   "source": [
    "writer.save()"
   ]
  },
  {
   "cell_type": "code",
   "execution_count": null,
   "metadata": {},
   "outputs": [],
   "source": []
  }
 ],
 "metadata": {
  "kernelspec": {
   "display_name": "Python 3",
   "language": "python",
   "name": "python3"
  },
  "language_info": {
   "codemirror_mode": {
    "name": "ipython",
    "version": 3
   },
   "file_extension": ".py",
   "mimetype": "text/x-python",
   "name": "python",
   "nbconvert_exporter": "python",
   "pygments_lexer": "ipython3",
   "version": "3.7.3"
  }
 },
 "nbformat": 4,
 "nbformat_minor": 4
}
