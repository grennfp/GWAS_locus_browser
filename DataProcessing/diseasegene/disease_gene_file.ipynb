{
 "cells": [
  {
   "cell_type": "markdown",
   "metadata": {},
   "source": [
    "# Disease Gene Data\n",
    "- **Author** - Frank Grenn\n",
    "- **Date Started** - April 2020\n",
    "- **Quick Description:** get OMIM and HGMD disease gene data in one file.  \n",
    "\n",
    "## NOTE:\n",
    "### turns out that the disease gene data file we generated for the app accounts for all genes from omim/hgmd. so shouldn't need to rerun anything"
   ]
  },
  {
   "cell_type": "code",
   "execution_count": null,
   "metadata": {},
   "outputs": [],
   "source": [
    "import pandas as pd"
   ]
  },
  {
   "cell_type": "code",
   "execution_count": null,
   "metadata": {},
   "outputs": [],
   "source": [
    "DATADIR= \"$PATH/AppDataProcessing\"\n",
    "WRKDIR = f\"{DATADIR}/diseasegene\""
   ]
  },
  {
   "cell_type": "code",
   "execution_count": null,
   "metadata": {},
   "outputs": [],
   "source": [
    "genes_by_locus = pd.read_csv(f\"{DATADIR}/genes_by_locus.csv\")\n",
    "print(genes_by_locus.shape)\n",
    "print(genes_by_locus.head())"
   ]
  },
  {
   "cell_type": "code",
   "execution_count": null,
   "metadata": {},
   "outputs": [],
   "source": [
    "hgmd = pd.read_excel(f'{WRKDIR}/Disease genes/HGMD crawl - disease and gene based - v4.xlsx')\n",
    "print(hgmd.shape)\n",
    "print(hgmd.head())"
   ]
  },
  {
   "cell_type": "code",
   "execution_count": null,
   "metadata": {},
   "outputs": [],
   "source": [
    "hgmd.columns"
   ]
  },
  {
   "cell_type": "code",
   "execution_count": null,
   "metadata": {},
   "outputs": [],
   "source": [
    "len(set(hgmd['Gene symbol']))"
   ]
  },
  {
   "cell_type": "code",
   "execution_count": null,
   "metadata": {},
   "outputs": [],
   "source": [
    "hgmd_merged = pd.merge(left = genes_by_locus, right = hgmd, left_on = 'Gene', right_on = 'Gene symbol', how = 'inner')\n",
    "print(hgmd_merged.shape)\n",
    "print(hgmd_merged.head())"
   ]
  },
  {
   "cell_type": "code",
   "execution_count": null,
   "metadata": {},
   "outputs": [],
   "source": [
    "set(hgmd_merged['Variant class'])"
   ]
  },
  {
   "cell_type": "code",
   "execution_count": null,
   "metadata": {},
   "outputs": [],
   "source": [
    "len(set(hgmd[hgmd['Variant class']=='DM']['Gene symbol']))"
   ]
  },
  {
   "cell_type": "code",
   "execution_count": null,
   "metadata": {},
   "outputs": [],
   "source": [
    "hgmd_merged_dm = hgmd_merged[hgmd_merged['Variant class']=='DM']\n",
    "print(hgmd_merged_dm.shape)\n",
    "print(hgmd_merged_dm.head())"
   ]
  },
  {
   "cell_type": "code",
   "execution_count": null,
   "metadata": {},
   "outputs": [],
   "source": [
    "len(set(hgmd_merged['Gene symbol']))"
   ]
  },
  {
   "cell_type": "code",
   "execution_count": null,
   "metadata": {},
   "outputs": [],
   "source": [
    "test  = pd.read_csv(f\"{WRKDIR}/HGMD_gene_pheno.csv\")\n",
    "test_genes = list(set(test['GENE']))\n",
    "print(test.shape)\n",
    "print(test.head())"
   ]
  },
  {
   "cell_type": "code",
   "execution_count": null,
   "metadata": {},
   "outputs": [],
   "source": [
    "len(test_genes)"
   ]
  },
  {
   "cell_type": "code",
   "execution_count": null,
   "metadata": {},
   "outputs": [],
   "source": [
    "df = pd.DataFrame(data={'Gene':test_genes})"
   ]
  },
  {
   "cell_type": "code",
   "execution_count": null,
   "metadata": {},
   "outputs": [],
   "source": [
    "df.head()"
   ]
  },
  {
   "cell_type": "code",
   "execution_count": null,
   "metadata": {},
   "outputs": [],
   "source": []
  },
  {
   "cell_type": "code",
   "execution_count": null,
   "metadata": {},
   "outputs": [],
   "source": [
    "#check results file\n",
    "res = pd.read_csv(f\"{DATADIR}/results/DiseaseGeneData.txt\",sep=\"\\t\")\n",
    "print(res.shape)\n",
    "print(res.head())"
   ]
  },
  {
   "cell_type": "code",
   "execution_count": null,
   "metadata": {},
   "outputs": [],
   "source": [
    "res_h = res[['Gene','HGMD']].dropna()\n",
    "print(res_h.shape)\n",
    "print(len(set(res_h['Gene'])))"
   ]
  },
  {
   "cell_type": "code",
   "execution_count": null,
   "metadata": {},
   "outputs": [],
   "source": [
    "test_merged = pd.merge(left = res_h, right = genes_by_locus, left_on = 'Gene', right_on = 'Gene', how = 'inner')\n",
    "print(test_merged.shape)\n",
    "print(test_merged.head())"
   ]
  },
  {
   "cell_type": "markdown",
   "metadata": {},
   "source": [
    "## OMIM"
   ]
  },
  {
   "cell_type": "code",
   "execution_count": null,
   "metadata": {},
   "outputs": [],
   "source": [
    "genemap2 = pd.read_csv(f\"{WRKDIR}/Disease genes/omim/genemap2.txt\",sep='\\t',skiprows=3)\n",
    "print(genemap2.shape)\n",
    "print(genemap2.head(10))"
   ]
  },
  {
   "cell_type": "code",
   "execution_count": null,
   "metadata": {},
   "outputs": [],
   "source": [
    "mim2gene = pd.read_csv(f\"{WRKDIR}/Disease genes/omim/mim2gene.txt\",sep='\\t',skiprows=4)\n",
    "print(mim2gene.shape)\n",
    "print(mim2gene.head(3))"
   ]
  },
  {
   "cell_type": "code",
   "execution_count": null,
   "metadata": {},
   "outputs": [],
   "source": [
    "mimTitles = pd.read_csv(f\"{WRKDIR}/Disease genes/omim/mimTitles.txt\",sep='\\t',skiprows=2)\n",
    "print(mimTitles.shape)\n",
    "print(mimTitles.head(3))"
   ]
  },
  {
   "cell_type": "code",
   "execution_count": null,
   "metadata": {},
   "outputs": [],
   "source": [
    "morbidmap = pd.read_csv(f\"{WRKDIR}/Disease genes/omim/morbidmap.txt\",sep='\\t',skiprows=3)\n",
    "morbidmap = morbidmap.head(7692)\n",
    "print(morbidmap.shape)\n",
    "print(morbidmap.tail(10))"
   ]
  },
  {
   "cell_type": "code",
   "execution_count": null,
   "metadata": {},
   "outputs": [],
   "source": [
    "morbidmap.columns=['phenotype','gene','mimnum','cytoloc']"
   ]
  },
  {
   "cell_type": "code",
   "execution_count": null,
   "metadata": {},
   "outputs": [],
   "source": [
    "print(morbidmap.head())"
   ]
  },
  {
   "cell_type": "code",
   "execution_count": null,
   "metadata": {},
   "outputs": [],
   "source": [
    "morbidmap['pheno']=morbidmap.phenotype.str.split(\"(.) \\d+ \\(.\\)\",expand=True)\n",
    "morbidmap['id']=morbidmap.phenotype.str.split(\"(\\d*) \\(.\\)$\",expand=True)"
   ]
  },
  {
   "cell_type": "code",
   "execution_count": null,
   "metadata": {},
   "outputs": [],
   "source": [
    "morbidmap.head()"
   ]
  },
  {
   "cell_type": "code",
   "execution_count": null,
   "metadata": {},
   "outputs": [],
   "source": [
    "morbidmap['phenotype']"
   ]
  },
  {
   "cell_type": "code",
   "execution_count": null,
   "metadata": {},
   "outputs": [],
   "source": [
    "morbidmap['pheno']"
   ]
  },
  {
   "cell_type": "code",
   "execution_count": null,
   "metadata": {},
   "outputs": [],
   "source": [
    "morbidmap['pheno']=morbidmap['phenotype'].str.split(\" \",expand=True)[0:len(morbidmap['phenotype'].str.split(\" \",expand=True))-1]#[0:len(morbidmap.phenotype.str.split(\" \",expand=True))-2]"
   ]
  },
  {
   "cell_type": "code",
   "execution_count": null,
   "metadata": {},
   "outputs": [],
   "source": [
    "morbidmap['phenotype'].str.split(\" \",expand=True)"
   ]
  },
  {
   "cell_type": "code",
   "execution_count": null,
   "metadata": {},
   "outputs": [],
   "source": [
    "print(morbidmap.head())"
   ]
  },
  {
   "cell_type": "code",
   "execution_count": null,
   "metadata": {},
   "outputs": [],
   "source": []
  },
  {
   "cell_type": "code",
   "execution_count": null,
   "metadata": {},
   "outputs": [],
   "source": [
    "res_o = res[['Gene','OMIM']].dropna()\n",
    "print(res_o.shape)\n",
    "print(res_o.head())\n",
    "print(len(set(res_o['Gene'])))"
   ]
  },
  {
   "cell_type": "code",
   "execution_count": null,
   "metadata": {},
   "outputs": [],
   "source": [
    "res_o[res_o['Gene']=='ADAR'].iloc[0,1]"
   ]
  },
  {
   "cell_type": "code",
   "execution_count": null,
   "metadata": {},
   "outputs": [],
   "source": []
  }
 ],
 "metadata": {
  "kernelspec": {
   "display_name": "Python 3",
   "language": "python",
   "name": "python3"
  },
  "language_info": {
   "codemirror_mode": {
    "name": "ipython",
    "version": 3
   },
   "file_extension": ".py",
   "mimetype": "text/x-python",
   "name": "python",
   "nbconvert_exporter": "python",
   "pygments_lexer": "ipython3",
   "version": "3.7.3"
  }
 },
 "nbformat": 4,
 "nbformat_minor": 4
}
