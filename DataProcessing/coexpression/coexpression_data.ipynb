{
 "cells": [
  {
   "cell_type": "markdown",
   "metadata": {},
   "source": [
    "# Get CoExpression Data for Browser\n",
    "- **Author(s)** - Teresa Perinan, Kajsa Brolin, Frank Grenn\n",
    "- **Date Started** - June 2020\n",
    "- **Quick Description:** filter the coexpression data for genes in the browser and combine the column types"
   ]
  },
  {
   "cell_type": "code",
   "execution_count": null,
   "metadata": {},
   "outputs": [],
   "source": [
    "import pandas as pd\n",
    "import numpy as np"
   ]
  },
  {
   "cell_type": "code",
   "execution_count": null,
   "metadata": {},
   "outputs": [],
   "source": [
    "DATADIR = '$PATH/AppDataProcessing'\n",
    "WRKDIR = f\"{DATADIR}/coexpression\"\n"
   ]
  },
  {
   "cell_type": "code",
   "execution_count": null,
   "metadata": {},
   "outputs": [],
   "source": [
    "# Read evidence genes\n",
    "\n",
    "genes = pd.read_csv(f\"{DATADIR}/genes_by_locus.csv\", sep=\",\")\n",
    "print(genes.shape)\n",
    "print(genes.head())\n"
   ]
  },
  {
   "cell_type": "code",
   "execution_count": null,
   "metadata": {},
   "outputs": [],
   "source": [
    "# Read coexpression data\n",
    "\n",
    "#g2pml = pd.read_csv(f\"{WRKDIR}/G2PMLData4IPDGC.csv\", sep=\",\")\n",
    "g2pml = pd.read_csv(f\"{WRKDIR}/Genes_g2pml_present_genes_by_locus.csv\", sep=\",\")\n",
    "print(g2pml.shape)\n",
    "print(g2pml.head())"
   ]
  },
  {
   "cell_type": "code",
   "execution_count": null,
   "metadata": {},
   "outputs": [],
   "source": [
    "\n",
    "# Merge evidence genes and coexpression data\n",
    "\n",
    "#merged = pd.merge(left = genes, right = g2pml, left_on=\"GENE\", right_on = 'gene')\n",
    "merged = pd.merge(left = genes, right = g2pml, on = ['GENE','GWAS','LOC_NUM'])\n",
    "print(merged.shape)\n",
    "#print(merged.head())\n",
    "#merged.to_csv(\"coexpression/Genes_g2pml_present_genes_by_locus.csv\", index=False, sep=\";\")"
   ]
  },
  {
   "cell_type": "code",
   "execution_count": null,
   "metadata": {},
   "outputs": [],
   "source": [
    "merged.head()"
   ]
  },
  {
   "cell_type": "code",
   "execution_count": null,
   "metadata": {},
   "outputs": [],
   "source": []
  },
  {
   "cell_type": "markdown",
   "metadata": {},
   "source": [
    "### group the columns"
   ]
  },
  {
   "cell_type": "code",
   "execution_count": null,
   "metadata": {},
   "outputs": [],
   "source": [
    "expstr = 'Expression'\n",
    "adjstr = 'Adjacency'\n",
    "mmstr = 'Module Membership'"
   ]
  },
  {
   "cell_type": "code",
   "execution_count": null,
   "metadata": {},
   "outputs": [],
   "source": [
    "#expcols = [name for name in merged.columns if 'ExprSpecific' in name]\n",
    "expcols = [name for name in merged.columns if expstr in name]\n",
    "print(len(expcols))"
   ]
  },
  {
   "cell_type": "code",
   "execution_count": null,
   "metadata": {},
   "outputs": [],
   "source": [
    "expcols[0:4]"
   ]
  },
  {
   "cell_type": "code",
   "execution_count": null,
   "metadata": {},
   "outputs": [],
   "source": [
    "#adjcols = [name for name in merged.columns if 'AdjSpecificAdj' in name]\n",
    "adjcols = [name for name in merged.columns if adjstr in name]\n",
    "print(len(adjcols))"
   ]
  },
  {
   "cell_type": "code",
   "execution_count": null,
   "metadata": {},
   "outputs": [],
   "source": [
    "#mmcols = [name for name in merged.columns if 'RankedMMSpecific' in name]\n",
    "mmcols = [name for name in merged.columns if mmstr in name]\n",
    "print(len(mmcols))"
   ]
  },
  {
   "cell_type": "markdown",
   "metadata": {},
   "source": [
    "### set 1's to the tissue name from the column"
   ]
  },
  {
   "cell_type": "code",
   "execution_count": null,
   "metadata": {},
   "outputs": [],
   "source": [
    "merged.loc[merged['ExprSpecificAdiposeSub']!=0].head()"
   ]
  },
  {
   "cell_type": "code",
   "execution_count": null,
   "metadata": {},
   "outputs": [],
   "source": [
    "merged_named = merged.copy()\n",
    "merged_named[expcols] = merged_named.loc[:,expcols].replace(1, pd.Series(merged_named.columns.str.replace(\" \"+expstr,\"\"),merged_named.columns))\n"
   ]
  },
  {
   "cell_type": "code",
   "execution_count": null,
   "metadata": {},
   "outputs": [],
   "source": [
    "(merged_named.loc[merged_named['ExprSpecificAdiposeSub']!=0].head())"
   ]
  },
  {
   "cell_type": "code",
   "execution_count": null,
   "metadata": {},
   "outputs": [],
   "source": [
    "#now for adj\n",
    "merged_named[adjcols] = merged_named.loc[:,adjcols].replace(1, pd.Series(merged_named.columns.str.replace(\" \"+adjstr,\"\"),merged_named.columns))\n"
   ]
  },
  {
   "cell_type": "code",
   "execution_count": null,
   "metadata": {},
   "outputs": [],
   "source": [
    "#now for mm\n",
    "merged_named[mmcols] = merged_named.loc[:,mmcols].replace(1, pd.Series(merged_named.columns.str.replace(\" \"+mmstr,\"\"),merged_named.columns))\n"
   ]
  },
  {
   "cell_type": "markdown",
   "metadata": {},
   "source": [
    "### start combining the data into three columns (expression, adjacency, module membership)"
   ]
  },
  {
   "cell_type": "code",
   "execution_count": null,
   "metadata": {},
   "outputs": [],
   "source": [
    "coexp_form = merged_named.copy()#pd.DataFrame(data={'GENE': merged['gene']})\n",
    "print(coexp_form.shape)\n",
    "print(coexp_form.head())"
   ]
  },
  {
   "cell_type": "code",
   "execution_count": null,
   "metadata": {},
   "outputs": [],
   "source": [
    "coexp_form['Expression'] = coexp_form[expcols].apply(lambda row: ';'.join([name for name in row.values.astype(str) if name !='0']), axis=1)"
   ]
  },
  {
   "cell_type": "code",
   "execution_count": null,
   "metadata": {},
   "outputs": [],
   "source": [
    "coexp_form['Expression']"
   ]
  },
  {
   "cell_type": "code",
   "execution_count": null,
   "metadata": {},
   "outputs": [],
   "source": [
    "coexp_form['Adjacency'] = coexp_form[adjcols].apply(lambda row: ';'.join([name for name in row.values.astype(str) if name !='0']), axis=1)"
   ]
  },
  {
   "cell_type": "code",
   "execution_count": null,
   "metadata": {},
   "outputs": [],
   "source": [
    "coexp_form['Module Membership'] = coexp_form[mmcols].apply(lambda row: ';'.join([name for name in row.values.astype(str) if name !='0']), axis=1)"
   ]
  },
  {
   "cell_type": "code",
   "execution_count": null,
   "metadata": {},
   "outputs": [],
   "source": [
    "coexp_form = coexp_form[['GENE','GWAS','LOC_NUM','Expression','Adjacency','Module Membership']]"
   ]
  },
  {
   "cell_type": "code",
   "execution_count": null,
   "metadata": {},
   "outputs": [],
   "source": [
    "print(coexp_form.shape)\n",
    "print(coexp_form.head())\n",
    "\n"
   ]
  },
  {
   "cell_type": "code",
   "execution_count": null,
   "metadata": {},
   "outputs": [],
   "source": [
    "coexp_form.to_csv(f\"{DATADIR}/results/coExpressionData.csv\", index=False, sep=\",\")"
   ]
  },
  {
   "cell_type": "code",
   "execution_count": null,
   "metadata": {},
   "outputs": [],
   "source": []
  }
 ],
 "metadata": {
  "kernelspec": {
   "display_name": "Python 3",
   "language": "python",
   "name": "python3"
  },
  "language_info": {
   "codemirror_mode": {
    "name": "ipython",
    "version": 3
   },
   "file_extension": ".py",
   "mimetype": "text/x-python",
   "name": "python",
   "nbconvert_exporter": "python",
   "pygments_lexer": "ipython3",
   "version": "3.7.3"
  }
 },
 "nbformat": 4,
 "nbformat_minor": 4
}
