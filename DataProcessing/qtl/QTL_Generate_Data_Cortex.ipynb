{
 "cells": [
  {
   "cell_type": "markdown",
   "metadata": {},
   "source": [
    "# Generate Locus Compare Input Files Using Sieberts et al. eQTL Data\n",
    "- **Author(s)** - Frank Grenn\n",
    "- **Date Started** - January 2021\n",
    "- **Quick Description:** Make meta5 and Sieberts et al. data files for locus compare plots\n",
    "- **Data:**   \n",
    "Data from => https://www.nature.com/articles/s41597-020-00642-8  \n",
    "Downloaded from => https://www.synapse.org/#!Synapse:syn16984815"
   ]
  },
  {
   "cell_type": "code",
   "execution_count": null,
   "metadata": {},
   "outputs": [],
   "source": [
    "import pandas as pd\n",
    "import numpy as np\n",
    "import os"
   ]
  },
  {
   "cell_type": "code",
   "execution_count": null,
   "metadata": {},
   "outputs": [],
   "source": [
    "WRKDIR = '$PATH/AppDataProcessing'\n",
    "QTLDIR = f\"{WRKDIR}/qtl\"\n",
    "TSVDIR = f\"{QTLDIR}/tsv\"\n"
   ]
  },
  {
   "cell_type": "markdown",
   "metadata": {},
   "source": [
    "## 1) Gene List"
   ]
  },
  {
   "cell_type": "code",
   "execution_count": null,
   "metadata": {},
   "outputs": [],
   "source": [
    "evidence = pd.read_csv(f\"{WRKDIR}/genes_by_locus.csv\")\n",
    "\n",
    "\n",
    "evidence_genes =evidence.GENE.tolist()\n",
    "\n",
    "print(len(evidence_genes))\n",
    "print(evidence_genes[0:10])\n"
   ]
  },
  {
   "cell_type": "markdown",
   "metadata": {},
   "source": [
    "## 2) get the gwas data for (a) meta5 or (b) progression1 or (c) progression2\n",
    "\n",
    "#### (a) meta5"
   ]
  },
  {
   "cell_type": "code",
   "execution_count": null,
   "metadata": {},
   "outputs": [],
   "source": [
    "#META5\n",
    "gwas_id=\"META5\"\n",
    "\n",
    "gwas_in = \"$PATH/AppDataProcessing/meta5_sumstats_harmonized.csv\"\n",
    "evidence_genes = evidence[evidence.GWAS==gwas_id].GENE.tolist()\n",
    "print(len(evidence_genes))\n",
    "\n",
    "gwas = pd.read_csv(gwas_in)\n",
    "print(gwas.shape)\n",
    "print(gwas.head())"
   ]
  },
  {
   "cell_type": "code",
   "execution_count": null,
   "metadata": {},
   "outputs": [],
   "source": [
    "#ignore SNPs with no rsid\n",
    "gwas_smr_rsid = gwas[gwas.RSID!='.']# gwas %>% dplyr::filter(RSID!=\".\")\n",
    "print(gwas_smr_rsid.shape)\n",
    "print(gwas_smr_rsid.head())"
   ]
  },
  {
   "cell_type": "code",
   "execution_count": null,
   "metadata": {},
   "outputs": [],
   "source": [
    "#the file has duplicates for some reason, so remove them\n",
    "gwas_smr_unique = gwas_smr_rsid.drop_duplicates()\n",
    "print(gwas_smr_unique.shape)\n",
    "print(gwas_smr_unique.head())"
   ]
  },
  {
   "cell_type": "code",
   "execution_count": null,
   "metadata": {},
   "outputs": [],
   "source": [
    "gwas = gwas_smr_unique"
   ]
  },
  {
   "cell_type": "markdown",
   "metadata": {},
   "source": [
    "#### (b) progression (NOTE: need to run notebook twice for this because each locus has its own summary stats file)\n",
    "\n",
    "##### Using HY3 Sum Stats File OR..."
   ]
  },
  {
   "cell_type": "code",
   "execution_count": null,
   "metadata": {},
   "outputs": [],
   "source": [
    "#Progression Loci\n",
    "gwas_id=\"Progression\"\n",
    "##rs382940, 9:108058562, 2\n",
    "#gwas_in = '$PATH/AppDataProcessing/locuszoom/surv_HY3.txt'\n",
    "gwas_in = \"$PATH/AppDataProcessing/prog_hy_sumstats_harmonized.csv\"\n",
    "evidence_genes = evidence[((evidence.GWAS==gwas_id) & (evidence.LOC_NUM==2))].GENE.tolist()\n",
    "print(len(evidence_genes))\n",
    "\n",
    "gwas = pd.read_csv(gwas_in)\n",
    "print(gwas.shape)\n",
    "print(gwas.head())\n",
    "\n"
   ]
  },
  {
   "cell_type": "code",
   "execution_count": null,
   "metadata": {},
   "outputs": [],
   "source": [
    "#ignore SNPs with no rsid\n",
    "gwas_smr_rsid = gwas[gwas.RSID!=\"\"]\n",
    "print(gwas_smr_rsid.shape)\n",
    "print(gwas_smr_rsid.head())"
   ]
  },
  {
   "cell_type": "code",
   "execution_count": null,
   "metadata": {},
   "outputs": [],
   "source": [
    "#the file has duplicates for some reason, so remove them\n",
    "gwas_smr_unique = gwas_smr_rsid.drop_duplicates()\n",
    "print(gwas_smr_unique.shape)\n",
    "print(gwas_smr_unique.head())"
   ]
  },
  {
   "cell_type": "code",
   "execution_count": null,
   "metadata": {},
   "outputs": [],
   "source": [
    "gwas = gwas_smr_unique"
   ]
  },
  {
   "cell_type": "markdown",
   "metadata": {},
   "source": [
    "##### ... Using INS Sum Stats File"
   ]
  },
  {
   "cell_type": "code",
   "execution_count": null,
   "metadata": {},
   "outputs": [],
   "source": [
    "#Progression Loci\n",
    "gwas_id=\"Progression\"\n",
    "##rs61863020, 10:112956055, 1\n",
    "##gwas_in = '$PATH/AppDataProcessing/locuszoom/base_INS.txt'\n",
    "gwas_in = '$PATH/AppDataProcessing/prog_ins_sumstats_harmonized.csv'\n",
    "evidence_genes = evidence[(evidence.GWAS==gwas_id) & (evidence.LOC_NUM==1)].GENE.tolist()\n",
    "print(len(evidence_genes))\n",
    "\n",
    "gwas = pd.read_csv(gwas_in)\n",
    "print(gwas.shape)\n",
    "print(gwas.head())\n"
   ]
  },
  {
   "cell_type": "code",
   "execution_count": null,
   "metadata": {},
   "outputs": [],
   "source": [
    "#ignore SNPs with no rsid\n",
    "gwas_smr_rsid = gwas[gwas.RSID!=\"\"]\n",
    "print(gwas_smr_rsid.shape)\n",
    "print(gwas_smr_rsid.head())\n"
   ]
  },
  {
   "cell_type": "code",
   "execution_count": null,
   "metadata": {},
   "outputs": [],
   "source": [
    "#the file has duplicates for some reason, so remove them\n",
    "gwas_smr_unique = gwas_smr_rsid.drop_duplicates()\n",
    "print(gwas_smr_unique.shape)\n",
    "print(gwas_smr_unique.head())"
   ]
  },
  {
   "cell_type": "code",
   "execution_count": null,
   "metadata": {},
   "outputs": [],
   "source": [
    "gwas =gwas_smr_unique"
   ]
  },
  {
   "cell_type": "markdown",
   "metadata": {},
   "source": [
    "#### (iii) Asian Gwas"
   ]
  },
  {
   "cell_type": "code",
   "execution_count": null,
   "metadata": {},
   "outputs": [],
   "source": [
    "gwas_id=\"Asian\"\n",
    "#gwas_in = \"$PATH/summary_stats/asian_GWAS/6724PDcases-24851controls-5843213snps-summary-stats-metaP-SE.txt.gz\"\n",
    "gwas_in = \"$PATH/AppDataProcessing/asiangwas_sumstats_harmonized.csv\"\n",
    "evidence_genes = evidence[evidence.GWAS==gwas_id].GENE.tolist()\n",
    "print(len(evidence_genes))\n",
    "\n",
    "\n",
    "\n",
    "gwas = pd.read_csv(gwas_in)\n",
    "print(gwas.shape)\n",
    "print(gwas.head())"
   ]
  },
  {
   "cell_type": "code",
   "execution_count": null,
   "metadata": {},
   "outputs": [],
   "source": [
    "#ignore SNPs with no rsid\n",
    "gwas_smr_rsid = gwas[gwas.RSID!=\"\"]\n",
    "print(gwas_smr_rsid.shape)\n",
    "print(gwas_smr_rsid.head())\n"
   ]
  },
  {
   "cell_type": "code",
   "execution_count": null,
   "metadata": {},
   "outputs": [],
   "source": [
    "#the file has duplicates for some reason, so remove them\n",
    "gwas_smr_unique = gwas_smr_rsid.drop_duplicates()\n",
    "print(gwas_smr_unique.shape)\n",
    "print(gwas_smr_unique.head())"
   ]
  },
  {
   "cell_type": "code",
   "execution_count": null,
   "metadata": {},
   "outputs": [],
   "source": [
    "gwas = gwas_smr_unique"
   ]
  },
  {
   "cell_type": "markdown",
   "metadata": {},
   "source": [
    "## 3) Get Risk Variant Data"
   ]
  },
  {
   "cell_type": "code",
   "execution_count": null,
   "metadata": {},
   "outputs": [],
   "source": [
    "gwas_risk_variants = pd.read_csv(\"$PATH/AppDataProcessing/gwas_risk_variants.csv\")\n",
    "print(gwas_risk_variants.shape)\n",
    "print(gwas_risk_variants.head())\n"
   ]
  },
  {
   "cell_type": "code",
   "execution_count": null,
   "metadata": {},
   "outputs": [],
   "source": [
    "GWASTSVDIR=f\"{TSVDIR}/{gwas_id}\"\n",
    "GWASTSVDIR"
   ]
  },
  {
   "cell_type": "markdown",
   "metadata": {},
   "source": [
    "## 4) eQTL\n",
    "split the eQTL data by the genes we want to make it easier to read "
   ]
  },
  {
   "cell_type": "code",
   "execution_count": null,
   "metadata": {},
   "outputs": [],
   "source": [
    "swarm = open(\"$PATH/AppDataProcessing/qtl/split_cortex_eqtl_by_gene.swarm\",\"w\")\n",
    "for gene in evidence_genes:\n",
    "    swarm.write(f\"grep {gene}, $PATH/cortical_meta_eqtl_summary_stats/Cortex_MetaAnalysis_ROSMAP_CMC_HBCC_Mayo_cis_eQTL_release.csv | awk -F',' '{{print $3,$4,$8}}' > $PATH/qtl_temp/{gene}_eqtl.csv\\n\")\n",
    "swarm.close()"
   ]
  },
  {
   "cell_type": "code",
   "execution_count": null,
   "metadata": {},
   "outputs": [],
   "source": [
    "#swarm -f $PATH/AppDataProcessing/qtl/split_cortex_eqtl_by_gene.swarm -g 5 -t 2 --partition quick --time=01:00:00"
   ]
  },
  {
   "cell_type": "code",
   "execution_count": null,
   "metadata": {},
   "outputs": [],
   "source": [
    "def format_locuscompare_tsvs(gene):\n",
    "    #add column names to the gene eqtl files\n",
    "    eqtl_file = f\"$PATH/qtl_temp/{gene}_eqtl.csv\"\n",
    "    print(os.stat(eqtl_file).st_size)\n",
    "    if os.stat(eqtl_file).st_size!=0:\n",
    "        \n",
    "        gene_eqtl_data = pd.read_csv(eqtl_file,header=None,sep=\" \")\n",
    "\n",
    "    \n",
    "        if len(gene_eqtl_data.index > 0):\n",
    "            \n",
    "            gene_eqtl_data.columns = ['RSID','CHR_BP_REF_ALT','P']    \n",
    "            gene_eqtl_data = gene_eqtl_data[gene_eqtl_data.RSID != \".\"]\n",
    "            gene_eqtl_data.to_csv(f\"$PATH/qtl_temp/{gene}_eqtl.tsv\", index=None,sep=\"\\t\")\n",
    "\n",
    "\n",
    "            gwas_filter = gwas[gwas.RSID.isin(gene_eqtl_data.RSID.tolist())]\n",
    "            gwas_filter[['RSID','CHR_BP_REF_ALT','P']].to_csv(f\"$PATH/qtl_temp/{gene}_gwas.tsv\",index=None,sep=\"\\t\")\n",
    "    \n",
    "    "
   ]
  },
  {
   "cell_type": "code",
   "execution_count": null,
   "metadata": {},
   "outputs": [],
   "source": [
    "count = 1\n",
    "for gene in evidence_genes:\n",
    "    print(gene)\n",
    "    print(count)\n",
    "    format_locuscompare_tsvs(gene)\n",
    "    count = count +1\n",
    "\n",
    "    "
   ]
  },
  {
   "cell_type": "code",
   "execution_count": null,
   "metadata": {},
   "outputs": [],
   "source": [
    "#grep \"\\.$(printf '\\t')\" SLC39A1_eqtl.tsv "
   ]
  }
 ],
 "metadata": {
  "kernelspec": {
   "display_name": "Python 3",
   "language": "python",
   "name": "python3"
  },
  "language_info": {
   "codemirror_mode": {
    "name": "ipython",
    "version": 3
   },
   "file_extension": ".py",
   "mimetype": "text/x-python",
   "name": "python",
   "nbconvert_exporter": "python",
   "pygments_lexer": "ipython3",
   "version": "3.7.3"
  }
 },
 "nbformat": 4,
 "nbformat_minor": 4
}
