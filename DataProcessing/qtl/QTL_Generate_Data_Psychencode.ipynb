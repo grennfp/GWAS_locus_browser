{
 "cells": [
  {
   "cell_type": "markdown",
   "metadata": {},
   "source": [
    "# Generate GWAS Locus Browser Psychencode QTL and GWAS Gene Data\n",
    "- **Author(s)** - Frank Grenn\n",
    "- **Date Started** - March 2020\n",
    "- **Quick Description:** collect Psychencode QTL and GWAS data for genes\n",
    "- **Data:** "
   ]
  },
  {
   "cell_type": "code",
   "execution_count": null,
   "metadata": {},
   "outputs": [],
   "source": [
    "library(data.table)\n",
    "library(dplyr)\n",
    "library(\"EnsDb.Hsapiens.v86\")"
   ]
  },
  {
   "cell_type": "code",
   "execution_count": null,
   "metadata": {},
   "outputs": [],
   "source": [
    "WRKDIR = '/path/to/AppDataProcessing'\n",
    "QTLDIR = paste0(WRKDIR,'/qtl')\n",
    "TSVDIR = paste0(QTLDIR,'/tsv')\n",
    "dir.create(TSVDIR)"
   ]
  },
  {
   "cell_type": "markdown",
   "metadata": {},
   "source": [
    "## 1) Gene List"
   ]
  },
  {
   "cell_type": "code",
   "execution_count": null,
   "metadata": {},
   "outputs": [],
   "source": [
    "evidence <- fread(paste0(WRKDIR,\"/genes_by_locus.csv\"))\n",
    "\n",
    "\n",
    "evidence_genes <- evidence$GENE\n",
    "\n",
    "length(evidence_genes)\n",
    "head(evidence_genes)\n"
   ]
  },
  {
   "cell_type": "markdown",
   "metadata": {},
   "source": [
    "## 2) get the gwas data for (a) meta5 or (b) progression1 or (c) progression2\n",
    "\n",
    "#### (a) meta5"
   ]
  },
  {
   "cell_type": "code",
   "execution_count": null,
   "metadata": {},
   "outputs": [],
   "source": [
    "#META5\n",
    "gwas_id=\"META5\"\n",
    "dir.create(paste0(TSVDIR,'/',gwas_id))\n",
    "gwas_in = \"/path/to/AppDataProcessing/meta5_sumstats_harmonized.csv\"\n",
    "evidence_genes <- evidence[which(evidence$GWAS==gwas_id),]$GENE\n",
    "print(length(evidence_genes))\n",
    "\n",
    "\n",
    "gwas = fread(gwas_in)\n",
    "dim(gwas)\n",
    "head(gwas)\n"
   ]
  },
  {
   "cell_type": "code",
   "execution_count": null,
   "metadata": {},
   "outputs": [],
   "source": [
    "#ignore SNPs with no rsid\n",
    "gwas_smr_rsid <- gwas %>% dplyr::filter(RSID!=\".\")\n",
    "dim(gwas_smr_rsid)\n",
    "head(gwas_smr_rsid)"
   ]
  },
  {
   "cell_type": "code",
   "execution_count": null,
   "metadata": {},
   "outputs": [],
   "source": [
    "#the file has duplicates for some reason, so remove them\n",
    "gwas_smr_unique <- unique(gwas_smr_rsid)\n",
    "dim(gwas_smr_unique)\n",
    "head(gwas_smr_unique)"
   ]
  },
  {
   "cell_type": "code",
   "execution_count": null,
   "metadata": {},
   "outputs": [],
   "source": [
    "gwas <- gwas_smr_unique"
   ]
  },
  {
   "cell_type": "markdown",
   "metadata": {},
   "source": [
    "#### (b) progression (NOTE: need to run notebook twice for this because each locus has its own summary stats file)\n",
    "\n",
    "##### Using HY3 Sum Stats File OR..."
   ]
  },
  {
   "cell_type": "code",
   "execution_count": null,
   "metadata": {},
   "outputs": [],
   "source": [
    "#Progression Loci\n",
    "gwas_id=\"Progression\"\n",
    "dir.create(paste0(TSVDIR,'/',gwas_id))\n",
    "\n",
    "##rs382940, 9:108058562, 2\n",
    "#gwas_in = paste0('/path/to/AppDataProcessing/locuszoom/surv_HY3.txt')\n",
    "gwas_in = paste0('/path/to/AppDataProcessing/prog_hy_sumstats_harmonized.csv')\n",
    "evidence_genes <- evidence[which((evidence$LOC_NUM==2) & (evidence$GWAS==gwas_id)),]$GENE\n",
    "\n",
    "\n",
    "\n",
    "print(length(evidence_genes))\n",
    "print(evidence_genes)\n",
    "\n",
    "gwas = fread(gwas_in)\n",
    "\n",
    "\n",
    "head(gwas)\n",
    "dim(gwas)\n",
    "\n",
    "\n"
   ]
  },
  {
   "cell_type": "code",
   "execution_count": null,
   "metadata": {},
   "outputs": [],
   "source": [
    "#ignore SNPs with no rsid\n",
    "gwas_smr_rsid <- gwas %>% dplyr::filter(RSID!=\"\")\n",
    "dim(gwas_smr_rsid)\n",
    "head(gwas_smr_rsid)\n",
    "\n"
   ]
  },
  {
   "cell_type": "code",
   "execution_count": null,
   "metadata": {},
   "outputs": [],
   "source": [
    "#the file has duplicates for some reason, so remove them\n",
    "gwas_smr_unique <- unique(gwas_smr_rsid)\n",
    "dim(gwas_smr_unique)\n",
    "head(gwas_smr_unique)\n",
    "\n"
   ]
  },
  {
   "cell_type": "code",
   "execution_count": null,
   "metadata": {},
   "outputs": [],
   "source": [
    "gwas <- gwas_smr_unique"
   ]
  },
  {
   "cell_type": "markdown",
   "metadata": {},
   "source": [
    "##### ... Using INS Sum Stats File"
   ]
  },
  {
   "cell_type": "code",
   "execution_count": null,
   "metadata": {},
   "outputs": [],
   "source": [
    "#Progression Loci\n",
    "gwas_id=\"Progression\"\n",
    "dir.create(paste0(TSVDIR,'/',gwas_id))\n",
    "\n",
    "\n",
    "##rs61863020, 10:112956055, 1\n",
    "##gwas_in = paste0('/path/to/AppDataProcessing/locuszoom/base_INS.txt')\n",
    "gwas_in = paste0('/path/to/AppDataProcessing/prog_ins_sumstats_harmonized.csv')\n",
    "evidence_genes <- evidence[which(evidence$LOC_NUM==1 & evidence$GWAS==gwas_id),]$GENE\n",
    "\n",
    "print(length(evidence_genes))\n",
    "print(evidence_genes)\n",
    "\n",
    "gwas = fread(gwas_in)\n",
    "\n",
    "\n",
    "head(gwas)\n",
    "dim(gwas)"
   ]
  },
  {
   "cell_type": "code",
   "execution_count": null,
   "metadata": {},
   "outputs": [],
   "source": [
    "#ignore SNPs with no rsid\n",
    "gwas_smr_rsid <- gwas %>% dplyr::filter(RSID!=\"\")\n",
    "dim(gwas_smr_rsid)\n",
    "head(gwas_smr_rsid)\n",
    "\n"
   ]
  },
  {
   "cell_type": "code",
   "execution_count": null,
   "metadata": {},
   "outputs": [],
   "source": [
    "#the file has duplicates for some reason, so remove them\n",
    "gwas_smr_unique <- unique(gwas_smr_rsid)\n",
    "dim(gwas_smr_unique)\n",
    "head(gwas_smr_unique)"
   ]
  },
  {
   "cell_type": "code",
   "execution_count": null,
   "metadata": {},
   "outputs": [],
   "source": [
    "gwas <- gwas_smr_unique"
   ]
  },
  {
   "cell_type": "markdown",
   "metadata": {},
   "source": [
    "#### (iii) Asian Gwas"
   ]
  },
  {
   "cell_type": "code",
   "execution_count": null,
   "metadata": {},
   "outputs": [],
   "source": [
    "gwas_id=\"Asian\"\n",
    "dir.create(paste0(TSVDIR,'/',gwas_id))\n",
    "#gwas_in = paste0(\"/path/to/asian_GWAS/6724PDcases-24851controls-5843213snps-summary-stats-metaP-SE.txt.gz\")\n",
    "gwas_in = \"/path/to/AppDataProcessing/asiangwas_sumstats_harmonized.csv\"\n",
    "evidence_genes <- evidence[which(evidence$GWAS==gwas_id),]$GENE\n",
    "print(length(evidence_genes))\n",
    "\n",
    "\n",
    "\n",
    "gwas = fread(gwas_in)\n",
    "\n",
    "\n",
    "head(gwas)\n",
    "dim(gwas)"
   ]
  },
  {
   "cell_type": "code",
   "execution_count": null,
   "metadata": {},
   "outputs": [],
   "source": [
    "#ignore SNPs with no rsid\n",
    "gwas_smr_rsid <- gwas %>% dplyr::filter(RSID!=\"\")\n",
    "dim(gwas_smr_rsid)\n",
    "head(gwas_smr_rsid)\n"
   ]
  },
  {
   "cell_type": "code",
   "execution_count": null,
   "metadata": {},
   "outputs": [],
   "source": [
    "#the file has duplicates for some reason, so remove them\n",
    "gwas_smr_unique <- unique(gwas_smr_rsid)\n",
    "dim(gwas_smr_unique)\n",
    "head(gwas_smr_unique)"
   ]
  },
  {
   "cell_type": "code",
   "execution_count": null,
   "metadata": {},
   "outputs": [],
   "source": [
    "gwas <- gwas_smr_unique"
   ]
  },
  {
   "cell_type": "markdown",
   "metadata": {},
   "source": [
    "## 3) Get Risk Variant Data"
   ]
  },
  {
   "cell_type": "code",
   "execution_count": null,
   "metadata": {},
   "outputs": [],
   "source": [
    "gwas_risk_variants <- fread(\"/path/to/AppDataProcessing/gwas_risk_variants.csv\")\n",
    "dim(gwas_risk_variants)\n",
    "head(gwas_risk_variants)\n"
   ]
  },
  {
   "cell_type": "code",
   "execution_count": null,
   "metadata": {},
   "outputs": [],
   "source": [
    "GWASTSVDIR=paste0(TSVDIR,'/',gwas_id)\n",
    "GWASTSVDIR"
   ]
  },
  {
   "cell_type": "markdown",
   "metadata": {},
   "source": [
    "## 4) eQTL\n",
    "read the psychencode eQTL data  \n",
    "should be similar to the blood and brain eQTL from before"
   ]
  },
  {
   "cell_type": "code",
   "execution_count": null,
   "metadata": {},
   "outputs": [],
   "source": [
    "eqtl = fread('/path/to/AppDataProcessing/qtl/psychencode/DER-08a_hg19_eQTL.significant.txt')\n",
    "\n",
    "dim(eqtl)\n",
    "head(eqtl)\n"
   ]
  },
  {
   "cell_type": "markdown",
   "metadata": {},
   "source": [
    "#### we need to get the gene names that match the gene_id"
   ]
  },
  {
   "cell_type": "code",
   "execution_count": null,
   "metadata": {},
   "outputs": [],
   "source": [
    "#add a gene id col without the version number to join on later\n",
    "eqtl$gene_id_no_version <- gsub(\"\\\\..*\",\"\",eqtl$gene_id)\n",
    "dim(eqtl)\n",
    "head(eqtl)"
   ]
  },
  {
   "cell_type": "code",
   "execution_count": null,
   "metadata": {},
   "outputs": [],
   "source": [
    "edb <- EnsDb.Hsapiens.v86\n",
    "tx <- transcripts(edb, columns=c(\"tx_id\", \"gene_id\", \"gene_name\"))"
   ]
  },
  {
   "cell_type": "code",
   "execution_count": null,
   "metadata": {},
   "outputs": [],
   "source": []
  },
  {
   "cell_type": "code",
   "execution_count": null,
   "metadata": {},
   "outputs": [],
   "source": [
    "mapping <- cbind(gene_id=tx$gene_id, name=tx$gene_name)\n",
    "dim(mapping)\n",
    "head(mapping)"
   ]
  },
  {
   "cell_type": "code",
   "execution_count": null,
   "metadata": {},
   "outputs": [],
   "source": [
    "mapping <-mapping[!duplicated(mapping),]\n",
    "dim(mapping)\n",
    "head(mapping)"
   ]
  },
  {
   "cell_type": "code",
   "execution_count": null,
   "metadata": {},
   "outputs": [],
   "source": [
    "qtl <- merge(x=eqtl, y=mapping, by.x='gene_id_no_version',by.y='gene_id', all.x=TRUE)\n",
    "dim(qtl)\n",
    "head(qtl)"
   ]
  },
  {
   "cell_type": "markdown",
   "metadata": {},
   "source": [
    "now we need to get the rsids for the SNP_id"
   ]
  },
  {
   "cell_type": "code",
   "execution_count": null,
   "metadata": {},
   "outputs": [],
   "source": [
    "psych_snps <- fread(\"/path/to/AppDataProcessing/qtl/psychencode/SNP_Information_Table_with_Alleles.txt\")\n",
    "dim(psych_snps)\n",
    "head(psych_snps)"
   ]
  },
  {
   "cell_type": "code",
   "execution_count": null,
   "metadata": {},
   "outputs": [],
   "source": [
    "\n",
    "qtl <- merge(x=qtl, y=psych_snps, by.x = \"SNP_id\", by.y = \"PEC_id\",all.x=TRUE)\n",
    "class(qtl)\n",
    "typeof(qtl)\n",
    "dim(qtl)\n",
    "head(qtl)\n"
   ]
  },
  {
   "cell_type": "code",
   "execution_count": null,
   "metadata": {},
   "outputs": [],
   "source": [
    "#add a chr:bp:ref:alt col\n",
    "qtl$'CHR_BP_REF_ALT' <- paste0(qtl$SNP_id,\"_\",qtl$REF,\"/\",qtl$ALT)\n",
    "dim(qtl)\n",
    "head(qtl)"
   ]
  },
  {
   "cell_type": "code",
   "execution_count": null,
   "metadata": {},
   "outputs": [],
   "source": [
    "\n",
    "print(length(evidence_genes))\n",
    "for(gene in evidence_genes)\n",
    "{\n",
    "    print(gene)\n",
    "    eqtl_fn = paste0(GWASTSVDIR,'/', gene, '_e_pe_eqtl.tsv')\n",
    "    gwasout_fn = paste0(GWASTSVDIR,'/',  gene, '_e_pe_gwas.tsv')\n",
    "\n",
    "    eqtl_gene = qtl %>% dplyr::filter(name == gene) %>% \n",
    "    mutate(RSID = Rsid, P = nominal_pval) %>% dplyr::select(RSID, CHR_BP_REF_ALT, P)\n",
    "    gwas %>% dplyr::filter(CHR_BP_REF_ALT %in% eqtl_gene$CHR_BP_REF_ALT) %>% \n",
    "    dplyr::select(RSID, CHR_BP_REF_ALT, P) %>%\n",
    "    fwrite(gwasout_fn, sep='\\t')\n",
    "    fwrite(eqtl_gene, eqtl_fn, sep='\\t')\n",
    "}\n",
    " "
   ]
  },
  {
   "cell_type": "markdown",
   "metadata": {},
   "source": [
    "## 5) cQTL (chromatin QTL)\n",
    "no gene or transcript id available in the data so we will just check for risk snps"
   ]
  },
  {
   "cell_type": "code",
   "execution_count": null,
   "metadata": {},
   "outputs": [],
   "source": [
    "cqtl = fread('/path/to/AppDataProcessing/qtl/psychencode/DER-09_hg19_cQTL.significant.txt')\n",
    "\n",
    "dim(cqtl)\n",
    "head(cqtl)\n"
   ]
  },
  {
   "cell_type": "code",
   "execution_count": null,
   "metadata": {},
   "outputs": [],
   "source": [
    "\n",
    "cqtl <- cqtl[,c(1,2,5:15)]\n",
    "head(cqtl)"
   ]
  },
  {
   "cell_type": "code",
   "execution_count": null,
   "metadata": {},
   "outputs": [],
   "source": [
    "colnames(gwas_risk_variants)"
   ]
  },
  {
   "cell_type": "code",
   "execution_count": null,
   "metadata": {},
   "outputs": [],
   "source": [
    "print(gwas_risk_variants$\"CHR_BP\"[0:10])\n",
    "print(cqtl$\"SNP_id\"[0:10])"
   ]
  },
  {
   "cell_type": "code",
   "execution_count": null,
   "metadata": {},
   "outputs": [],
   "source": [
    "#merge the risk variants with the cQTL data to see if they are in the data\n",
    "risk_cQTL_snps <- merge(x=gwas_risk_variants, y=cqtl, by.x=\"CHR_BP\", by.y=\"SNP_id\")\n",
    "print(dim(risk_cQTL_snps))\n",
    "print(head(risk_cQTL_snps))"
   ]
  },
  {
   "cell_type": "code",
   "execution_count": null,
   "metadata": {},
   "outputs": [],
   "source": []
  },
  {
   "cell_type": "markdown",
   "metadata": {},
   "source": [
    "## 6) isoQTL (isoform QTL)\n",
    "need to separate isoforms into separate plots"
   ]
  },
  {
   "cell_type": "code",
   "execution_count": null,
   "metadata": {},
   "outputs": [],
   "source": [
    "iqtl = fread('/path/to/AppDataProcessing/qtl/psychencode/DER-10b_hg19_isoQTL.FPKM5.all.txt')\n",
    "\n",
    "dim(iqtl)\n",
    "head(iqtl)\n"
   ]
  },
  {
   "cell_type": "code",
   "execution_count": null,
   "metadata": {},
   "outputs": [],
   "source": [
    "#add a tx id col without the version number to join on later\n",
    "iqtl$tx_id_no_version <- gsub(\"\\\\..*\",\"\",iqtl$transcript_id)\n",
    "dim(iqtl)\n",
    "head(iqtl)"
   ]
  },
  {
   "cell_type": "code",
   "execution_count": null,
   "metadata": {},
   "outputs": [],
   "source": [
    "edb <- EnsDb.Hsapiens.v86\n",
    "tx <- transcripts(edb, columns=c(\"tx_id\", \"gene_id\", \"gene_name\"))"
   ]
  },
  {
   "cell_type": "code",
   "execution_count": null,
   "metadata": {},
   "outputs": [],
   "source": [
    "mapping <- cbind(tx_id=tx$tx_id, name=tx$gene_name)\n",
    "dim(mapping)\n",
    "head(mapping)"
   ]
  },
  {
   "cell_type": "code",
   "execution_count": null,
   "metadata": {},
   "outputs": [],
   "source": [
    "mapping <-mapping[!duplicated(mapping),]\n",
    "dim(mapping)\n",
    "head(mapping)"
   ]
  },
  {
   "cell_type": "code",
   "execution_count": null,
   "metadata": {},
   "outputs": [],
   "source": [
    "qtl <- merge(x=iqtl, y=mapping, by.x='tx_id_no_version',by.y='tx_id', all.x=TRUE)\n",
    "dim(qtl)\n",
    "head(qtl)"
   ]
  },
  {
   "cell_type": "code",
   "execution_count": null,
   "metadata": {},
   "outputs": [],
   "source": [
    "psych_snps <- fread(\"/path/to/AppDataProcessing/qtl/psychencode/SNP_Information_Table_with_Alleles.txt\")\n",
    "dim(psych_snps)\n",
    "head(psych_snps)"
   ]
  },
  {
   "cell_type": "code",
   "execution_count": null,
   "metadata": {},
   "outputs": [],
   "source": [
    "\n",
    "qtl <- merge(x=qtl, y=psych_snps, by.x = \"SNP_id\", by.y = \"PEC_id\",all.x=TRUE)\n",
    "class(qtl)\n",
    "typeof(qtl)\n",
    "dim(qtl)\n",
    "head(qtl)\n"
   ]
  },
  {
   "cell_type": "code",
   "execution_count": null,
   "metadata": {},
   "outputs": [],
   "source": [
    "print(length(unique(qtl$tx_id_no_version)))\n",
    "print(length(unique(qtl$transcript_id)))\n",
    "print(length(qtl$transcript_id))\n",
    "print(length(unique(qtl$name)))"
   ]
  },
  {
   "cell_type": "code",
   "execution_count": null,
   "metadata": {},
   "outputs": [],
   "source": [
    "gene_transcript_df <- qtl %>% dplyr::select(tx_id_no_version, name) %>% mutate(transcript = tx_id_no_version, gene = name) %>% dplyr::select(transcript, gene) %>% distinct\n",
    "print(head(gene_transcript_df))\n",
    "print(nrow(unique(gene_transcript_df)))\n",
    "print(nrow(gene_transcript_df))"
   ]
  },
  {
   "cell_type": "code",
   "execution_count": null,
   "metadata": {},
   "outputs": [],
   "source": [
    "length(evidence_genes)"
   ]
  },
  {
   "cell_type": "code",
   "execution_count": null,
   "metadata": {},
   "outputs": [],
   "source": [
    "#now filter down gene_transcript_df to only include genes in our list\n",
    "filtered_gene_transcript_df <- gene_transcript_df %>% dplyr::filter(gene %in% evidence_genes)\n",
    "print(dim(filtered_gene_transcript_df))\n",
    "print(head(filtered_gene_transcript_df))"
   ]
  },
  {
   "cell_type": "code",
   "execution_count": null,
   "metadata": {},
   "outputs": [],
   "source": [
    "#add a chr:bp:ref:alt col\n",
    "qtl$'CHR_BP_REF_ALT' <- paste0(qtl$SNP_id,\"_\",qtl$REF,\"/\",qtl$ALT)\n",
    "dim(qtl)\n",
    "head(qtl)"
   ]
  },
  {
   "cell_type": "code",
   "execution_count": null,
   "metadata": {},
   "outputs": [],
   "source": [
    "nrow(filtered_gene_transcript_df)\n",
    "for(i in 1:nrow(filtered_gene_transcript_df))\n",
    "{\n",
    "    row <- filtered_gene_transcript_df[i,]\n",
    "    print(paste0(row$gene, \" \", row$transcript))\n",
    "    isoqtl_fn = paste0(GWASTSVDIR,'/', row$gene, \"_\", row$transcript, '_i_pe_isoqtl.tsv')\n",
    "    gwasout_fn = paste0(GWASTSVDIR,'/', row$gene, \"_\", row$transcript, '_i_pe_gwas.tsv')\n",
    "\n",
    "    isoqtl_gene = qtl %>% dplyr::filter(name == row$gene) %>% dplyr::filter(tx_id_no_version == row$transcript) %>%\n",
    "    mutate(RSID = Rsid, P = nominal_pval) %>% dplyr::select(RSID, CHR_BP_REF_ALT, P)\n",
    "    gwas %>% dplyr::filter(CHR_BP_REF_ALT %in% isoqtl_gene$CHR_BP_REF_ALT) %>% \n",
    "    dplyr::select(RSID, CHR_BP_REF_ALT, P) %>%\n",
    "    fwrite(gwasout_fn, sep='\\t')\n",
    "    fwrite(isoqtl_gene, isoqtl_fn, sep='\\t')\n",
    "}\n",
    " "
   ]
  },
  {
   "cell_type": "code",
   "execution_count": null,
   "metadata": {},
   "outputs": [],
   "source": []
  },
  {
   "cell_type": "code",
   "execution_count": null,
   "metadata": {},
   "outputs": [],
   "source": []
  },
  {
   "cell_type": "markdown",
   "metadata": {},
   "source": [
    "## 7) fQTL (cell fraction QTL)\n",
    "no gene or transcript id available in the data so we will just check for risk variants"
   ]
  },
  {
   "cell_type": "code",
   "execution_count": null,
   "metadata": {},
   "outputs": [],
   "source": [
    "fqtl = fread('/path/to/AppDataProcessing/qtl/psychencode/DER-11_hg19_fQTL.significant.txt')\n",
    "\n",
    "dim(fqtl)\n",
    "head(fqtl)\n"
   ]
  },
  {
   "cell_type": "code",
   "execution_count": null,
   "metadata": {},
   "outputs": [],
   "source": [
    "#need to add CHR:BP to the fQTL data\n",
    "fqtl$\"CHR_BP\" <- paste0(gsub(\"chr\",\"\",fqtl$\"Chromosome_of_variant\"),\":\", fqtl$\"Locus_of_variant\")\n",
    "print(head(fqtl))"
   ]
  },
  {
   "cell_type": "code",
   "execution_count": null,
   "metadata": {},
   "outputs": [],
   "source": [
    "testrow <- data.frame(\"#Cell_Type\"=\"Ex3\",\"Chromosome_of_variant\"=\"chr1\",\"Locus_of_variant\"=154898185,\"Nominal_p_val_of_association\"=0.05,\"Bonferroni_corrected_p_val\"=0.005,\"Regression_slope\"=0.5,\"CHR:BP\"=\"1:154898185\")\n",
    "colnames(testrow) <- colnames(fqtl)\n",
    "print(testrow)"
   ]
  },
  {
   "cell_type": "code",
   "execution_count": null,
   "metadata": {},
   "outputs": [],
   "source": [
    "fqtl <- rbind(fqtl, testrow)"
   ]
  },
  {
   "cell_type": "code",
   "execution_count": null,
   "metadata": {},
   "outputs": [],
   "source": [
    "#merge the risk variants with the fQTL data to see if they are in the data\n",
    "risk_fQTL_snps <- merge(x=gwas_risk_variants, y=fqtl, by.x=\"CHR_BP\", by.y=\"CHR_BP\")\n",
    "print(dim(risk_fQTL_snps))\n",
    "print(head(risk_fQTL_snps))"
   ]
  },
  {
   "cell_type": "code",
   "execution_count": null,
   "metadata": {},
   "outputs": [],
   "source": []
  }
 ],
 "metadata": {
  "kernelspec": {
   "display_name": "R/3.6",
   "language": "R",
   "name": "ir36"
  },
  "language_info": {
   "codemirror_mode": "r",
   "file_extension": ".r",
   "mimetype": "text/x-r-source",
   "name": "R",
   "pygments_lexer": "r",
   "version": "3.6.3"
  }
 },
 "nbformat": 4,
 "nbformat_minor": 4
}
