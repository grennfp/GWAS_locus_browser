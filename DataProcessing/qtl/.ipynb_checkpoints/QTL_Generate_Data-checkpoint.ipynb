{
 "cells": [
  {
   "cell_type": "markdown",
   "metadata": {},
   "source": [
    "# GWAS Locus Browser QTL and GWAS Gene Data for (1) all Genes or (2) one Gene\n",
    "- **Author(s)** - Frank Grenn and Hirotaka Iwaki\n",
    "- **Date Started** - October 2019\n",
    "- **Quick Description:** collect eQTL and GWAS data for genes\n",
    "- **Data:** [brain eQTL](https://cnsgenomics.com/software/smr/#DataResource), [blood eQTL](https://www.eqtlgen.org/cis-eqtls.html)"
   ]
  },
  {
   "cell_type": "code",
   "execution_count": 1,
   "metadata": {},
   "outputs": [
    {
     "name": "stderr",
     "output_type": "stream",
     "text": [
      "\n",
      "Attaching package: 'dplyr'\n",
      "\n",
      "\n",
      "The following objects are masked from 'package:data.table':\n",
      "\n",
      "    between, first, last\n",
      "\n",
      "\n",
      "The following objects are masked from 'package:stats':\n",
      "\n",
      "    filter, lag\n",
      "\n",
      "\n",
      "The following objects are masked from 'package:base':\n",
      "\n",
      "    intersect, setdiff, setequal, union\n",
      "\n",
      "\n"
     ]
    }
   ],
   "source": [
    "library(data.table)\n",
    "library(dplyr)"
   ]
  },
  {
   "cell_type": "markdown",
   "metadata": {},
   "source": [
    "## (1) All Genes\n",
    "\n",
    "* #### (a) get the genes we want data for\n",
    "* #### (b) get the gwas data\n",
    "* #### (c) get the eqtl data\n",
    "* #### (d) generate blood eqtl and gwas tsvs for each gene\n",
    "* #### (e) generate brain eqtl tsvs for each gene using a swarm job\n",
    "* #### (f) generate brain GWAS TSVs for each gene\n",
    "* #### (g) next steps\n",
    "\n",
    "### (a) get the genes we want data for\n",
    "from the `genes_by_locus.csv`"
   ]
  },
  {
   "cell_type": "code",
   "execution_count": 2,
   "metadata": {},
   "outputs": [
    {
     "data": {
      "text/html": [
       "2414"
      ],
      "text/latex": [
       "2414"
      ],
      "text/markdown": [
       "2414"
      ],
      "text/plain": [
       "[1] 2414"
      ]
     },
     "metadata": {},
     "output_type": "display_data"
    },
    {
     "data": {
      "text/html": [
       "<style>\n",
       ".list-inline {list-style: none; margin:0; padding: 0}\n",
       ".list-inline>li {display: inline-block}\n",
       ".list-inline>li:not(:last-child)::after {content: \"\\00b7\"; padding: 0 .5ex}\n",
       "</style>\n",
       "<ol class=list-inline><li>'ADAM15'</li><li>'ADAR'</li><li>'AQP10'</li><li>'ARHGEF2'</li><li>'ASH1L'</li><li>'ASH1L-AS1'</li></ol>\n"
      ],
      "text/latex": [
       "\\begin{enumerate*}\n",
       "\\item 'ADAM15'\n",
       "\\item 'ADAR'\n",
       "\\item 'AQP10'\n",
       "\\item 'ARHGEF2'\n",
       "\\item 'ASH1L'\n",
       "\\item 'ASH1L-AS1'\n",
       "\\end{enumerate*}\n"
      ],
      "text/markdown": [
       "1. 'ADAM15'\n",
       "2. 'ADAR'\n",
       "3. 'AQP10'\n",
       "4. 'ARHGEF2'\n",
       "5. 'ASH1L'\n",
       "6. 'ASH1L-AS1'\n",
       "\n",
       "\n"
      ],
      "text/plain": [
       "[1] \"ADAM15\"    \"ADAR\"      \"AQP10\"     \"ARHGEF2\"   \"ASH1L\"     \"ASH1L-AS1\""
      ]
     },
     "metadata": {},
     "output_type": "display_data"
    }
   ],
   "source": [
    "evidence <- fread(\"$PATH1/genes_by_locus.csv\")\n",
    "\n",
    "\n",
    "evidence_genes <- evidence$Gene\n",
    "\n",
    "length(evidence_genes)\n",
    "head(evidence_genes)\n"
   ]
  },
  {
   "cell_type": "markdown",
   "metadata": {},
   "source": [
    "### (b) get the gwas data for (i) meta5 or (ii) progression\n",
    "\n",
    "#### (i) meta5"
   ]
  },
  {
   "cell_type": "code",
   "execution_count": 3,
   "metadata": {},
   "outputs": [
    {
     "data": {
      "text/html": [
       "<style>\n",
       ".list-inline {list-style: none; margin:0; padding: 0}\n",
       ".list-inline>li {display: inline-block}\n",
       ".list-inline>li:not(:last-child)::after {content: \"\\00b7\"; padding: 0 .5ex}\n",
       "</style>\n",
       "<ol class=list-inline><li>7802656</li><li>8</li></ol>\n"
      ],
      "text/latex": [
       "\\begin{enumerate*}\n",
       "\\item 7802656\n",
       "\\item 8\n",
       "\\end{enumerate*}\n"
      ],
      "text/markdown": [
       "1. 7802656\n",
       "2. 8\n",
       "\n",
       "\n"
      ],
      "text/plain": [
       "[1] 7802656       8"
      ]
     },
     "metadata": {},
     "output_type": "display_data"
    },
    {
     "data": {
      "text/html": [
       "<table>\n",
       "<caption>A data.table: 6 × 8</caption>\n",
       "<thead>\n",
       "\t<tr><th scope=col>SNP</th><th scope=col>A1</th><th scope=col>A2</th><th scope=col>freq</th><th scope=col>b</th><th scope=col>se</th><th scope=col>p</th><th scope=col>N</th></tr>\n",
       "\t<tr><th scope=col>&lt;chr&gt;</th><th scope=col>&lt;chr&gt;</th><th scope=col>&lt;chr&gt;</th><th scope=col>&lt;dbl&gt;</th><th scope=col>&lt;dbl&gt;</th><th scope=col>&lt;dbl&gt;</th><th scope=col>&lt;dbl&gt;</th><th scope=col>&lt;int&gt;</th></tr>\n",
       "</thead>\n",
       "<tbody>\n",
       "\t<tr><td>rs7899632  </td><td>A</td><td>G</td><td>0.5665</td><td> 0.0110</td><td>0.0095</td><td>0.2476</td><td>1474097</td></tr>\n",
       "\t<tr><td>rs61875309 </td><td>A</td><td>C</td><td>0.7953</td><td>-0.0091</td><td>0.0116</td><td>0.4295</td><td>1474097</td></tr>\n",
       "\t<tr><td>rs150203744</td><td>T</td><td>C</td><td>0.0140</td><td>-0.0152</td><td>0.0649</td><td>0.8147</td><td>1351069</td></tr>\n",
       "\t<tr><td>rs111551711</td><td>T</td><td>C</td><td>0.9868</td><td> 0.0347</td><td>0.0742</td><td>0.6396</td><td> 777210</td></tr>\n",
       "\t<tr><td>rs12258651 </td><td>T</td><td>G</td><td>0.8819</td><td>-0.0011</td><td>0.0149</td><td>0.9423</td><td>1474097</td></tr>\n",
       "\t<tr><td>rs72828461 </td><td>A</td><td>G</td><td>0.9605</td><td>-0.0018</td><td>0.0325</td><td>0.9569</td><td>1365107</td></tr>\n",
       "</tbody>\n",
       "</table>\n"
      ],
      "text/latex": [
       "A data.table: 6 × 8\n",
       "\\begin{tabular}{llllllll}\n",
       " SNP & A1 & A2 & freq & b & se & p & N\\\\\n",
       " <chr> & <chr> & <chr> & <dbl> & <dbl> & <dbl> & <dbl> & <int>\\\\\n",
       "\\hline\n",
       "\t rs7899632   & A & G & 0.5665 &  0.0110 & 0.0095 & 0.2476 & 1474097\\\\\n",
       "\t rs61875309  & A & C & 0.7953 & -0.0091 & 0.0116 & 0.4295 & 1474097\\\\\n",
       "\t rs150203744 & T & C & 0.0140 & -0.0152 & 0.0649 & 0.8147 & 1351069\\\\\n",
       "\t rs111551711 & T & C & 0.9868 &  0.0347 & 0.0742 & 0.6396 &  777210\\\\\n",
       "\t rs12258651  & T & G & 0.8819 & -0.0011 & 0.0149 & 0.9423 & 1474097\\\\\n",
       "\t rs72828461  & A & G & 0.9605 & -0.0018 & 0.0325 & 0.9569 & 1365107\\\\\n",
       "\\end{tabular}\n"
      ],
      "text/markdown": [
       "\n",
       "A data.table: 6 × 8\n",
       "\n",
       "| SNP &lt;chr&gt; | A1 &lt;chr&gt; | A2 &lt;chr&gt; | freq &lt;dbl&gt; | b &lt;dbl&gt; | se &lt;dbl&gt; | p &lt;dbl&gt; | N &lt;int&gt; |\n",
       "|---|---|---|---|---|---|---|---|\n",
       "| rs7899632   | A | G | 0.5665 |  0.0110 | 0.0095 | 0.2476 | 1474097 |\n",
       "| rs61875309  | A | C | 0.7953 | -0.0091 | 0.0116 | 0.4295 | 1474097 |\n",
       "| rs150203744 | T | C | 0.0140 | -0.0152 | 0.0649 | 0.8147 | 1351069 |\n",
       "| rs111551711 | T | C | 0.9868 |  0.0347 | 0.0742 | 0.6396 |  777210 |\n",
       "| rs12258651  | T | G | 0.8819 | -0.0011 | 0.0149 | 0.9423 | 1474097 |\n",
       "| rs72828461  | A | G | 0.9605 | -0.0018 | 0.0325 | 0.9569 | 1365107 |\n",
       "\n"
      ],
      "text/plain": [
       "  SNP         A1 A2 freq   b       se     p      N      \n",
       "1 rs7899632   A  G  0.5665  0.0110 0.0095 0.2476 1474097\n",
       "2 rs61875309  A  C  0.7953 -0.0091 0.0116 0.4295 1474097\n",
       "3 rs150203744 T  C  0.0140 -0.0152 0.0649 0.8147 1351069\n",
       "4 rs111551711 T  C  0.9868  0.0347 0.0742 0.6396  777210\n",
       "5 rs12258651  T  G  0.8819 -0.0011 0.0149 0.9423 1474097\n",
       "6 rs72828461  A  G  0.9605 -0.0018 0.0325 0.9569 1365107"
      ]
     },
     "metadata": {},
     "output_type": "display_data"
    }
   ],
   "source": [
    "#META5\n",
    "gwas_in = paste0('$PATH2/resultsForSmr_filtered.tab.gz')\n",
    "\n",
    "gwas = fread(gwas_in)\n",
    "dim(gwas)\n",
    "head(gwas)\n",
    "\n"
   ]
  },
  {
   "cell_type": "markdown",
   "metadata": {},
   "source": [
    "#### (ii) progression\n",
    "\n",
    "read in progression gwas data (each progression locus has a different summary stats file so may need to modify lines below)"
   ]
  },
  {
   "cell_type": "code",
   "execution_count": 33,
   "metadata": {},
   "outputs": [
    {
     "name": "stdout",
     "output_type": "stream",
     "text": [
      "[1] 17\n",
      " [1] \"ABCA1\"      \"FKTN\"       \"FSD1L\"      \"NIPSNAP3A\"  \"NIPSNAP3B\" \n",
      " [6] \"OR13C2\"     \"OR13C3\"     \"OR13C4\"     \"OR13C5\"     \"OR13C8\"    \n",
      "[11] \"OR13C9\"     \"OR13D1\"     \"OR13F1\"     \"RALGAPA1P1\" \"SLC44A1\"   \n",
      "[16] \"TAL2\"       \"TMEM38B\"   \n"
     ]
    },
    {
     "data": {
      "text/html": [
       "<table>\n",
       "<caption>A data.frame: 6 × 8</caption>\n",
       "<thead>\n",
       "\t<tr><th></th><th scope=col>SNP</th><th scope=col>BETA</th><th scope=col>SE</th><th scope=col>P</th><th scope=col>N</th><th scope=col>NSTUDY</th><th scope=col>Isq</th><th scope=col>p</th></tr>\n",
       "\t<tr><th></th><th scope=col>&lt;chr&gt;</th><th scope=col>&lt;dbl&gt;</th><th scope=col>&lt;dbl&gt;</th><th scope=col>&lt;dbl&gt;</th><th scope=col>&lt;int&gt;</th><th scope=col>&lt;int&gt;</th><th scope=col>&lt;dbl&gt;</th><th scope=col>&lt;dbl&gt;</th></tr>\n",
       "</thead>\n",
       "<tbody>\n",
       "\t<tr><th scope=row>1</th><td>5:29439275  </td><td>-0.0322</td><td>0.0657</td><td>0.62410</td><td>2582</td><td>9</td><td>14.3</td><td>0.62410</td></tr>\n",
       "\t<tr><th scope=row>2</th><td>5:85928892  </td><td> 0.2634</td><td>0.1526</td><td>0.08427</td><td>1299</td><td>5</td><td> 0.0</td><td>0.08427</td></tr>\n",
       "\t<tr><th scope=row>3</th><td>2:170966953 </td><td> 0.4025</td><td>0.2870</td><td>0.16080</td><td>2265</td><td>8</td><td> 0.0</td><td>0.16080</td></tr>\n",
       "\t<tr><th scope=row>4</th><td>10:128341232</td><td>-0.1408</td><td>0.0783</td><td>0.07199</td><td>1299</td><td>5</td><td>46.5</td><td>0.07199</td></tr>\n",
       "\t<tr><th scope=row>5</th><td>3:62707519  </td><td>-0.1344</td><td>0.1723</td><td>0.43550</td><td>1299</td><td>5</td><td> 0.0</td><td>0.43550</td></tr>\n",
       "\t<tr><th scope=row>6</th><td>2:80464120  </td><td> 0.2888</td><td>0.2789</td><td>0.30040</td><td>1299</td><td>5</td><td> 0.0</td><td>0.30040</td></tr>\n",
       "</tbody>\n",
       "</table>\n"
      ],
      "text/latex": [
       "A data.frame: 6 × 8\n",
       "\\begin{tabular}{r|llllllll}\n",
       "  & SNP & BETA & SE & P & N & NSTUDY & Isq & p\\\\\n",
       "  & <chr> & <dbl> & <dbl> & <dbl> & <int> & <int> & <dbl> & <dbl>\\\\\n",
       "\\hline\n",
       "\t1 & 5:29439275   & -0.0322 & 0.0657 & 0.62410 & 2582 & 9 & 14.3 & 0.62410\\\\\n",
       "\t2 & 5:85928892   &  0.2634 & 0.1526 & 0.08427 & 1299 & 5 &  0.0 & 0.08427\\\\\n",
       "\t3 & 2:170966953  &  0.4025 & 0.2870 & 0.16080 & 2265 & 8 &  0.0 & 0.16080\\\\\n",
       "\t4 & 10:128341232 & -0.1408 & 0.0783 & 0.07199 & 1299 & 5 & 46.5 & 0.07199\\\\\n",
       "\t5 & 3:62707519   & -0.1344 & 0.1723 & 0.43550 & 1299 & 5 &  0.0 & 0.43550\\\\\n",
       "\t6 & 2:80464120   &  0.2888 & 0.2789 & 0.30040 & 1299 & 5 &  0.0 & 0.30040\\\\\n",
       "\\end{tabular}\n"
      ],
      "text/markdown": [
       "\n",
       "A data.frame: 6 × 8\n",
       "\n",
       "| <!--/--> | SNP &lt;chr&gt; | BETA &lt;dbl&gt; | SE &lt;dbl&gt; | P &lt;dbl&gt; | N &lt;int&gt; | NSTUDY &lt;int&gt; | Isq &lt;dbl&gt; | p &lt;dbl&gt; |\n",
       "|---|---|---|---|---|---|---|---|---|\n",
       "| 1 | 5:29439275   | -0.0322 | 0.0657 | 0.62410 | 2582 | 9 | 14.3 | 0.62410 |\n",
       "| 2 | 5:85928892   |  0.2634 | 0.1526 | 0.08427 | 1299 | 5 |  0.0 | 0.08427 |\n",
       "| 3 | 2:170966953  |  0.4025 | 0.2870 | 0.16080 | 2265 | 8 |  0.0 | 0.16080 |\n",
       "| 4 | 10:128341232 | -0.1408 | 0.0783 | 0.07199 | 1299 | 5 | 46.5 | 0.07199 |\n",
       "| 5 | 3:62707519   | -0.1344 | 0.1723 | 0.43550 | 1299 | 5 |  0.0 | 0.43550 |\n",
       "| 6 | 2:80464120   |  0.2888 | 0.2789 | 0.30040 | 1299 | 5 |  0.0 | 0.30040 |\n",
       "\n"
      ],
      "text/plain": [
       "  SNP          BETA    SE     P       N    NSTUDY Isq  p      \n",
       "1 5:29439275   -0.0322 0.0657 0.62410 2582 9      14.3 0.62410\n",
       "2 5:85928892    0.2634 0.1526 0.08427 1299 5       0.0 0.08427\n",
       "3 2:170966953   0.4025 0.2870 0.16080 2265 8       0.0 0.16080\n",
       "4 10:128341232 -0.1408 0.0783 0.07199 1299 5      46.5 0.07199\n",
       "5 3:62707519   -0.1344 0.1723 0.43550 1299 5       0.0 0.43550\n",
       "6 2:80464120    0.2888 0.2789 0.30040 1299 5       0.0 0.30040"
      ]
     },
     "metadata": {},
     "output_type": "display_data"
    },
    {
     "data": {
      "text/html": [
       "<style>\n",
       ".list-inline {list-style: none; margin:0; padding: 0}\n",
       ".list-inline>li {display: inline-block}\n",
       ".list-inline>li:not(:last-child)::after {content: \"\\00b7\"; padding: 0 .5ex}\n",
       "</style>\n",
       "<ol class=list-inline><li>8623151</li><li>8</li></ol>\n"
      ],
      "text/latex": [
       "\\begin{enumerate*}\n",
       "\\item 8623151\n",
       "\\item 8\n",
       "\\end{enumerate*}\n"
      ],
      "text/markdown": [
       "1. 8623151\n",
       "2. 8\n",
       "\n",
       "\n"
      ],
      "text/plain": [
       "[1] 8623151       8"
      ]
     },
     "metadata": {},
     "output_type": "display_data"
    }
   ],
   "source": [
    "#Progression Loci\n",
    "##rs382940, 9:108058562, prog2\n",
    "gwas_in = paste0('$PATH1/locuszoom/surv_HY3.txt')\n",
    "evidence_genes <- evidence[which(evidence$Locusnumber==\"prog2\"),]$Gene\n",
    "\n",
    "\n",
    "\n",
    "##rs61863020, 10:112956055, prog1\n",
    "#gwas_in = paste0('$PATH1/locuszoom/base_INS.txt')\n",
    "#evidence_genes <- evidence[which(evidence$Locusnumber==\"prog1\"),]$Gene\n",
    "\n",
    "print(length(evidence_genes))\n",
    "print(evidence_genes)\n",
    "\n",
    "gwas = fread(gwas_in)\n",
    "\n",
    "# change the headers a bit\n",
    "if('ID' %in% names(gwas)){\n",
    "  gwas = gwas %>% mutate(SNP = ID) %>% mutate(p = P)\n",
    "}\n",
    "\n",
    "if('P' %in% names(gwas)){\n",
    "    gwas = gwas %>% mutate(p = P)\n",
    "}\n",
    "\n",
    "head(gwas)\n",
    "dim(gwas)"
   ]
  },
  {
   "cell_type": "markdown",
   "metadata": {},
   "source": [
    "merge progression loci summary stats with reference.txt to get rsids"
   ]
  },
  {
   "cell_type": "code",
   "execution_count": 34,
   "metadata": {},
   "outputs": [
    {
     "data": {
      "text/html": [
       "<style>\n",
       ".list-inline {list-style: none; margin:0; padding: 0}\n",
       ".list-inline>li {display: inline-block}\n",
       ".list-inline>li:not(:last-child)::after {content: \"\\00b7\"; padding: 0 .5ex}\n",
       "</style>\n",
       "<ol class=list-inline><li>9240625</li><li>9</li></ol>\n"
      ],
      "text/latex": [
       "\\begin{enumerate*}\n",
       "\\item 9240625\n",
       "\\item 9\n",
       "\\end{enumerate*}\n"
      ],
      "text/markdown": [
       "1. 9240625\n",
       "2. 9\n",
       "\n",
       "\n"
      ],
      "text/plain": [
       "[1] 9240625       9"
      ]
     },
     "metadata": {},
     "output_type": "display_data"
    },
    {
     "data": {
      "text/html": [
       "<table>\n",
       "<caption>A data.table: 6 × 9</caption>\n",
       "<thead>\n",
       "\t<tr><th scope=col>SNP</th><th scope=col>RSID</th><th scope=col>CHR</th><th scope=col>START</th><th scope=col>REF</th><th scope=col>ALT</th><th scope=col>MAF</th><th scope=col>FUNC</th><th scope=col>NearGENE</th></tr>\n",
       "\t<tr><th scope=col>&lt;chr&gt;</th><th scope=col>&lt;chr&gt;</th><th scope=col>&lt;int&gt;</th><th scope=col>&lt;dbl&gt;</th><th scope=col>&lt;chr&gt;</th><th scope=col>&lt;chr&gt;</th><th scope=col>&lt;dbl&gt;</th><th scope=col>&lt;chr&gt;</th><th scope=col>&lt;chr&gt;</th></tr>\n",
       "</thead>\n",
       "<tbody>\n",
       "\t<tr><td>1:14470</td><td>           </td><td>1</td><td>14470</td><td>G</td><td>A</td><td>0.0263</td><td>ncRNA_exonic  </td><td>WASH7P</td></tr>\n",
       "\t<tr><td>1:14671</td><td>rs201055865</td><td>1</td><td>14671</td><td>G</td><td>C</td><td>0.0156</td><td>ncRNA_exonic  </td><td>WASH7P</td></tr>\n",
       "\t<tr><td>1:14773</td><td>rs878915777</td><td>1</td><td>14773</td><td>C</td><td>T</td><td>0.0178</td><td>ncRNA_exonic  </td><td>WASH7P</td></tr>\n",
       "\t<tr><td>1:16841</td><td>rs62636368 </td><td>1</td><td>16841</td><td>G</td><td>T</td><td>0.0725</td><td>ncRNA_intronic</td><td>WASH7P</td></tr>\n",
       "\t<tr><td>1:16856</td><td>rs3891260  </td><td>1</td><td>16856</td><td>A</td><td>G</td><td>0.0199</td><td>ncRNA_splicing</td><td>WASH7P</td></tr>\n",
       "\t<tr><td>1:17147</td><td>rs867691030</td><td>1</td><td>17147</td><td>G</td><td>A</td><td>0.0448</td><td>ncRNA_intronic</td><td>WASH7P</td></tr>\n",
       "</tbody>\n",
       "</table>\n"
      ],
      "text/latex": [
       "A data.table: 6 × 9\n",
       "\\begin{tabular}{lllllllll}\n",
       " SNP & RSID & CHR & START & REF & ALT & MAF & FUNC & NearGENE\\\\\n",
       " <chr> & <chr> & <int> & <dbl> & <chr> & <chr> & <dbl> & <chr> & <chr>\\\\\n",
       "\\hline\n",
       "\t 1:14470 &             & 1 & 14470 & G & A & 0.0263 & ncRNA\\_exonic   & WASH7P\\\\\n",
       "\t 1:14671 & rs201055865 & 1 & 14671 & G & C & 0.0156 & ncRNA\\_exonic   & WASH7P\\\\\n",
       "\t 1:14773 & rs878915777 & 1 & 14773 & C & T & 0.0178 & ncRNA\\_exonic   & WASH7P\\\\\n",
       "\t 1:16841 & rs62636368  & 1 & 16841 & G & T & 0.0725 & ncRNA\\_intronic & WASH7P\\\\\n",
       "\t 1:16856 & rs3891260   & 1 & 16856 & A & G & 0.0199 & ncRNA\\_splicing & WASH7P\\\\\n",
       "\t 1:17147 & rs867691030 & 1 & 17147 & G & A & 0.0448 & ncRNA\\_intronic & WASH7P\\\\\n",
       "\\end{tabular}\n"
      ],
      "text/markdown": [
       "\n",
       "A data.table: 6 × 9\n",
       "\n",
       "| SNP &lt;chr&gt; | RSID &lt;chr&gt; | CHR &lt;int&gt; | START &lt;dbl&gt; | REF &lt;chr&gt; | ALT &lt;chr&gt; | MAF &lt;dbl&gt; | FUNC &lt;chr&gt; | NearGENE &lt;chr&gt; |\n",
       "|---|---|---|---|---|---|---|---|---|\n",
       "| 1:14470 | <!----> | 1 | 14470 | G | A | 0.0263 | ncRNA_exonic   | WASH7P |\n",
       "| 1:14671 | rs201055865 | 1 | 14671 | G | C | 0.0156 | ncRNA_exonic   | WASH7P |\n",
       "| 1:14773 | rs878915777 | 1 | 14773 | C | T | 0.0178 | ncRNA_exonic   | WASH7P |\n",
       "| 1:16841 | rs62636368  | 1 | 16841 | G | T | 0.0725 | ncRNA_intronic | WASH7P |\n",
       "| 1:16856 | rs3891260   | 1 | 16856 | A | G | 0.0199 | ncRNA_splicing | WASH7P |\n",
       "| 1:17147 | rs867691030 | 1 | 17147 | G | A | 0.0448 | ncRNA_intronic | WASH7P |\n",
       "\n"
      ],
      "text/plain": [
       "  SNP     RSID        CHR START REF ALT MAF    FUNC           NearGENE\n",
       "1 1:14470             1   14470 G   A   0.0263 ncRNA_exonic   WASH7P  \n",
       "2 1:14671 rs201055865 1   14671 G   C   0.0156 ncRNA_exonic   WASH7P  \n",
       "3 1:14773 rs878915777 1   14773 C   T   0.0178 ncRNA_exonic   WASH7P  \n",
       "4 1:16841 rs62636368  1   16841 G   T   0.0725 ncRNA_intronic WASH7P  \n",
       "5 1:16856 rs3891260   1   16856 A   G   0.0199 ncRNA_splicing WASH7P  \n",
       "6 1:17147 rs867691030 1   17147 G   A   0.0448 ncRNA_intronic WASH7P  "
      ]
     },
     "metadata": {},
     "output_type": "display_data"
    }
   ],
   "source": [
    "reference = fread(\"$PATH1/locuszoom/reference.txt\")\n",
    "dim(reference)\n",
    "head(reference)\n"
   ]
  },
  {
   "cell_type": "code",
   "execution_count": 35,
   "metadata": {},
   "outputs": [
    {
     "data": {
      "text/html": [
       "<table>\n",
       "<caption>A data.frame: 6 × 14</caption>\n",
       "<thead>\n",
       "\t<tr><th></th><th scope=col>BETA</th><th scope=col>SE</th><th scope=col>N</th><th scope=col>NSTUDY</th><th scope=col>Isq</th><th scope=col>p</th><th scope=col>SNP</th><th scope=col>CHR</th><th scope=col>START</th><th scope=col>REF</th><th scope=col>ALT</th><th scope=col>MAF</th><th scope=col>FUNC</th><th scope=col>NearGENE</th></tr>\n",
       "\t<tr><th></th><th scope=col>&lt;dbl&gt;</th><th scope=col>&lt;dbl&gt;</th><th scope=col>&lt;int&gt;</th><th scope=col>&lt;int&gt;</th><th scope=col>&lt;dbl&gt;</th><th scope=col>&lt;dbl&gt;</th><th scope=col>&lt;chr&gt;</th><th scope=col>&lt;int&gt;</th><th scope=col>&lt;dbl&gt;</th><th scope=col>&lt;chr&gt;</th><th scope=col>&lt;chr&gt;</th><th scope=col>&lt;dbl&gt;</th><th scope=col>&lt;chr&gt;</th><th scope=col>&lt;chr&gt;</th></tr>\n",
       "</thead>\n",
       "<tbody>\n",
       "\t<tr><th scope=row>1</th><td>-0.1558</td><td>0.1759</td><td> 363</td><td>1</td><td> 0.0</td><td>0.375900</td><td>rs6602381  </td><td>10</td><td> 10000018</td><td>A</td><td>G</td><td>0.4459</td><td>intergenic</td><td>LOC101928272;LOC101928298</td></tr>\n",
       "\t<tr><th scope=row>2</th><td> 0.0032</td><td>0.0655</td><td>2582</td><td>9</td><td>13.2</td><td>0.960600</td><td>rs7899632  </td><td>10</td><td>100000625</td><td>A</td><td>G</td><td>0.4289</td><td>intronic  </td><td>R3HCC1L                  </td></tr>\n",
       "\t<tr><th scope=row>3</th><td> 0.0150</td><td>0.0765</td><td>2582</td><td>9</td><td> 0.0</td><td>0.844700</td><td>rs61875309 </td><td>10</td><td>100000645</td><td>A</td><td>C</td><td>0.1999</td><td>intronic  </td><td>R3HCC1L                  </td></tr>\n",
       "\t<tr><th scope=row>4</th><td> 0.2703</td><td>0.3834</td><td> 936</td><td>4</td><td>26.6</td><td>0.480900</td><td>rs150203744</td><td>10</td><td>100001867</td><td>C</td><td>T</td><td>0.0163</td><td>intronic  </td><td>R3HCC1L                  </td></tr>\n",
       "\t<tr><th scope=row>5</th><td> 0.8956</td><td>0.3042</td><td>1352</td><td>5</td><td>15.5</td><td>0.003241</td><td>rs111551711</td><td>10</td><td>100002464</td><td>T</td><td>C</td><td>0.0166</td><td>intronic  </td><td>R3HCC1L                  </td></tr>\n",
       "\t<tr><th scope=row>6</th><td> 0.0426</td><td>0.1108</td><td>2582</td><td>9</td><td>14.1</td><td>0.700800</td><td>rs12258651 </td><td>10</td><td>100003242</td><td>T</td><td>G</td><td>0.1278</td><td>intronic  </td><td>R3HCC1L                  </td></tr>\n",
       "</tbody>\n",
       "</table>\n"
      ],
      "text/latex": [
       "A data.frame: 6 × 14\n",
       "\\begin{tabular}{r|llllllllllllll}\n",
       "  & BETA & SE & N & NSTUDY & Isq & p & SNP & CHR & START & REF & ALT & MAF & FUNC & NearGENE\\\\\n",
       "  & <dbl> & <dbl> & <int> & <int> & <dbl> & <dbl> & <chr> & <int> & <dbl> & <chr> & <chr> & <dbl> & <chr> & <chr>\\\\\n",
       "\\hline\n",
       "\t1 & -0.1558 & 0.1759 &  363 & 1 &  0.0 & 0.375900 & rs6602381   & 10 &  10000018 & A & G & 0.4459 & intergenic & LOC101928272;LOC101928298\\\\\n",
       "\t2 &  0.0032 & 0.0655 & 2582 & 9 & 13.2 & 0.960600 & rs7899632   & 10 & 100000625 & A & G & 0.4289 & intronic   & R3HCC1L                  \\\\\n",
       "\t3 &  0.0150 & 0.0765 & 2582 & 9 &  0.0 & 0.844700 & rs61875309  & 10 & 100000645 & A & C & 0.1999 & intronic   & R3HCC1L                  \\\\\n",
       "\t4 &  0.2703 & 0.3834 &  936 & 4 & 26.6 & 0.480900 & rs150203744 & 10 & 100001867 & C & T & 0.0163 & intronic   & R3HCC1L                  \\\\\n",
       "\t5 &  0.8956 & 0.3042 & 1352 & 5 & 15.5 & 0.003241 & rs111551711 & 10 & 100002464 & T & C & 0.0166 & intronic   & R3HCC1L                  \\\\\n",
       "\t6 &  0.0426 & 0.1108 & 2582 & 9 & 14.1 & 0.700800 & rs12258651  & 10 & 100003242 & T & G & 0.1278 & intronic   & R3HCC1L                  \\\\\n",
       "\\end{tabular}\n"
      ],
      "text/markdown": [
       "\n",
       "A data.frame: 6 × 14\n",
       "\n",
       "| <!--/--> | BETA &lt;dbl&gt; | SE &lt;dbl&gt; | N &lt;int&gt; | NSTUDY &lt;int&gt; | Isq &lt;dbl&gt; | p &lt;dbl&gt; | SNP &lt;chr&gt; | CHR &lt;int&gt; | START &lt;dbl&gt; | REF &lt;chr&gt; | ALT &lt;chr&gt; | MAF &lt;dbl&gt; | FUNC &lt;chr&gt; | NearGENE &lt;chr&gt; |\n",
       "|---|---|---|---|---|---|---|---|---|---|---|---|---|---|---|\n",
       "| 1 | -0.1558 | 0.1759 |  363 | 1 |  0.0 | 0.375900 | rs6602381   | 10 |  10000018 | A | G | 0.4459 | intergenic | LOC101928272;LOC101928298 |\n",
       "| 2 |  0.0032 | 0.0655 | 2582 | 9 | 13.2 | 0.960600 | rs7899632   | 10 | 100000625 | A | G | 0.4289 | intronic   | R3HCC1L                   |\n",
       "| 3 |  0.0150 | 0.0765 | 2582 | 9 |  0.0 | 0.844700 | rs61875309  | 10 | 100000645 | A | C | 0.1999 | intronic   | R3HCC1L                   |\n",
       "| 4 |  0.2703 | 0.3834 |  936 | 4 | 26.6 | 0.480900 | rs150203744 | 10 | 100001867 | C | T | 0.0163 | intronic   | R3HCC1L                   |\n",
       "| 5 |  0.8956 | 0.3042 | 1352 | 5 | 15.5 | 0.003241 | rs111551711 | 10 | 100002464 | T | C | 0.0166 | intronic   | R3HCC1L                   |\n",
       "| 6 |  0.0426 | 0.1108 | 2582 | 9 | 14.1 | 0.700800 | rs12258651  | 10 | 100003242 | T | G | 0.1278 | intronic   | R3HCC1L                   |\n",
       "\n"
      ],
      "text/plain": [
       "  BETA    SE     N    NSTUDY Isq  p        SNP         CHR START     REF ALT\n",
       "1 -0.1558 0.1759  363 1       0.0 0.375900 rs6602381   10   10000018 A   G  \n",
       "2  0.0032 0.0655 2582 9      13.2 0.960600 rs7899632   10  100000625 A   G  \n",
       "3  0.0150 0.0765 2582 9       0.0 0.844700 rs61875309  10  100000645 A   C  \n",
       "4  0.2703 0.3834  936 4      26.6 0.480900 rs150203744 10  100001867 C   T  \n",
       "5  0.8956 0.3042 1352 5      15.5 0.003241 rs111551711 10  100002464 T   C  \n",
       "6  0.0426 0.1108 2582 9      14.1 0.700800 rs12258651  10  100003242 T   G  \n",
       "  MAF    FUNC       NearGENE                 \n",
       "1 0.4459 intergenic LOC101928272;LOC101928298\n",
       "2 0.4289 intronic   R3HCC1L                  \n",
       "3 0.1999 intronic   R3HCC1L                  \n",
       "4 0.0163 intronic   R3HCC1L                  \n",
       "5 0.0166 intronic   R3HCC1L                  \n",
       "6 0.1278 intronic   R3HCC1L                  "
      ]
     },
     "metadata": {},
     "output_type": "display_data"
    },
    {
     "data": {
      "text/html": [
       "<style>\n",
       ".list-inline {list-style: none; margin:0; padding: 0}\n",
       ".list-inline>li {display: inline-block}\n",
       ".list-inline>li:not(:last-child)::after {content: \"\\00b7\"; padding: 0 .5ex}\n",
       "</style>\n",
       "<ol class=list-inline><li>8623151</li><li>14</li></ol>\n"
      ],
      "text/latex": [
       "\\begin{enumerate*}\n",
       "\\item 8623151\n",
       "\\item 14\n",
       "\\end{enumerate*}\n"
      ],
      "text/markdown": [
       "1. 8623151\n",
       "2. 14\n",
       "\n",
       "\n"
      ],
      "text/plain": [
       "[1] 8623151      14"
      ]
     },
     "metadata": {},
     "output_type": "display_data"
    }
   ],
   "source": [
    "gwas = merge(x = gwas, y = reference, by = \"SNP\", all.x = TRUE)\n",
    "\n",
    "gwas$SNP <- NULL\n",
    "gwas$P <- NULL\n",
    "\n",
    "colnames(gwas)[colnames(gwas)==\"RSID\"] <- \"SNP\"\n",
    "\n",
    "head(gwas)\n",
    "dim(gwas)"
   ]
  },
  {
   "cell_type": "markdown",
   "metadata": {},
   "source": [
    "### (c) get the eqtl data"
   ]
  },
  {
   "cell_type": "code",
   "execution_count": 36,
   "metadata": {},
   "outputs": [
    {
     "data": {
      "text/html": [
       "<style>\n",
       ".list-inline {list-style: none; margin:0; padding: 0}\n",
       ".list-inline>li {display: inline-block}\n",
       ".list-inline>li:not(:last-child)::after {content: \"\\00b7\"; padding: 0 .5ex}\n",
       "</style>\n",
       "<ol class=list-inline><li>10527168</li><li>14</li></ol>\n"
      ],
      "text/latex": [
       "\\begin{enumerate*}\n",
       "\\item 10527168\n",
       "\\item 14\n",
       "\\end{enumerate*}\n"
      ],
      "text/markdown": [
       "1. 10527168\n",
       "2. 14\n",
       "\n",
       "\n"
      ],
      "text/plain": [
       "[1] 10527168       14"
      ]
     },
     "metadata": {},
     "output_type": "display_data"
    },
    {
     "data": {
      "text/html": [
       "<table>\n",
       "<caption>A data.table: 6 × 14</caption>\n",
       "<thead>\n",
       "\t<tr><th scope=col>Pvalue</th><th scope=col>SNP</th><th scope=col>SNPChr</th><th scope=col>SNPPos</th><th scope=col>AssessedAllele</th><th scope=col>OtherAllele</th><th scope=col>Zscore</th><th scope=col>Gene</th><th scope=col>GeneSymbol</th><th scope=col>GeneChr</th><th scope=col>GenePos</th><th scope=col>NrCohorts</th><th scope=col>NrSamples</th><th scope=col>FDR</th></tr>\n",
       "\t<tr><th scope=col>&lt;dbl&gt;</th><th scope=col>&lt;chr&gt;</th><th scope=col>&lt;int&gt;</th><th scope=col>&lt;int&gt;</th><th scope=col>&lt;chr&gt;</th><th scope=col>&lt;chr&gt;</th><th scope=col>&lt;dbl&gt;</th><th scope=col>&lt;chr&gt;</th><th scope=col>&lt;chr&gt;</th><th scope=col>&lt;int&gt;</th><th scope=col>&lt;int&gt;</th><th scope=col>&lt;int&gt;</th><th scope=col>&lt;int&gt;</th><th scope=col>&lt;dbl&gt;</th></tr>\n",
       "</thead>\n",
       "<tbody>\n",
       "\t<tr><td>2.1391e-15</td><td>rs1010944 </td><td>20</td><td>49525434</td><td>G</td><td>A</td><td>-7.9330</td><td>ENSG00000000419</td><td>DPM1</td><td>20</td><td>49563248</td><td>33</td><td>30396</td><td>0.000000e+00</td></tr>\n",
       "\t<tr><td>1.9943e-06</td><td>rs1062651 </td><td>20</td><td>49508683</td><td>A</td><td>G</td><td>-4.7539</td><td>ENSG00000000419</td><td>DPM1</td><td>20</td><td>49563248</td><td>29</td><td>28403</td><td>5.840880e-03</td></tr>\n",
       "\t<tr><td>1.0540e-08</td><td>rs12479470</td><td>20</td><td>49514589</td><td>C</td><td>T</td><td>-5.7216</td><td>ENSG00000000419</td><td>DPM1</td><td>20</td><td>49563248</td><td>35</td><td>30895</td><td>5.784433e-05</td></tr>\n",
       "\t<tr><td>8.9327e-10</td><td>rs12479721</td><td>20</td><td>49529785</td><td>T</td><td>C</td><td>-6.1274</td><td>ENSG00000000419</td><td>DPM1</td><td>20</td><td>49563248</td><td>23</td><td>20044</td><td>1.314752e-05</td></tr>\n",
       "\t<tr><td>1.4714e-14</td><td>rs12479950</td><td>20</td><td>49512803</td><td>T</td><td>C</td><td>-7.6899</td><td>ENSG00000000419</td><td>DPM1</td><td>20</td><td>49563248</td><td>31</td><td>29729</td><td>0.000000e+00</td></tr>\n",
       "\t<tr><td>4.5549e-12</td><td>rs12480447</td><td>20</td><td>49496178</td><td>G</td><td>C</td><td>-6.9187</td><td>ENSG00000000419</td><td>DPM1</td><td>20</td><td>49563248</td><td>34</td><td>30772</td><td>0.000000e+00</td></tr>\n",
       "</tbody>\n",
       "</table>\n"
      ],
      "text/latex": [
       "A data.table: 6 × 14\n",
       "\\begin{tabular}{llllllllllllll}\n",
       " Pvalue & SNP & SNPChr & SNPPos & AssessedAllele & OtherAllele & Zscore & Gene & GeneSymbol & GeneChr & GenePos & NrCohorts & NrSamples & FDR\\\\\n",
       " <dbl> & <chr> & <int> & <int> & <chr> & <chr> & <dbl> & <chr> & <chr> & <int> & <int> & <int> & <int> & <dbl>\\\\\n",
       "\\hline\n",
       "\t 2.1391e-15 & rs1010944  & 20 & 49525434 & G & A & -7.9330 & ENSG00000000419 & DPM1 & 20 & 49563248 & 33 & 30396 & 0.000000e+00\\\\\n",
       "\t 1.9943e-06 & rs1062651  & 20 & 49508683 & A & G & -4.7539 & ENSG00000000419 & DPM1 & 20 & 49563248 & 29 & 28403 & 5.840880e-03\\\\\n",
       "\t 1.0540e-08 & rs12479470 & 20 & 49514589 & C & T & -5.7216 & ENSG00000000419 & DPM1 & 20 & 49563248 & 35 & 30895 & 5.784433e-05\\\\\n",
       "\t 8.9327e-10 & rs12479721 & 20 & 49529785 & T & C & -6.1274 & ENSG00000000419 & DPM1 & 20 & 49563248 & 23 & 20044 & 1.314752e-05\\\\\n",
       "\t 1.4714e-14 & rs12479950 & 20 & 49512803 & T & C & -7.6899 & ENSG00000000419 & DPM1 & 20 & 49563248 & 31 & 29729 & 0.000000e+00\\\\\n",
       "\t 4.5549e-12 & rs12480447 & 20 & 49496178 & G & C & -6.9187 & ENSG00000000419 & DPM1 & 20 & 49563248 & 34 & 30772 & 0.000000e+00\\\\\n",
       "\\end{tabular}\n"
      ],
      "text/markdown": [
       "\n",
       "A data.table: 6 × 14\n",
       "\n",
       "| Pvalue &lt;dbl&gt; | SNP &lt;chr&gt; | SNPChr &lt;int&gt; | SNPPos &lt;int&gt; | AssessedAllele &lt;chr&gt; | OtherAllele &lt;chr&gt; | Zscore &lt;dbl&gt; | Gene &lt;chr&gt; | GeneSymbol &lt;chr&gt; | GeneChr &lt;int&gt; | GenePos &lt;int&gt; | NrCohorts &lt;int&gt; | NrSamples &lt;int&gt; | FDR &lt;dbl&gt; |\n",
       "|---|---|---|---|---|---|---|---|---|---|---|---|---|---|\n",
       "| 2.1391e-15 | rs1010944  | 20 | 49525434 | G | A | -7.9330 | ENSG00000000419 | DPM1 | 20 | 49563248 | 33 | 30396 | 0.000000e+00 |\n",
       "| 1.9943e-06 | rs1062651  | 20 | 49508683 | A | G | -4.7539 | ENSG00000000419 | DPM1 | 20 | 49563248 | 29 | 28403 | 5.840880e-03 |\n",
       "| 1.0540e-08 | rs12479470 | 20 | 49514589 | C | T | -5.7216 | ENSG00000000419 | DPM1 | 20 | 49563248 | 35 | 30895 | 5.784433e-05 |\n",
       "| 8.9327e-10 | rs12479721 | 20 | 49529785 | T | C | -6.1274 | ENSG00000000419 | DPM1 | 20 | 49563248 | 23 | 20044 | 1.314752e-05 |\n",
       "| 1.4714e-14 | rs12479950 | 20 | 49512803 | T | C | -7.6899 | ENSG00000000419 | DPM1 | 20 | 49563248 | 31 | 29729 | 0.000000e+00 |\n",
       "| 4.5549e-12 | rs12480447 | 20 | 49496178 | G | C | -6.9187 | ENSG00000000419 | DPM1 | 20 | 49563248 | 34 | 30772 | 0.000000e+00 |\n",
       "\n"
      ],
      "text/plain": [
       "  Pvalue     SNP        SNPChr SNPPos   AssessedAllele OtherAllele Zscore \n",
       "1 2.1391e-15 rs1010944  20     49525434 G              A           -7.9330\n",
       "2 1.9943e-06 rs1062651  20     49508683 A              G           -4.7539\n",
       "3 1.0540e-08 rs12479470 20     49514589 C              T           -5.7216\n",
       "4 8.9327e-10 rs12479721 20     49529785 T              C           -6.1274\n",
       "5 1.4714e-14 rs12479950 20     49512803 T              C           -7.6899\n",
       "6 4.5549e-12 rs12480447 20     49496178 G              C           -6.9187\n",
       "  Gene            GeneSymbol GeneChr GenePos  NrCohorts NrSamples FDR         \n",
       "1 ENSG00000000419 DPM1       20      49563248 33        30396     0.000000e+00\n",
       "2 ENSG00000000419 DPM1       20      49563248 29        28403     5.840880e-03\n",
       "3 ENSG00000000419 DPM1       20      49563248 35        30895     5.784433e-05\n",
       "4 ENSG00000000419 DPM1       20      49563248 23        20044     1.314752e-05\n",
       "5 ENSG00000000419 DPM1       20      49563248 31        29729     0.000000e+00\n",
       "6 ENSG00000000419 DPM1       20      49563248 34        30772     0.000000e+00"
      ]
     },
     "metadata": {},
     "output_type": "display_data"
    }
   ],
   "source": [
    "eqtl = fread('$PATH3/cis-eQTL_significant_20181017.txt.gz')\n",
    "dim(eqtl)\n",
    "head(eqtl)\n"
   ]
  },
  {
   "cell_type": "code",
   "execution_count": 10,
   "metadata": {},
   "outputs": [
    {
     "data": {
      "text/html": [
       "<style>\n",
       ".list-inline {list-style: none; margin:0; padding: 0}\n",
       ".list-inline>li {display: inline-block}\n",
       ".list-inline>li:not(:last-child)::after {content: \"\\00b7\"; padding: 0 .5ex}\n",
       "</style>\n",
       "<ol class=list-inline><li>'rs114138760'</li><li>'rs35749011'</li><li>'rs76763715'</li><li>'rs6658353'</li><li>'rs11578699'</li><li>'rs823118'</li></ol>\n"
      ],
      "text/latex": [
       "\\begin{enumerate*}\n",
       "\\item 'rs114138760'\n",
       "\\item 'rs35749011'\n",
       "\\item 'rs76763715'\n",
       "\\item 'rs6658353'\n",
       "\\item 'rs11578699'\n",
       "\\item 'rs823118'\n",
       "\\end{enumerate*}\n"
      ],
      "text/markdown": [
       "1. 'rs114138760'\n",
       "2. 'rs35749011'\n",
       "3. 'rs76763715'\n",
       "4. 'rs6658353'\n",
       "5. 'rs11578699'\n",
       "6. 'rs823118'\n",
       "\n",
       "\n"
      ],
      "text/plain": [
       "[1] \"rs114138760\" \"rs35749011\"  \"rs76763715\"  \"rs6658353\"   \"rs11578699\" \n",
       "[6] \"rs823118\"   "
      ]
     },
     "metadata": {},
     "output_type": "display_data"
    }
   ],
   "source": [
    "rsids <- fread(\"$PATH1/GWAS_loci_overview.csv\")$SNP\n",
    "head(rsids)"
   ]
  },
  {
   "cell_type": "markdown",
   "metadata": {},
   "source": [
    "### (d) generate blood eqtl and gwas tsvs for each gene"
   ]
  },
  {
   "cell_type": "code",
   "execution_count": 37,
   "metadata": {},
   "outputs": [
    {
     "name": "stdout",
     "output_type": "stream",
     "text": [
      "[1] 17\n"
     ]
    }
   ],
   "source": [
    "proj = '$PATH1/qtl/'\n",
    "gwasoutfold = paste0(proj, 'tsv/')\n",
    "count <- 0\n",
    "print(length(evidence_genes))\n",
    "for(gene in evidence_genes)\n",
    "{\n",
    "    # blood eqtl\n",
    "    eqtl_fn = paste0('tsv/', gene, '_blood_eqtl.tsv')\n",
    "    gwasout_fn = paste0(gwasoutfold,  gene, '_blood_gwas.tsv')\n",
    "\n",
    "    eqtl_gene = eqtl %>% filter(GeneSymbol == gene) %>% \n",
    "    mutate(rsid = SNP, pval = Pvalue) %>% select(rsid, pval)\n",
    "    gwas %>% filter(SNP %in% eqtl_gene$rsid) %>% \n",
    "    mutate(rsid = SNP, pval = p) %>% select(rsid, pval) %>%\n",
    "    fwrite(gwasout_fn, sep='\\t')\n",
    "    fwrite(eqtl_gene, eqtl_fn, sep='\\t')\n",
    "}\n",
    " "
   ]
  },
  {
   "cell_type": "code",
   "execution_count": null,
   "metadata": {},
   "outputs": [],
   "source": []
  },
  {
   "cell_type": "code",
   "execution_count": null,
   "metadata": {},
   "outputs": [],
   "source": []
  },
  {
   "cell_type": "markdown",
   "metadata": {},
   "source": [
    "### (e) generate brain eQTL TSVs for each gene using a swarm job\n",
    "\n",
    "generate the swarm file"
   ]
  },
  {
   "cell_type": "code",
   "execution_count": 38,
   "metadata": {},
   "outputs": [],
   "source": [
    "\n",
    "\n",
    "count = 0\n",
    "for(gene in evidence_genes)\n",
    "{\n",
    "  #print(paste0(gene, \" \", count))\n",
    "\n",
    "  line = paste0('$PATH4/smr_Linux',\n",
    "                ' --beqtl-summary $PATH5/Brain-eMeta',\n",
    "                ' --thread-num 1',\n",
    "                ' --query 5.0e-2',\n",
    "                ' --gene ', gene, \n",
    "                ' --cis-wind 2000',\n",
    "                ' --out $PATH1/qtl/tsv/', gene, '_brain_eqtl')\n",
    "    write(line,file=\"script/generate_brain_eqtl.swarm\",append=TRUE)\n",
    "    #count = count +1\n",
    "}\n",
    " "
   ]
  },
  {
   "cell_type": "markdown",
   "metadata": {},
   "source": [
    "print the command to run the swarm file"
   ]
  },
  {
   "cell_type": "code",
   "execution_count": 39,
   "metadata": {},
   "outputs": [
    {
     "name": "stdout",
     "output_type": "stream",
     "text": [
      "[1] \"swarm -f generate_brain_eqtl.swarm -g 10 --partition quick --time 00:02:00\"\n"
     ]
    }
   ],
   "source": [
    "print('swarm -f generate_brain_eqtl.swarm -g 10 --partition quick --time 00:02:00')"
   ]
  },
  {
   "cell_type": "markdown",
   "metadata": {},
   "source": [
    "### (f) generate brain GWAS TSVs for each gene"
   ]
  },
  {
   "cell_type": "code",
   "execution_count": 40,
   "metadata": {},
   "outputs": [],
   "source": [
    "for(gene in evidence_genes)\n",
    "{   \n",
    "  # brain eqtl\n",
    "  eqtl_fn = paste0('tsv/', gene, '_brain_eqtl.tsv')\n",
    "  gwasout_fn = paste0(gwasoutfold,  gene, '_brain_gwas.tsv')\n",
    "\n",
    "    \n",
    "  if(file.exists(paste0('tsv/',gene, '_brain_eqtl.txt')))\n",
    "  {\n",
    "      qtls = fread(paste0('tsv/',gene, '_brain_eqtl.txt'))\n",
    "      cispos = qtls %>% group_by(Chr, Gene) %>% mutate(n = n()) %>% \n",
    "        arrange(desc(n)) %>% \n",
    "        ungroup() %>%\n",
    "        distinct(Chr, .keep_all = T) %>% \n",
    "        rename(GeneChr = Chr) %>%\n",
    "        select(Gene, GeneChr) \n",
    "      qtls_cis = inner_join(qtls, cispos, by='Gene') %>% \n",
    "        filter(Chr==GeneChr) %>%\n",
    "        data.frame() %>%\n",
    "        .[grep('rs', .$SNP),] %>%\n",
    "        mutate(rsid = SNP, pval = p) %>% \n",
    "        select(rsid, pval)\n",
    "      fwrite(qtls_cis, eqtl_fn, sep='\\t')\n",
    "\n",
    "      gwas %>% filter(SNP %in% qtls_cis$rsid) %>%\n",
    "        mutate(rsid = SNP, pval = p) %>% \n",
    "        select(rsid, pval) %>%\n",
    "        fwrite(gwasout_fn, sep='\\t')    \n",
    "      \n",
    "  }\n",
    "  \n",
    "}"
   ]
  },
  {
   "cell_type": "markdown",
   "metadata": {},
   "source": [
    "### (g) next steps\n",
    "\n",
    "next we need to see which genes we can create plots for. Now start running `QTL_Proxy_SNPS.ipynb`"
   ]
  },
  {
   "cell_type": "markdown",
   "metadata": {},
   "source": [
    "## (2) For One Gene  (WIP/need to test again)\n",
    "useful with genes that have alternate names (looking at you _RAB7L1/RAB29_!)\n",
    "\n",
    "* #### (a) specify the data gene names\n",
    "* #### (b) get the gwas data\n",
    "* #### (c) get the eqtl data\n",
    "* #### (d) generate blood eqtl and gwas tsvs for each gene\n",
    "* #### (e) generate brain eqtl tsvs for each gene using a swarm job\n",
    "* #### (f) generate brain GWAS TSVs for each gene\n",
    "* #### (g) next steps\n",
    "\n",
    "### (a) specify the data gene names"
   ]
  },
  {
   "cell_type": "code",
   "execution_count": 23,
   "metadata": {},
   "outputs": [],
   "source": [
    "#name of the gene in the eqtl data\n",
    "eqtl_gene_name <- \"RAB7L1\"\n",
    "#name of the gene in the gwas data\n",
    "gwas_gene_name <-\"RAB29\"\n",
    "#what gene name you want the files to show for the gene\n",
    "final_gene_file_name <-\"RAB29\""
   ]
  },
  {
   "cell_type": "markdown",
   "metadata": {},
   "source": [
    "### (b) get the gwas data"
   ]
  },
  {
   "cell_type": "code",
   "execution_count": 24,
   "metadata": {},
   "outputs": [
    {
     "data": {
      "text/html": [
       "<style>\n",
       ".list-inline {list-style: none; margin:0; padding: 0}\n",
       ".list-inline>li {display: inline-block}\n",
       ".list-inline>li:not(:last-child)::after {content: \"\\00b7\"; padding: 0 .5ex}\n",
       "</style>\n",
       "<ol class=list-inline><li>7802656</li><li>8</li></ol>\n"
      ],
      "text/latex": [
       "\\begin{enumerate*}\n",
       "\\item 7802656\n",
       "\\item 8\n",
       "\\end{enumerate*}\n"
      ],
      "text/markdown": [
       "1. 7802656\n",
       "2. 8\n",
       "\n",
       "\n"
      ],
      "text/plain": [
       "[1] 7802656       8"
      ]
     },
     "metadata": {},
     "output_type": "display_data"
    },
    {
     "data": {
      "text/html": [
       "<table>\n",
       "<caption>A data.table: 6 × 8</caption>\n",
       "<thead>\n",
       "\t<tr><th scope=col>SNP</th><th scope=col>A1</th><th scope=col>A2</th><th scope=col>freq</th><th scope=col>b</th><th scope=col>se</th><th scope=col>p</th><th scope=col>N</th></tr>\n",
       "\t<tr><th scope=col>&lt;chr&gt;</th><th scope=col>&lt;chr&gt;</th><th scope=col>&lt;chr&gt;</th><th scope=col>&lt;dbl&gt;</th><th scope=col>&lt;dbl&gt;</th><th scope=col>&lt;dbl&gt;</th><th scope=col>&lt;dbl&gt;</th><th scope=col>&lt;int&gt;</th></tr>\n",
       "</thead>\n",
       "<tbody>\n",
       "\t<tr><td>rs7899632  </td><td>A</td><td>G</td><td>0.5665</td><td> 0.0110</td><td>0.0095</td><td>0.2476</td><td>1474097</td></tr>\n",
       "\t<tr><td>rs61875309 </td><td>A</td><td>C</td><td>0.7953</td><td>-0.0091</td><td>0.0116</td><td>0.4295</td><td>1474097</td></tr>\n",
       "\t<tr><td>rs150203744</td><td>T</td><td>C</td><td>0.0140</td><td>-0.0152</td><td>0.0649</td><td>0.8147</td><td>1351069</td></tr>\n",
       "\t<tr><td>rs111551711</td><td>T</td><td>C</td><td>0.9868</td><td> 0.0347</td><td>0.0742</td><td>0.6396</td><td> 777210</td></tr>\n",
       "\t<tr><td>rs12258651 </td><td>T</td><td>G</td><td>0.8819</td><td>-0.0011</td><td>0.0149</td><td>0.9423</td><td>1474097</td></tr>\n",
       "\t<tr><td>rs72828461 </td><td>A</td><td>G</td><td>0.9605</td><td>-0.0018</td><td>0.0325</td><td>0.9569</td><td>1365107</td></tr>\n",
       "</tbody>\n",
       "</table>\n"
      ],
      "text/latex": [
       "A data.table: 6 × 8\n",
       "\\begin{tabular}{llllllll}\n",
       " SNP & A1 & A2 & freq & b & se & p & N\\\\\n",
       " <chr> & <chr> & <chr> & <dbl> & <dbl> & <dbl> & <dbl> & <int>\\\\\n",
       "\\hline\n",
       "\t rs7899632   & A & G & 0.5665 &  0.0110 & 0.0095 & 0.2476 & 1474097\\\\\n",
       "\t rs61875309  & A & C & 0.7953 & -0.0091 & 0.0116 & 0.4295 & 1474097\\\\\n",
       "\t rs150203744 & T & C & 0.0140 & -0.0152 & 0.0649 & 0.8147 & 1351069\\\\\n",
       "\t rs111551711 & T & C & 0.9868 &  0.0347 & 0.0742 & 0.6396 &  777210\\\\\n",
       "\t rs12258651  & T & G & 0.8819 & -0.0011 & 0.0149 & 0.9423 & 1474097\\\\\n",
       "\t rs72828461  & A & G & 0.9605 & -0.0018 & 0.0325 & 0.9569 & 1365107\\\\\n",
       "\\end{tabular}\n"
      ],
      "text/markdown": [
       "\n",
       "A data.table: 6 × 8\n",
       "\n",
       "| SNP &lt;chr&gt; | A1 &lt;chr&gt; | A2 &lt;chr&gt; | freq &lt;dbl&gt; | b &lt;dbl&gt; | se &lt;dbl&gt; | p &lt;dbl&gt; | N &lt;int&gt; |\n",
       "|---|---|---|---|---|---|---|---|\n",
       "| rs7899632   | A | G | 0.5665 |  0.0110 | 0.0095 | 0.2476 | 1474097 |\n",
       "| rs61875309  | A | C | 0.7953 | -0.0091 | 0.0116 | 0.4295 | 1474097 |\n",
       "| rs150203744 | T | C | 0.0140 | -0.0152 | 0.0649 | 0.8147 | 1351069 |\n",
       "| rs111551711 | T | C | 0.9868 |  0.0347 | 0.0742 | 0.6396 |  777210 |\n",
       "| rs12258651  | T | G | 0.8819 | -0.0011 | 0.0149 | 0.9423 | 1474097 |\n",
       "| rs72828461  | A | G | 0.9605 | -0.0018 | 0.0325 | 0.9569 | 1365107 |\n",
       "\n"
      ],
      "text/plain": [
       "  SNP         A1 A2 freq   b       se     p      N      \n",
       "1 rs7899632   A  G  0.5665  0.0110 0.0095 0.2476 1474097\n",
       "2 rs61875309  A  C  0.7953 -0.0091 0.0116 0.4295 1474097\n",
       "3 rs150203744 T  C  0.0140 -0.0152 0.0649 0.8147 1351069\n",
       "4 rs111551711 T  C  0.9868  0.0347 0.0742 0.6396  777210\n",
       "5 rs12258651  T  G  0.8819 -0.0011 0.0149 0.9423 1474097\n",
       "6 rs72828461  A  G  0.9605 -0.0018 0.0325 0.9569 1365107"
      ]
     },
     "metadata": {},
     "output_type": "display_data"
    }
   ],
   "source": [
    "#META5\n",
    "gwas_in = paste0('$PATH2/resultsForSmr_filtered.tab.gz')\n",
    "\n",
    "gwas = fread(gwas_in)\n",
    "dim(gwas)\n",
    "head(gwas)\n",
    "\n"
   ]
  },
  {
   "cell_type": "markdown",
   "metadata": {},
   "source": [
    "### (c) get the eqtl data"
   ]
  },
  {
   "cell_type": "code",
   "execution_count": 25,
   "metadata": {},
   "outputs": [
    {
     "data": {
      "text/html": [
       "<style>\n",
       ".list-inline {list-style: none; margin:0; padding: 0}\n",
       ".list-inline>li {display: inline-block}\n",
       ".list-inline>li:not(:last-child)::after {content: \"\\00b7\"; padding: 0 .5ex}\n",
       "</style>\n",
       "<ol class=list-inline><li>10527168</li><li>14</li></ol>\n"
      ],
      "text/latex": [
       "\\begin{enumerate*}\n",
       "\\item 10527168\n",
       "\\item 14\n",
       "\\end{enumerate*}\n"
      ],
      "text/markdown": [
       "1. 10527168\n",
       "2. 14\n",
       "\n",
       "\n"
      ],
      "text/plain": [
       "[1] 10527168       14"
      ]
     },
     "metadata": {},
     "output_type": "display_data"
    },
    {
     "data": {
      "text/html": [
       "<table>\n",
       "<caption>A data.table: 6 × 14</caption>\n",
       "<thead>\n",
       "\t<tr><th scope=col>Pvalue</th><th scope=col>SNP</th><th scope=col>SNPChr</th><th scope=col>SNPPos</th><th scope=col>AssessedAllele</th><th scope=col>OtherAllele</th><th scope=col>Zscore</th><th scope=col>Gene</th><th scope=col>GeneSymbol</th><th scope=col>GeneChr</th><th scope=col>GenePos</th><th scope=col>NrCohorts</th><th scope=col>NrSamples</th><th scope=col>FDR</th></tr>\n",
       "\t<tr><th scope=col>&lt;dbl&gt;</th><th scope=col>&lt;chr&gt;</th><th scope=col>&lt;int&gt;</th><th scope=col>&lt;int&gt;</th><th scope=col>&lt;chr&gt;</th><th scope=col>&lt;chr&gt;</th><th scope=col>&lt;dbl&gt;</th><th scope=col>&lt;chr&gt;</th><th scope=col>&lt;chr&gt;</th><th scope=col>&lt;int&gt;</th><th scope=col>&lt;int&gt;</th><th scope=col>&lt;int&gt;</th><th scope=col>&lt;int&gt;</th><th scope=col>&lt;dbl&gt;</th></tr>\n",
       "</thead>\n",
       "<tbody>\n",
       "\t<tr><td>2.1391e-15</td><td>rs1010944 </td><td>20</td><td>49525434</td><td>G</td><td>A</td><td>-7.9330</td><td>ENSG00000000419</td><td>DPM1</td><td>20</td><td>49563248</td><td>33</td><td>30396</td><td>0.000000e+00</td></tr>\n",
       "\t<tr><td>1.9943e-06</td><td>rs1062651 </td><td>20</td><td>49508683</td><td>A</td><td>G</td><td>-4.7539</td><td>ENSG00000000419</td><td>DPM1</td><td>20</td><td>49563248</td><td>29</td><td>28403</td><td>5.840880e-03</td></tr>\n",
       "\t<tr><td>1.0540e-08</td><td>rs12479470</td><td>20</td><td>49514589</td><td>C</td><td>T</td><td>-5.7216</td><td>ENSG00000000419</td><td>DPM1</td><td>20</td><td>49563248</td><td>35</td><td>30895</td><td>5.784433e-05</td></tr>\n",
       "\t<tr><td>8.9327e-10</td><td>rs12479721</td><td>20</td><td>49529785</td><td>T</td><td>C</td><td>-6.1274</td><td>ENSG00000000419</td><td>DPM1</td><td>20</td><td>49563248</td><td>23</td><td>20044</td><td>1.314752e-05</td></tr>\n",
       "\t<tr><td>1.4714e-14</td><td>rs12479950</td><td>20</td><td>49512803</td><td>T</td><td>C</td><td>-7.6899</td><td>ENSG00000000419</td><td>DPM1</td><td>20</td><td>49563248</td><td>31</td><td>29729</td><td>0.000000e+00</td></tr>\n",
       "\t<tr><td>4.5549e-12</td><td>rs12480447</td><td>20</td><td>49496178</td><td>G</td><td>C</td><td>-6.9187</td><td>ENSG00000000419</td><td>DPM1</td><td>20</td><td>49563248</td><td>34</td><td>30772</td><td>0.000000e+00</td></tr>\n",
       "</tbody>\n",
       "</table>\n"
      ],
      "text/latex": [
       "A data.table: 6 × 14\n",
       "\\begin{tabular}{llllllllllllll}\n",
       " Pvalue & SNP & SNPChr & SNPPos & AssessedAllele & OtherAllele & Zscore & Gene & GeneSymbol & GeneChr & GenePos & NrCohorts & NrSamples & FDR\\\\\n",
       " <dbl> & <chr> & <int> & <int> & <chr> & <chr> & <dbl> & <chr> & <chr> & <int> & <int> & <int> & <int> & <dbl>\\\\\n",
       "\\hline\n",
       "\t 2.1391e-15 & rs1010944  & 20 & 49525434 & G & A & -7.9330 & ENSG00000000419 & DPM1 & 20 & 49563248 & 33 & 30396 & 0.000000e+00\\\\\n",
       "\t 1.9943e-06 & rs1062651  & 20 & 49508683 & A & G & -4.7539 & ENSG00000000419 & DPM1 & 20 & 49563248 & 29 & 28403 & 5.840880e-03\\\\\n",
       "\t 1.0540e-08 & rs12479470 & 20 & 49514589 & C & T & -5.7216 & ENSG00000000419 & DPM1 & 20 & 49563248 & 35 & 30895 & 5.784433e-05\\\\\n",
       "\t 8.9327e-10 & rs12479721 & 20 & 49529785 & T & C & -6.1274 & ENSG00000000419 & DPM1 & 20 & 49563248 & 23 & 20044 & 1.314752e-05\\\\\n",
       "\t 1.4714e-14 & rs12479950 & 20 & 49512803 & T & C & -7.6899 & ENSG00000000419 & DPM1 & 20 & 49563248 & 31 & 29729 & 0.000000e+00\\\\\n",
       "\t 4.5549e-12 & rs12480447 & 20 & 49496178 & G & C & -6.9187 & ENSG00000000419 & DPM1 & 20 & 49563248 & 34 & 30772 & 0.000000e+00\\\\\n",
       "\\end{tabular}\n"
      ],
      "text/markdown": [
       "\n",
       "A data.table: 6 × 14\n",
       "\n",
       "| Pvalue &lt;dbl&gt; | SNP &lt;chr&gt; | SNPChr &lt;int&gt; | SNPPos &lt;int&gt; | AssessedAllele &lt;chr&gt; | OtherAllele &lt;chr&gt; | Zscore &lt;dbl&gt; | Gene &lt;chr&gt; | GeneSymbol &lt;chr&gt; | GeneChr &lt;int&gt; | GenePos &lt;int&gt; | NrCohorts &lt;int&gt; | NrSamples &lt;int&gt; | FDR &lt;dbl&gt; |\n",
       "|---|---|---|---|---|---|---|---|---|---|---|---|---|---|\n",
       "| 2.1391e-15 | rs1010944  | 20 | 49525434 | G | A | -7.9330 | ENSG00000000419 | DPM1 | 20 | 49563248 | 33 | 30396 | 0.000000e+00 |\n",
       "| 1.9943e-06 | rs1062651  | 20 | 49508683 | A | G | -4.7539 | ENSG00000000419 | DPM1 | 20 | 49563248 | 29 | 28403 | 5.840880e-03 |\n",
       "| 1.0540e-08 | rs12479470 | 20 | 49514589 | C | T | -5.7216 | ENSG00000000419 | DPM1 | 20 | 49563248 | 35 | 30895 | 5.784433e-05 |\n",
       "| 8.9327e-10 | rs12479721 | 20 | 49529785 | T | C | -6.1274 | ENSG00000000419 | DPM1 | 20 | 49563248 | 23 | 20044 | 1.314752e-05 |\n",
       "| 1.4714e-14 | rs12479950 | 20 | 49512803 | T | C | -7.6899 | ENSG00000000419 | DPM1 | 20 | 49563248 | 31 | 29729 | 0.000000e+00 |\n",
       "| 4.5549e-12 | rs12480447 | 20 | 49496178 | G | C | -6.9187 | ENSG00000000419 | DPM1 | 20 | 49563248 | 34 | 30772 | 0.000000e+00 |\n",
       "\n"
      ],
      "text/plain": [
       "  Pvalue     SNP        SNPChr SNPPos   AssessedAllele OtherAllele Zscore \n",
       "1 2.1391e-15 rs1010944  20     49525434 G              A           -7.9330\n",
       "2 1.9943e-06 rs1062651  20     49508683 A              G           -4.7539\n",
       "3 1.0540e-08 rs12479470 20     49514589 C              T           -5.7216\n",
       "4 8.9327e-10 rs12479721 20     49529785 T              C           -6.1274\n",
       "5 1.4714e-14 rs12479950 20     49512803 T              C           -7.6899\n",
       "6 4.5549e-12 rs12480447 20     49496178 G              C           -6.9187\n",
       "  Gene            GeneSymbol GeneChr GenePos  NrCohorts NrSamples FDR         \n",
       "1 ENSG00000000419 DPM1       20      49563248 33        30396     0.000000e+00\n",
       "2 ENSG00000000419 DPM1       20      49563248 29        28403     5.840880e-03\n",
       "3 ENSG00000000419 DPM1       20      49563248 35        30895     5.784433e-05\n",
       "4 ENSG00000000419 DPM1       20      49563248 23        20044     1.314752e-05\n",
       "5 ENSG00000000419 DPM1       20      49563248 31        29729     0.000000e+00\n",
       "6 ENSG00000000419 DPM1       20      49563248 34        30772     0.000000e+00"
      ]
     },
     "metadata": {},
     "output_type": "display_data"
    }
   ],
   "source": [
    "eqtl = fread('$PATH3/cis-eQTL_significant_20181017.txt.gz')\n",
    "dim(eqtl)\n",
    "head(eqtl)"
   ]
  },
  {
   "cell_type": "markdown",
   "metadata": {},
   "source": [
    "### (d) generate blood eqtl and gwas tsvs for each gene"
   ]
  },
  {
   "cell_type": "code",
   "execution_count": 29,
   "metadata": {},
   "outputs": [],
   "source": [
    "out_dir = '$PATH1/qtl/tsv/'\n",
    "\n",
    "\n",
    "# blood eqtl\n",
    "eqtl_fn = paste0(out_dir, final_gene_file_name, '_blood_eqtl.tsv')\n",
    "gwasout_fn = paste0(out_dir,  final_gene_file_name, '_blood_gwas.tsv')\n",
    "\n",
    "#for etql (named RAB7L1)\n",
    "eqtl_gene = eqtl %>% filter(GeneSymbol == eqtl_gene_name) %>% \n",
    "mutate(rsid = SNP, pval = Pvalue) %>% select(rsid, pval)\n",
    "\n",
    "fwrite(eqtl_gene, eqtl_fn, sep='\\t')\n",
    "\n",
    "#for gwas (named RAB29)\n",
    "gwas %>% filter(SNP %in% eqtl_gene$rsid) %>% \n",
    "mutate(rsid = SNP, pval = p) %>% select(rsid, pval) %>%\n",
    "fwrite(gwasout_fn, sep='\\t')\n",
    "\n",
    "\n",
    " "
   ]
  },
  {
   "cell_type": "markdown",
   "metadata": {},
   "source": [
    "### (e) generate brain eqtl tsvs for each gene using a swarm job"
   ]
  },
  {
   "cell_type": "code",
   "execution_count": null,
   "metadata": {},
   "outputs": [],
   "source": [
    "\n",
    "\n",
    "print(paste0('$PATH4/smr_Linux',\n",
    "            ' --beqtl-summary $PATH5/Brain-eMeta',\n",
    "            ' --thread-num 1',\n",
    "            ' --query 5.0e-2',\n",
    "            ' --gene ', eqtl_gene_name, \n",
    "            ' --cis-wind 2000',\n",
    "            ' --out $PATH1/qtl/tsv/', final_gene_file_name, '_brain_eqtl'))\n",
    "\n",
    " "
   ]
  },
  {
   "cell_type": "markdown",
   "metadata": {},
   "source": [
    "### (f) generate brain GWAS TSVs for each gene"
   ]
  },
  {
   "cell_type": "code",
   "execution_count": 32,
   "metadata": {},
   "outputs": [],
   "source": [
    "\n",
    "# brain eqtl\n",
    "eqtl_fn = paste0(out_dir, final_gene_file_name, '_brain_eqtl.tsv')\n",
    "gwasout_fn = paste0(out_dir,  final_gene_file_name, '_brain_gwas.tsv')\n",
    "\n",
    "\n",
    "if(file.exists(paste0(out_dir,final_gene_file_name, '_brain_eqtl.txt')))\n",
    "{\n",
    "  qtls = fread(paste0(out_dir,final_gene_file_name, '_brain_eqtl.txt'))\n",
    "  cispos = qtls %>% group_by(Chr, Gene) %>% mutate(n = n()) %>% \n",
    "    arrange(desc(n)) %>% \n",
    "    ungroup() %>%\n",
    "    distinct(Chr, .keep_all = T) %>% \n",
    "    rename(GeneChr = Chr) %>%\n",
    "    select(Gene, GeneChr) \n",
    "  qtls_cis = inner_join(qtls, cispos, by='Gene') %>% \n",
    "    filter(Chr==GeneChr) %>%\n",
    "    data.frame() %>%\n",
    "    .[grep('rs', .$SNP),] %>%\n",
    "    mutate(rsid = SNP, pval = p) %>% \n",
    "    select(rsid, pval)\n",
    "  fwrite(qtls_cis, eqtl_fn, sep='\\t')\n",
    "\n",
    "  gwas %>% filter(SNP %in% qtls_cis$rsid) %>%\n",
    "    mutate(rsid = SNP, pval = p) %>% \n",
    "    select(rsid, pval) %>%\n",
    "    fwrite(gwasout_fn, sep='\\t')    \n",
    "\n",
    "}\n",
    "\n"
   ]
  },
  {
   "cell_type": "markdown",
   "metadata": {},
   "source": [
    "### (g) next steps\n",
    "\n",
    "next we need to see which genes we can create plots for. Now start running `QTL_Proxy_SNPS.ipynb`"
   ]
  },
  {
   "cell_type": "code",
   "execution_count": null,
   "metadata": {},
   "outputs": [],
   "source": []
  }
 ],
 "metadata": {
  "kernelspec": {
   "display_name": "R/3.6",
   "language": "R",
   "name": "ir36"
  },
  "language_info": {
   "codemirror_mode": "r",
   "file_extension": ".r",
   "mimetype": "text/x-r-source",
   "name": "R",
   "pygments_lexer": "r",
   "version": "3.6.1"
  }
 },
 "nbformat": 4,
 "nbformat_minor": 4
}
