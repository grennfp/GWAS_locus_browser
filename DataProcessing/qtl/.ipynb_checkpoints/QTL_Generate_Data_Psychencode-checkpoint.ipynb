{
 "cells": [
  {
   "cell_type": "markdown",
   "metadata": {},
   "source": [
    "# GWAS Locus Browser Psychencode QTL and GWAS Gene Data\n",
    "- **Author(s)** - Frank Grenn\n",
    "- **Date Started** - March 2020\n",
    "- **Quick Description:** collect Psychencode QTL and GWAS data for genes\n",
    "- **Data:** [psychENCODE](http://resource.psychencode.org/)"
   ]
  },
  {
   "cell_type": "code",
   "execution_count": 1,
   "metadata": {},
   "outputs": [
    {
     "name": "stderr",
     "output_type": "stream",
     "text": [
      "\n",
      "Attaching package: 'dplyr'\n",
      "\n",
      "\n",
      "The following objects are masked from 'package:data.table':\n",
      "\n",
      "    between, first, last\n",
      "\n",
      "\n",
      "The following objects are masked from 'package:stats':\n",
      "\n",
      "    filter, lag\n",
      "\n",
      "\n",
      "The following objects are masked from 'package:base':\n",
      "\n",
      "    intersect, setdiff, setequal, union\n",
      "\n",
      "\n",
      "Loading required package: ensembldb\n",
      "\n",
      "Loading required package: BiocGenerics\n",
      "\n",
      "Loading required package: parallel\n",
      "\n",
      "\n",
      "Attaching package: 'BiocGenerics'\n",
      "\n",
      "\n",
      "The following objects are masked from 'package:parallel':\n",
      "\n",
      "    clusterApply, clusterApplyLB, clusterCall, clusterEvalQ,\n",
      "    clusterExport, clusterMap, parApply, parCapply, parLapply,\n",
      "    parLapplyLB, parRapply, parSapply, parSapplyLB\n",
      "\n",
      "\n",
      "The following objects are masked from 'package:dplyr':\n",
      "\n",
      "    combine, intersect, setdiff, union\n",
      "\n",
      "\n",
      "The following objects are masked from 'package:stats':\n",
      "\n",
      "    IQR, mad, sd, var, xtabs\n",
      "\n",
      "\n",
      "The following objects are masked from 'package:base':\n",
      "\n",
      "    Filter, Find, Map, Position, Reduce, anyDuplicated, append,\n",
      "    as.data.frame, basename, cbind, colnames, dirname, do.call,\n",
      "    duplicated, eval, evalq, get, grep, grepl, intersect, is.unsorted,\n",
      "    lapply, mapply, match, mget, order, paste, pmax, pmax.int, pmin,\n",
      "    pmin.int, rank, rbind, rownames, sapply, setdiff, sort, table,\n",
      "    tapply, union, unique, unsplit, which, which.max, which.min\n",
      "\n",
      "\n",
      "Loading required package: GenomicRanges\n",
      "\n",
      "Loading required package: stats4\n",
      "\n",
      "Loading required package: S4Vectors\n",
      "\n",
      "\n",
      "Attaching package: 'S4Vectors'\n",
      "\n",
      "\n",
      "The following objects are masked from 'package:dplyr':\n",
      "\n",
      "    first, rename\n",
      "\n",
      "\n",
      "The following objects are masked from 'package:data.table':\n",
      "\n",
      "    first, second\n",
      "\n",
      "\n",
      "The following object is masked from 'package:base':\n",
      "\n",
      "    expand.grid\n",
      "\n",
      "\n",
      "Loading required package: IRanges\n",
      "\n",
      "\n",
      "Attaching package: 'IRanges'\n",
      "\n",
      "\n",
      "The following objects are masked from 'package:dplyr':\n",
      "\n",
      "    collapse, desc, slice\n",
      "\n",
      "\n",
      "The following object is masked from 'package:data.table':\n",
      "\n",
      "    shift\n",
      "\n",
      "\n",
      "Loading required package: GenomeInfoDb\n",
      "\n",
      "Loading required package: GenomicFeatures\n",
      "\n",
      "Loading required package: AnnotationDbi\n",
      "\n",
      "Loading required package: Biobase\n",
      "\n",
      "Welcome to Bioconductor\n",
      "\n",
      "    Vignettes contain introductory material; view with\n",
      "    'browseVignettes()'. To cite Bioconductor, see\n",
      "    'citation(\"Biobase\")', and for packages 'citation(\"pkgname\")'.\n",
      "\n",
      "\n",
      "\n",
      "Attaching package: 'AnnotationDbi'\n",
      "\n",
      "\n",
      "The following object is masked from 'package:dplyr':\n",
      "\n",
      "    select\n",
      "\n",
      "\n",
      "Loading required package: AnnotationFilter\n",
      "\n",
      "\n",
      "Attaching package: 'ensembldb'\n",
      "\n",
      "\n",
      "The following object is masked from 'package:dplyr':\n",
      "\n",
      "    filter\n",
      "\n",
      "\n",
      "The following object is masked from 'package:stats':\n",
      "\n",
      "    filter\n",
      "\n",
      "\n"
     ]
    }
   ],
   "source": [
    "library(data.table)\n",
    "library(dplyr)\n",
    "library(\"EnsDb.Hsapiens.v86\")"
   ]
  },
  {
   "cell_type": "markdown",
   "metadata": {},
   "source": [
    "## 1) Gene List"
   ]
  },
  {
   "cell_type": "code",
   "execution_count": 107,
   "metadata": {},
   "outputs": [
    {
     "data": {
      "text/html": [
       "2414"
      ],
      "text/latex": [
       "2414"
      ],
      "text/markdown": [
       "2414"
      ],
      "text/plain": [
       "[1] 2414"
      ]
     },
     "metadata": {},
     "output_type": "display_data"
    },
    {
     "data": {
      "text/html": [
       "<style>\n",
       ".list-inline {list-style: none; margin:0; padding: 0}\n",
       ".list-inline>li {display: inline-block}\n",
       ".list-inline>li:not(:last-child)::after {content: \"\\00b7\"; padding: 0 .5ex}\n",
       "</style>\n",
       "<ol class=list-inline><li>'ADAM15'</li><li>'ADAR'</li><li>'AQP10'</li><li>'ARHGEF2'</li><li>'ASH1L'</li><li>'ASH1L-AS1'</li></ol>\n"
      ],
      "text/latex": [
       "\\begin{enumerate*}\n",
       "\\item 'ADAM15'\n",
       "\\item 'ADAR'\n",
       "\\item 'AQP10'\n",
       "\\item 'ARHGEF2'\n",
       "\\item 'ASH1L'\n",
       "\\item 'ASH1L-AS1'\n",
       "\\end{enumerate*}\n"
      ],
      "text/markdown": [
       "1. 'ADAM15'\n",
       "2. 'ADAR'\n",
       "3. 'AQP10'\n",
       "4. 'ARHGEF2'\n",
       "5. 'ASH1L'\n",
       "6. 'ASH1L-AS1'\n",
       "\n",
       "\n"
      ],
      "text/plain": [
       "[1] \"ADAM15\"    \"ADAR\"      \"AQP10\"     \"ARHGEF2\"   \"ASH1L\"     \"ASH1L-AS1\""
      ]
     },
     "metadata": {},
     "output_type": "display_data"
    }
   ],
   "source": [
    "evidence <- fread(\"$PATH1/genes_by_locus.csv\")\n",
    "\n",
    "\n",
    "evidence_genes <- evidence$Gene\n",
    "\n",
    "length(evidence_genes)\n",
    "head(evidence_genes)\n"
   ]
  },
  {
   "cell_type": "markdown",
   "metadata": {},
   "source": [
    "## 2) get the gwas data for (a) meta5 or (b) progression1 or (c) progression2\n",
    "\n",
    "#### (a) meta5"
   ]
  },
  {
   "cell_type": "code",
   "execution_count": 36,
   "metadata": {},
   "outputs": [
    {
     "data": {
      "text/html": [
       "<style>\n",
       ".list-inline {list-style: none; margin:0; padding: 0}\n",
       ".list-inline>li {display: inline-block}\n",
       ".list-inline>li:not(:last-child)::after {content: \"\\00b7\"; padding: 0 .5ex}\n",
       "</style>\n",
       "<ol class=list-inline><li>7802656</li><li>8</li></ol>\n"
      ],
      "text/latex": [
       "\\begin{enumerate*}\n",
       "\\item 7802656\n",
       "\\item 8\n",
       "\\end{enumerate*}\n"
      ],
      "text/markdown": [
       "1. 7802656\n",
       "2. 8\n",
       "\n",
       "\n"
      ],
      "text/plain": [
       "[1] 7802656       8"
      ]
     },
     "metadata": {},
     "output_type": "display_data"
    },
    {
     "data": {
      "text/html": [
       "<table>\n",
       "<caption>A data.table: 6 × 8</caption>\n",
       "<thead>\n",
       "\t<tr><th scope=col>SNP</th><th scope=col>A1</th><th scope=col>A2</th><th scope=col>freq</th><th scope=col>b</th><th scope=col>se</th><th scope=col>p</th><th scope=col>N</th></tr>\n",
       "\t<tr><th scope=col>&lt;chr&gt;</th><th scope=col>&lt;chr&gt;</th><th scope=col>&lt;chr&gt;</th><th scope=col>&lt;dbl&gt;</th><th scope=col>&lt;dbl&gt;</th><th scope=col>&lt;dbl&gt;</th><th scope=col>&lt;dbl&gt;</th><th scope=col>&lt;int&gt;</th></tr>\n",
       "</thead>\n",
       "<tbody>\n",
       "\t<tr><td>rs7899632  </td><td>A</td><td>G</td><td>0.5665</td><td> 0.0110</td><td>0.0095</td><td>0.2476</td><td>1474097</td></tr>\n",
       "\t<tr><td>rs61875309 </td><td>A</td><td>C</td><td>0.7953</td><td>-0.0091</td><td>0.0116</td><td>0.4295</td><td>1474097</td></tr>\n",
       "\t<tr><td>rs150203744</td><td>T</td><td>C</td><td>0.0140</td><td>-0.0152</td><td>0.0649</td><td>0.8147</td><td>1351069</td></tr>\n",
       "\t<tr><td>rs111551711</td><td>T</td><td>C</td><td>0.9868</td><td> 0.0347</td><td>0.0742</td><td>0.6396</td><td> 777210</td></tr>\n",
       "\t<tr><td>rs12258651 </td><td>T</td><td>G</td><td>0.8819</td><td>-0.0011</td><td>0.0149</td><td>0.9423</td><td>1474097</td></tr>\n",
       "\t<tr><td>rs72828461 </td><td>A</td><td>G</td><td>0.9605</td><td>-0.0018</td><td>0.0325</td><td>0.9569</td><td>1365107</td></tr>\n",
       "</tbody>\n",
       "</table>\n"
      ],
      "text/latex": [
       "A data.table: 6 × 8\n",
       "\\begin{tabular}{llllllll}\n",
       " SNP & A1 & A2 & freq & b & se & p & N\\\\\n",
       " <chr> & <chr> & <chr> & <dbl> & <dbl> & <dbl> & <dbl> & <int>\\\\\n",
       "\\hline\n",
       "\t rs7899632   & A & G & 0.5665 &  0.0110 & 0.0095 & 0.2476 & 1474097\\\\\n",
       "\t rs61875309  & A & C & 0.7953 & -0.0091 & 0.0116 & 0.4295 & 1474097\\\\\n",
       "\t rs150203744 & T & C & 0.0140 & -0.0152 & 0.0649 & 0.8147 & 1351069\\\\\n",
       "\t rs111551711 & T & C & 0.9868 &  0.0347 & 0.0742 & 0.6396 &  777210\\\\\n",
       "\t rs12258651  & T & G & 0.8819 & -0.0011 & 0.0149 & 0.9423 & 1474097\\\\\n",
       "\t rs72828461  & A & G & 0.9605 & -0.0018 & 0.0325 & 0.9569 & 1365107\\\\\n",
       "\\end{tabular}\n"
      ],
      "text/markdown": [
       "\n",
       "A data.table: 6 × 8\n",
       "\n",
       "| SNP &lt;chr&gt; | A1 &lt;chr&gt; | A2 &lt;chr&gt; | freq &lt;dbl&gt; | b &lt;dbl&gt; | se &lt;dbl&gt; | p &lt;dbl&gt; | N &lt;int&gt; |\n",
       "|---|---|---|---|---|---|---|---|\n",
       "| rs7899632   | A | G | 0.5665 |  0.0110 | 0.0095 | 0.2476 | 1474097 |\n",
       "| rs61875309  | A | C | 0.7953 | -0.0091 | 0.0116 | 0.4295 | 1474097 |\n",
       "| rs150203744 | T | C | 0.0140 | -0.0152 | 0.0649 | 0.8147 | 1351069 |\n",
       "| rs111551711 | T | C | 0.9868 |  0.0347 | 0.0742 | 0.6396 |  777210 |\n",
       "| rs12258651  | T | G | 0.8819 | -0.0011 | 0.0149 | 0.9423 | 1474097 |\n",
       "| rs72828461  | A | G | 0.9605 | -0.0018 | 0.0325 | 0.9569 | 1365107 |\n",
       "\n"
      ],
      "text/plain": [
       "  SNP         A1 A2 freq   b       se     p      N      \n",
       "1 rs7899632   A  G  0.5665  0.0110 0.0095 0.2476 1474097\n",
       "2 rs61875309  A  C  0.7953 -0.0091 0.0116 0.4295 1474097\n",
       "3 rs150203744 T  C  0.0140 -0.0152 0.0649 0.8147 1351069\n",
       "4 rs111551711 T  C  0.9868  0.0347 0.0742 0.6396  777210\n",
       "5 rs12258651  T  G  0.8819 -0.0011 0.0149 0.9423 1474097\n",
       "6 rs72828461  A  G  0.9605 -0.0018 0.0325 0.9569 1365107"
      ]
     },
     "metadata": {},
     "output_type": "display_data"
    },
    {
     "data": {
      "text/html": [
       "2382"
      ],
      "text/latex": [
       "2382"
      ],
      "text/markdown": [
       "2382"
      ],
      "text/plain": [
       "[1] 2382"
      ]
     },
     "metadata": {},
     "output_type": "display_data"
    }
   ],
   "source": [
    "#META5\n",
    "gwas_in = paste0('$PATH2/resultsForSmr_filtered.tab.gz')\n",
    "\n",
    "\n",
    "gwas_smr = fread(gwas_in)\n",
    "dim(gwas_smr)\n",
    "head(gwas_smr)\n",
    "\n",
    "#only want the meta5 genes\n",
    "evidence_genes <- evidence[which(evidence$Locusnumber!=\"prog1\" & evidence$Locusnumber!=\"prog2\"),]$Gene\n",
    "length(evidence_genes)"
   ]
  },
  {
   "cell_type": "code",
   "execution_count": 48,
   "metadata": {},
   "outputs": [
    {
     "data": {
      "text/html": [
       "<style>\n",
       ".list-inline {list-style: none; margin:0; padding: 0}\n",
       ".list-inline>li {display: inline-block}\n",
       ".list-inline>li:not(:last-child)::after {content: \"\\00b7\"; padding: 0 .5ex}\n",
       "</style>\n",
       "<ol class=list-inline><li>7781722</li><li>8</li></ol>\n"
      ],
      "text/latex": [
       "\\begin{enumerate*}\n",
       "\\item 7781722\n",
       "\\item 8\n",
       "\\end{enumerate*}\n"
      ],
      "text/markdown": [
       "1. 7781722\n",
       "2. 8\n",
       "\n",
       "\n"
      ],
      "text/plain": [
       "[1] 7781722       8"
      ]
     },
     "metadata": {},
     "output_type": "display_data"
    },
    {
     "data": {
      "text/html": [
       "<table>\n",
       "<caption>A data.frame: 6 × 8</caption>\n",
       "<thead>\n",
       "\t<tr><th></th><th scope=col>SNP</th><th scope=col>A1</th><th scope=col>A2</th><th scope=col>freq</th><th scope=col>b</th><th scope=col>se</th><th scope=col>p</th><th scope=col>N</th></tr>\n",
       "\t<tr><th></th><th scope=col>&lt;chr&gt;</th><th scope=col>&lt;chr&gt;</th><th scope=col>&lt;chr&gt;</th><th scope=col>&lt;dbl&gt;</th><th scope=col>&lt;dbl&gt;</th><th scope=col>&lt;dbl&gt;</th><th scope=col>&lt;dbl&gt;</th><th scope=col>&lt;int&gt;</th></tr>\n",
       "</thead>\n",
       "<tbody>\n",
       "\t<tr><th scope=row>1</th><td>rs7899632  </td><td>A</td><td>G</td><td>0.5665</td><td> 0.0110</td><td>0.0095</td><td>0.2476</td><td>1474097</td></tr>\n",
       "\t<tr><th scope=row>2</th><td>rs61875309 </td><td>A</td><td>C</td><td>0.7953</td><td>-0.0091</td><td>0.0116</td><td>0.4295</td><td>1474097</td></tr>\n",
       "\t<tr><th scope=row>3</th><td>rs150203744</td><td>T</td><td>C</td><td>0.0140</td><td>-0.0152</td><td>0.0649</td><td>0.8147</td><td>1351069</td></tr>\n",
       "\t<tr><th scope=row>4</th><td>rs111551711</td><td>T</td><td>C</td><td>0.9868</td><td> 0.0347</td><td>0.0742</td><td>0.6396</td><td> 777210</td></tr>\n",
       "\t<tr><th scope=row>5</th><td>rs12258651 </td><td>T</td><td>G</td><td>0.8819</td><td>-0.0011</td><td>0.0149</td><td>0.9423</td><td>1474097</td></tr>\n",
       "\t<tr><th scope=row>6</th><td>rs72828461 </td><td>A</td><td>G</td><td>0.9605</td><td>-0.0018</td><td>0.0325</td><td>0.9569</td><td>1365107</td></tr>\n",
       "</tbody>\n",
       "</table>\n"
      ],
      "text/latex": [
       "A data.frame: 6 × 8\n",
       "\\begin{tabular}{r|llllllll}\n",
       "  & SNP & A1 & A2 & freq & b & se & p & N\\\\\n",
       "  & <chr> & <chr> & <chr> & <dbl> & <dbl> & <dbl> & <dbl> & <int>\\\\\n",
       "\\hline\n",
       "\t1 & rs7899632   & A & G & 0.5665 &  0.0110 & 0.0095 & 0.2476 & 1474097\\\\\n",
       "\t2 & rs61875309  & A & C & 0.7953 & -0.0091 & 0.0116 & 0.4295 & 1474097\\\\\n",
       "\t3 & rs150203744 & T & C & 0.0140 & -0.0152 & 0.0649 & 0.8147 & 1351069\\\\\n",
       "\t4 & rs111551711 & T & C & 0.9868 &  0.0347 & 0.0742 & 0.6396 &  777210\\\\\n",
       "\t5 & rs12258651  & T & G & 0.8819 & -0.0011 & 0.0149 & 0.9423 & 1474097\\\\\n",
       "\t6 & rs72828461  & A & G & 0.9605 & -0.0018 & 0.0325 & 0.9569 & 1365107\\\\\n",
       "\\end{tabular}\n"
      ],
      "text/markdown": [
       "\n",
       "A data.frame: 6 × 8\n",
       "\n",
       "| <!--/--> | SNP &lt;chr&gt; | A1 &lt;chr&gt; | A2 &lt;chr&gt; | freq &lt;dbl&gt; | b &lt;dbl&gt; | se &lt;dbl&gt; | p &lt;dbl&gt; | N &lt;int&gt; |\n",
       "|---|---|---|---|---|---|---|---|---|\n",
       "| 1 | rs7899632   | A | G | 0.5665 |  0.0110 | 0.0095 | 0.2476 | 1474097 |\n",
       "| 2 | rs61875309  | A | C | 0.7953 | -0.0091 | 0.0116 | 0.4295 | 1474097 |\n",
       "| 3 | rs150203744 | T | C | 0.0140 | -0.0152 | 0.0649 | 0.8147 | 1351069 |\n",
       "| 4 | rs111551711 | T | C | 0.9868 |  0.0347 | 0.0742 | 0.6396 |  777210 |\n",
       "| 5 | rs12258651  | T | G | 0.8819 | -0.0011 | 0.0149 | 0.9423 | 1474097 |\n",
       "| 6 | rs72828461  | A | G | 0.9605 | -0.0018 | 0.0325 | 0.9569 | 1365107 |\n",
       "\n"
      ],
      "text/plain": [
       "  SNP         A1 A2 freq   b       se     p      N      \n",
       "1 rs7899632   A  G  0.5665  0.0110 0.0095 0.2476 1474097\n",
       "2 rs61875309  A  C  0.7953 -0.0091 0.0116 0.4295 1474097\n",
       "3 rs150203744 T  C  0.0140 -0.0152 0.0649 0.8147 1351069\n",
       "4 rs111551711 T  C  0.9868  0.0347 0.0742 0.6396  777210\n",
       "5 rs12258651  T  G  0.8819 -0.0011 0.0149 0.9423 1474097\n",
       "6 rs72828461  A  G  0.9605 -0.0018 0.0325 0.9569 1365107"
      ]
     },
     "metadata": {},
     "output_type": "display_data"
    }
   ],
   "source": [
    "#ignore SNPs with no rsid\n",
    "gwas_smr_rsid <- gwas_smr %>% dplyr::filter(SNP!=\".\")\n",
    "dim(gwas_smr_rsid)\n",
    "head(gwas_smr_rsid)"
   ]
  },
  {
   "cell_type": "code",
   "execution_count": 49,
   "metadata": {},
   "outputs": [
    {
     "data": {
      "text/html": [
       "<style>\n",
       ".list-inline {list-style: none; margin:0; padding: 0}\n",
       ".list-inline>li {display: inline-block}\n",
       ".list-inline>li:not(:last-child)::after {content: \"\\00b7\"; padding: 0 .5ex}\n",
       "</style>\n",
       "<ol class=list-inline><li>7781722</li><li>8</li></ol>\n"
      ],
      "text/latex": [
       "\\begin{enumerate*}\n",
       "\\item 7781722\n",
       "\\item 8\n",
       "\\end{enumerate*}\n"
      ],
      "text/markdown": [
       "1. 7781722\n",
       "2. 8\n",
       "\n",
       "\n"
      ],
      "text/plain": [
       "[1] 7781722       8"
      ]
     },
     "metadata": {},
     "output_type": "display_data"
    },
    {
     "data": {
      "text/html": [
       "<table>\n",
       "<caption>A data.frame: 6 × 8</caption>\n",
       "<thead>\n",
       "\t<tr><th></th><th scope=col>SNP</th><th scope=col>A1</th><th scope=col>A2</th><th scope=col>freq</th><th scope=col>b</th><th scope=col>se</th><th scope=col>p</th><th scope=col>N</th></tr>\n",
       "\t<tr><th></th><th scope=col>&lt;chr&gt;</th><th scope=col>&lt;chr&gt;</th><th scope=col>&lt;chr&gt;</th><th scope=col>&lt;dbl&gt;</th><th scope=col>&lt;dbl&gt;</th><th scope=col>&lt;dbl&gt;</th><th scope=col>&lt;dbl&gt;</th><th scope=col>&lt;int&gt;</th></tr>\n",
       "</thead>\n",
       "<tbody>\n",
       "\t<tr><th scope=row>1</th><td>rs7899632  </td><td>A</td><td>G</td><td>0.5665</td><td> 0.0110</td><td>0.0095</td><td>0.2476</td><td>1474097</td></tr>\n",
       "\t<tr><th scope=row>2</th><td>rs61875309 </td><td>A</td><td>C</td><td>0.7953</td><td>-0.0091</td><td>0.0116</td><td>0.4295</td><td>1474097</td></tr>\n",
       "\t<tr><th scope=row>3</th><td>rs150203744</td><td>T</td><td>C</td><td>0.0140</td><td>-0.0152</td><td>0.0649</td><td>0.8147</td><td>1351069</td></tr>\n",
       "\t<tr><th scope=row>4</th><td>rs111551711</td><td>T</td><td>C</td><td>0.9868</td><td> 0.0347</td><td>0.0742</td><td>0.6396</td><td> 777210</td></tr>\n",
       "\t<tr><th scope=row>5</th><td>rs12258651 </td><td>T</td><td>G</td><td>0.8819</td><td>-0.0011</td><td>0.0149</td><td>0.9423</td><td>1474097</td></tr>\n",
       "\t<tr><th scope=row>6</th><td>rs72828461 </td><td>A</td><td>G</td><td>0.9605</td><td>-0.0018</td><td>0.0325</td><td>0.9569</td><td>1365107</td></tr>\n",
       "</tbody>\n",
       "</table>\n"
      ],
      "text/latex": [
       "A data.frame: 6 × 8\n",
       "\\begin{tabular}{r|llllllll}\n",
       "  & SNP & A1 & A2 & freq & b & se & p & N\\\\\n",
       "  & <chr> & <chr> & <chr> & <dbl> & <dbl> & <dbl> & <dbl> & <int>\\\\\n",
       "\\hline\n",
       "\t1 & rs7899632   & A & G & 0.5665 &  0.0110 & 0.0095 & 0.2476 & 1474097\\\\\n",
       "\t2 & rs61875309  & A & C & 0.7953 & -0.0091 & 0.0116 & 0.4295 & 1474097\\\\\n",
       "\t3 & rs150203744 & T & C & 0.0140 & -0.0152 & 0.0649 & 0.8147 & 1351069\\\\\n",
       "\t4 & rs111551711 & T & C & 0.9868 &  0.0347 & 0.0742 & 0.6396 &  777210\\\\\n",
       "\t5 & rs12258651  & T & G & 0.8819 & -0.0011 & 0.0149 & 0.9423 & 1474097\\\\\n",
       "\t6 & rs72828461  & A & G & 0.9605 & -0.0018 & 0.0325 & 0.9569 & 1365107\\\\\n",
       "\\end{tabular}\n"
      ],
      "text/markdown": [
       "\n",
       "A data.frame: 6 × 8\n",
       "\n",
       "| <!--/--> | SNP &lt;chr&gt; | A1 &lt;chr&gt; | A2 &lt;chr&gt; | freq &lt;dbl&gt; | b &lt;dbl&gt; | se &lt;dbl&gt; | p &lt;dbl&gt; | N &lt;int&gt; |\n",
       "|---|---|---|---|---|---|---|---|---|\n",
       "| 1 | rs7899632   | A | G | 0.5665 |  0.0110 | 0.0095 | 0.2476 | 1474097 |\n",
       "| 2 | rs61875309  | A | C | 0.7953 | -0.0091 | 0.0116 | 0.4295 | 1474097 |\n",
       "| 3 | rs150203744 | T | C | 0.0140 | -0.0152 | 0.0649 | 0.8147 | 1351069 |\n",
       "| 4 | rs111551711 | T | C | 0.9868 |  0.0347 | 0.0742 | 0.6396 |  777210 |\n",
       "| 5 | rs12258651  | T | G | 0.8819 | -0.0011 | 0.0149 | 0.9423 | 1474097 |\n",
       "| 6 | rs72828461  | A | G | 0.9605 | -0.0018 | 0.0325 | 0.9569 | 1365107 |\n",
       "\n"
      ],
      "text/plain": [
       "  SNP         A1 A2 freq   b       se     p      N      \n",
       "1 rs7899632   A  G  0.5665  0.0110 0.0095 0.2476 1474097\n",
       "2 rs61875309  A  C  0.7953 -0.0091 0.0116 0.4295 1474097\n",
       "3 rs150203744 T  C  0.0140 -0.0152 0.0649 0.8147 1351069\n",
       "4 rs111551711 T  C  0.9868  0.0347 0.0742 0.6396  777210\n",
       "5 rs12258651  T  G  0.8819 -0.0011 0.0149 0.9423 1474097\n",
       "6 rs72828461  A  G  0.9605 -0.0018 0.0325 0.9569 1365107"
      ]
     },
     "metadata": {},
     "output_type": "display_data"
    }
   ],
   "source": [
    "#the file has duplicates for some reason, so remove them\n",
    "gwas_smr_unique <- unique(gwas_smr_rsid)\n",
    "dim(gwas_smr_unique)\n",
    "head(gwas_smr_unique)"
   ]
  },
  {
   "cell_type": "code",
   "execution_count": 52,
   "metadata": {},
   "outputs": [
    {
     "data": {
      "text/html": [
       "<style>\n",
       ".list-inline {list-style: none; margin:0; padding: 0}\n",
       ".list-inline>li {display: inline-block}\n",
       ".list-inline>li:not(:last-child)::after {content: \"\\00b7\"; padding: 0 .5ex}\n",
       "</style>\n",
       "<ol class=list-inline><li>33619058</li><li>2</li></ol>\n"
      ],
      "text/latex": [
       "\\begin{enumerate*}\n",
       "\\item 33619058\n",
       "\\item 2\n",
       "\\end{enumerate*}\n"
      ],
      "text/markdown": [
       "1. 33619058\n",
       "2. 2\n",
       "\n",
       "\n"
      ],
      "text/plain": [
       "[1] 33619058        2"
      ]
     },
     "metadata": {},
     "output_type": "display_data"
    },
    {
     "data": {
      "text/html": [
       "<table>\n",
       "<caption>A data.table: 6 × 2</caption>\n",
       "<thead>\n",
       "\t<tr><th scope=col>ID</th><th scope=col>ID2</th></tr>\n",
       "\t<tr><th scope=col>&lt;chr&gt;</th><th scope=col>&lt;chr&gt;</th></tr>\n",
       "</thead>\n",
       "<tbody>\n",
       "\t<tr><td>rs571093408</td><td>1:13380:C:G</td></tr>\n",
       "\t<tr><td>rs541172944</td><td>1:16071:G:A</td></tr>\n",
       "\t<tr><td>rs529651976</td><td>1:16141:C:T</td></tr>\n",
       "\t<tr><td>rs200943160</td><td>1:49298:T:C</td></tr>\n",
       "\t<tr><td>rs140052487</td><td>1:54353:C:A</td></tr>\n",
       "\t<tr><td>rs558796213</td><td>1:54564:G:T</td></tr>\n",
       "</tbody>\n",
       "</table>\n"
      ],
      "text/latex": [
       "A data.table: 6 × 2\n",
       "\\begin{tabular}{ll}\n",
       " ID & ID2\\\\\n",
       " <chr> & <chr>\\\\\n",
       "\\hline\n",
       "\t rs571093408 & 1:13380:C:G\\\\\n",
       "\t rs541172944 & 1:16071:G:A\\\\\n",
       "\t rs529651976 & 1:16141:C:T\\\\\n",
       "\t rs200943160 & 1:49298:T:C\\\\\n",
       "\t rs140052487 & 1:54353:C:A\\\\\n",
       "\t rs558796213 & 1:54564:G:T\\\\\n",
       "\\end{tabular}\n"
      ],
      "text/markdown": [
       "\n",
       "A data.table: 6 × 2\n",
       "\n",
       "| ID &lt;chr&gt; | ID2 &lt;chr&gt; |\n",
       "|---|---|\n",
       "| rs571093408 | 1:13380:C:G |\n",
       "| rs541172944 | 1:16071:G:A |\n",
       "| rs529651976 | 1:16141:C:T |\n",
       "| rs200943160 | 1:49298:T:C |\n",
       "| rs140052487 | 1:54353:C:A |\n",
       "| rs558796213 | 1:54564:G:T |\n",
       "\n"
      ],
      "text/plain": [
       "  ID          ID2        \n",
       "1 rs571093408 1:13380:C:G\n",
       "2 rs541172944 1:16071:G:A\n",
       "3 rs529651976 1:16141:C:T\n",
       "4 rs200943160 1:49298:T:C\n",
       "5 rs140052487 1:54353:C:A\n",
       "6 rs558796213 1:54564:G:T"
      ]
     },
     "metadata": {},
     "output_type": "display_data"
    }
   ],
   "source": [
    "snp_info = fread(\"$PATH3/HRC_RS_conversion_final_new_imputation_server.txt\")\n",
    "dim(snp_info)\n",
    "head(snp_info)"
   ]
  },
  {
   "cell_type": "markdown",
   "metadata": {},
   "source": [
    "we need chr:bp:ref:alt for merging later"
   ]
  },
  {
   "cell_type": "code",
   "execution_count": 59,
   "metadata": {},
   "outputs": [
    {
     "data": {
      "text/html": [
       "<style>\n",
       ".list-inline {list-style: none; margin:0; padding: 0}\n",
       ".list-inline>li {display: inline-block}\n",
       ".list-inline>li:not(:last-child)::after {content: \"\\00b7\"; padding: 0 .5ex}\n",
       "</style>\n",
       "<ol class=list-inline><li>7789691</li><li>9</li></ol>\n"
      ],
      "text/latex": [
       "\\begin{enumerate*}\n",
       "\\item 7789691\n",
       "\\item 9\n",
       "\\end{enumerate*}\n"
      ],
      "text/markdown": [
       "1. 7789691\n",
       "2. 9\n",
       "\n",
       "\n"
      ],
      "text/plain": [
       "[1] 7789691       9"
      ]
     },
     "metadata": {},
     "output_type": "display_data"
    },
    {
     "data": {
      "text/html": [
       "<table>\n",
       "<caption>A data.frame: 6 × 9</caption>\n",
       "<thead>\n",
       "\t<tr><th></th><th scope=col>SNP</th><th scope=col>A1</th><th scope=col>A2</th><th scope=col>freq</th><th scope=col>b</th><th scope=col>se</th><th scope=col>p</th><th scope=col>N</th><th scope=col>ID2</th></tr>\n",
       "\t<tr><th></th><th scope=col>&lt;chr&gt;</th><th scope=col>&lt;chr&gt;</th><th scope=col>&lt;chr&gt;</th><th scope=col>&lt;dbl&gt;</th><th scope=col>&lt;dbl&gt;</th><th scope=col>&lt;dbl&gt;</th><th scope=col>&lt;dbl&gt;</th><th scope=col>&lt;int&gt;</th><th scope=col>&lt;chr&gt;</th></tr>\n",
       "</thead>\n",
       "<tbody>\n",
       "\t<tr><th scope=row>1</th><td>rs10      </td><td>A</td><td>C</td><td>0.0544</td><td> 0.0018</td><td>0.0259</td><td>0.94430</td><td>1460059</td><td>7:92383888:A:C  </td></tr>\n",
       "\t<tr><th scope=row>2</th><td>rs1000000 </td><td>A</td><td>G</td><td>0.2175</td><td>-0.0248</td><td>0.0121</td><td>0.04058</td><td>1460059</td><td>12:126890980:G:A</td></tr>\n",
       "\t<tr><th scope=row>3</th><td>rs10000000</td><td>A</td><td>T</td><td>0.9316</td><td>-0.0194</td><td>0.0252</td><td>0.44090</td><td>1364108</td><td>4:40088896:A:T  </td></tr>\n",
       "\t<tr><th scope=row>4</th><td>rs10000003</td><td>A</td><td>G</td><td>0.2997</td><td> 0.0151</td><td>0.0105</td><td>0.15150</td><td>1474097</td><td>4:57561647:A:G  </td></tr>\n",
       "\t<tr><th scope=row>5</th><td>rs10000005</td><td>A</td><td>G</td><td>0.5504</td><td> 0.0046</td><td>0.0101</td><td>0.65170</td><td>1460059</td><td>4:85161558:G:A  </td></tr>\n",
       "\t<tr><th scope=row>6</th><td>rs10000006</td><td>T</td><td>C</td><td>0.9625</td><td> 0.0561</td><td>0.0284</td><td>0.04820</td><td>1460059</td><td>4:108826383:T:C </td></tr>\n",
       "</tbody>\n",
       "</table>\n"
      ],
      "text/latex": [
       "A data.frame: 6 × 9\n",
       "\\begin{tabular}{r|lllllllll}\n",
       "  & SNP & A1 & A2 & freq & b & se & p & N & ID2\\\\\n",
       "  & <chr> & <chr> & <chr> & <dbl> & <dbl> & <dbl> & <dbl> & <int> & <chr>\\\\\n",
       "\\hline\n",
       "\t1 & rs10       & A & C & 0.0544 &  0.0018 & 0.0259 & 0.94430 & 1460059 & 7:92383888:A:C  \\\\\n",
       "\t2 & rs1000000  & A & G & 0.2175 & -0.0248 & 0.0121 & 0.04058 & 1460059 & 12:126890980:G:A\\\\\n",
       "\t3 & rs10000000 & A & T & 0.9316 & -0.0194 & 0.0252 & 0.44090 & 1364108 & 4:40088896:A:T  \\\\\n",
       "\t4 & rs10000003 & A & G & 0.2997 &  0.0151 & 0.0105 & 0.15150 & 1474097 & 4:57561647:A:G  \\\\\n",
       "\t5 & rs10000005 & A & G & 0.5504 &  0.0046 & 0.0101 & 0.65170 & 1460059 & 4:85161558:G:A  \\\\\n",
       "\t6 & rs10000006 & T & C & 0.9625 &  0.0561 & 0.0284 & 0.04820 & 1460059 & 4:108826383:T:C \\\\\n",
       "\\end{tabular}\n"
      ],
      "text/markdown": [
       "\n",
       "A data.frame: 6 × 9\n",
       "\n",
       "| <!--/--> | SNP &lt;chr&gt; | A1 &lt;chr&gt; | A2 &lt;chr&gt; | freq &lt;dbl&gt; | b &lt;dbl&gt; | se &lt;dbl&gt; | p &lt;dbl&gt; | N &lt;int&gt; | ID2 &lt;chr&gt; |\n",
       "|---|---|---|---|---|---|---|---|---|---|\n",
       "| 1 | rs10       | A | C | 0.0544 |  0.0018 | 0.0259 | 0.94430 | 1460059 | 7:92383888:A:C   |\n",
       "| 2 | rs1000000  | A | G | 0.2175 | -0.0248 | 0.0121 | 0.04058 | 1460059 | 12:126890980:G:A |\n",
       "| 3 | rs10000000 | A | T | 0.9316 | -0.0194 | 0.0252 | 0.44090 | 1364108 | 4:40088896:A:T   |\n",
       "| 4 | rs10000003 | A | G | 0.2997 |  0.0151 | 0.0105 | 0.15150 | 1474097 | 4:57561647:A:G   |\n",
       "| 5 | rs10000005 | A | G | 0.5504 |  0.0046 | 0.0101 | 0.65170 | 1460059 | 4:85161558:G:A   |\n",
       "| 6 | rs10000006 | T | C | 0.9625 |  0.0561 | 0.0284 | 0.04820 | 1460059 | 4:108826383:T:C  |\n",
       "\n"
      ],
      "text/plain": [
       "  SNP        A1 A2 freq   b       se     p       N       ID2             \n",
       "1 rs10       A  C  0.0544  0.0018 0.0259 0.94430 1460059 7:92383888:A:C  \n",
       "2 rs1000000  A  G  0.2175 -0.0248 0.0121 0.04058 1460059 12:126890980:G:A\n",
       "3 rs10000000 A  T  0.9316 -0.0194 0.0252 0.44090 1364108 4:40088896:A:T  \n",
       "4 rs10000003 A  G  0.2997  0.0151 0.0105 0.15150 1474097 4:57561647:A:G  \n",
       "5 rs10000005 A  G  0.5504  0.0046 0.0101 0.65170 1460059 4:85161558:G:A  \n",
       "6 rs10000006 T  C  0.9625  0.0561 0.0284 0.04820 1460059 4:108826383:T:C "
      ]
     },
     "metadata": {},
     "output_type": "display_data"
    }
   ],
   "source": [
    "#merging the two will increase the row count because rsids in snp_info have multiple chr:bp:ref:alt but this shouldn't be an issue in the end\n",
    "gwas = merge(x=gwas_smr_unique, y=snp_info, by.x = \"SNP\", by.y = \"ID\", all.x=T)\n",
    "dim(gwas)\n",
    "head(gwas)"
   ]
  },
  {
   "cell_type": "markdown",
   "metadata": {},
   "source": [
    "#### (b) progression1\n",
    "\n",
    "read in progression gwas data"
   ]
  },
  {
   "cell_type": "code",
   "execution_count": 79,
   "metadata": {},
   "outputs": [
    {
     "name": "stdout",
     "output_type": "stream",
     "text": [
      "[1] 15\n",
      " [1] \"ADRA2A\"    \"BBIP1\"     \"DUSP5\"     \"GPAM\"      \"HEAT2\"     \"MIR4680\"  \n",
      " [7] \"MIR548E\"   \"MXI1\"      \"PDCD4\"     \"PDCD4-AS1\" \"RBM20\"     \"RPL13AP6\" \n",
      "[13] \"SHOC2\"     \"SMC3\"      \"SMNDC1\"   \n"
     ]
    },
    {
     "data": {
      "text/html": [
       "<table>\n",
       "<caption>A data.frame: 6 × 8</caption>\n",
       "<thead>\n",
       "\t<tr><th></th><th scope=col>SNP</th><th scope=col>BETA</th><th scope=col>SE</th><th scope=col>P</th><th scope=col>N</th><th scope=col>NSTUDY</th><th scope=col>Isq</th><th scope=col>p</th></tr>\n",
       "\t<tr><th></th><th scope=col>&lt;chr&gt;</th><th scope=col>&lt;dbl&gt;</th><th scope=col>&lt;dbl&gt;</th><th scope=col>&lt;dbl&gt;</th><th scope=col>&lt;int&gt;</th><th scope=col>&lt;int&gt;</th><th scope=col>&lt;dbl&gt;</th><th scope=col>&lt;dbl&gt;</th></tr>\n",
       "</thead>\n",
       "<tbody>\n",
       "\t<tr><th scope=row>1</th><td>5:85928892  </td><td>-0.0963</td><td>0.2209</td><td>0.6629</td><td>1033</td><td>5</td><td> 0.0</td><td>0.6629</td></tr>\n",
       "\t<tr><th scope=row>2</th><td>2:170966953 </td><td> 0.4332</td><td>0.3700</td><td>0.2417</td><td>1736</td><td>5</td><td>40.8</td><td>0.2417</td></tr>\n",
       "\t<tr><th scope=row>3</th><td>10:128341232</td><td>-0.0573</td><td>0.1070</td><td>0.5919</td><td>1033</td><td>5</td><td> 0.0</td><td>0.5919</td></tr>\n",
       "\t<tr><th scope=row>4</th><td>3:62707519  </td><td>-0.3537</td><td>0.2601</td><td>0.1738</td><td>1033</td><td>5</td><td> 0.0</td><td>0.1738</td></tr>\n",
       "\t<tr><th scope=row>5</th><td>2:80464120  </td><td>-0.1522</td><td>0.5069</td><td>0.7641</td><td> 931</td><td>4</td><td> 0.0</td><td>0.7641</td></tr>\n",
       "\t<tr><th scope=row>6</th><td>18:51112281 </td><td> 0.0078</td><td>0.1181</td><td>0.9476</td><td>1033</td><td>5</td><td> 0.0</td><td>0.9476</td></tr>\n",
       "</tbody>\n",
       "</table>\n"
      ],
      "text/latex": [
       "A data.frame: 6 × 8\n",
       "\\begin{tabular}{r|llllllll}\n",
       "  & SNP & BETA & SE & P & N & NSTUDY & Isq & p\\\\\n",
       "  & <chr> & <dbl> & <dbl> & <dbl> & <int> & <int> & <dbl> & <dbl>\\\\\n",
       "\\hline\n",
       "\t1 & 5:85928892   & -0.0963 & 0.2209 & 0.6629 & 1033 & 5 &  0.0 & 0.6629\\\\\n",
       "\t2 & 2:170966953  &  0.4332 & 0.3700 & 0.2417 & 1736 & 5 & 40.8 & 0.2417\\\\\n",
       "\t3 & 10:128341232 & -0.0573 & 0.1070 & 0.5919 & 1033 & 5 &  0.0 & 0.5919\\\\\n",
       "\t4 & 3:62707519   & -0.3537 & 0.2601 & 0.1738 & 1033 & 5 &  0.0 & 0.1738\\\\\n",
       "\t5 & 2:80464120   & -0.1522 & 0.5069 & 0.7641 &  931 & 4 &  0.0 & 0.7641\\\\\n",
       "\t6 & 18:51112281  &  0.0078 & 0.1181 & 0.9476 & 1033 & 5 &  0.0 & 0.9476\\\\\n",
       "\\end{tabular}\n"
      ],
      "text/markdown": [
       "\n",
       "A data.frame: 6 × 8\n",
       "\n",
       "| <!--/--> | SNP &lt;chr&gt; | BETA &lt;dbl&gt; | SE &lt;dbl&gt; | P &lt;dbl&gt; | N &lt;int&gt; | NSTUDY &lt;int&gt; | Isq &lt;dbl&gt; | p &lt;dbl&gt; |\n",
       "|---|---|---|---|---|---|---|---|---|\n",
       "| 1 | 5:85928892   | -0.0963 | 0.2209 | 0.6629 | 1033 | 5 |  0.0 | 0.6629 |\n",
       "| 2 | 2:170966953  |  0.4332 | 0.3700 | 0.2417 | 1736 | 5 | 40.8 | 0.2417 |\n",
       "| 3 | 10:128341232 | -0.0573 | 0.1070 | 0.5919 | 1033 | 5 |  0.0 | 0.5919 |\n",
       "| 4 | 3:62707519   | -0.3537 | 0.2601 | 0.1738 | 1033 | 5 |  0.0 | 0.1738 |\n",
       "| 5 | 2:80464120   | -0.1522 | 0.5069 | 0.7641 |  931 | 4 |  0.0 | 0.7641 |\n",
       "| 6 | 18:51112281  |  0.0078 | 0.1181 | 0.9476 | 1033 | 5 |  0.0 | 0.9476 |\n",
       "\n"
      ],
      "text/plain": [
       "  SNP          BETA    SE     P      N    NSTUDY Isq  p     \n",
       "1 5:85928892   -0.0963 0.2209 0.6629 1033 5       0.0 0.6629\n",
       "2 2:170966953   0.4332 0.3700 0.2417 1736 5      40.8 0.2417\n",
       "3 10:128341232 -0.0573 0.1070 0.5919 1033 5       0.0 0.5919\n",
       "4 3:62707519   -0.3537 0.2601 0.1738 1033 5       0.0 0.1738\n",
       "5 2:80464120   -0.1522 0.5069 0.7641  931 4       0.0 0.7641\n",
       "6 18:51112281   0.0078 0.1181 0.9476 1033 5       0.0 0.9476"
      ]
     },
     "metadata": {},
     "output_type": "display_data"
    },
    {
     "data": {
      "text/html": [
       "<style>\n",
       ".list-inline {list-style: none; margin:0; padding: 0}\n",
       ".list-inline>li {display: inline-block}\n",
       ".list-inline>li:not(:last-child)::after {content: \"\\00b7\"; padding: 0 .5ex}\n",
       "</style>\n",
       "<ol class=list-inline><li>8614785</li><li>8</li></ol>\n"
      ],
      "text/latex": [
       "\\begin{enumerate*}\n",
       "\\item 8614785\n",
       "\\item 8\n",
       "\\end{enumerate*}\n"
      ],
      "text/markdown": [
       "1. 8614785\n",
       "2. 8\n",
       "\n",
       "\n"
      ],
      "text/plain": [
       "[1] 8614785       8"
      ]
     },
     "metadata": {},
     "output_type": "display_data"
    }
   ],
   "source": [
    "#Progression Loci\n",
    "##rs61863020, 10:112956055, prog1\n",
    "gwas_in = paste0('$PATH1/locuszoom/base_INS.txt')\n",
    "evidence_genes <- evidence[which(evidence$Locusnumber==\"prog1\"),]$Gene\n",
    "\n",
    "print(length(evidence_genes))\n",
    "print(evidence_genes)\n",
    "\n",
    "gwas = fread(gwas_in)\n",
    "\n",
    "# change the headers a bit\n",
    "if('ID' %in% names(gwas)){\n",
    "  gwas = gwas %>% mutate(SNP = ID) %>% mutate(p = P)\n",
    "}\n",
    "\n",
    "if('P' %in% names(gwas)){\n",
    "    gwas = gwas %>% mutate(p = P)\n",
    "}\n",
    "\n",
    "head(gwas)\n",
    "dim(gwas)"
   ]
  },
  {
   "cell_type": "markdown",
   "metadata": {},
   "source": [
    "merge progression loci summary stats with reference.txt to get rsids"
   ]
  },
  {
   "cell_type": "code",
   "execution_count": 80,
   "metadata": {},
   "outputs": [
    {
     "data": {
      "text/html": [
       "<style>\n",
       ".list-inline {list-style: none; margin:0; padding: 0}\n",
       ".list-inline>li {display: inline-block}\n",
       ".list-inline>li:not(:last-child)::after {content: \"\\00b7\"; padding: 0 .5ex}\n",
       "</style>\n",
       "<ol class=list-inline><li>9240625</li><li>9</li></ol>\n"
      ],
      "text/latex": [
       "\\begin{enumerate*}\n",
       "\\item 9240625\n",
       "\\item 9\n",
       "\\end{enumerate*}\n"
      ],
      "text/markdown": [
       "1. 9240625\n",
       "2. 9\n",
       "\n",
       "\n"
      ],
      "text/plain": [
       "[1] 9240625       9"
      ]
     },
     "metadata": {},
     "output_type": "display_data"
    },
    {
     "data": {
      "text/html": [
       "<table>\n",
       "<caption>A data.table: 6 × 9</caption>\n",
       "<thead>\n",
       "\t<tr><th scope=col>SNP</th><th scope=col>RSID</th><th scope=col>CHR</th><th scope=col>START</th><th scope=col>REF</th><th scope=col>ALT</th><th scope=col>MAF</th><th scope=col>FUNC</th><th scope=col>NearGENE</th></tr>\n",
       "\t<tr><th scope=col>&lt;chr&gt;</th><th scope=col>&lt;chr&gt;</th><th scope=col>&lt;int&gt;</th><th scope=col>&lt;dbl&gt;</th><th scope=col>&lt;chr&gt;</th><th scope=col>&lt;chr&gt;</th><th scope=col>&lt;dbl&gt;</th><th scope=col>&lt;chr&gt;</th><th scope=col>&lt;chr&gt;</th></tr>\n",
       "</thead>\n",
       "<tbody>\n",
       "\t<tr><td>1:14470</td><td>           </td><td>1</td><td>14470</td><td>G</td><td>A</td><td>0.0263</td><td>ncRNA_exonic  </td><td>WASH7P</td></tr>\n",
       "\t<tr><td>1:14671</td><td>rs201055865</td><td>1</td><td>14671</td><td>G</td><td>C</td><td>0.0156</td><td>ncRNA_exonic  </td><td>WASH7P</td></tr>\n",
       "\t<tr><td>1:14773</td><td>rs878915777</td><td>1</td><td>14773</td><td>C</td><td>T</td><td>0.0178</td><td>ncRNA_exonic  </td><td>WASH7P</td></tr>\n",
       "\t<tr><td>1:16841</td><td>rs62636368 </td><td>1</td><td>16841</td><td>G</td><td>T</td><td>0.0725</td><td>ncRNA_intronic</td><td>WASH7P</td></tr>\n",
       "\t<tr><td>1:16856</td><td>rs3891260  </td><td>1</td><td>16856</td><td>A</td><td>G</td><td>0.0199</td><td>ncRNA_splicing</td><td>WASH7P</td></tr>\n",
       "\t<tr><td>1:17147</td><td>rs867691030</td><td>1</td><td>17147</td><td>G</td><td>A</td><td>0.0448</td><td>ncRNA_intronic</td><td>WASH7P</td></tr>\n",
       "</tbody>\n",
       "</table>\n"
      ],
      "text/latex": [
       "A data.table: 6 × 9\n",
       "\\begin{tabular}{lllllllll}\n",
       " SNP & RSID & CHR & START & REF & ALT & MAF & FUNC & NearGENE\\\\\n",
       " <chr> & <chr> & <int> & <dbl> & <chr> & <chr> & <dbl> & <chr> & <chr>\\\\\n",
       "\\hline\n",
       "\t 1:14470 &             & 1 & 14470 & G & A & 0.0263 & ncRNA\\_exonic   & WASH7P\\\\\n",
       "\t 1:14671 & rs201055865 & 1 & 14671 & G & C & 0.0156 & ncRNA\\_exonic   & WASH7P\\\\\n",
       "\t 1:14773 & rs878915777 & 1 & 14773 & C & T & 0.0178 & ncRNA\\_exonic   & WASH7P\\\\\n",
       "\t 1:16841 & rs62636368  & 1 & 16841 & G & T & 0.0725 & ncRNA\\_intronic & WASH7P\\\\\n",
       "\t 1:16856 & rs3891260   & 1 & 16856 & A & G & 0.0199 & ncRNA\\_splicing & WASH7P\\\\\n",
       "\t 1:17147 & rs867691030 & 1 & 17147 & G & A & 0.0448 & ncRNA\\_intronic & WASH7P\\\\\n",
       "\\end{tabular}\n"
      ],
      "text/markdown": [
       "\n",
       "A data.table: 6 × 9\n",
       "\n",
       "| SNP &lt;chr&gt; | RSID &lt;chr&gt; | CHR &lt;int&gt; | START &lt;dbl&gt; | REF &lt;chr&gt; | ALT &lt;chr&gt; | MAF &lt;dbl&gt; | FUNC &lt;chr&gt; | NearGENE &lt;chr&gt; |\n",
       "|---|---|---|---|---|---|---|---|---|\n",
       "| 1:14470 | <!----> | 1 | 14470 | G | A | 0.0263 | ncRNA_exonic   | WASH7P |\n",
       "| 1:14671 | rs201055865 | 1 | 14671 | G | C | 0.0156 | ncRNA_exonic   | WASH7P |\n",
       "| 1:14773 | rs878915777 | 1 | 14773 | C | T | 0.0178 | ncRNA_exonic   | WASH7P |\n",
       "| 1:16841 | rs62636368  | 1 | 16841 | G | T | 0.0725 | ncRNA_intronic | WASH7P |\n",
       "| 1:16856 | rs3891260   | 1 | 16856 | A | G | 0.0199 | ncRNA_splicing | WASH7P |\n",
       "| 1:17147 | rs867691030 | 1 | 17147 | G | A | 0.0448 | ncRNA_intronic | WASH7P |\n",
       "\n"
      ],
      "text/plain": [
       "  SNP     RSID        CHR START REF ALT MAF    FUNC           NearGENE\n",
       "1 1:14470             1   14470 G   A   0.0263 ncRNA_exonic   WASH7P  \n",
       "2 1:14671 rs201055865 1   14671 G   C   0.0156 ncRNA_exonic   WASH7P  \n",
       "3 1:14773 rs878915777 1   14773 C   T   0.0178 ncRNA_exonic   WASH7P  \n",
       "4 1:16841 rs62636368  1   16841 G   T   0.0725 ncRNA_intronic WASH7P  \n",
       "5 1:16856 rs3891260   1   16856 A   G   0.0199 ncRNA_splicing WASH7P  \n",
       "6 1:17147 rs867691030 1   17147 G   A   0.0448 ncRNA_intronic WASH7P  "
      ]
     },
     "metadata": {},
     "output_type": "display_data"
    }
   ],
   "source": [
    "reference = fread(\"$PATH1/locuszoom/reference.txt\")\n",
    "dim(reference)\n",
    "head(reference)\n"
   ]
  },
  {
   "cell_type": "code",
   "execution_count": 81,
   "metadata": {},
   "outputs": [
    {
     "data": {
      "text/html": [
       "<table>\n",
       "<caption>A data.frame: 6 × 15</caption>\n",
       "<thead>\n",
       "\t<tr><th></th><th scope=col>BETA</th><th scope=col>SE</th><th scope=col>N</th><th scope=col>NSTUDY</th><th scope=col>Isq</th><th scope=col>p</th><th scope=col>SNP</th><th scope=col>CHR</th><th scope=col>START</th><th scope=col>REF</th><th scope=col>ALT</th><th scope=col>MAF</th><th scope=col>FUNC</th><th scope=col>NearGENE</th><th scope=col>ID2</th></tr>\n",
       "\t<tr><th></th><th scope=col>&lt;dbl&gt;</th><th scope=col>&lt;dbl&gt;</th><th scope=col>&lt;int&gt;</th><th scope=col>&lt;int&gt;</th><th scope=col>&lt;dbl&gt;</th><th scope=col>&lt;dbl&gt;</th><th scope=col>&lt;chr&gt;</th><th scope=col>&lt;int&gt;</th><th scope=col>&lt;dbl&gt;</th><th scope=col>&lt;chr&gt;</th><th scope=col>&lt;chr&gt;</th><th scope=col>&lt;dbl&gt;</th><th scope=col>&lt;chr&gt;</th><th scope=col>&lt;chr&gt;</th><th scope=col>&lt;chr&gt;</th></tr>\n",
       "</thead>\n",
       "<tbody>\n",
       "\t<tr><th scope=row>1</th><td>-0.0410</td><td>0.1768</td><td> 376</td><td>1</td><td>0</td><td>0.8168</td><td>rs6602381  </td><td>10</td><td> 10000018</td><td>A</td><td>G</td><td>0.4459</td><td>intergenic</td><td>LOC101928272;LOC101928298</td><td>10:10000018:A:G </td></tr>\n",
       "\t<tr><th scope=row>2</th><td>-0.0029</td><td>0.0715</td><td>2220</td><td>8</td><td>0</td><td>0.9676</td><td>rs7899632  </td><td>10</td><td>100000625</td><td>A</td><td>G</td><td>0.4289</td><td>intronic  </td><td>R3HCC1L                  </td><td>10:100000625:A:G</td></tr>\n",
       "\t<tr><th scope=row>3</th><td>-0.0997</td><td>0.0896</td><td>2220</td><td>8</td><td>0</td><td>0.2659</td><td>rs61875309 </td><td>10</td><td>100000645</td><td>A</td><td>C</td><td>0.1999</td><td>intronic  </td><td>R3HCC1L                  </td><td>10:100000645:A:C</td></tr>\n",
       "\t<tr><th scope=row>4</th><td>-0.0129</td><td>0.5899</td><td> 555</td><td>3</td><td>0</td><td>0.9825</td><td>rs150203744</td><td>10</td><td>100001867</td><td>C</td><td>T</td><td>0.0163</td><td>intronic  </td><td>R3HCC1L                  </td><td>10:100001867:C:T</td></tr>\n",
       "\t<tr><th scope=row>5</th><td>-0.3516</td><td>0.5684</td><td> 769</td><td>3</td><td>0</td><td>0.5362</td><td>rs111551711</td><td>10</td><td>100002464</td><td>T</td><td>C</td><td>0.0166</td><td>intronic  </td><td>R3HCC1L                  </td><td>10:100002464:T:C</td></tr>\n",
       "\t<tr><th scope=row>6</th><td>-0.0228</td><td>0.1204</td><td>2220</td><td>8</td><td>0</td><td>0.8501</td><td>rs12258651 </td><td>10</td><td>100003242</td><td>T</td><td>G</td><td>0.1278</td><td>intronic  </td><td>R3HCC1L                  </td><td>10:100003242:T:G</td></tr>\n",
       "</tbody>\n",
       "</table>\n"
      ],
      "text/latex": [
       "A data.frame: 6 × 15\n",
       "\\begin{tabular}{r|lllllllllllllll}\n",
       "  & BETA & SE & N & NSTUDY & Isq & p & SNP & CHR & START & REF & ALT & MAF & FUNC & NearGENE & ID2\\\\\n",
       "  & <dbl> & <dbl> & <int> & <int> & <dbl> & <dbl> & <chr> & <int> & <dbl> & <chr> & <chr> & <dbl> & <chr> & <chr> & <chr>\\\\\n",
       "\\hline\n",
       "\t1 & -0.0410 & 0.1768 &  376 & 1 & 0 & 0.8168 & rs6602381   & 10 &  10000018 & A & G & 0.4459 & intergenic & LOC101928272;LOC101928298 & 10:10000018:A:G \\\\\n",
       "\t2 & -0.0029 & 0.0715 & 2220 & 8 & 0 & 0.9676 & rs7899632   & 10 & 100000625 & A & G & 0.4289 & intronic   & R3HCC1L                   & 10:100000625:A:G\\\\\n",
       "\t3 & -0.0997 & 0.0896 & 2220 & 8 & 0 & 0.2659 & rs61875309  & 10 & 100000645 & A & C & 0.1999 & intronic   & R3HCC1L                   & 10:100000645:A:C\\\\\n",
       "\t4 & -0.0129 & 0.5899 &  555 & 3 & 0 & 0.9825 & rs150203744 & 10 & 100001867 & C & T & 0.0163 & intronic   & R3HCC1L                   & 10:100001867:C:T\\\\\n",
       "\t5 & -0.3516 & 0.5684 &  769 & 3 & 0 & 0.5362 & rs111551711 & 10 & 100002464 & T & C & 0.0166 & intronic   & R3HCC1L                   & 10:100002464:T:C\\\\\n",
       "\t6 & -0.0228 & 0.1204 & 2220 & 8 & 0 & 0.8501 & rs12258651  & 10 & 100003242 & T & G & 0.1278 & intronic   & R3HCC1L                   & 10:100003242:T:G\\\\\n",
       "\\end{tabular}\n"
      ],
      "text/markdown": [
       "\n",
       "A data.frame: 6 × 15\n",
       "\n",
       "| <!--/--> | BETA &lt;dbl&gt; | SE &lt;dbl&gt; | N &lt;int&gt; | NSTUDY &lt;int&gt; | Isq &lt;dbl&gt; | p &lt;dbl&gt; | SNP &lt;chr&gt; | CHR &lt;int&gt; | START &lt;dbl&gt; | REF &lt;chr&gt; | ALT &lt;chr&gt; | MAF &lt;dbl&gt; | FUNC &lt;chr&gt; | NearGENE &lt;chr&gt; | ID2 &lt;chr&gt; |\n",
       "|---|---|---|---|---|---|---|---|---|---|---|---|---|---|---|---|\n",
       "| 1 | -0.0410 | 0.1768 |  376 | 1 | 0 | 0.8168 | rs6602381   | 10 |  10000018 | A | G | 0.4459 | intergenic | LOC101928272;LOC101928298 | 10:10000018:A:G  |\n",
       "| 2 | -0.0029 | 0.0715 | 2220 | 8 | 0 | 0.9676 | rs7899632   | 10 | 100000625 | A | G | 0.4289 | intronic   | R3HCC1L                   | 10:100000625:A:G |\n",
       "| 3 | -0.0997 | 0.0896 | 2220 | 8 | 0 | 0.2659 | rs61875309  | 10 | 100000645 | A | C | 0.1999 | intronic   | R3HCC1L                   | 10:100000645:A:C |\n",
       "| 4 | -0.0129 | 0.5899 |  555 | 3 | 0 | 0.9825 | rs150203744 | 10 | 100001867 | C | T | 0.0163 | intronic   | R3HCC1L                   | 10:100001867:C:T |\n",
       "| 5 | -0.3516 | 0.5684 |  769 | 3 | 0 | 0.5362 | rs111551711 | 10 | 100002464 | T | C | 0.0166 | intronic   | R3HCC1L                   | 10:100002464:T:C |\n",
       "| 6 | -0.0228 | 0.1204 | 2220 | 8 | 0 | 0.8501 | rs12258651  | 10 | 100003242 | T | G | 0.1278 | intronic   | R3HCC1L                   | 10:100003242:T:G |\n",
       "\n"
      ],
      "text/plain": [
       "  BETA    SE     N    NSTUDY Isq p      SNP         CHR START     REF ALT\n",
       "1 -0.0410 0.1768  376 1      0   0.8168 rs6602381   10   10000018 A   G  \n",
       "2 -0.0029 0.0715 2220 8      0   0.9676 rs7899632   10  100000625 A   G  \n",
       "3 -0.0997 0.0896 2220 8      0   0.2659 rs61875309  10  100000645 A   C  \n",
       "4 -0.0129 0.5899  555 3      0   0.9825 rs150203744 10  100001867 C   T  \n",
       "5 -0.3516 0.5684  769 3      0   0.5362 rs111551711 10  100002464 T   C  \n",
       "6 -0.0228 0.1204 2220 8      0   0.8501 rs12258651  10  100003242 T   G  \n",
       "  MAF    FUNC       NearGENE                  ID2             \n",
       "1 0.4459 intergenic LOC101928272;LOC101928298 10:10000018:A:G \n",
       "2 0.4289 intronic   R3HCC1L                   10:100000625:A:G\n",
       "3 0.1999 intronic   R3HCC1L                   10:100000645:A:C\n",
       "4 0.0163 intronic   R3HCC1L                   10:100001867:C:T\n",
       "5 0.0166 intronic   R3HCC1L                   10:100002464:T:C\n",
       "6 0.1278 intronic   R3HCC1L                   10:100003242:T:G"
      ]
     },
     "metadata": {},
     "output_type": "display_data"
    },
    {
     "data": {
      "text/html": [
       "<style>\n",
       ".list-inline {list-style: none; margin:0; padding: 0}\n",
       ".list-inline>li {display: inline-block}\n",
       ".list-inline>li:not(:last-child)::after {content: \"\\00b7\"; padding: 0 .5ex}\n",
       "</style>\n",
       "<ol class=list-inline><li>8614785</li><li>15</li></ol>\n"
      ],
      "text/latex": [
       "\\begin{enumerate*}\n",
       "\\item 8614785\n",
       "\\item 15\n",
       "\\end{enumerate*}\n"
      ],
      "text/markdown": [
       "1. 8614785\n",
       "2. 15\n",
       "\n",
       "\n"
      ],
      "text/plain": [
       "[1] 8614785      15"
      ]
     },
     "metadata": {},
     "output_type": "display_data"
    }
   ],
   "source": [
    "gwas = merge(x = gwas, y = reference, by = \"SNP\", all.x = TRUE)\n",
    "\n",
    "gwas$ID2 <- paste0(gwas$SNP,\":\",gwas$REF,\":\",gwas$ALT)\n",
    "gwas$SNP <- NULL\n",
    "gwas$P <- NULL\n",
    "\n",
    "\n",
    "colnames(gwas)[colnames(gwas)==\"RSID\"] <- \"SNP\"\n",
    "\n",
    "head(gwas)\n",
    "dim(gwas)"
   ]
  },
  {
   "cell_type": "markdown",
   "metadata": {},
   "source": [
    "#### (c) progression2\n",
    "\n",
    "read in progression gwas data"
   ]
  },
  {
   "cell_type": "code",
   "execution_count": 108,
   "metadata": {},
   "outputs": [
    {
     "name": "stdout",
     "output_type": "stream",
     "text": [
      "[1] 17\n",
      " [1] \"ABCA1\"      \"FKTN\"       \"FSD1L\"      \"NIPSNAP3A\"  \"NIPSNAP3B\" \n",
      " [6] \"OR13C2\"     \"OR13C3\"     \"OR13C4\"     \"OR13C5\"     \"OR13C8\"    \n",
      "[11] \"OR13C9\"     \"OR13D1\"     \"OR13F1\"     \"RALGAPA1P1\" \"SLC44A1\"   \n",
      "[16] \"TAL2\"       \"TMEM38B\"   \n"
     ]
    },
    {
     "data": {
      "text/html": [
       "<table>\n",
       "<caption>A data.frame: 6 × 8</caption>\n",
       "<thead>\n",
       "\t<tr><th></th><th scope=col>SNP</th><th scope=col>BETA</th><th scope=col>SE</th><th scope=col>P</th><th scope=col>N</th><th scope=col>NSTUDY</th><th scope=col>Isq</th><th scope=col>p</th></tr>\n",
       "\t<tr><th></th><th scope=col>&lt;chr&gt;</th><th scope=col>&lt;dbl&gt;</th><th scope=col>&lt;dbl&gt;</th><th scope=col>&lt;dbl&gt;</th><th scope=col>&lt;int&gt;</th><th scope=col>&lt;int&gt;</th><th scope=col>&lt;dbl&gt;</th><th scope=col>&lt;dbl&gt;</th></tr>\n",
       "</thead>\n",
       "<tbody>\n",
       "\t<tr><th scope=row>1</th><td>5:29439275  </td><td>-0.0322</td><td>0.0657</td><td>0.62410</td><td>2582</td><td>9</td><td>14.3</td><td>0.62410</td></tr>\n",
       "\t<tr><th scope=row>2</th><td>5:85928892  </td><td> 0.2634</td><td>0.1526</td><td>0.08427</td><td>1299</td><td>5</td><td> 0.0</td><td>0.08427</td></tr>\n",
       "\t<tr><th scope=row>3</th><td>2:170966953 </td><td> 0.4025</td><td>0.2870</td><td>0.16080</td><td>2265</td><td>8</td><td> 0.0</td><td>0.16080</td></tr>\n",
       "\t<tr><th scope=row>4</th><td>10:128341232</td><td>-0.1408</td><td>0.0783</td><td>0.07199</td><td>1299</td><td>5</td><td>46.5</td><td>0.07199</td></tr>\n",
       "\t<tr><th scope=row>5</th><td>3:62707519  </td><td>-0.1344</td><td>0.1723</td><td>0.43550</td><td>1299</td><td>5</td><td> 0.0</td><td>0.43550</td></tr>\n",
       "\t<tr><th scope=row>6</th><td>2:80464120  </td><td> 0.2888</td><td>0.2789</td><td>0.30040</td><td>1299</td><td>5</td><td> 0.0</td><td>0.30040</td></tr>\n",
       "</tbody>\n",
       "</table>\n"
      ],
      "text/latex": [
       "A data.frame: 6 × 8\n",
       "\\begin{tabular}{r|llllllll}\n",
       "  & SNP & BETA & SE & P & N & NSTUDY & Isq & p\\\\\n",
       "  & <chr> & <dbl> & <dbl> & <dbl> & <int> & <int> & <dbl> & <dbl>\\\\\n",
       "\\hline\n",
       "\t1 & 5:29439275   & -0.0322 & 0.0657 & 0.62410 & 2582 & 9 & 14.3 & 0.62410\\\\\n",
       "\t2 & 5:85928892   &  0.2634 & 0.1526 & 0.08427 & 1299 & 5 &  0.0 & 0.08427\\\\\n",
       "\t3 & 2:170966953  &  0.4025 & 0.2870 & 0.16080 & 2265 & 8 &  0.0 & 0.16080\\\\\n",
       "\t4 & 10:128341232 & -0.1408 & 0.0783 & 0.07199 & 1299 & 5 & 46.5 & 0.07199\\\\\n",
       "\t5 & 3:62707519   & -0.1344 & 0.1723 & 0.43550 & 1299 & 5 &  0.0 & 0.43550\\\\\n",
       "\t6 & 2:80464120   &  0.2888 & 0.2789 & 0.30040 & 1299 & 5 &  0.0 & 0.30040\\\\\n",
       "\\end{tabular}\n"
      ],
      "text/markdown": [
       "\n",
       "A data.frame: 6 × 8\n",
       "\n",
       "| <!--/--> | SNP &lt;chr&gt; | BETA &lt;dbl&gt; | SE &lt;dbl&gt; | P &lt;dbl&gt; | N &lt;int&gt; | NSTUDY &lt;int&gt; | Isq &lt;dbl&gt; | p &lt;dbl&gt; |\n",
       "|---|---|---|---|---|---|---|---|---|\n",
       "| 1 | 5:29439275   | -0.0322 | 0.0657 | 0.62410 | 2582 | 9 | 14.3 | 0.62410 |\n",
       "| 2 | 5:85928892   |  0.2634 | 0.1526 | 0.08427 | 1299 | 5 |  0.0 | 0.08427 |\n",
       "| 3 | 2:170966953  |  0.4025 | 0.2870 | 0.16080 | 2265 | 8 |  0.0 | 0.16080 |\n",
       "| 4 | 10:128341232 | -0.1408 | 0.0783 | 0.07199 | 1299 | 5 | 46.5 | 0.07199 |\n",
       "| 5 | 3:62707519   | -0.1344 | 0.1723 | 0.43550 | 1299 | 5 |  0.0 | 0.43550 |\n",
       "| 6 | 2:80464120   |  0.2888 | 0.2789 | 0.30040 | 1299 | 5 |  0.0 | 0.30040 |\n",
       "\n"
      ],
      "text/plain": [
       "  SNP          BETA    SE     P       N    NSTUDY Isq  p      \n",
       "1 5:29439275   -0.0322 0.0657 0.62410 2582 9      14.3 0.62410\n",
       "2 5:85928892    0.2634 0.1526 0.08427 1299 5       0.0 0.08427\n",
       "3 2:170966953   0.4025 0.2870 0.16080 2265 8       0.0 0.16080\n",
       "4 10:128341232 -0.1408 0.0783 0.07199 1299 5      46.5 0.07199\n",
       "5 3:62707519   -0.1344 0.1723 0.43550 1299 5       0.0 0.43550\n",
       "6 2:80464120    0.2888 0.2789 0.30040 1299 5       0.0 0.30040"
      ]
     },
     "metadata": {},
     "output_type": "display_data"
    },
    {
     "data": {
      "text/html": [
       "<style>\n",
       ".list-inline {list-style: none; margin:0; padding: 0}\n",
       ".list-inline>li {display: inline-block}\n",
       ".list-inline>li:not(:last-child)::after {content: \"\\00b7\"; padding: 0 .5ex}\n",
       "</style>\n",
       "<ol class=list-inline><li>8623151</li><li>8</li></ol>\n"
      ],
      "text/latex": [
       "\\begin{enumerate*}\n",
       "\\item 8623151\n",
       "\\item 8\n",
       "\\end{enumerate*}\n"
      ],
      "text/markdown": [
       "1. 8623151\n",
       "2. 8\n",
       "\n",
       "\n"
      ],
      "text/plain": [
       "[1] 8623151       8"
      ]
     },
     "metadata": {},
     "output_type": "display_data"
    }
   ],
   "source": [
    "#Progression Loci\n",
    "##rs382940, 9:108058562, prog2\n",
    "gwas_in = paste0('$PATH1/locuszoom/surv_HY3.txt')\n",
    "evidence_genes <- evidence[which(evidence$Locusnumber==\"prog2\"),]$Gene\n",
    "\n",
    "\n",
    "\n",
    "\n",
    "print(length(evidence_genes))\n",
    "print(evidence_genes)\n",
    "\n",
    "gwas = fread(gwas_in)\n",
    "\n",
    "# change the headers a bit\n",
    "if('ID' %in% names(gwas)){\n",
    "  gwas = gwas %>% mutate(SNP = ID) %>% mutate(p = P)\n",
    "}\n",
    "\n",
    "if('P' %in% names(gwas)){\n",
    "    gwas = gwas %>% mutate(p = P)\n",
    "}\n",
    "\n",
    "head(gwas)\n",
    "dim(gwas)"
   ]
  },
  {
   "cell_type": "markdown",
   "metadata": {},
   "source": [
    "merge progression loci summary stats with reference.txt to get rsids"
   ]
  },
  {
   "cell_type": "code",
   "execution_count": 109,
   "metadata": {},
   "outputs": [
    {
     "data": {
      "text/html": [
       "<style>\n",
       ".list-inline {list-style: none; margin:0; padding: 0}\n",
       ".list-inline>li {display: inline-block}\n",
       ".list-inline>li:not(:last-child)::after {content: \"\\00b7\"; padding: 0 .5ex}\n",
       "</style>\n",
       "<ol class=list-inline><li>9240625</li><li>9</li></ol>\n"
      ],
      "text/latex": [
       "\\begin{enumerate*}\n",
       "\\item 9240625\n",
       "\\item 9\n",
       "\\end{enumerate*}\n"
      ],
      "text/markdown": [
       "1. 9240625\n",
       "2. 9\n",
       "\n",
       "\n"
      ],
      "text/plain": [
       "[1] 9240625       9"
      ]
     },
     "metadata": {},
     "output_type": "display_data"
    },
    {
     "data": {
      "text/html": [
       "<table>\n",
       "<caption>A data.table: 6 × 9</caption>\n",
       "<thead>\n",
       "\t<tr><th scope=col>SNP</th><th scope=col>RSID</th><th scope=col>CHR</th><th scope=col>START</th><th scope=col>REF</th><th scope=col>ALT</th><th scope=col>MAF</th><th scope=col>FUNC</th><th scope=col>NearGENE</th></tr>\n",
       "\t<tr><th scope=col>&lt;chr&gt;</th><th scope=col>&lt;chr&gt;</th><th scope=col>&lt;int&gt;</th><th scope=col>&lt;dbl&gt;</th><th scope=col>&lt;chr&gt;</th><th scope=col>&lt;chr&gt;</th><th scope=col>&lt;dbl&gt;</th><th scope=col>&lt;chr&gt;</th><th scope=col>&lt;chr&gt;</th></tr>\n",
       "</thead>\n",
       "<tbody>\n",
       "\t<tr><td>1:14470</td><td>           </td><td>1</td><td>14470</td><td>G</td><td>A</td><td>0.0263</td><td>ncRNA_exonic  </td><td>WASH7P</td></tr>\n",
       "\t<tr><td>1:14671</td><td>rs201055865</td><td>1</td><td>14671</td><td>G</td><td>C</td><td>0.0156</td><td>ncRNA_exonic  </td><td>WASH7P</td></tr>\n",
       "\t<tr><td>1:14773</td><td>rs878915777</td><td>1</td><td>14773</td><td>C</td><td>T</td><td>0.0178</td><td>ncRNA_exonic  </td><td>WASH7P</td></tr>\n",
       "\t<tr><td>1:16841</td><td>rs62636368 </td><td>1</td><td>16841</td><td>G</td><td>T</td><td>0.0725</td><td>ncRNA_intronic</td><td>WASH7P</td></tr>\n",
       "\t<tr><td>1:16856</td><td>rs3891260  </td><td>1</td><td>16856</td><td>A</td><td>G</td><td>0.0199</td><td>ncRNA_splicing</td><td>WASH7P</td></tr>\n",
       "\t<tr><td>1:17147</td><td>rs867691030</td><td>1</td><td>17147</td><td>G</td><td>A</td><td>0.0448</td><td>ncRNA_intronic</td><td>WASH7P</td></tr>\n",
       "</tbody>\n",
       "</table>\n"
      ],
      "text/latex": [
       "A data.table: 6 × 9\n",
       "\\begin{tabular}{lllllllll}\n",
       " SNP & RSID & CHR & START & REF & ALT & MAF & FUNC & NearGENE\\\\\n",
       " <chr> & <chr> & <int> & <dbl> & <chr> & <chr> & <dbl> & <chr> & <chr>\\\\\n",
       "\\hline\n",
       "\t 1:14470 &             & 1 & 14470 & G & A & 0.0263 & ncRNA\\_exonic   & WASH7P\\\\\n",
       "\t 1:14671 & rs201055865 & 1 & 14671 & G & C & 0.0156 & ncRNA\\_exonic   & WASH7P\\\\\n",
       "\t 1:14773 & rs878915777 & 1 & 14773 & C & T & 0.0178 & ncRNA\\_exonic   & WASH7P\\\\\n",
       "\t 1:16841 & rs62636368  & 1 & 16841 & G & T & 0.0725 & ncRNA\\_intronic & WASH7P\\\\\n",
       "\t 1:16856 & rs3891260   & 1 & 16856 & A & G & 0.0199 & ncRNA\\_splicing & WASH7P\\\\\n",
       "\t 1:17147 & rs867691030 & 1 & 17147 & G & A & 0.0448 & ncRNA\\_intronic & WASH7P\\\\\n",
       "\\end{tabular}\n"
      ],
      "text/markdown": [
       "\n",
       "A data.table: 6 × 9\n",
       "\n",
       "| SNP &lt;chr&gt; | RSID &lt;chr&gt; | CHR &lt;int&gt; | START &lt;dbl&gt; | REF &lt;chr&gt; | ALT &lt;chr&gt; | MAF &lt;dbl&gt; | FUNC &lt;chr&gt; | NearGENE &lt;chr&gt; |\n",
       "|---|---|---|---|---|---|---|---|---|\n",
       "| 1:14470 | <!----> | 1 | 14470 | G | A | 0.0263 | ncRNA_exonic   | WASH7P |\n",
       "| 1:14671 | rs201055865 | 1 | 14671 | G | C | 0.0156 | ncRNA_exonic   | WASH7P |\n",
       "| 1:14773 | rs878915777 | 1 | 14773 | C | T | 0.0178 | ncRNA_exonic   | WASH7P |\n",
       "| 1:16841 | rs62636368  | 1 | 16841 | G | T | 0.0725 | ncRNA_intronic | WASH7P |\n",
       "| 1:16856 | rs3891260   | 1 | 16856 | A | G | 0.0199 | ncRNA_splicing | WASH7P |\n",
       "| 1:17147 | rs867691030 | 1 | 17147 | G | A | 0.0448 | ncRNA_intronic | WASH7P |\n",
       "\n"
      ],
      "text/plain": [
       "  SNP     RSID        CHR START REF ALT MAF    FUNC           NearGENE\n",
       "1 1:14470             1   14470 G   A   0.0263 ncRNA_exonic   WASH7P  \n",
       "2 1:14671 rs201055865 1   14671 G   C   0.0156 ncRNA_exonic   WASH7P  \n",
       "3 1:14773 rs878915777 1   14773 C   T   0.0178 ncRNA_exonic   WASH7P  \n",
       "4 1:16841 rs62636368  1   16841 G   T   0.0725 ncRNA_intronic WASH7P  \n",
       "5 1:16856 rs3891260   1   16856 A   G   0.0199 ncRNA_splicing WASH7P  \n",
       "6 1:17147 rs867691030 1   17147 G   A   0.0448 ncRNA_intronic WASH7P  "
      ]
     },
     "metadata": {},
     "output_type": "display_data"
    }
   ],
   "source": [
    "reference = fread(\"$PATH1/locuszoom/reference.txt\")\n",
    "dim(reference)\n",
    "head(reference)\n"
   ]
  },
  {
   "cell_type": "code",
   "execution_count": 110,
   "metadata": {},
   "outputs": [
    {
     "data": {
      "text/html": [
       "<table>\n",
       "<caption>A data.frame: 6 × 15</caption>\n",
       "<thead>\n",
       "\t<tr><th></th><th scope=col>BETA</th><th scope=col>SE</th><th scope=col>N</th><th scope=col>NSTUDY</th><th scope=col>Isq</th><th scope=col>p</th><th scope=col>SNP</th><th scope=col>CHR</th><th scope=col>START</th><th scope=col>REF</th><th scope=col>ALT</th><th scope=col>MAF</th><th scope=col>FUNC</th><th scope=col>NearGENE</th><th scope=col>ID2</th></tr>\n",
       "\t<tr><th></th><th scope=col>&lt;dbl&gt;</th><th scope=col>&lt;dbl&gt;</th><th scope=col>&lt;int&gt;</th><th scope=col>&lt;int&gt;</th><th scope=col>&lt;dbl&gt;</th><th scope=col>&lt;dbl&gt;</th><th scope=col>&lt;chr&gt;</th><th scope=col>&lt;int&gt;</th><th scope=col>&lt;dbl&gt;</th><th scope=col>&lt;chr&gt;</th><th scope=col>&lt;chr&gt;</th><th scope=col>&lt;dbl&gt;</th><th scope=col>&lt;chr&gt;</th><th scope=col>&lt;chr&gt;</th><th scope=col>&lt;chr&gt;</th></tr>\n",
       "</thead>\n",
       "<tbody>\n",
       "\t<tr><th scope=row>1</th><td>-0.1558</td><td>0.1759</td><td> 363</td><td>1</td><td> 0.0</td><td>0.375900</td><td>rs6602381  </td><td>10</td><td> 10000018</td><td>A</td><td>G</td><td>0.4459</td><td>intergenic</td><td>LOC101928272;LOC101928298</td><td>10:10000018:A:G </td></tr>\n",
       "\t<tr><th scope=row>2</th><td> 0.0032</td><td>0.0655</td><td>2582</td><td>9</td><td>13.2</td><td>0.960600</td><td>rs7899632  </td><td>10</td><td>100000625</td><td>A</td><td>G</td><td>0.4289</td><td>intronic  </td><td>R3HCC1L                  </td><td>10:100000625:A:G</td></tr>\n",
       "\t<tr><th scope=row>3</th><td> 0.0150</td><td>0.0765</td><td>2582</td><td>9</td><td> 0.0</td><td>0.844700</td><td>rs61875309 </td><td>10</td><td>100000645</td><td>A</td><td>C</td><td>0.1999</td><td>intronic  </td><td>R3HCC1L                  </td><td>10:100000645:A:C</td></tr>\n",
       "\t<tr><th scope=row>4</th><td> 0.2703</td><td>0.3834</td><td> 936</td><td>4</td><td>26.6</td><td>0.480900</td><td>rs150203744</td><td>10</td><td>100001867</td><td>C</td><td>T</td><td>0.0163</td><td>intronic  </td><td>R3HCC1L                  </td><td>10:100001867:C:T</td></tr>\n",
       "\t<tr><th scope=row>5</th><td> 0.8956</td><td>0.3042</td><td>1352</td><td>5</td><td>15.5</td><td>0.003241</td><td>rs111551711</td><td>10</td><td>100002464</td><td>T</td><td>C</td><td>0.0166</td><td>intronic  </td><td>R3HCC1L                  </td><td>10:100002464:T:C</td></tr>\n",
       "\t<tr><th scope=row>6</th><td> 0.0426</td><td>0.1108</td><td>2582</td><td>9</td><td>14.1</td><td>0.700800</td><td>rs12258651 </td><td>10</td><td>100003242</td><td>T</td><td>G</td><td>0.1278</td><td>intronic  </td><td>R3HCC1L                  </td><td>10:100003242:T:G</td></tr>\n",
       "</tbody>\n",
       "</table>\n"
      ],
      "text/latex": [
       "A data.frame: 6 × 15\n",
       "\\begin{tabular}{r|lllllllllllllll}\n",
       "  & BETA & SE & N & NSTUDY & Isq & p & SNP & CHR & START & REF & ALT & MAF & FUNC & NearGENE & ID2\\\\\n",
       "  & <dbl> & <dbl> & <int> & <int> & <dbl> & <dbl> & <chr> & <int> & <dbl> & <chr> & <chr> & <dbl> & <chr> & <chr> & <chr>\\\\\n",
       "\\hline\n",
       "\t1 & -0.1558 & 0.1759 &  363 & 1 &  0.0 & 0.375900 & rs6602381   & 10 &  10000018 & A & G & 0.4459 & intergenic & LOC101928272;LOC101928298 & 10:10000018:A:G \\\\\n",
       "\t2 &  0.0032 & 0.0655 & 2582 & 9 & 13.2 & 0.960600 & rs7899632   & 10 & 100000625 & A & G & 0.4289 & intronic   & R3HCC1L                   & 10:100000625:A:G\\\\\n",
       "\t3 &  0.0150 & 0.0765 & 2582 & 9 &  0.0 & 0.844700 & rs61875309  & 10 & 100000645 & A & C & 0.1999 & intronic   & R3HCC1L                   & 10:100000645:A:C\\\\\n",
       "\t4 &  0.2703 & 0.3834 &  936 & 4 & 26.6 & 0.480900 & rs150203744 & 10 & 100001867 & C & T & 0.0163 & intronic   & R3HCC1L                   & 10:100001867:C:T\\\\\n",
       "\t5 &  0.8956 & 0.3042 & 1352 & 5 & 15.5 & 0.003241 & rs111551711 & 10 & 100002464 & T & C & 0.0166 & intronic   & R3HCC1L                   & 10:100002464:T:C\\\\\n",
       "\t6 &  0.0426 & 0.1108 & 2582 & 9 & 14.1 & 0.700800 & rs12258651  & 10 & 100003242 & T & G & 0.1278 & intronic   & R3HCC1L                   & 10:100003242:T:G\\\\\n",
       "\\end{tabular}\n"
      ],
      "text/markdown": [
       "\n",
       "A data.frame: 6 × 15\n",
       "\n",
       "| <!--/--> | BETA &lt;dbl&gt; | SE &lt;dbl&gt; | N &lt;int&gt; | NSTUDY &lt;int&gt; | Isq &lt;dbl&gt; | p &lt;dbl&gt; | SNP &lt;chr&gt; | CHR &lt;int&gt; | START &lt;dbl&gt; | REF &lt;chr&gt; | ALT &lt;chr&gt; | MAF &lt;dbl&gt; | FUNC &lt;chr&gt; | NearGENE &lt;chr&gt; | ID2 &lt;chr&gt; |\n",
       "|---|---|---|---|---|---|---|---|---|---|---|---|---|---|---|---|\n",
       "| 1 | -0.1558 | 0.1759 |  363 | 1 |  0.0 | 0.375900 | rs6602381   | 10 |  10000018 | A | G | 0.4459 | intergenic | LOC101928272;LOC101928298 | 10:10000018:A:G  |\n",
       "| 2 |  0.0032 | 0.0655 | 2582 | 9 | 13.2 | 0.960600 | rs7899632   | 10 | 100000625 | A | G | 0.4289 | intronic   | R3HCC1L                   | 10:100000625:A:G |\n",
       "| 3 |  0.0150 | 0.0765 | 2582 | 9 |  0.0 | 0.844700 | rs61875309  | 10 | 100000645 | A | C | 0.1999 | intronic   | R3HCC1L                   | 10:100000645:A:C |\n",
       "| 4 |  0.2703 | 0.3834 |  936 | 4 | 26.6 | 0.480900 | rs150203744 | 10 | 100001867 | C | T | 0.0163 | intronic   | R3HCC1L                   | 10:100001867:C:T |\n",
       "| 5 |  0.8956 | 0.3042 | 1352 | 5 | 15.5 | 0.003241 | rs111551711 | 10 | 100002464 | T | C | 0.0166 | intronic   | R3HCC1L                   | 10:100002464:T:C |\n",
       "| 6 |  0.0426 | 0.1108 | 2582 | 9 | 14.1 | 0.700800 | rs12258651  | 10 | 100003242 | T | G | 0.1278 | intronic   | R3HCC1L                   | 10:100003242:T:G |\n",
       "\n"
      ],
      "text/plain": [
       "  BETA    SE     N    NSTUDY Isq  p        SNP         CHR START     REF ALT\n",
       "1 -0.1558 0.1759  363 1       0.0 0.375900 rs6602381   10   10000018 A   G  \n",
       "2  0.0032 0.0655 2582 9      13.2 0.960600 rs7899632   10  100000625 A   G  \n",
       "3  0.0150 0.0765 2582 9       0.0 0.844700 rs61875309  10  100000645 A   C  \n",
       "4  0.2703 0.3834  936 4      26.6 0.480900 rs150203744 10  100001867 C   T  \n",
       "5  0.8956 0.3042 1352 5      15.5 0.003241 rs111551711 10  100002464 T   C  \n",
       "6  0.0426 0.1108 2582 9      14.1 0.700800 rs12258651  10  100003242 T   G  \n",
       "  MAF    FUNC       NearGENE                  ID2             \n",
       "1 0.4459 intergenic LOC101928272;LOC101928298 10:10000018:A:G \n",
       "2 0.4289 intronic   R3HCC1L                   10:100000625:A:G\n",
       "3 0.1999 intronic   R3HCC1L                   10:100000645:A:C\n",
       "4 0.0163 intronic   R3HCC1L                   10:100001867:C:T\n",
       "5 0.0166 intronic   R3HCC1L                   10:100002464:T:C\n",
       "6 0.1278 intronic   R3HCC1L                   10:100003242:T:G"
      ]
     },
     "metadata": {},
     "output_type": "display_data"
    },
    {
     "data": {
      "text/html": [
       "<style>\n",
       ".list-inline {list-style: none; margin:0; padding: 0}\n",
       ".list-inline>li {display: inline-block}\n",
       ".list-inline>li:not(:last-child)::after {content: \"\\00b7\"; padding: 0 .5ex}\n",
       "</style>\n",
       "<ol class=list-inline><li>8623151</li><li>15</li></ol>\n"
      ],
      "text/latex": [
       "\\begin{enumerate*}\n",
       "\\item 8623151\n",
       "\\item 15\n",
       "\\end{enumerate*}\n"
      ],
      "text/markdown": [
       "1. 8623151\n",
       "2. 15\n",
       "\n",
       "\n"
      ],
      "text/plain": [
       "[1] 8623151      15"
      ]
     },
     "metadata": {},
     "output_type": "display_data"
    }
   ],
   "source": [
    "gwas = merge(x = gwas, y = reference, by = \"SNP\", all.x = TRUE)\n",
    "\n",
    "gwas$ID2 <- paste0(gwas$SNP,\":\",gwas$REF,\":\",gwas$ALT)\n",
    "gwas$SNP <- NULL\n",
    "gwas$P <- NULL\n",
    "\n",
    "colnames(gwas)[colnames(gwas)==\"RSID\"] <- \"SNP\"\n",
    "\n",
    "head(gwas)\n",
    "dim(gwas)"
   ]
  },
  {
   "cell_type": "markdown",
   "metadata": {},
   "source": [
    "## 3) Get Risk Variant Data"
   ]
  },
  {
   "cell_type": "code",
   "execution_count": 25,
   "metadata": {},
   "outputs": [],
   "source": [
    "#evidence <- fread(\"$PATH1/genes_by_locus.csv\")\n",
    "meta5_data <- fread(\"$PATH1/GWAS_loci_overview.csv\")\n",
    "\n",
    "meta5_data <- meta5_data %>% dplyr::select(\"Locus Number\", \"SNP\", \"CHR\",\"CHR:BP (hg19)\")\n",
    "colnames(meta5_data) <- c(\"Locus Number\", \"SNP\", \"CHR\", \"CHR:BP\")\n",
    "\n",
    "prog_data <- fread(\"$PATH1/ProgressionLoci.csv\")\n",
    "\n",
    "prog_data <- prog_data %>% dplyr::select(\"Locus Number\", \"RSID\", \"CHR\", \"SNP\")\n",
    "\n",
    "colnames(prog_data) <- c(\"Locus Number\", \"SNP\", \"CHR\", \"CHR:BP\")\n"
   ]
  },
  {
   "cell_type": "code",
   "execution_count": 26,
   "metadata": {},
   "outputs": [
    {
     "data": {
      "text/html": [
       "<style>\n",
       ".list-inline {list-style: none; margin:0; padding: 0}\n",
       ".list-inline>li {display: inline-block}\n",
       ".list-inline>li:not(:last-child)::after {content: \"\\00b7\"; padding: 0 .5ex}\n",
       "</style>\n",
       "<ol class=list-inline><li>92</li><li>4</li></ol>\n"
      ],
      "text/latex": [
       "\\begin{enumerate*}\n",
       "\\item 92\n",
       "\\item 4\n",
       "\\end{enumerate*}\n"
      ],
      "text/markdown": [
       "1. 92\n",
       "2. 4\n",
       "\n",
       "\n"
      ],
      "text/plain": [
       "[1] 92  4"
      ]
     },
     "metadata": {},
     "output_type": "display_data"
    },
    {
     "data": {
      "text/html": [
       "<table>\n",
       "<caption>A data.table: 6 × 4</caption>\n",
       "<thead>\n",
       "\t<tr><th scope=col>Locus Number</th><th scope=col>SNP</th><th scope=col>CHR</th><th scope=col>CHR:BP</th></tr>\n",
       "\t<tr><th scope=col>&lt;chr&gt;</th><th scope=col>&lt;chr&gt;</th><th scope=col>&lt;int&gt;</th><th scope=col>&lt;chr&gt;</th></tr>\n",
       "</thead>\n",
       "<tbody>\n",
       "\t<tr><td>1</td><td>rs114138760</td><td>1</td><td>1:154898185</td></tr>\n",
       "\t<tr><td>1</td><td>rs35749011 </td><td>1</td><td>1:155135036</td></tr>\n",
       "\t<tr><td>1</td><td>rs76763715 </td><td>1</td><td>1:155205634</td></tr>\n",
       "\t<tr><td>2</td><td>rs6658353  </td><td>1</td><td>1:161469054</td></tr>\n",
       "\t<tr><td>3</td><td>rs11578699 </td><td>1</td><td>1:171719769</td></tr>\n",
       "\t<tr><td>4</td><td>rs823118   </td><td>1</td><td>1:205723572</td></tr>\n",
       "</tbody>\n",
       "</table>\n"
      ],
      "text/latex": [
       "A data.table: 6 × 4\n",
       "\\begin{tabular}{llll}\n",
       " Locus Number & SNP & CHR & CHR:BP\\\\\n",
       " <chr> & <chr> & <int> & <chr>\\\\\n",
       "\\hline\n",
       "\t 1 & rs114138760 & 1 & 1:154898185\\\\\n",
       "\t 1 & rs35749011  & 1 & 1:155135036\\\\\n",
       "\t 1 & rs76763715  & 1 & 1:155205634\\\\\n",
       "\t 2 & rs6658353   & 1 & 1:161469054\\\\\n",
       "\t 3 & rs11578699  & 1 & 1:171719769\\\\\n",
       "\t 4 & rs823118    & 1 & 1:205723572\\\\\n",
       "\\end{tabular}\n"
      ],
      "text/markdown": [
       "\n",
       "A data.table: 6 × 4\n",
       "\n",
       "| Locus Number &lt;chr&gt; | SNP &lt;chr&gt; | CHR &lt;int&gt; | CHR:BP &lt;chr&gt; |\n",
       "|---|---|---|---|\n",
       "| 1 | rs114138760 | 1 | 1:154898185 |\n",
       "| 1 | rs35749011  | 1 | 1:155135036 |\n",
       "| 1 | rs76763715  | 1 | 1:155205634 |\n",
       "| 2 | rs6658353   | 1 | 1:161469054 |\n",
       "| 3 | rs11578699  | 1 | 1:171719769 |\n",
       "| 4 | rs823118    | 1 | 1:205723572 |\n",
       "\n"
      ],
      "text/plain": [
       "  Locus Number SNP         CHR CHR:BP     \n",
       "1 1            rs114138760 1   1:154898185\n",
       "2 1            rs35749011  1   1:155135036\n",
       "3 1            rs76763715  1   1:155205634\n",
       "4 2            rs6658353   1   1:161469054\n",
       "5 3            rs11578699  1   1:171719769\n",
       "6 4            rs823118    1   1:205723572"
      ]
     },
     "metadata": {},
     "output_type": "display_data"
    }
   ],
   "source": [
    "#combine all the rsids to one df\n",
    "variant_data <- rbind(meta5_data, prog_data)\n",
    "dim(variant_data)\n",
    "head(variant_data)"
   ]
  },
  {
   "cell_type": "markdown",
   "metadata": {},
   "source": [
    "## 4) eQTL\n",
    "read the psychencode eQTL data  \n",
    "should be similar to the blood and brain eQTL from before"
   ]
  },
  {
   "cell_type": "code",
   "execution_count": 111,
   "metadata": {},
   "outputs": [],
   "source": [
    "#make a output folder depending on the gwas\n",
    "#out_dir = \"$PATH1/qtl/psychencode/eqtl_tsv/meta5\"\n",
    "#out_dir = \"$PATH1/qtl/psychencode/eqtl_tsv/prog1\"\n",
    "out_dir = \"$PATH1/qtl/psychencode/eqtl_tsv/prog2\"\n",
    "dir.create(out_dir)"
   ]
  },
  {
   "cell_type": "code",
   "execution_count": null,
   "metadata": {},
   "outputs": [],
   "source": []
  },
  {
   "cell_type": "code",
   "execution_count": 112,
   "metadata": {},
   "outputs": [
    {
     "data": {
      "text/html": [
       "<style>\n",
       ".list-inline {list-style: none; margin:0; padding: 0}\n",
       ".list-inline>li {display: inline-block}\n",
       ".list-inline>li:not(:last-child)::after {content: \"\\00b7\"; padding: 0 .5ex}\n",
       "</style>\n",
       "<ol class=list-inline><li>2542908</li><li>15</li></ol>\n"
      ],
      "text/latex": [
       "\\begin{enumerate*}\n",
       "\\item 2542908\n",
       "\\item 15\n",
       "\\end{enumerate*}\n"
      ],
      "text/markdown": [
       "1. 2542908\n",
       "2. 15\n",
       "\n",
       "\n"
      ],
      "text/plain": [
       "[1] 2542908      15"
      ]
     },
     "metadata": {},
     "output_type": "display_data"
    },
    {
     "data": {
      "text/html": [
       "<table>\n",
       "<caption>A data.table: 6 × 15</caption>\n",
       "<thead>\n",
       "\t<tr><th scope=col>gene_id</th><th scope=col>gene_chr</th><th scope=col>gene_start</th><th scope=col>gene_end</th><th scope=col>strand</th><th scope=col>number_of_SNPs_tested</th><th scope=col>SNP_distance_to_TSS</th><th scope=col>SNP_id</th><th scope=col>SNP_chr</th><th scope=col>SNP_start</th><th scope=col>SNP_end</th><th scope=col>nominal_pval</th><th scope=col>regression_slope</th><th scope=col>top_SNP</th><th scope=col>FDR</th></tr>\n",
       "\t<tr><th scope=col>&lt;chr&gt;</th><th scope=col>&lt;chr&gt;</th><th scope=col>&lt;int&gt;</th><th scope=col>&lt;int&gt;</th><th scope=col>&lt;chr&gt;</th><th scope=col>&lt;int&gt;</th><th scope=col>&lt;int&gt;</th><th scope=col>&lt;chr&gt;</th><th scope=col>&lt;chr&gt;</th><th scope=col>&lt;int&gt;</th><th scope=col>&lt;int&gt;</th><th scope=col>&lt;dbl&gt;</th><th scope=col>&lt;dbl&gt;</th><th scope=col>&lt;int&gt;</th><th scope=col>&lt;dbl&gt;</th></tr>\n",
       "</thead>\n",
       "<tbody>\n",
       "\t<tr><td>ENSG00000215004.3</td><td>chr3</td><td>29128887</td><td>29128887</td><td>+</td><td>4558</td><td>-365581</td><td>3:28763306</td><td>chr3</td><td>28763306</td><td>28763306</td><td>0.000270335</td><td> 0.0886898</td><td>1</td><td>0.01979050</td></tr>\n",
       "\t<tr><td>ENSG00000215004.3</td><td>chr3</td><td>29128887</td><td>29128887</td><td>+</td><td>4558</td><td>-364465</td><td>3:28764422</td><td>chr3</td><td>28764422</td><td>28764422</td><td>0.000344220</td><td> 0.0868007</td><td>0</td><td>0.02424459</td></tr>\n",
       "\t<tr><td>ENSG00000215004.3</td><td>chr3</td><td>29128887</td><td>29128887</td><td>+</td><td>4558</td><td>-364376</td><td>3:28764511</td><td>chr3</td><td>28764511</td><td>28764511</td><td>0.000523559</td><td> 0.0841030</td><td>0</td><td>0.03431670</td></tr>\n",
       "\t<tr><td>ENSG00000215004.3</td><td>chr3</td><td>29128887</td><td>29128887</td><td>+</td><td>4558</td><td>-357186</td><td>3:28771701</td><td>chr3</td><td>28771701</td><td>28771701</td><td>0.000606794</td><td> 0.0861309</td><td>0</td><td>0.03870841</td></tr>\n",
       "\t<tr><td>ENSG00000215004.3</td><td>chr3</td><td>29128887</td><td>29128887</td><td>+</td><td>4558</td><td> 276595</td><td>3:29405482</td><td>chr3</td><td>29405482</td><td>29405482</td><td>0.000509309</td><td>-0.5076670</td><td>0</td><td>0.03355055</td></tr>\n",
       "\t<tr><td>ENSG00000215004.3</td><td>chr3</td><td>29128887</td><td>29128887</td><td>+</td><td>4558</td><td> 753189</td><td>3:29882076</td><td>chr3</td><td>29882076</td><td>29882076</td><td>0.000525076</td><td> 0.0807715</td><td>0</td><td>0.03439850</td></tr>\n",
       "</tbody>\n",
       "</table>\n"
      ],
      "text/latex": [
       "A data.table: 6 × 15\n",
       "\\begin{tabular}{lllllllllllllll}\n",
       " gene\\_id & gene\\_chr & gene\\_start & gene\\_end & strand & number\\_of\\_SNPs\\_tested & SNP\\_distance\\_to\\_TSS & SNP\\_id & SNP\\_chr & SNP\\_start & SNP\\_end & nominal\\_pval & regression\\_slope & top\\_SNP & FDR\\\\\n",
       " <chr> & <chr> & <int> & <int> & <chr> & <int> & <int> & <chr> & <chr> & <int> & <int> & <dbl> & <dbl> & <int> & <dbl>\\\\\n",
       "\\hline\n",
       "\t ENSG00000215004.3 & chr3 & 29128887 & 29128887 & + & 4558 & -365581 & 3:28763306 & chr3 & 28763306 & 28763306 & 0.000270335 &  0.0886898 & 1 & 0.01979050\\\\\n",
       "\t ENSG00000215004.3 & chr3 & 29128887 & 29128887 & + & 4558 & -364465 & 3:28764422 & chr3 & 28764422 & 28764422 & 0.000344220 &  0.0868007 & 0 & 0.02424459\\\\\n",
       "\t ENSG00000215004.3 & chr3 & 29128887 & 29128887 & + & 4558 & -364376 & 3:28764511 & chr3 & 28764511 & 28764511 & 0.000523559 &  0.0841030 & 0 & 0.03431670\\\\\n",
       "\t ENSG00000215004.3 & chr3 & 29128887 & 29128887 & + & 4558 & -357186 & 3:28771701 & chr3 & 28771701 & 28771701 & 0.000606794 &  0.0861309 & 0 & 0.03870841\\\\\n",
       "\t ENSG00000215004.3 & chr3 & 29128887 & 29128887 & + & 4558 &  276595 & 3:29405482 & chr3 & 29405482 & 29405482 & 0.000509309 & -0.5076670 & 0 & 0.03355055\\\\\n",
       "\t ENSG00000215004.3 & chr3 & 29128887 & 29128887 & + & 4558 &  753189 & 3:29882076 & chr3 & 29882076 & 29882076 & 0.000525076 &  0.0807715 & 0 & 0.03439850\\\\\n",
       "\\end{tabular}\n"
      ],
      "text/markdown": [
       "\n",
       "A data.table: 6 × 15\n",
       "\n",
       "| gene_id &lt;chr&gt; | gene_chr &lt;chr&gt; | gene_start &lt;int&gt; | gene_end &lt;int&gt; | strand &lt;chr&gt; | number_of_SNPs_tested &lt;int&gt; | SNP_distance_to_TSS &lt;int&gt; | SNP_id &lt;chr&gt; | SNP_chr &lt;chr&gt; | SNP_start &lt;int&gt; | SNP_end &lt;int&gt; | nominal_pval &lt;dbl&gt; | regression_slope &lt;dbl&gt; | top_SNP &lt;int&gt; | FDR &lt;dbl&gt; |\n",
       "|---|---|---|---|---|---|---|---|---|---|---|---|---|---|---|\n",
       "| ENSG00000215004.3 | chr3 | 29128887 | 29128887 | + | 4558 | -365581 | 3:28763306 | chr3 | 28763306 | 28763306 | 0.000270335 |  0.0886898 | 1 | 0.01979050 |\n",
       "| ENSG00000215004.3 | chr3 | 29128887 | 29128887 | + | 4558 | -364465 | 3:28764422 | chr3 | 28764422 | 28764422 | 0.000344220 |  0.0868007 | 0 | 0.02424459 |\n",
       "| ENSG00000215004.3 | chr3 | 29128887 | 29128887 | + | 4558 | -364376 | 3:28764511 | chr3 | 28764511 | 28764511 | 0.000523559 |  0.0841030 | 0 | 0.03431670 |\n",
       "| ENSG00000215004.3 | chr3 | 29128887 | 29128887 | + | 4558 | -357186 | 3:28771701 | chr3 | 28771701 | 28771701 | 0.000606794 |  0.0861309 | 0 | 0.03870841 |\n",
       "| ENSG00000215004.3 | chr3 | 29128887 | 29128887 | + | 4558 |  276595 | 3:29405482 | chr3 | 29405482 | 29405482 | 0.000509309 | -0.5076670 | 0 | 0.03355055 |\n",
       "| ENSG00000215004.3 | chr3 | 29128887 | 29128887 | + | 4558 |  753189 | 3:29882076 | chr3 | 29882076 | 29882076 | 0.000525076 |  0.0807715 | 0 | 0.03439850 |\n",
       "\n"
      ],
      "text/plain": [
       "  gene_id           gene_chr gene_start gene_end strand number_of_SNPs_tested\n",
       "1 ENSG00000215004.3 chr3     29128887   29128887 +      4558                 \n",
       "2 ENSG00000215004.3 chr3     29128887   29128887 +      4558                 \n",
       "3 ENSG00000215004.3 chr3     29128887   29128887 +      4558                 \n",
       "4 ENSG00000215004.3 chr3     29128887   29128887 +      4558                 \n",
       "5 ENSG00000215004.3 chr3     29128887   29128887 +      4558                 \n",
       "6 ENSG00000215004.3 chr3     29128887   29128887 +      4558                 \n",
       "  SNP_distance_to_TSS SNP_id     SNP_chr SNP_start SNP_end  nominal_pval\n",
       "1 -365581             3:28763306 chr3    28763306  28763306 0.000270335 \n",
       "2 -364465             3:28764422 chr3    28764422  28764422 0.000344220 \n",
       "3 -364376             3:28764511 chr3    28764511  28764511 0.000523559 \n",
       "4 -357186             3:28771701 chr3    28771701  28771701 0.000606794 \n",
       "5  276595             3:29405482 chr3    29405482  29405482 0.000509309 \n",
       "6  753189             3:29882076 chr3    29882076  29882076 0.000525076 \n",
       "  regression_slope top_SNP FDR       \n",
       "1  0.0886898       1       0.01979050\n",
       "2  0.0868007       0       0.02424459\n",
       "3  0.0841030       0       0.03431670\n",
       "4  0.0861309       0       0.03870841\n",
       "5 -0.5076670       0       0.03355055\n",
       "6  0.0807715       0       0.03439850"
      ]
     },
     "metadata": {},
     "output_type": "display_data"
    }
   ],
   "source": [
    "eqtl = fread('$PATH1/qtl/psychencode/DER-08a_hg19_eQTL.significant.txt')\n",
    "\n",
    "dim(eqtl)\n",
    "head(eqtl)\n"
   ]
  },
  {
   "cell_type": "markdown",
   "metadata": {},
   "source": [
    "#### we need to get the gene names that match the gene_id"
   ]
  },
  {
   "cell_type": "code",
   "execution_count": 113,
   "metadata": {},
   "outputs": [
    {
     "data": {
      "text/html": [
       "<style>\n",
       ".list-inline {list-style: none; margin:0; padding: 0}\n",
       ".list-inline>li {display: inline-block}\n",
       ".list-inline>li:not(:last-child)::after {content: \"\\00b7\"; padding: 0 .5ex}\n",
       "</style>\n",
       "<ol class=list-inline><li>2542908</li><li>16</li></ol>\n"
      ],
      "text/latex": [
       "\\begin{enumerate*}\n",
       "\\item 2542908\n",
       "\\item 16\n",
       "\\end{enumerate*}\n"
      ],
      "text/markdown": [
       "1. 2542908\n",
       "2. 16\n",
       "\n",
       "\n"
      ],
      "text/plain": [
       "[1] 2542908      16"
      ]
     },
     "metadata": {},
     "output_type": "display_data"
    },
    {
     "data": {
      "text/html": [
       "<table>\n",
       "<caption>A data.table: 6 × 16</caption>\n",
       "<thead>\n",
       "\t<tr><th scope=col>gene_id</th><th scope=col>gene_chr</th><th scope=col>gene_start</th><th scope=col>gene_end</th><th scope=col>strand</th><th scope=col>number_of_SNPs_tested</th><th scope=col>SNP_distance_to_TSS</th><th scope=col>SNP_id</th><th scope=col>SNP_chr</th><th scope=col>SNP_start</th><th scope=col>SNP_end</th><th scope=col>nominal_pval</th><th scope=col>regression_slope</th><th scope=col>top_SNP</th><th scope=col>FDR</th><th scope=col>gene_id_no_version</th></tr>\n",
       "\t<tr><th scope=col>&lt;chr&gt;</th><th scope=col>&lt;chr&gt;</th><th scope=col>&lt;int&gt;</th><th scope=col>&lt;int&gt;</th><th scope=col>&lt;chr&gt;</th><th scope=col>&lt;int&gt;</th><th scope=col>&lt;int&gt;</th><th scope=col>&lt;chr&gt;</th><th scope=col>&lt;chr&gt;</th><th scope=col>&lt;int&gt;</th><th scope=col>&lt;int&gt;</th><th scope=col>&lt;dbl&gt;</th><th scope=col>&lt;dbl&gt;</th><th scope=col>&lt;int&gt;</th><th scope=col>&lt;dbl&gt;</th><th scope=col>&lt;chr&gt;</th></tr>\n",
       "</thead>\n",
       "<tbody>\n",
       "\t<tr><td>ENSG00000215004.3</td><td>chr3</td><td>29128887</td><td>29128887</td><td>+</td><td>4558</td><td>-365581</td><td>3:28763306</td><td>chr3</td><td>28763306</td><td>28763306</td><td>0.000270335</td><td> 0.0886898</td><td>1</td><td>0.01979050</td><td>ENSG00000215004</td></tr>\n",
       "\t<tr><td>ENSG00000215004.3</td><td>chr3</td><td>29128887</td><td>29128887</td><td>+</td><td>4558</td><td>-364465</td><td>3:28764422</td><td>chr3</td><td>28764422</td><td>28764422</td><td>0.000344220</td><td> 0.0868007</td><td>0</td><td>0.02424459</td><td>ENSG00000215004</td></tr>\n",
       "\t<tr><td>ENSG00000215004.3</td><td>chr3</td><td>29128887</td><td>29128887</td><td>+</td><td>4558</td><td>-364376</td><td>3:28764511</td><td>chr3</td><td>28764511</td><td>28764511</td><td>0.000523559</td><td> 0.0841030</td><td>0</td><td>0.03431670</td><td>ENSG00000215004</td></tr>\n",
       "\t<tr><td>ENSG00000215004.3</td><td>chr3</td><td>29128887</td><td>29128887</td><td>+</td><td>4558</td><td>-357186</td><td>3:28771701</td><td>chr3</td><td>28771701</td><td>28771701</td><td>0.000606794</td><td> 0.0861309</td><td>0</td><td>0.03870841</td><td>ENSG00000215004</td></tr>\n",
       "\t<tr><td>ENSG00000215004.3</td><td>chr3</td><td>29128887</td><td>29128887</td><td>+</td><td>4558</td><td> 276595</td><td>3:29405482</td><td>chr3</td><td>29405482</td><td>29405482</td><td>0.000509309</td><td>-0.5076670</td><td>0</td><td>0.03355055</td><td>ENSG00000215004</td></tr>\n",
       "\t<tr><td>ENSG00000215004.3</td><td>chr3</td><td>29128887</td><td>29128887</td><td>+</td><td>4558</td><td> 753189</td><td>3:29882076</td><td>chr3</td><td>29882076</td><td>29882076</td><td>0.000525076</td><td> 0.0807715</td><td>0</td><td>0.03439850</td><td>ENSG00000215004</td></tr>\n",
       "</tbody>\n",
       "</table>\n"
      ],
      "text/latex": [
       "A data.table: 6 × 16\n",
       "\\begin{tabular}{llllllllllllllll}\n",
       " gene\\_id & gene\\_chr & gene\\_start & gene\\_end & strand & number\\_of\\_SNPs\\_tested & SNP\\_distance\\_to\\_TSS & SNP\\_id & SNP\\_chr & SNP\\_start & SNP\\_end & nominal\\_pval & regression\\_slope & top\\_SNP & FDR & gene\\_id\\_no\\_version\\\\\n",
       " <chr> & <chr> & <int> & <int> & <chr> & <int> & <int> & <chr> & <chr> & <int> & <int> & <dbl> & <dbl> & <int> & <dbl> & <chr>\\\\\n",
       "\\hline\n",
       "\t ENSG00000215004.3 & chr3 & 29128887 & 29128887 & + & 4558 & -365581 & 3:28763306 & chr3 & 28763306 & 28763306 & 0.000270335 &  0.0886898 & 1 & 0.01979050 & ENSG00000215004\\\\\n",
       "\t ENSG00000215004.3 & chr3 & 29128887 & 29128887 & + & 4558 & -364465 & 3:28764422 & chr3 & 28764422 & 28764422 & 0.000344220 &  0.0868007 & 0 & 0.02424459 & ENSG00000215004\\\\\n",
       "\t ENSG00000215004.3 & chr3 & 29128887 & 29128887 & + & 4558 & -364376 & 3:28764511 & chr3 & 28764511 & 28764511 & 0.000523559 &  0.0841030 & 0 & 0.03431670 & ENSG00000215004\\\\\n",
       "\t ENSG00000215004.3 & chr3 & 29128887 & 29128887 & + & 4558 & -357186 & 3:28771701 & chr3 & 28771701 & 28771701 & 0.000606794 &  0.0861309 & 0 & 0.03870841 & ENSG00000215004\\\\\n",
       "\t ENSG00000215004.3 & chr3 & 29128887 & 29128887 & + & 4558 &  276595 & 3:29405482 & chr3 & 29405482 & 29405482 & 0.000509309 & -0.5076670 & 0 & 0.03355055 & ENSG00000215004\\\\\n",
       "\t ENSG00000215004.3 & chr3 & 29128887 & 29128887 & + & 4558 &  753189 & 3:29882076 & chr3 & 29882076 & 29882076 & 0.000525076 &  0.0807715 & 0 & 0.03439850 & ENSG00000215004\\\\\n",
       "\\end{tabular}\n"
      ],
      "text/markdown": [
       "\n",
       "A data.table: 6 × 16\n",
       "\n",
       "| gene_id &lt;chr&gt; | gene_chr &lt;chr&gt; | gene_start &lt;int&gt; | gene_end &lt;int&gt; | strand &lt;chr&gt; | number_of_SNPs_tested &lt;int&gt; | SNP_distance_to_TSS &lt;int&gt; | SNP_id &lt;chr&gt; | SNP_chr &lt;chr&gt; | SNP_start &lt;int&gt; | SNP_end &lt;int&gt; | nominal_pval &lt;dbl&gt; | regression_slope &lt;dbl&gt; | top_SNP &lt;int&gt; | FDR &lt;dbl&gt; | gene_id_no_version &lt;chr&gt; |\n",
       "|---|---|---|---|---|---|---|---|---|---|---|---|---|---|---|---|\n",
       "| ENSG00000215004.3 | chr3 | 29128887 | 29128887 | + | 4558 | -365581 | 3:28763306 | chr3 | 28763306 | 28763306 | 0.000270335 |  0.0886898 | 1 | 0.01979050 | ENSG00000215004 |\n",
       "| ENSG00000215004.3 | chr3 | 29128887 | 29128887 | + | 4558 | -364465 | 3:28764422 | chr3 | 28764422 | 28764422 | 0.000344220 |  0.0868007 | 0 | 0.02424459 | ENSG00000215004 |\n",
       "| ENSG00000215004.3 | chr3 | 29128887 | 29128887 | + | 4558 | -364376 | 3:28764511 | chr3 | 28764511 | 28764511 | 0.000523559 |  0.0841030 | 0 | 0.03431670 | ENSG00000215004 |\n",
       "| ENSG00000215004.3 | chr3 | 29128887 | 29128887 | + | 4558 | -357186 | 3:28771701 | chr3 | 28771701 | 28771701 | 0.000606794 |  0.0861309 | 0 | 0.03870841 | ENSG00000215004 |\n",
       "| ENSG00000215004.3 | chr3 | 29128887 | 29128887 | + | 4558 |  276595 | 3:29405482 | chr3 | 29405482 | 29405482 | 0.000509309 | -0.5076670 | 0 | 0.03355055 | ENSG00000215004 |\n",
       "| ENSG00000215004.3 | chr3 | 29128887 | 29128887 | + | 4558 |  753189 | 3:29882076 | chr3 | 29882076 | 29882076 | 0.000525076 |  0.0807715 | 0 | 0.03439850 | ENSG00000215004 |\n",
       "\n"
      ],
      "text/plain": [
       "  gene_id           gene_chr gene_start gene_end strand number_of_SNPs_tested\n",
       "1 ENSG00000215004.3 chr3     29128887   29128887 +      4558                 \n",
       "2 ENSG00000215004.3 chr3     29128887   29128887 +      4558                 \n",
       "3 ENSG00000215004.3 chr3     29128887   29128887 +      4558                 \n",
       "4 ENSG00000215004.3 chr3     29128887   29128887 +      4558                 \n",
       "5 ENSG00000215004.3 chr3     29128887   29128887 +      4558                 \n",
       "6 ENSG00000215004.3 chr3     29128887   29128887 +      4558                 \n",
       "  SNP_distance_to_TSS SNP_id     SNP_chr SNP_start SNP_end  nominal_pval\n",
       "1 -365581             3:28763306 chr3    28763306  28763306 0.000270335 \n",
       "2 -364465             3:28764422 chr3    28764422  28764422 0.000344220 \n",
       "3 -364376             3:28764511 chr3    28764511  28764511 0.000523559 \n",
       "4 -357186             3:28771701 chr3    28771701  28771701 0.000606794 \n",
       "5  276595             3:29405482 chr3    29405482  29405482 0.000509309 \n",
       "6  753189             3:29882076 chr3    29882076  29882076 0.000525076 \n",
       "  regression_slope top_SNP FDR        gene_id_no_version\n",
       "1  0.0886898       1       0.01979050 ENSG00000215004   \n",
       "2  0.0868007       0       0.02424459 ENSG00000215004   \n",
       "3  0.0841030       0       0.03431670 ENSG00000215004   \n",
       "4  0.0861309       0       0.03870841 ENSG00000215004   \n",
       "5 -0.5076670       0       0.03355055 ENSG00000215004   \n",
       "6  0.0807715       0       0.03439850 ENSG00000215004   "
      ]
     },
     "metadata": {},
     "output_type": "display_data"
    }
   ],
   "source": [
    "#add a gene id col without the version number to join on later\n",
    "eqtl$gene_id_no_version <- gsub(\"\\\\..*\",\"\",eqtl$gene_id)\n",
    "dim(eqtl)\n",
    "head(eqtl)"
   ]
  },
  {
   "cell_type": "code",
   "execution_count": 114,
   "metadata": {},
   "outputs": [],
   "source": [
    "edb <- EnsDb.Hsapiens.v86\n",
    "tx <- transcripts(edb, columns=c(\"tx_id\", \"gene_id\", \"gene_name\"))"
   ]
  },
  {
   "cell_type": "code",
   "execution_count": null,
   "metadata": {},
   "outputs": [],
   "source": []
  },
  {
   "cell_type": "code",
   "execution_count": 115,
   "metadata": {},
   "outputs": [
    {
     "data": {
      "text/html": [
       "<style>\n",
       ".list-inline {list-style: none; margin:0; padding: 0}\n",
       ".list-inline>li {display: inline-block}\n",
       ".list-inline>li:not(:last-child)::after {content: \"\\00b7\"; padding: 0 .5ex}\n",
       "</style>\n",
       "<ol class=list-inline><li>216741</li><li>2</li></ol>\n"
      ],
      "text/latex": [
       "\\begin{enumerate*}\n",
       "\\item 216741\n",
       "\\item 2\n",
       "\\end{enumerate*}\n"
      ],
      "text/markdown": [
       "1. 216741\n",
       "2. 2\n",
       "\n",
       "\n"
      ],
      "text/plain": [
       "[1] 216741      2"
      ]
     },
     "metadata": {},
     "output_type": "display_data"
    },
    {
     "data": {
      "text/html": [
       "<table>\n",
       "<caption>A matrix: 6 × 2 of type chr</caption>\n",
       "<thead>\n",
       "\t<tr><th scope=col>gene_id</th><th scope=col>name</th></tr>\n",
       "</thead>\n",
       "<tbody>\n",
       "\t<tr><td>ENSG00000223972</td><td>DDX11L1  </td></tr>\n",
       "\t<tr><td>ENSG00000223972</td><td>DDX11L1  </td></tr>\n",
       "\t<tr><td>ENSG00000227232</td><td>WASH7P   </td></tr>\n",
       "\t<tr><td>ENSG00000278267</td><td>MIR6859-1</td></tr>\n",
       "\t<tr><td>ENSG00000243485</td><td>MIR1302-2</td></tr>\n",
       "\t<tr><td>ENSG00000243485</td><td>MIR1302-2</td></tr>\n",
       "</tbody>\n",
       "</table>\n"
      ],
      "text/latex": [
       "A matrix: 6 × 2 of type chr\n",
       "\\begin{tabular}{ll}\n",
       " gene\\_id & name\\\\\n",
       "\\hline\n",
       "\t ENSG00000223972 & DDX11L1  \\\\\n",
       "\t ENSG00000223972 & DDX11L1  \\\\\n",
       "\t ENSG00000227232 & WASH7P   \\\\\n",
       "\t ENSG00000278267 & MIR6859-1\\\\\n",
       "\t ENSG00000243485 & MIR1302-2\\\\\n",
       "\t ENSG00000243485 & MIR1302-2\\\\\n",
       "\\end{tabular}\n"
      ],
      "text/markdown": [
       "\n",
       "A matrix: 6 × 2 of type chr\n",
       "\n",
       "| gene_id | name |\n",
       "|---|---|\n",
       "| ENSG00000223972 | DDX11L1   |\n",
       "| ENSG00000223972 | DDX11L1   |\n",
       "| ENSG00000227232 | WASH7P    |\n",
       "| ENSG00000278267 | MIR6859-1 |\n",
       "| ENSG00000243485 | MIR1302-2 |\n",
       "| ENSG00000243485 | MIR1302-2 |\n",
       "\n"
      ],
      "text/plain": [
       "     gene_id         name     \n",
       "[1,] ENSG00000223972 DDX11L1  \n",
       "[2,] ENSG00000223972 DDX11L1  \n",
       "[3,] ENSG00000227232 WASH7P   \n",
       "[4,] ENSG00000278267 MIR6859-1\n",
       "[5,] ENSG00000243485 MIR1302-2\n",
       "[6,] ENSG00000243485 MIR1302-2"
      ]
     },
     "metadata": {},
     "output_type": "display_data"
    }
   ],
   "source": [
    "mapping <- cbind(gene_id=tx$gene_id, name=tx$gene_name)\n",
    "dim(mapping)\n",
    "head(mapping)"
   ]
  },
  {
   "cell_type": "code",
   "execution_count": 116,
   "metadata": {},
   "outputs": [
    {
     "data": {
      "text/html": [
       "<style>\n",
       ".list-inline {list-style: none; margin:0; padding: 0}\n",
       ".list-inline>li {display: inline-block}\n",
       ".list-inline>li:not(:last-child)::after {content: \"\\00b7\"; padding: 0 .5ex}\n",
       "</style>\n",
       "<ol class=list-inline><li>63970</li><li>2</li></ol>\n"
      ],
      "text/latex": [
       "\\begin{enumerate*}\n",
       "\\item 63970\n",
       "\\item 2\n",
       "\\end{enumerate*}\n"
      ],
      "text/markdown": [
       "1. 63970\n",
       "2. 2\n",
       "\n",
       "\n"
      ],
      "text/plain": [
       "[1] 63970     2"
      ]
     },
     "metadata": {},
     "output_type": "display_data"
    },
    {
     "data": {
      "text/html": [
       "<table>\n",
       "<caption>A matrix: 6 × 2 of type chr</caption>\n",
       "<thead>\n",
       "\t<tr><th scope=col>gene_id</th><th scope=col>name</th></tr>\n",
       "</thead>\n",
       "<tbody>\n",
       "\t<tr><td>ENSG00000223972</td><td>DDX11L1  </td></tr>\n",
       "\t<tr><td>ENSG00000227232</td><td>WASH7P   </td></tr>\n",
       "\t<tr><td>ENSG00000278267</td><td>MIR6859-1</td></tr>\n",
       "\t<tr><td>ENSG00000243485</td><td>MIR1302-2</td></tr>\n",
       "\t<tr><td>ENSG00000237613</td><td>FAM138A  </td></tr>\n",
       "\t<tr><td>ENSG00000268020</td><td>OR4G4P   </td></tr>\n",
       "</tbody>\n",
       "</table>\n"
      ],
      "text/latex": [
       "A matrix: 6 × 2 of type chr\n",
       "\\begin{tabular}{ll}\n",
       " gene\\_id & name\\\\\n",
       "\\hline\n",
       "\t ENSG00000223972 & DDX11L1  \\\\\n",
       "\t ENSG00000227232 & WASH7P   \\\\\n",
       "\t ENSG00000278267 & MIR6859-1\\\\\n",
       "\t ENSG00000243485 & MIR1302-2\\\\\n",
       "\t ENSG00000237613 & FAM138A  \\\\\n",
       "\t ENSG00000268020 & OR4G4P   \\\\\n",
       "\\end{tabular}\n"
      ],
      "text/markdown": [
       "\n",
       "A matrix: 6 × 2 of type chr\n",
       "\n",
       "| gene_id | name |\n",
       "|---|---|\n",
       "| ENSG00000223972 | DDX11L1   |\n",
       "| ENSG00000227232 | WASH7P    |\n",
       "| ENSG00000278267 | MIR6859-1 |\n",
       "| ENSG00000243485 | MIR1302-2 |\n",
       "| ENSG00000237613 | FAM138A   |\n",
       "| ENSG00000268020 | OR4G4P    |\n",
       "\n"
      ],
      "text/plain": [
       "     gene_id         name     \n",
       "[1,] ENSG00000223972 DDX11L1  \n",
       "[2,] ENSG00000227232 WASH7P   \n",
       "[3,] ENSG00000278267 MIR6859-1\n",
       "[4,] ENSG00000243485 MIR1302-2\n",
       "[5,] ENSG00000237613 FAM138A  \n",
       "[6,] ENSG00000268020 OR4G4P   "
      ]
     },
     "metadata": {},
     "output_type": "display_data"
    }
   ],
   "source": [
    "mapping <-mapping[!duplicated(mapping),]\n",
    "dim(mapping)\n",
    "head(mapping)"
   ]
  },
  {
   "cell_type": "code",
   "execution_count": 117,
   "metadata": {},
   "outputs": [
    {
     "data": {
      "text/html": [
       "<style>\n",
       ".list-inline {list-style: none; margin:0; padding: 0}\n",
       ".list-inline>li {display: inline-block}\n",
       ".list-inline>li:not(:last-child)::after {content: \"\\00b7\"; padding: 0 .5ex}\n",
       "</style>\n",
       "<ol class=list-inline><li>2542908</li><li>17</li></ol>\n"
      ],
      "text/latex": [
       "\\begin{enumerate*}\n",
       "\\item 2542908\n",
       "\\item 17\n",
       "\\end{enumerate*}\n"
      ],
      "text/markdown": [
       "1. 2542908\n",
       "2. 17\n",
       "\n",
       "\n"
      ],
      "text/plain": [
       "[1] 2542908      17"
      ]
     },
     "metadata": {},
     "output_type": "display_data"
    },
    {
     "data": {
      "text/html": [
       "<table>\n",
       "<caption>A data.table: 6 × 17</caption>\n",
       "<thead>\n",
       "\t<tr><th scope=col>gene_id_no_version</th><th scope=col>gene_id</th><th scope=col>gene_chr</th><th scope=col>gene_start</th><th scope=col>gene_end</th><th scope=col>strand</th><th scope=col>number_of_SNPs_tested</th><th scope=col>SNP_distance_to_TSS</th><th scope=col>SNP_id</th><th scope=col>SNP_chr</th><th scope=col>SNP_start</th><th scope=col>SNP_end</th><th scope=col>nominal_pval</th><th scope=col>regression_slope</th><th scope=col>top_SNP</th><th scope=col>FDR</th><th scope=col>name</th></tr>\n",
       "\t<tr><th scope=col>&lt;chr&gt;</th><th scope=col>&lt;chr&gt;</th><th scope=col>&lt;chr&gt;</th><th scope=col>&lt;int&gt;</th><th scope=col>&lt;int&gt;</th><th scope=col>&lt;chr&gt;</th><th scope=col>&lt;int&gt;</th><th scope=col>&lt;int&gt;</th><th scope=col>&lt;chr&gt;</th><th scope=col>&lt;chr&gt;</th><th scope=col>&lt;int&gt;</th><th scope=col>&lt;int&gt;</th><th scope=col>&lt;dbl&gt;</th><th scope=col>&lt;dbl&gt;</th><th scope=col>&lt;int&gt;</th><th scope=col>&lt;dbl&gt;</th><th scope=col>&lt;chr&gt;</th></tr>\n",
       "</thead>\n",
       "<tbody>\n",
       "\t<tr><td>ENSG00000000419</td><td>ENSG00000000419.8</td><td>chr20</td><td>49575087</td><td>49575087</td><td>+</td><td>3822</td><td>646933</td><td>20:50222020</td><td>chr20</td><td>50222020</td><td>50222020</td><td>0.000324956</td><td>-0.1431490</td><td>0</td><td>0.02310444</td><td>DPM1</td></tr>\n",
       "\t<tr><td>ENSG00000000419</td><td>ENSG00000000419.8</td><td>chr20</td><td>49575087</td><td>49575087</td><td>+</td><td>3822</td><td>664972</td><td>20:50240059</td><td>chr20</td><td>50240059</td><td>50240059</td><td>0.000451591</td><td>-0.1480170</td><td>0</td><td>0.03039076</td><td>DPM1</td></tr>\n",
       "\t<tr><td>ENSG00000000419</td><td>ENSG00000000419.8</td><td>chr20</td><td>49575087</td><td>49575087</td><td>+</td><td>3822</td><td>664977</td><td>20:50240064</td><td>chr20</td><td>50240064</td><td>50240064</td><td>0.000453964</td><td>-0.1480630</td><td>0</td><td>0.03052310</td><td>DPM1</td></tr>\n",
       "\t<tr><td>ENSG00000000419</td><td>ENSG00000000419.8</td><td>chr20</td><td>49575087</td><td>49575087</td><td>+</td><td>3822</td><td>685503</td><td>20:50260590</td><td>chr20</td><td>50260590</td><td>50260590</td><td>0.000673931</td><td>-0.1784450</td><td>0</td><td>0.04215094</td><td>DPM1</td></tr>\n",
       "\t<tr><td>ENSG00000000419</td><td>ENSG00000000419.8</td><td>chr20</td><td>49575087</td><td>49575087</td><td>+</td><td>3822</td><td>813581</td><td>20:50388668</td><td>chr20</td><td>50388668</td><td>50388668</td><td>0.000624824</td><td> 0.0601779</td><td>0</td><td>0.03964026</td><td>DPM1</td></tr>\n",
       "\t<tr><td>ENSG00000000419</td><td>ENSG00000000419.8</td><td>chr20</td><td>49575087</td><td>49575087</td><td>+</td><td>3822</td><td>820811</td><td>20:50395898</td><td>chr20</td><td>50395898</td><td>50395898</td><td>0.000664205</td><td> 0.0595730</td><td>0</td><td>0.04165440</td><td>DPM1</td></tr>\n",
       "</tbody>\n",
       "</table>\n"
      ],
      "text/latex": [
       "A data.table: 6 × 17\n",
       "\\begin{tabular}{lllllllllllllllll}\n",
       " gene\\_id\\_no\\_version & gene\\_id & gene\\_chr & gene\\_start & gene\\_end & strand & number\\_of\\_SNPs\\_tested & SNP\\_distance\\_to\\_TSS & SNP\\_id & SNP\\_chr & SNP\\_start & SNP\\_end & nominal\\_pval & regression\\_slope & top\\_SNP & FDR & name\\\\\n",
       " <chr> & <chr> & <chr> & <int> & <int> & <chr> & <int> & <int> & <chr> & <chr> & <int> & <int> & <dbl> & <dbl> & <int> & <dbl> & <chr>\\\\\n",
       "\\hline\n",
       "\t ENSG00000000419 & ENSG00000000419.8 & chr20 & 49575087 & 49575087 & + & 3822 & 646933 & 20:50222020 & chr20 & 50222020 & 50222020 & 0.000324956 & -0.1431490 & 0 & 0.02310444 & DPM1\\\\\n",
       "\t ENSG00000000419 & ENSG00000000419.8 & chr20 & 49575087 & 49575087 & + & 3822 & 664972 & 20:50240059 & chr20 & 50240059 & 50240059 & 0.000451591 & -0.1480170 & 0 & 0.03039076 & DPM1\\\\\n",
       "\t ENSG00000000419 & ENSG00000000419.8 & chr20 & 49575087 & 49575087 & + & 3822 & 664977 & 20:50240064 & chr20 & 50240064 & 50240064 & 0.000453964 & -0.1480630 & 0 & 0.03052310 & DPM1\\\\\n",
       "\t ENSG00000000419 & ENSG00000000419.8 & chr20 & 49575087 & 49575087 & + & 3822 & 685503 & 20:50260590 & chr20 & 50260590 & 50260590 & 0.000673931 & -0.1784450 & 0 & 0.04215094 & DPM1\\\\\n",
       "\t ENSG00000000419 & ENSG00000000419.8 & chr20 & 49575087 & 49575087 & + & 3822 & 813581 & 20:50388668 & chr20 & 50388668 & 50388668 & 0.000624824 &  0.0601779 & 0 & 0.03964026 & DPM1\\\\\n",
       "\t ENSG00000000419 & ENSG00000000419.8 & chr20 & 49575087 & 49575087 & + & 3822 & 820811 & 20:50395898 & chr20 & 50395898 & 50395898 & 0.000664205 &  0.0595730 & 0 & 0.04165440 & DPM1\\\\\n",
       "\\end{tabular}\n"
      ],
      "text/markdown": [
       "\n",
       "A data.table: 6 × 17\n",
       "\n",
       "| gene_id_no_version &lt;chr&gt; | gene_id &lt;chr&gt; | gene_chr &lt;chr&gt; | gene_start &lt;int&gt; | gene_end &lt;int&gt; | strand &lt;chr&gt; | number_of_SNPs_tested &lt;int&gt; | SNP_distance_to_TSS &lt;int&gt; | SNP_id &lt;chr&gt; | SNP_chr &lt;chr&gt; | SNP_start &lt;int&gt; | SNP_end &lt;int&gt; | nominal_pval &lt;dbl&gt; | regression_slope &lt;dbl&gt; | top_SNP &lt;int&gt; | FDR &lt;dbl&gt; | name &lt;chr&gt; |\n",
       "|---|---|---|---|---|---|---|---|---|---|---|---|---|---|---|---|---|\n",
       "| ENSG00000000419 | ENSG00000000419.8 | chr20 | 49575087 | 49575087 | + | 3822 | 646933 | 20:50222020 | chr20 | 50222020 | 50222020 | 0.000324956 | -0.1431490 | 0 | 0.02310444 | DPM1 |\n",
       "| ENSG00000000419 | ENSG00000000419.8 | chr20 | 49575087 | 49575087 | + | 3822 | 664972 | 20:50240059 | chr20 | 50240059 | 50240059 | 0.000451591 | -0.1480170 | 0 | 0.03039076 | DPM1 |\n",
       "| ENSG00000000419 | ENSG00000000419.8 | chr20 | 49575087 | 49575087 | + | 3822 | 664977 | 20:50240064 | chr20 | 50240064 | 50240064 | 0.000453964 | -0.1480630 | 0 | 0.03052310 | DPM1 |\n",
       "| ENSG00000000419 | ENSG00000000419.8 | chr20 | 49575087 | 49575087 | + | 3822 | 685503 | 20:50260590 | chr20 | 50260590 | 50260590 | 0.000673931 | -0.1784450 | 0 | 0.04215094 | DPM1 |\n",
       "| ENSG00000000419 | ENSG00000000419.8 | chr20 | 49575087 | 49575087 | + | 3822 | 813581 | 20:50388668 | chr20 | 50388668 | 50388668 | 0.000624824 |  0.0601779 | 0 | 0.03964026 | DPM1 |\n",
       "| ENSG00000000419 | ENSG00000000419.8 | chr20 | 49575087 | 49575087 | + | 3822 | 820811 | 20:50395898 | chr20 | 50395898 | 50395898 | 0.000664205 |  0.0595730 | 0 | 0.04165440 | DPM1 |\n",
       "\n"
      ],
      "text/plain": [
       "  gene_id_no_version gene_id           gene_chr gene_start gene_end strand\n",
       "1 ENSG00000000419    ENSG00000000419.8 chr20    49575087   49575087 +     \n",
       "2 ENSG00000000419    ENSG00000000419.8 chr20    49575087   49575087 +     \n",
       "3 ENSG00000000419    ENSG00000000419.8 chr20    49575087   49575087 +     \n",
       "4 ENSG00000000419    ENSG00000000419.8 chr20    49575087   49575087 +     \n",
       "5 ENSG00000000419    ENSG00000000419.8 chr20    49575087   49575087 +     \n",
       "6 ENSG00000000419    ENSG00000000419.8 chr20    49575087   49575087 +     \n",
       "  number_of_SNPs_tested SNP_distance_to_TSS SNP_id      SNP_chr SNP_start\n",
       "1 3822                  646933              20:50222020 chr20   50222020 \n",
       "2 3822                  664972              20:50240059 chr20   50240059 \n",
       "3 3822                  664977              20:50240064 chr20   50240064 \n",
       "4 3822                  685503              20:50260590 chr20   50260590 \n",
       "5 3822                  813581              20:50388668 chr20   50388668 \n",
       "6 3822                  820811              20:50395898 chr20   50395898 \n",
       "  SNP_end  nominal_pval regression_slope top_SNP FDR        name\n",
       "1 50222020 0.000324956  -0.1431490       0       0.02310444 DPM1\n",
       "2 50240059 0.000451591  -0.1480170       0       0.03039076 DPM1\n",
       "3 50240064 0.000453964  -0.1480630       0       0.03052310 DPM1\n",
       "4 50260590 0.000673931  -0.1784450       0       0.04215094 DPM1\n",
       "5 50388668 0.000624824   0.0601779       0       0.03964026 DPM1\n",
       "6 50395898 0.000664205   0.0595730       0       0.04165440 DPM1"
      ]
     },
     "metadata": {},
     "output_type": "display_data"
    }
   ],
   "source": [
    "qtl <- merge(x=eqtl, y=mapping, by.x='gene_id_no_version',by.y='gene_id', all.x=TRUE)\n",
    "dim(qtl)\n",
    "head(qtl)"
   ]
  },
  {
   "cell_type": "markdown",
   "metadata": {},
   "source": [
    "now we need to get the rsids for the SNP_id"
   ]
  },
  {
   "cell_type": "code",
   "execution_count": 118,
   "metadata": {},
   "outputs": [
    {
     "data": {
      "text/html": [
       "<style>\n",
       ".list-inline {list-style: none; margin:0; padding: 0}\n",
       ".list-inline>li {display: inline-block}\n",
       ".list-inline>li:not(:last-child)::after {content: \"\\00b7\"; padding: 0 .5ex}\n",
       "</style>\n",
       "<ol class=list-inline><li>5312508</li><li>6</li></ol>\n"
      ],
      "text/latex": [
       "\\begin{enumerate*}\n",
       "\\item 5312508\n",
       "\\item 6\n",
       "\\end{enumerate*}\n"
      ],
      "text/markdown": [
       "1. 5312508\n",
       "2. 6\n",
       "\n",
       "\n"
      ],
      "text/plain": [
       "[1] 5312508       6"
      ]
     },
     "metadata": {},
     "output_type": "display_data"
    },
    {
     "data": {
      "text/html": [
       "<table>\n",
       "<caption>A data.table: 6 × 6</caption>\n",
       "<thead>\n",
       "\t<tr><th scope=col>PEC_id</th><th scope=col>Rsid</th><th scope=col>chr</th><th scope=col>position</th><th scope=col>REF</th><th scope=col>ALT</th></tr>\n",
       "\t<tr><th scope=col>&lt;chr&gt;</th><th scope=col>&lt;chr&gt;</th><th scope=col>&lt;chr&gt;</th><th scope=col>&lt;int&gt;</th><th scope=col>&lt;chr&gt;</th><th scope=col>&lt;chr&gt;</th></tr>\n",
       "</thead>\n",
       "<tbody>\n",
       "\t<tr><td>1:927741</td><td>rs6665587  </td><td>chr1</td><td>927741</td><td>G</td><td>A</td></tr>\n",
       "\t<tr><td>1:928416</td><td>rs111754459</td><td>chr1</td><td>928416</td><td>G</td><td>A</td></tr>\n",
       "\t<tr><td>1:930377</td><td>rs3128109  </td><td>chr1</td><td>930377</td><td>C</td><td>T</td></tr>\n",
       "\t<tr><td>1:931548</td><td>rs2799062  </td><td>chr1</td><td>931548</td><td>G</td><td>T</td></tr>\n",
       "\t<tr><td>1:935715</td><td>rs3128114  </td><td>chr1</td><td>935715</td><td>C</td><td>T</td></tr>\n",
       "\t<tr><td>1:938125</td><td>rs2710868  </td><td>chr1</td><td>938125</td><td>G</td><td>A</td></tr>\n",
       "</tbody>\n",
       "</table>\n"
      ],
      "text/latex": [
       "A data.table: 6 × 6\n",
       "\\begin{tabular}{llllll}\n",
       " PEC\\_id & Rsid & chr & position & REF & ALT\\\\\n",
       " <chr> & <chr> & <chr> & <int> & <chr> & <chr>\\\\\n",
       "\\hline\n",
       "\t 1:927741 & rs6665587   & chr1 & 927741 & G & A\\\\\n",
       "\t 1:928416 & rs111754459 & chr1 & 928416 & G & A\\\\\n",
       "\t 1:930377 & rs3128109   & chr1 & 930377 & C & T\\\\\n",
       "\t 1:931548 & rs2799062   & chr1 & 931548 & G & T\\\\\n",
       "\t 1:935715 & rs3128114   & chr1 & 935715 & C & T\\\\\n",
       "\t 1:938125 & rs2710868   & chr1 & 938125 & G & A\\\\\n",
       "\\end{tabular}\n"
      ],
      "text/markdown": [
       "\n",
       "A data.table: 6 × 6\n",
       "\n",
       "| PEC_id &lt;chr&gt; | Rsid &lt;chr&gt; | chr &lt;chr&gt; | position &lt;int&gt; | REF &lt;chr&gt; | ALT &lt;chr&gt; |\n",
       "|---|---|---|---|---|---|\n",
       "| 1:927741 | rs6665587   | chr1 | 927741 | G | A |\n",
       "| 1:928416 | rs111754459 | chr1 | 928416 | G | A |\n",
       "| 1:930377 | rs3128109   | chr1 | 930377 | C | T |\n",
       "| 1:931548 | rs2799062   | chr1 | 931548 | G | T |\n",
       "| 1:935715 | rs3128114   | chr1 | 935715 | C | T |\n",
       "| 1:938125 | rs2710868   | chr1 | 938125 | G | A |\n",
       "\n"
      ],
      "text/plain": [
       "  PEC_id   Rsid        chr  position REF ALT\n",
       "1 1:927741 rs6665587   chr1 927741   G   A  \n",
       "2 1:928416 rs111754459 chr1 928416   G   A  \n",
       "3 1:930377 rs3128109   chr1 930377   C   T  \n",
       "4 1:931548 rs2799062   chr1 931548   G   T  \n",
       "5 1:935715 rs3128114   chr1 935715   C   T  \n",
       "6 1:938125 rs2710868   chr1 938125   G   A  "
      ]
     },
     "metadata": {},
     "output_type": "display_data"
    }
   ],
   "source": [
    "psych_snps <- fread(\"$PATH1/qtl/psychencode/SNP_Information_Table_with_Alleles.txt\")\n",
    "dim(psych_snps)\n",
    "head(psych_snps)"
   ]
  },
  {
   "cell_type": "code",
   "execution_count": 119,
   "metadata": {},
   "outputs": [
    {
     "data": {
      "text/html": [
       "<style>\n",
       ".list-inline {list-style: none; margin:0; padding: 0}\n",
       ".list-inline>li {display: inline-block}\n",
       ".list-inline>li:not(:last-child)::after {content: \"\\00b7\"; padding: 0 .5ex}\n",
       "</style>\n",
       "<ol class=list-inline><li>'data.table'</li><li>'data.frame'</li></ol>\n"
      ],
      "text/latex": [
       "\\begin{enumerate*}\n",
       "\\item 'data.table'\n",
       "\\item 'data.frame'\n",
       "\\end{enumerate*}\n"
      ],
      "text/markdown": [
       "1. 'data.table'\n",
       "2. 'data.frame'\n",
       "\n",
       "\n"
      ],
      "text/plain": [
       "[1] \"data.table\" \"data.frame\""
      ]
     },
     "metadata": {},
     "output_type": "display_data"
    },
    {
     "data": {
      "text/html": [
       "'list'"
      ],
      "text/latex": [
       "'list'"
      ],
      "text/markdown": [
       "'list'"
      ],
      "text/plain": [
       "[1] \"list\""
      ]
     },
     "metadata": {},
     "output_type": "display_data"
    },
    {
     "data": {
      "text/html": [
       "<style>\n",
       ".list-inline {list-style: none; margin:0; padding: 0}\n",
       ".list-inline>li {display: inline-block}\n",
       ".list-inline>li:not(:last-child)::after {content: \"\\00b7\"; padding: 0 .5ex}\n",
       "</style>\n",
       "<ol class=list-inline><li>2542908</li><li>22</li></ol>\n"
      ],
      "text/latex": [
       "\\begin{enumerate*}\n",
       "\\item 2542908\n",
       "\\item 22\n",
       "\\end{enumerate*}\n"
      ],
      "text/markdown": [
       "1. 2542908\n",
       "2. 22\n",
       "\n",
       "\n"
      ],
      "text/plain": [
       "[1] 2542908      22"
      ]
     },
     "metadata": {},
     "output_type": "display_data"
    },
    {
     "data": {
      "text/html": [
       "<table>\n",
       "<caption>A data.table: 6 × 22</caption>\n",
       "<thead>\n",
       "\t<tr><th scope=col>SNP_id</th><th scope=col>gene_id_no_version</th><th scope=col>gene_id</th><th scope=col>gene_chr</th><th scope=col>gene_start</th><th scope=col>gene_end</th><th scope=col>strand</th><th scope=col>number_of_SNPs_tested</th><th scope=col>SNP_distance_to_TSS</th><th scope=col>SNP_chr</th><th scope=col>⋯</th><th scope=col>nominal_pval</th><th scope=col>regression_slope</th><th scope=col>top_SNP</th><th scope=col>FDR</th><th scope=col>name</th><th scope=col>Rsid</th><th scope=col>chr</th><th scope=col>position</th><th scope=col>REF</th><th scope=col>ALT</th></tr>\n",
       "\t<tr><th scope=col>&lt;chr&gt;</th><th scope=col>&lt;chr&gt;</th><th scope=col>&lt;chr&gt;</th><th scope=col>&lt;chr&gt;</th><th scope=col>&lt;int&gt;</th><th scope=col>&lt;int&gt;</th><th scope=col>&lt;chr&gt;</th><th scope=col>&lt;int&gt;</th><th scope=col>&lt;int&gt;</th><th scope=col>&lt;chr&gt;</th><th scope=col>⋯</th><th scope=col>&lt;dbl&gt;</th><th scope=col>&lt;dbl&gt;</th><th scope=col>&lt;int&gt;</th><th scope=col>&lt;dbl&gt;</th><th scope=col>&lt;chr&gt;</th><th scope=col>&lt;chr&gt;</th><th scope=col>&lt;chr&gt;</th><th scope=col>&lt;int&gt;</th><th scope=col>&lt;chr&gt;</th><th scope=col>&lt;chr&gt;</th></tr>\n",
       "</thead>\n",
       "<tbody>\n",
       "\t<tr><td>10:100000645</td><td>ENSG00000095713</td><td>ENSG00000095713.9</td><td>chr10</td><td>99696035</td><td>99696035</td><td>+</td><td>3430</td><td>304610</td><td>chr10</td><td>⋯</td><td>6.23505e-06</td><td>-0.0581551</td><td>0</td><td>0.0007121564</td><td>CRTAC1 </td><td>rs61875309</td><td>chr10</td><td>100000645</td><td>A</td><td>C</td></tr>\n",
       "\t<tr><td>10:100003785</td><td>ENSG00000166024</td><td>ENSG00000166024.9</td><td>chr10</td><td>99894428</td><td>99894428</td><td>+</td><td>3529</td><td>109357</td><td>chr10</td><td>⋯</td><td>1.63170e-04</td><td>-0.0393197</td><td>0</td><td>0.0128647633</td><td>R3HCC1L</td><td>rs1359508 </td><td>chr10</td><td>100003785</td><td>T</td><td>C</td></tr>\n",
       "\t<tr><td>10:100004996</td><td>ENSG00000166024</td><td>ENSG00000166024.9</td><td>chr10</td><td>99894428</td><td>99894428</td><td>+</td><td>3529</td><td>110568</td><td>chr10</td><td>⋯</td><td>1.63502e-04</td><td>-0.0393159</td><td>0</td><td>0.0128872297</td><td>R3HCC1L</td><td>rs2025625 </td><td>chr10</td><td>100004996</td><td>G</td><td>A</td></tr>\n",
       "\t<tr><td>10:100007362</td><td>ENSG00000095713</td><td>ENSG00000095713.9</td><td>chr10</td><td>99696035</td><td>99696035</td><td>+</td><td>3430</td><td>311327</td><td>chr10</td><td>⋯</td><td>7.17745e-06</td><td>-0.0582244</td><td>0</td><td>0.0008087173</td><td>CRTAC1 </td><td>rs11816998</td><td>chr10</td><td>100007362</td><td>G</td><td>C</td></tr>\n",
       "\t<tr><td>10:100010186</td><td>ENSG00000095713</td><td>ENSG00000095713.9</td><td>chr10</td><td>99696035</td><td>99696035</td><td>+</td><td>3430</td><td>314151</td><td>chr10</td><td>⋯</td><td>6.29913e-04</td><td>-0.0348725</td><td>0</td><td>0.0399014977</td><td>CRTAC1 </td><td>rs4919190 </td><td>chr10</td><td>100010186</td><td>A</td><td>G</td></tr>\n",
       "\t<tr><td>10:100010186</td><td>ENSG00000269783</td><td>ENSG00000269783.1</td><td>chr10</td><td>99627889</td><td>99627889</td><td>+</td><td>3444</td><td>382297</td><td>chr10</td><td>⋯</td><td>3.20544e-04</td><td> 0.0555388</td><td>0</td><td>0.0228401854</td><td>NA     </td><td>rs4919190 </td><td>chr10</td><td>100010186</td><td>A</td><td>G</td></tr>\n",
       "</tbody>\n",
       "</table>\n"
      ],
      "text/latex": [
       "A data.table: 6 × 22\n",
       "\\begin{tabular}{lllllllllllllllllllll}\n",
       " SNP\\_id & gene\\_id\\_no\\_version & gene\\_id & gene\\_chr & gene\\_start & gene\\_end & strand & number\\_of\\_SNPs\\_tested & SNP\\_distance\\_to\\_TSS & SNP\\_chr & ⋯ & nominal\\_pval & regression\\_slope & top\\_SNP & FDR & name & Rsid & chr & position & REF & ALT\\\\\n",
       " <chr> & <chr> & <chr> & <chr> & <int> & <int> & <chr> & <int> & <int> & <chr> & ⋯ & <dbl> & <dbl> & <int> & <dbl> & <chr> & <chr> & <chr> & <int> & <chr> & <chr>\\\\\n",
       "\\hline\n",
       "\t 10:100000645 & ENSG00000095713 & ENSG00000095713.9 & chr10 & 99696035 & 99696035 & + & 3430 & 304610 & chr10 & ⋯ & 6.23505e-06 & -0.0581551 & 0 & 0.0007121564 & CRTAC1  & rs61875309 & chr10 & 100000645 & A & C\\\\\n",
       "\t 10:100003785 & ENSG00000166024 & ENSG00000166024.9 & chr10 & 99894428 & 99894428 & + & 3529 & 109357 & chr10 & ⋯ & 1.63170e-04 & -0.0393197 & 0 & 0.0128647633 & R3HCC1L & rs1359508  & chr10 & 100003785 & T & C\\\\\n",
       "\t 10:100004996 & ENSG00000166024 & ENSG00000166024.9 & chr10 & 99894428 & 99894428 & + & 3529 & 110568 & chr10 & ⋯ & 1.63502e-04 & -0.0393159 & 0 & 0.0128872297 & R3HCC1L & rs2025625  & chr10 & 100004996 & G & A\\\\\n",
       "\t 10:100007362 & ENSG00000095713 & ENSG00000095713.9 & chr10 & 99696035 & 99696035 & + & 3430 & 311327 & chr10 & ⋯ & 7.17745e-06 & -0.0582244 & 0 & 0.0008087173 & CRTAC1  & rs11816998 & chr10 & 100007362 & G & C\\\\\n",
       "\t 10:100010186 & ENSG00000095713 & ENSG00000095713.9 & chr10 & 99696035 & 99696035 & + & 3430 & 314151 & chr10 & ⋯ & 6.29913e-04 & -0.0348725 & 0 & 0.0399014977 & CRTAC1  & rs4919190  & chr10 & 100010186 & A & G\\\\\n",
       "\t 10:100010186 & ENSG00000269783 & ENSG00000269783.1 & chr10 & 99627889 & 99627889 & + & 3444 & 382297 & chr10 & ⋯ & 3.20544e-04 &  0.0555388 & 0 & 0.0228401854 & NA      & rs4919190  & chr10 & 100010186 & A & G\\\\\n",
       "\\end{tabular}\n"
      ],
      "text/markdown": [
       "\n",
       "A data.table: 6 × 22\n",
       "\n",
       "| SNP_id &lt;chr&gt; | gene_id_no_version &lt;chr&gt; | gene_id &lt;chr&gt; | gene_chr &lt;chr&gt; | gene_start &lt;int&gt; | gene_end &lt;int&gt; | strand &lt;chr&gt; | number_of_SNPs_tested &lt;int&gt; | SNP_distance_to_TSS &lt;int&gt; | SNP_chr &lt;chr&gt; | ⋯ ⋯ | nominal_pval &lt;dbl&gt; | regression_slope &lt;dbl&gt; | top_SNP &lt;int&gt; | FDR &lt;dbl&gt; | name &lt;chr&gt; | Rsid &lt;chr&gt; | chr &lt;chr&gt; | position &lt;int&gt; | REF &lt;chr&gt; | ALT &lt;chr&gt; |\n",
       "|---|---|---|---|---|---|---|---|---|---|---|---|---|---|---|---|---|---|---|---|---|\n",
       "| 10:100000645 | ENSG00000095713 | ENSG00000095713.9 | chr10 | 99696035 | 99696035 | + | 3430 | 304610 | chr10 | ⋯ | 6.23505e-06 | -0.0581551 | 0 | 0.0007121564 | CRTAC1  | rs61875309 | chr10 | 100000645 | A | C |\n",
       "| 10:100003785 | ENSG00000166024 | ENSG00000166024.9 | chr10 | 99894428 | 99894428 | + | 3529 | 109357 | chr10 | ⋯ | 1.63170e-04 | -0.0393197 | 0 | 0.0128647633 | R3HCC1L | rs1359508  | chr10 | 100003785 | T | C |\n",
       "| 10:100004996 | ENSG00000166024 | ENSG00000166024.9 | chr10 | 99894428 | 99894428 | + | 3529 | 110568 | chr10 | ⋯ | 1.63502e-04 | -0.0393159 | 0 | 0.0128872297 | R3HCC1L | rs2025625  | chr10 | 100004996 | G | A |\n",
       "| 10:100007362 | ENSG00000095713 | ENSG00000095713.9 | chr10 | 99696035 | 99696035 | + | 3430 | 311327 | chr10 | ⋯ | 7.17745e-06 | -0.0582244 | 0 | 0.0008087173 | CRTAC1  | rs11816998 | chr10 | 100007362 | G | C |\n",
       "| 10:100010186 | ENSG00000095713 | ENSG00000095713.9 | chr10 | 99696035 | 99696035 | + | 3430 | 314151 | chr10 | ⋯ | 6.29913e-04 | -0.0348725 | 0 | 0.0399014977 | CRTAC1  | rs4919190  | chr10 | 100010186 | A | G |\n",
       "| 10:100010186 | ENSG00000269783 | ENSG00000269783.1 | chr10 | 99627889 | 99627889 | + | 3444 | 382297 | chr10 | ⋯ | 3.20544e-04 |  0.0555388 | 0 | 0.0228401854 | NA      | rs4919190  | chr10 | 100010186 | A | G |\n",
       "\n"
      ],
      "text/plain": [
       "  SNP_id       gene_id_no_version gene_id           gene_chr gene_start\n",
       "1 10:100000645 ENSG00000095713    ENSG00000095713.9 chr10    99696035  \n",
       "2 10:100003785 ENSG00000166024    ENSG00000166024.9 chr10    99894428  \n",
       "3 10:100004996 ENSG00000166024    ENSG00000166024.9 chr10    99894428  \n",
       "4 10:100007362 ENSG00000095713    ENSG00000095713.9 chr10    99696035  \n",
       "5 10:100010186 ENSG00000095713    ENSG00000095713.9 chr10    99696035  \n",
       "6 10:100010186 ENSG00000269783    ENSG00000269783.1 chr10    99627889  \n",
       "  gene_end strand number_of_SNPs_tested SNP_distance_to_TSS SNP_chr <U+22EF>  \n",
       "1 99696035 +      3430                  304610              chr10   <U+22EF>\n",
       "2 99894428 +      3529                  109357              chr10   <U+22EF>\n",
       "3 99894428 +      3529                  110568              chr10   <U+22EF>\n",
       "4 99696035 +      3430                  311327              chr10   <U+22EF>\n",
       "5 99696035 +      3430                  314151              chr10   <U+22EF>\n",
       "6 99627889 +      3444                  382297              chr10   <U+22EF>\n",
       "  nominal_pval regression_slope top_SNP FDR          name    Rsid       chr  \n",
       "1 6.23505e-06  -0.0581551       0       0.0007121564 CRTAC1  rs61875309 chr10\n",
       "2 1.63170e-04  -0.0393197       0       0.0128647633 R3HCC1L rs1359508  chr10\n",
       "3 1.63502e-04  -0.0393159       0       0.0128872297 R3HCC1L rs2025625  chr10\n",
       "4 7.17745e-06  -0.0582244       0       0.0008087173 CRTAC1  rs11816998 chr10\n",
       "5 6.29913e-04  -0.0348725       0       0.0399014977 CRTAC1  rs4919190  chr10\n",
       "6 3.20544e-04   0.0555388       0       0.0228401854 NA      rs4919190  chr10\n",
       "  position  REF ALT\n",
       "1 100000645 A   C  \n",
       "2 100003785 T   C  \n",
       "3 100004996 G   A  \n",
       "4 100007362 G   C  \n",
       "5 100010186 A   G  \n",
       "6 100010186 A   G  "
      ]
     },
     "metadata": {},
     "output_type": "display_data"
    }
   ],
   "source": [
    "\n",
    "qtl <- merge(x=qtl, y=psych_snps, by.x = \"SNP_id\", by.y = \"PEC_id\",all.x=TRUE)\n",
    "class(qtl)\n",
    "typeof(qtl)\n",
    "dim(qtl)\n",
    "head(qtl)\n"
   ]
  },
  {
   "cell_type": "code",
   "execution_count": 120,
   "metadata": {},
   "outputs": [
    {
     "data": {
      "text/html": [
       "<style>\n",
       ".list-inline {list-style: none; margin:0; padding: 0}\n",
       ".list-inline>li {display: inline-block}\n",
       ".list-inline>li:not(:last-child)::after {content: \"\\00b7\"; padding: 0 .5ex}\n",
       "</style>\n",
       "<ol class=list-inline><li>2542908</li><li>23</li></ol>\n"
      ],
      "text/latex": [
       "\\begin{enumerate*}\n",
       "\\item 2542908\n",
       "\\item 23\n",
       "\\end{enumerate*}\n"
      ],
      "text/markdown": [
       "1. 2542908\n",
       "2. 23\n",
       "\n",
       "\n"
      ],
      "text/plain": [
       "[1] 2542908      23"
      ]
     },
     "metadata": {},
     "output_type": "display_data"
    },
    {
     "data": {
      "text/html": [
       "<table>\n",
       "<caption>A data.table: 6 × 23</caption>\n",
       "<thead>\n",
       "\t<tr><th scope=col>SNP_id</th><th scope=col>gene_id_no_version</th><th scope=col>gene_id</th><th scope=col>gene_chr</th><th scope=col>gene_start</th><th scope=col>gene_end</th><th scope=col>strand</th><th scope=col>number_of_SNPs_tested</th><th scope=col>SNP_distance_to_TSS</th><th scope=col>SNP_chr</th><th scope=col>⋯</th><th scope=col>regression_slope</th><th scope=col>top_SNP</th><th scope=col>FDR</th><th scope=col>name</th><th scope=col>Rsid</th><th scope=col>chr</th><th scope=col>position</th><th scope=col>REF</th><th scope=col>ALT</th><th scope=col>var_id</th></tr>\n",
       "\t<tr><th scope=col>&lt;chr&gt;</th><th scope=col>&lt;chr&gt;</th><th scope=col>&lt;chr&gt;</th><th scope=col>&lt;chr&gt;</th><th scope=col>&lt;int&gt;</th><th scope=col>&lt;int&gt;</th><th scope=col>&lt;chr&gt;</th><th scope=col>&lt;int&gt;</th><th scope=col>&lt;int&gt;</th><th scope=col>&lt;chr&gt;</th><th scope=col>⋯</th><th scope=col>&lt;dbl&gt;</th><th scope=col>&lt;int&gt;</th><th scope=col>&lt;dbl&gt;</th><th scope=col>&lt;chr&gt;</th><th scope=col>&lt;chr&gt;</th><th scope=col>&lt;chr&gt;</th><th scope=col>&lt;int&gt;</th><th scope=col>&lt;chr&gt;</th><th scope=col>&lt;chr&gt;</th><th scope=col>&lt;chr&gt;</th></tr>\n",
       "</thead>\n",
       "<tbody>\n",
       "\t<tr><td>10:100000645</td><td>ENSG00000095713</td><td>ENSG00000095713.9</td><td>chr10</td><td>99696035</td><td>99696035</td><td>+</td><td>3430</td><td>304610</td><td>chr10</td><td>⋯</td><td>-0.0581551</td><td>0</td><td>0.0007121564</td><td>CRTAC1 </td><td>rs61875309</td><td>chr10</td><td>100000645</td><td>A</td><td>C</td><td>10:100000645:A:C</td></tr>\n",
       "\t<tr><td>10:100003785</td><td>ENSG00000166024</td><td>ENSG00000166024.9</td><td>chr10</td><td>99894428</td><td>99894428</td><td>+</td><td>3529</td><td>109357</td><td>chr10</td><td>⋯</td><td>-0.0393197</td><td>0</td><td>0.0128647633</td><td>R3HCC1L</td><td>rs1359508 </td><td>chr10</td><td>100003785</td><td>T</td><td>C</td><td>10:100003785:T:C</td></tr>\n",
       "\t<tr><td>10:100004996</td><td>ENSG00000166024</td><td>ENSG00000166024.9</td><td>chr10</td><td>99894428</td><td>99894428</td><td>+</td><td>3529</td><td>110568</td><td>chr10</td><td>⋯</td><td>-0.0393159</td><td>0</td><td>0.0128872297</td><td>R3HCC1L</td><td>rs2025625 </td><td>chr10</td><td>100004996</td><td>G</td><td>A</td><td>10:100004996:G:A</td></tr>\n",
       "\t<tr><td>10:100007362</td><td>ENSG00000095713</td><td>ENSG00000095713.9</td><td>chr10</td><td>99696035</td><td>99696035</td><td>+</td><td>3430</td><td>311327</td><td>chr10</td><td>⋯</td><td>-0.0582244</td><td>0</td><td>0.0008087173</td><td>CRTAC1 </td><td>rs11816998</td><td>chr10</td><td>100007362</td><td>G</td><td>C</td><td>10:100007362:G:C</td></tr>\n",
       "\t<tr><td>10:100010186</td><td>ENSG00000095713</td><td>ENSG00000095713.9</td><td>chr10</td><td>99696035</td><td>99696035</td><td>+</td><td>3430</td><td>314151</td><td>chr10</td><td>⋯</td><td>-0.0348725</td><td>0</td><td>0.0399014977</td><td>CRTAC1 </td><td>rs4919190 </td><td>chr10</td><td>100010186</td><td>A</td><td>G</td><td>10:100010186:A:G</td></tr>\n",
       "\t<tr><td>10:100010186</td><td>ENSG00000269783</td><td>ENSG00000269783.1</td><td>chr10</td><td>99627889</td><td>99627889</td><td>+</td><td>3444</td><td>382297</td><td>chr10</td><td>⋯</td><td> 0.0555388</td><td>0</td><td>0.0228401854</td><td>NA     </td><td>rs4919190 </td><td>chr10</td><td>100010186</td><td>A</td><td>G</td><td>10:100010186:A:G</td></tr>\n",
       "</tbody>\n",
       "</table>\n"
      ],
      "text/latex": [
       "A data.table: 6 × 23\n",
       "\\begin{tabular}{lllllllllllllllllllll}\n",
       " SNP\\_id & gene\\_id\\_no\\_version & gene\\_id & gene\\_chr & gene\\_start & gene\\_end & strand & number\\_of\\_SNPs\\_tested & SNP\\_distance\\_to\\_TSS & SNP\\_chr & ⋯ & regression\\_slope & top\\_SNP & FDR & name & Rsid & chr & position & REF & ALT & var\\_id\\\\\n",
       " <chr> & <chr> & <chr> & <chr> & <int> & <int> & <chr> & <int> & <int> & <chr> & ⋯ & <dbl> & <int> & <dbl> & <chr> & <chr> & <chr> & <int> & <chr> & <chr> & <chr>\\\\\n",
       "\\hline\n",
       "\t 10:100000645 & ENSG00000095713 & ENSG00000095713.9 & chr10 & 99696035 & 99696035 & + & 3430 & 304610 & chr10 & ⋯ & -0.0581551 & 0 & 0.0007121564 & CRTAC1  & rs61875309 & chr10 & 100000645 & A & C & 10:100000645:A:C\\\\\n",
       "\t 10:100003785 & ENSG00000166024 & ENSG00000166024.9 & chr10 & 99894428 & 99894428 & + & 3529 & 109357 & chr10 & ⋯ & -0.0393197 & 0 & 0.0128647633 & R3HCC1L & rs1359508  & chr10 & 100003785 & T & C & 10:100003785:T:C\\\\\n",
       "\t 10:100004996 & ENSG00000166024 & ENSG00000166024.9 & chr10 & 99894428 & 99894428 & + & 3529 & 110568 & chr10 & ⋯ & -0.0393159 & 0 & 0.0128872297 & R3HCC1L & rs2025625  & chr10 & 100004996 & G & A & 10:100004996:G:A\\\\\n",
       "\t 10:100007362 & ENSG00000095713 & ENSG00000095713.9 & chr10 & 99696035 & 99696035 & + & 3430 & 311327 & chr10 & ⋯ & -0.0582244 & 0 & 0.0008087173 & CRTAC1  & rs11816998 & chr10 & 100007362 & G & C & 10:100007362:G:C\\\\\n",
       "\t 10:100010186 & ENSG00000095713 & ENSG00000095713.9 & chr10 & 99696035 & 99696035 & + & 3430 & 314151 & chr10 & ⋯ & -0.0348725 & 0 & 0.0399014977 & CRTAC1  & rs4919190  & chr10 & 100010186 & A & G & 10:100010186:A:G\\\\\n",
       "\t 10:100010186 & ENSG00000269783 & ENSG00000269783.1 & chr10 & 99627889 & 99627889 & + & 3444 & 382297 & chr10 & ⋯ &  0.0555388 & 0 & 0.0228401854 & NA      & rs4919190  & chr10 & 100010186 & A & G & 10:100010186:A:G\\\\\n",
       "\\end{tabular}\n"
      ],
      "text/markdown": [
       "\n",
       "A data.table: 6 × 23\n",
       "\n",
       "| SNP_id &lt;chr&gt; | gene_id_no_version &lt;chr&gt; | gene_id &lt;chr&gt; | gene_chr &lt;chr&gt; | gene_start &lt;int&gt; | gene_end &lt;int&gt; | strand &lt;chr&gt; | number_of_SNPs_tested &lt;int&gt; | SNP_distance_to_TSS &lt;int&gt; | SNP_chr &lt;chr&gt; | ⋯ ⋯ | regression_slope &lt;dbl&gt; | top_SNP &lt;int&gt; | FDR &lt;dbl&gt; | name &lt;chr&gt; | Rsid &lt;chr&gt; | chr &lt;chr&gt; | position &lt;int&gt; | REF &lt;chr&gt; | ALT &lt;chr&gt; | var_id &lt;chr&gt; |\n",
       "|---|---|---|---|---|---|---|---|---|---|---|---|---|---|---|---|---|---|---|---|---|\n",
       "| 10:100000645 | ENSG00000095713 | ENSG00000095713.9 | chr10 | 99696035 | 99696035 | + | 3430 | 304610 | chr10 | ⋯ | -0.0581551 | 0 | 0.0007121564 | CRTAC1  | rs61875309 | chr10 | 100000645 | A | C | 10:100000645:A:C |\n",
       "| 10:100003785 | ENSG00000166024 | ENSG00000166024.9 | chr10 | 99894428 | 99894428 | + | 3529 | 109357 | chr10 | ⋯ | -0.0393197 | 0 | 0.0128647633 | R3HCC1L | rs1359508  | chr10 | 100003785 | T | C | 10:100003785:T:C |\n",
       "| 10:100004996 | ENSG00000166024 | ENSG00000166024.9 | chr10 | 99894428 | 99894428 | + | 3529 | 110568 | chr10 | ⋯ | -0.0393159 | 0 | 0.0128872297 | R3HCC1L | rs2025625  | chr10 | 100004996 | G | A | 10:100004996:G:A |\n",
       "| 10:100007362 | ENSG00000095713 | ENSG00000095713.9 | chr10 | 99696035 | 99696035 | + | 3430 | 311327 | chr10 | ⋯ | -0.0582244 | 0 | 0.0008087173 | CRTAC1  | rs11816998 | chr10 | 100007362 | G | C | 10:100007362:G:C |\n",
       "| 10:100010186 | ENSG00000095713 | ENSG00000095713.9 | chr10 | 99696035 | 99696035 | + | 3430 | 314151 | chr10 | ⋯ | -0.0348725 | 0 | 0.0399014977 | CRTAC1  | rs4919190  | chr10 | 100010186 | A | G | 10:100010186:A:G |\n",
       "| 10:100010186 | ENSG00000269783 | ENSG00000269783.1 | chr10 | 99627889 | 99627889 | + | 3444 | 382297 | chr10 | ⋯ |  0.0555388 | 0 | 0.0228401854 | NA      | rs4919190  | chr10 | 100010186 | A | G | 10:100010186:A:G |\n",
       "\n"
      ],
      "text/plain": [
       "  SNP_id       gene_id_no_version gene_id           gene_chr gene_start\n",
       "1 10:100000645 ENSG00000095713    ENSG00000095713.9 chr10    99696035  \n",
       "2 10:100003785 ENSG00000166024    ENSG00000166024.9 chr10    99894428  \n",
       "3 10:100004996 ENSG00000166024    ENSG00000166024.9 chr10    99894428  \n",
       "4 10:100007362 ENSG00000095713    ENSG00000095713.9 chr10    99696035  \n",
       "5 10:100010186 ENSG00000095713    ENSG00000095713.9 chr10    99696035  \n",
       "6 10:100010186 ENSG00000269783    ENSG00000269783.1 chr10    99627889  \n",
       "  gene_end strand number_of_SNPs_tested SNP_distance_to_TSS SNP_chr <U+22EF>  \n",
       "1 99696035 +      3430                  304610              chr10   <U+22EF>\n",
       "2 99894428 +      3529                  109357              chr10   <U+22EF>\n",
       "3 99894428 +      3529                  110568              chr10   <U+22EF>\n",
       "4 99696035 +      3430                  311327              chr10   <U+22EF>\n",
       "5 99696035 +      3430                  314151              chr10   <U+22EF>\n",
       "6 99627889 +      3444                  382297              chr10   <U+22EF>\n",
       "  regression_slope top_SNP FDR          name    Rsid       chr   position  REF\n",
       "1 -0.0581551       0       0.0007121564 CRTAC1  rs61875309 chr10 100000645 A  \n",
       "2 -0.0393197       0       0.0128647633 R3HCC1L rs1359508  chr10 100003785 T  \n",
       "3 -0.0393159       0       0.0128872297 R3HCC1L rs2025625  chr10 100004996 G  \n",
       "4 -0.0582244       0       0.0008087173 CRTAC1  rs11816998 chr10 100007362 G  \n",
       "5 -0.0348725       0       0.0399014977 CRTAC1  rs4919190  chr10 100010186 A  \n",
       "6  0.0555388       0       0.0228401854 NA      rs4919190  chr10 100010186 A  \n",
       "  ALT var_id          \n",
       "1 C   10:100000645:A:C\n",
       "2 C   10:100003785:T:C\n",
       "3 A   10:100004996:G:A\n",
       "4 C   10:100007362:G:C\n",
       "5 G   10:100010186:A:G\n",
       "6 G   10:100010186:A:G"
      ]
     },
     "metadata": {},
     "output_type": "display_data"
    }
   ],
   "source": [
    "#add a chr:bp:ref:alt col\n",
    "qtl$'var_id' <- paste0(qtl$SNP_id,\":\",qtl$REF,\":\",qtl$ALT)\n",
    "dim(qtl)\n",
    "head(qtl)"
   ]
  },
  {
   "cell_type": "code",
   "execution_count": 121,
   "metadata": {},
   "outputs": [
    {
     "name": "stdout",
     "output_type": "stream",
     "text": [
      "[1] 17\n",
      "[1] \"ABCA1\"\n",
      "[1] \"FKTN\"\n",
      "[1] \"FSD1L\"\n",
      "[1] \"NIPSNAP3A\"\n",
      "[1] \"NIPSNAP3B\"\n",
      "[1] \"OR13C2\"\n",
      "[1] \"OR13C3\"\n",
      "[1] \"OR13C4\"\n",
      "[1] \"OR13C5\"\n",
      "[1] \"OR13C8\"\n",
      "[1] \"OR13C9\"\n",
      "[1] \"OR13D1\"\n",
      "[1] \"OR13F1\"\n",
      "[1] \"RALGAPA1P1\"\n",
      "[1] \"SLC44A1\"\n",
      "[1] \"TAL2\"\n",
      "[1] \"TMEM38B\"\n"
     ]
    }
   ],
   "source": [
    "\n",
    "print(length(evidence_genes))\n",
    "for(gene in evidence_genes)\n",
    "{\n",
    "    print(gene)\n",
    "    eqtl_fn = paste0(out_dir,'/', gene, '_eqtl.tsv')\n",
    "    gwasout_fn = paste0(out_dir,'/',  gene, '_gwas.tsv')\n",
    "\n",
    "    eqtl_gene = qtl %>% dplyr::filter(name == gene) %>% \n",
    "    mutate(rsid = Rsid, pval = nominal_pval) %>% dplyr::select(rsid, var_id, pval)\n",
    "    gwas %>% dplyr::filter(ID2 %in% eqtl_gene$var_id) %>% \n",
    "    mutate(rsid = SNP, var_id = ID2, pval = p) %>% dplyr::select(rsid, var_id, pval) %>%\n",
    "    fwrite(gwasout_fn, sep='\\t')\n",
    "    fwrite(eqtl_gene, eqtl_fn, sep='\\t')\n",
    "}\n",
    " "
   ]
  },
  {
   "cell_type": "markdown",
   "metadata": {},
   "source": [
    "## 5) cQTL (chromatin QTL)\n",
    "no gene or transcript id available in the data so we will just check for risk snps"
   ]
  },
  {
   "cell_type": "code",
   "execution_count": 50,
   "metadata": {},
   "outputs": [
    {
     "data": {
      "text/html": [
       "<style>\n",
       ".list-inline {list-style: none; margin:0; padding: 0}\n",
       ".list-inline>li {display: inline-block}\n",
       ".list-inline>li:not(:last-child)::after {content: \"\\00b7\"; padding: 0 .5ex}\n",
       "</style>\n",
       "<ol class=list-inline><li>2284</li><li>15</li></ol>\n"
      ],
      "text/latex": [
       "\\begin{enumerate*}\n",
       "\\item 2284\n",
       "\\item 15\n",
       "\\end{enumerate*}\n"
      ],
      "text/markdown": [
       "1. 2284\n",
       "2. 15\n",
       "\n",
       "\n"
      ],
      "text/plain": [
       "[1] 2284   15"
      ]
     },
     "metadata": {},
     "output_type": "display_data"
    },
    {
     "data": {
      "text/html": [
       "<table>\n",
       "<caption>A data.table: 6 × 15</caption>\n",
       "<thead>\n",
       "\t<tr><th scope=col>Peak_id</th><th scope=col>Peak_chr</th><th scope=col>Peak_center</th><th scope=col>Peak_center</th><th scope=col>strand</th><th scope=col>number_of_SNPs_tested</th><th scope=col>SNP_distance_to_Peak_center</th><th scope=col>SNP_id</th><th scope=col>SNP_chr</th><th scope=col>SNP_start</th><th scope=col>SNP_end</th><th scope=col>nominal_pval</th><th scope=col>regression_slope</th><th scope=col>top_SNP</th><th scope=col>FDR</th></tr>\n",
       "\t<tr><th scope=col>&lt;chr&gt;</th><th scope=col>&lt;chr&gt;</th><th scope=col>&lt;int&gt;</th><th scope=col>&lt;int&gt;</th><th scope=col>&lt;chr&gt;</th><th scope=col>&lt;int&gt;</th><th scope=col>&lt;int&gt;</th><th scope=col>&lt;chr&gt;</th><th scope=col>&lt;chr&gt;</th><th scope=col>&lt;int&gt;</th><th scope=col>&lt;int&gt;</th><th scope=col>&lt;dbl&gt;</th><th scope=col>&lt;dbl&gt;</th><th scope=col>&lt;int&gt;</th><th scope=col>&lt;dbl&gt;</th></tr>\n",
       "</thead>\n",
       "<tbody>\n",
       "\t<tr><td>chr4:16598007:16599006  </td><td>chr4 </td><td> 16598507</td><td> 16598507</td><td>+</td><td>4244</td><td>-363578</td><td>4:16234929 </td><td>chr4 </td><td> 16234929</td><td> 16234929</td><td>2.89904e-06</td><td>-1.190620</td><td>1</td><td>0.028843758</td></tr>\n",
       "\t<tr><td>chr4:16618386:16619385  </td><td>chr4 </td><td> 16618887</td><td> 16618887</td><td>+</td><td>4242</td><td> -87801</td><td>4:16531086 </td><td>chr4 </td><td> 16531086</td><td> 16531086</td><td>1.27775e-06</td><td>-0.565620</td><td>1</td><td>0.014892876</td></tr>\n",
       "\t<tr><td>chr4:128884229:128885228</td><td>chr4 </td><td>128884729</td><td>128884729</td><td>+</td><td>2727</td><td> 744005</td><td>4:129628734</td><td>chr4 </td><td>129628734</td><td>129628734</td><td>2.22706e-06</td><td>-0.592201</td><td>1</td><td>0.023358930</td></tr>\n",
       "\t<tr><td>chr4:77129698:77130697  </td><td>chr4 </td><td> 77130199</td><td> 77130199</td><td>+</td><td>4355</td><td>-325157</td><td>4:76805042 </td><td>chr4 </td><td> 76805042</td><td> 76805042</td><td>4.13701e-06</td><td> 0.425690</td><td>1</td><td>0.038300799</td></tr>\n",
       "\t<tr><td>chr4:77130641:77131640  </td><td>chr4 </td><td> 77131141</td><td> 77131141</td><td>+</td><td>4356</td><td>-328501</td><td>4:76802640 </td><td>chr4 </td><td> 76802640</td><td> 76802640</td><td>3.50633e-06</td><td> 0.427748</td><td>1</td><td>0.033632003</td></tr>\n",
       "\t<tr><td>chr22:37572225:37573224 </td><td>chr22</td><td> 37572725</td><td> 37572725</td><td>+</td><td>3895</td><td>-682143</td><td>22:36890582</td><td>chr22</td><td> 36890582</td><td> 36890582</td><td>6.28878e-07</td><td>-0.591706</td><td>1</td><td>0.008213661</td></tr>\n",
       "</tbody>\n",
       "</table>\n"
      ],
      "text/latex": [
       "A data.table: 6 × 15\n",
       "\\begin{tabular}{lllllllllllllll}\n",
       " Peak\\_id & Peak\\_chr & Peak\\_center & Peak\\_center & strand & number\\_of\\_SNPs\\_tested & SNP\\_distance\\_to\\_Peak\\_center & SNP\\_id & SNP\\_chr & SNP\\_start & SNP\\_end & nominal\\_pval & regression\\_slope & top\\_SNP & FDR\\\\\n",
       " <chr> & <chr> & <int> & <int> & <chr> & <int> & <int> & <chr> & <chr> & <int> & <int> & <dbl> & <dbl> & <int> & <dbl>\\\\\n",
       "\\hline\n",
       "\t chr4:16598007:16599006   & chr4  &  16598507 &  16598507 & + & 4244 & -363578 & 4:16234929  & chr4  &  16234929 &  16234929 & 2.89904e-06 & -1.190620 & 1 & 0.028843758\\\\\n",
       "\t chr4:16618386:16619385   & chr4  &  16618887 &  16618887 & + & 4242 &  -87801 & 4:16531086  & chr4  &  16531086 &  16531086 & 1.27775e-06 & -0.565620 & 1 & 0.014892876\\\\\n",
       "\t chr4:128884229:128885228 & chr4  & 128884729 & 128884729 & + & 2727 &  744005 & 4:129628734 & chr4  & 129628734 & 129628734 & 2.22706e-06 & -0.592201 & 1 & 0.023358930\\\\\n",
       "\t chr4:77129698:77130697   & chr4  &  77130199 &  77130199 & + & 4355 & -325157 & 4:76805042  & chr4  &  76805042 &  76805042 & 4.13701e-06 &  0.425690 & 1 & 0.038300799\\\\\n",
       "\t chr4:77130641:77131640   & chr4  &  77131141 &  77131141 & + & 4356 & -328501 & 4:76802640  & chr4  &  76802640 &  76802640 & 3.50633e-06 &  0.427748 & 1 & 0.033632003\\\\\n",
       "\t chr22:37572225:37573224  & chr22 &  37572725 &  37572725 & + & 3895 & -682143 & 22:36890582 & chr22 &  36890582 &  36890582 & 6.28878e-07 & -0.591706 & 1 & 0.008213661\\\\\n",
       "\\end{tabular}\n"
      ],
      "text/markdown": [
       "\n",
       "A data.table: 6 × 15\n",
       "\n",
       "| Peak_id &lt;chr&gt; | Peak_chr &lt;chr&gt; | Peak_center &lt;int&gt; | Peak_center &lt;int&gt; | strand &lt;chr&gt; | number_of_SNPs_tested &lt;int&gt; | SNP_distance_to_Peak_center &lt;int&gt; | SNP_id &lt;chr&gt; | SNP_chr &lt;chr&gt; | SNP_start &lt;int&gt; | SNP_end &lt;int&gt; | nominal_pval &lt;dbl&gt; | regression_slope &lt;dbl&gt; | top_SNP &lt;int&gt; | FDR &lt;dbl&gt; |\n",
       "|---|---|---|---|---|---|---|---|---|---|---|---|---|---|---|\n",
       "| chr4:16598007:16599006   | chr4  |  16598507 |  16598507 | + | 4244 | -363578 | 4:16234929  | chr4  |  16234929 |  16234929 | 2.89904e-06 | -1.190620 | 1 | 0.028843758 |\n",
       "| chr4:16618386:16619385   | chr4  |  16618887 |  16618887 | + | 4242 |  -87801 | 4:16531086  | chr4  |  16531086 |  16531086 | 1.27775e-06 | -0.565620 | 1 | 0.014892876 |\n",
       "| chr4:128884229:128885228 | chr4  | 128884729 | 128884729 | + | 2727 |  744005 | 4:129628734 | chr4  | 129628734 | 129628734 | 2.22706e-06 | -0.592201 | 1 | 0.023358930 |\n",
       "| chr4:77129698:77130697   | chr4  |  77130199 |  77130199 | + | 4355 | -325157 | 4:76805042  | chr4  |  76805042 |  76805042 | 4.13701e-06 |  0.425690 | 1 | 0.038300799 |\n",
       "| chr4:77130641:77131640   | chr4  |  77131141 |  77131141 | + | 4356 | -328501 | 4:76802640  | chr4  |  76802640 |  76802640 | 3.50633e-06 |  0.427748 | 1 | 0.033632003 |\n",
       "| chr22:37572225:37573224  | chr22 |  37572725 |  37572725 | + | 3895 | -682143 | 22:36890582 | chr22 |  36890582 |  36890582 | 6.28878e-07 | -0.591706 | 1 | 0.008213661 |\n",
       "\n"
      ],
      "text/plain": [
       "  Peak_id                  Peak_chr Peak_center Peak_center strand\n",
       "1 chr4:16598007:16599006   chr4      16598507    16598507   +     \n",
       "2 chr4:16618386:16619385   chr4      16618887    16618887   +     \n",
       "3 chr4:128884229:128885228 chr4     128884729   128884729   +     \n",
       "4 chr4:77129698:77130697   chr4      77130199    77130199   +     \n",
       "5 chr4:77130641:77131640   chr4      77131141    77131141   +     \n",
       "6 chr22:37572225:37573224  chr22     37572725    37572725   +     \n",
       "  number_of_SNPs_tested SNP_distance_to_Peak_center SNP_id      SNP_chr\n",
       "1 4244                  -363578                     4:16234929  chr4   \n",
       "2 4242                   -87801                     4:16531086  chr4   \n",
       "3 2727                   744005                     4:129628734 chr4   \n",
       "4 4355                  -325157                     4:76805042  chr4   \n",
       "5 4356                  -328501                     4:76802640  chr4   \n",
       "6 3895                  -682143                     22:36890582 chr22  \n",
       "  SNP_start SNP_end   nominal_pval regression_slope top_SNP FDR        \n",
       "1  16234929  16234929 2.89904e-06  -1.190620        1       0.028843758\n",
       "2  16531086  16531086 1.27775e-06  -0.565620        1       0.014892876\n",
       "3 129628734 129628734 2.22706e-06  -0.592201        1       0.023358930\n",
       "4  76805042  76805042 4.13701e-06   0.425690        1       0.038300799\n",
       "5  76802640  76802640 3.50633e-06   0.427748        1       0.033632003\n",
       "6  36890582  36890582 6.28878e-07  -0.591706        1       0.008213661"
      ]
     },
     "metadata": {},
     "output_type": "display_data"
    }
   ],
   "source": [
    "cqtl = fread('$PATH1/qtl/psychencode/DER-09_hg19_cQTL.significant.txt')\n",
    "\n",
    "dim(cqtl)\n",
    "head(cqtl)\n"
   ]
  },
  {
   "cell_type": "code",
   "execution_count": 51,
   "metadata": {},
   "outputs": [
    {
     "data": {
      "text/html": [
       "<table>\n",
       "<caption>A data.table: 6 × 13</caption>\n",
       "<thead>\n",
       "\t<tr><th scope=col>Peak_id</th><th scope=col>Peak_chr</th><th scope=col>strand</th><th scope=col>number_of_SNPs_tested</th><th scope=col>SNP_distance_to_Peak_center</th><th scope=col>SNP_id</th><th scope=col>SNP_chr</th><th scope=col>SNP_start</th><th scope=col>SNP_end</th><th scope=col>nominal_pval</th><th scope=col>regression_slope</th><th scope=col>top_SNP</th><th scope=col>FDR</th></tr>\n",
       "\t<tr><th scope=col>&lt;chr&gt;</th><th scope=col>&lt;chr&gt;</th><th scope=col>&lt;chr&gt;</th><th scope=col>&lt;int&gt;</th><th scope=col>&lt;int&gt;</th><th scope=col>&lt;chr&gt;</th><th scope=col>&lt;chr&gt;</th><th scope=col>&lt;int&gt;</th><th scope=col>&lt;int&gt;</th><th scope=col>&lt;dbl&gt;</th><th scope=col>&lt;dbl&gt;</th><th scope=col>&lt;int&gt;</th><th scope=col>&lt;dbl&gt;</th></tr>\n",
       "</thead>\n",
       "<tbody>\n",
       "\t<tr><td>chr4:16598007:16599006  </td><td>chr4 </td><td>+</td><td>4244</td><td>-363578</td><td>4:16234929 </td><td>chr4 </td><td> 16234929</td><td> 16234929</td><td>2.89904e-06</td><td>-1.190620</td><td>1</td><td>0.028843758</td></tr>\n",
       "\t<tr><td>chr4:16618386:16619385  </td><td>chr4 </td><td>+</td><td>4242</td><td> -87801</td><td>4:16531086 </td><td>chr4 </td><td> 16531086</td><td> 16531086</td><td>1.27775e-06</td><td>-0.565620</td><td>1</td><td>0.014892876</td></tr>\n",
       "\t<tr><td>chr4:128884229:128885228</td><td>chr4 </td><td>+</td><td>2727</td><td> 744005</td><td>4:129628734</td><td>chr4 </td><td>129628734</td><td>129628734</td><td>2.22706e-06</td><td>-0.592201</td><td>1</td><td>0.023358930</td></tr>\n",
       "\t<tr><td>chr4:77129698:77130697  </td><td>chr4 </td><td>+</td><td>4355</td><td>-325157</td><td>4:76805042 </td><td>chr4 </td><td> 76805042</td><td> 76805042</td><td>4.13701e-06</td><td> 0.425690</td><td>1</td><td>0.038300799</td></tr>\n",
       "\t<tr><td>chr4:77130641:77131640  </td><td>chr4 </td><td>+</td><td>4356</td><td>-328501</td><td>4:76802640 </td><td>chr4 </td><td> 76802640</td><td> 76802640</td><td>3.50633e-06</td><td> 0.427748</td><td>1</td><td>0.033632003</td></tr>\n",
       "\t<tr><td>chr22:37572225:37573224 </td><td>chr22</td><td>+</td><td>3895</td><td>-682143</td><td>22:36890582</td><td>chr22</td><td> 36890582</td><td> 36890582</td><td>6.28878e-07</td><td>-0.591706</td><td>1</td><td>0.008213661</td></tr>\n",
       "</tbody>\n",
       "</table>\n"
      ],
      "text/latex": [
       "A data.table: 6 × 13\n",
       "\\begin{tabular}{lllllllllllll}\n",
       " Peak\\_id & Peak\\_chr & strand & number\\_of\\_SNPs\\_tested & SNP\\_distance\\_to\\_Peak\\_center & SNP\\_id & SNP\\_chr & SNP\\_start & SNP\\_end & nominal\\_pval & regression\\_slope & top\\_SNP & FDR\\\\\n",
       " <chr> & <chr> & <chr> & <int> & <int> & <chr> & <chr> & <int> & <int> & <dbl> & <dbl> & <int> & <dbl>\\\\\n",
       "\\hline\n",
       "\t chr4:16598007:16599006   & chr4  & + & 4244 & -363578 & 4:16234929  & chr4  &  16234929 &  16234929 & 2.89904e-06 & -1.190620 & 1 & 0.028843758\\\\\n",
       "\t chr4:16618386:16619385   & chr4  & + & 4242 &  -87801 & 4:16531086  & chr4  &  16531086 &  16531086 & 1.27775e-06 & -0.565620 & 1 & 0.014892876\\\\\n",
       "\t chr4:128884229:128885228 & chr4  & + & 2727 &  744005 & 4:129628734 & chr4  & 129628734 & 129628734 & 2.22706e-06 & -0.592201 & 1 & 0.023358930\\\\\n",
       "\t chr4:77129698:77130697   & chr4  & + & 4355 & -325157 & 4:76805042  & chr4  &  76805042 &  76805042 & 4.13701e-06 &  0.425690 & 1 & 0.038300799\\\\\n",
       "\t chr4:77130641:77131640   & chr4  & + & 4356 & -328501 & 4:76802640  & chr4  &  76802640 &  76802640 & 3.50633e-06 &  0.427748 & 1 & 0.033632003\\\\\n",
       "\t chr22:37572225:37573224  & chr22 & + & 3895 & -682143 & 22:36890582 & chr22 &  36890582 &  36890582 & 6.28878e-07 & -0.591706 & 1 & 0.008213661\\\\\n",
       "\\end{tabular}\n"
      ],
      "text/markdown": [
       "\n",
       "A data.table: 6 × 13\n",
       "\n",
       "| Peak_id &lt;chr&gt; | Peak_chr &lt;chr&gt; | strand &lt;chr&gt; | number_of_SNPs_tested &lt;int&gt; | SNP_distance_to_Peak_center &lt;int&gt; | SNP_id &lt;chr&gt; | SNP_chr &lt;chr&gt; | SNP_start &lt;int&gt; | SNP_end &lt;int&gt; | nominal_pval &lt;dbl&gt; | regression_slope &lt;dbl&gt; | top_SNP &lt;int&gt; | FDR &lt;dbl&gt; |\n",
       "|---|---|---|---|---|---|---|---|---|---|---|---|---|\n",
       "| chr4:16598007:16599006   | chr4  | + | 4244 | -363578 | 4:16234929  | chr4  |  16234929 |  16234929 | 2.89904e-06 | -1.190620 | 1 | 0.028843758 |\n",
       "| chr4:16618386:16619385   | chr4  | + | 4242 |  -87801 | 4:16531086  | chr4  |  16531086 |  16531086 | 1.27775e-06 | -0.565620 | 1 | 0.014892876 |\n",
       "| chr4:128884229:128885228 | chr4  | + | 2727 |  744005 | 4:129628734 | chr4  | 129628734 | 129628734 | 2.22706e-06 | -0.592201 | 1 | 0.023358930 |\n",
       "| chr4:77129698:77130697   | chr4  | + | 4355 | -325157 | 4:76805042  | chr4  |  76805042 |  76805042 | 4.13701e-06 |  0.425690 | 1 | 0.038300799 |\n",
       "| chr4:77130641:77131640   | chr4  | + | 4356 | -328501 | 4:76802640  | chr4  |  76802640 |  76802640 | 3.50633e-06 |  0.427748 | 1 | 0.033632003 |\n",
       "| chr22:37572225:37573224  | chr22 | + | 3895 | -682143 | 22:36890582 | chr22 |  36890582 |  36890582 | 6.28878e-07 | -0.591706 | 1 | 0.008213661 |\n",
       "\n"
      ],
      "text/plain": [
       "  Peak_id                  Peak_chr strand number_of_SNPs_tested\n",
       "1 chr4:16598007:16599006   chr4     +      4244                 \n",
       "2 chr4:16618386:16619385   chr4     +      4242                 \n",
       "3 chr4:128884229:128885228 chr4     +      2727                 \n",
       "4 chr4:77129698:77130697   chr4     +      4355                 \n",
       "5 chr4:77130641:77131640   chr4     +      4356                 \n",
       "6 chr22:37572225:37573224  chr22    +      3895                 \n",
       "  SNP_distance_to_Peak_center SNP_id      SNP_chr SNP_start SNP_end  \n",
       "1 -363578                     4:16234929  chr4     16234929  16234929\n",
       "2  -87801                     4:16531086  chr4     16531086  16531086\n",
       "3  744005                     4:129628734 chr4    129628734 129628734\n",
       "4 -325157                     4:76805042  chr4     76805042  76805042\n",
       "5 -328501                     4:76802640  chr4     76802640  76802640\n",
       "6 -682143                     22:36890582 chr22    36890582  36890582\n",
       "  nominal_pval regression_slope top_SNP FDR        \n",
       "1 2.89904e-06  -1.190620        1       0.028843758\n",
       "2 1.27775e-06  -0.565620        1       0.014892876\n",
       "3 2.22706e-06  -0.592201        1       0.023358930\n",
       "4 4.13701e-06   0.425690        1       0.038300799\n",
       "5 3.50633e-06   0.427748        1       0.033632003\n",
       "6 6.28878e-07  -0.591706        1       0.008213661"
      ]
     },
     "metadata": {},
     "output_type": "display_data"
    }
   ],
   "source": [
    "\n",
    "cqtl <- cqtl[,c(1,2,5:15)]\n",
    "head(cqtl)"
   ]
  },
  {
   "cell_type": "code",
   "execution_count": 54,
   "metadata": {},
   "outputs": [
    {
     "name": "stdout",
     "output_type": "stream",
     "text": [
      " [1] \"1:154898185\" \"1:155135036\" \"1:155205634\" \"1:161469054\" \"1:171719769\"\n",
      " [6] \"1:205723572\" \"1:205737739\" \"1:226916078\" \"1:232664611\" \"2:18147848\" \n",
      " [1] \"4:16234929\"  \"4:16531086\"  \"4:129628734\" \"4:76805042\"  \"4:76802640\" \n",
      " [6] \"22:36890582\" \"22:38316657\" \"22:38631848\" \"5:169968987\" \"5:172101839\"\n"
     ]
    }
   ],
   "source": [
    "print(variant_data$\"CHR:BP\"[0:10])\n",
    "print(cqtl$\"SNP_id\"[0:10])"
   ]
  },
  {
   "cell_type": "code",
   "execution_count": 55,
   "metadata": {},
   "outputs": [
    {
     "name": "stdout",
     "output_type": "stream",
     "text": [
      "[1]  0 16\n",
      "Empty data.table (0 rows and 16 cols): CHR:BP,Locus Number,SNP,CHR,Peak_id,Peak_chr...\n"
     ]
    }
   ],
   "source": [
    "#merge the risk variants with the cQTL data to see if they are in the data\n",
    "risk_cQTL_snps <- merge(x=variant_data, y=cqtl, by.x=\"CHR:BP\", by.y=\"SNP_id\")\n",
    "print(dim(risk_cQTL_snps))\n",
    "print(head(risk_cQTL_snps))"
   ]
  },
  {
   "cell_type": "code",
   "execution_count": null,
   "metadata": {},
   "outputs": [],
   "source": []
  },
  {
   "cell_type": "markdown",
   "metadata": {},
   "source": [
    "## 6) isoQTL (isoform QTL)\n",
    "need to separate isoforms into separate plots"
   ]
  },
  {
   "cell_type": "code",
   "execution_count": 122,
   "metadata": {},
   "outputs": [],
   "source": [
    "#make a output folder depending on the gwas\n",
    "#out_dir = \"$PATH1/qtl/psychencode/isoqtl_tsv/meta5\"\n",
    "#out_dir = \"$PATH1/qtl/psychencode/isoqtl_tsv/prog1\"\n",
    "out_dir = \"$PATH1/qtl/psychencode/isoqtl_tsv/prog2\"\n",
    "dir.create(out_dir)"
   ]
  },
  {
   "cell_type": "code",
   "execution_count": 123,
   "metadata": {},
   "outputs": [
    {
     "data": {
      "text/html": [
       "<style>\n",
       ".list-inline {list-style: none; margin:0; padding: 0}\n",
       ".list-inline>li {display: inline-block}\n",
       ".list-inline>li:not(:last-child)::after {content: \"\\00b7\"; padding: 0 .5ex}\n",
       "</style>\n",
       "<ol class=list-inline><li>604286</li><li>15</li></ol>\n"
      ],
      "text/latex": [
       "\\begin{enumerate*}\n",
       "\\item 604286\n",
       "\\item 15\n",
       "\\end{enumerate*}\n"
      ],
      "text/markdown": [
       "1. 604286\n",
       "2. 15\n",
       "\n",
       "\n"
      ],
      "text/plain": [
       "[1] 604286     15"
      ]
     },
     "metadata": {},
     "output_type": "display_data"
    },
    {
     "data": {
      "text/html": [
       "<table>\n",
       "<caption>A data.table: 6 × 15</caption>\n",
       "<thead>\n",
       "\t<tr><th scope=col>transcript_id</th><th scope=col>gene_chr</th><th scope=col>gene_start</th><th scope=col>gene_end</th><th scope=col>strand</th><th scope=col>number_of_SNPs_tested</th><th scope=col>SNP_distance_to_TSS</th><th scope=col>SNP_id</th><th scope=col>SNP_chr</th><th scope=col>SNP_start</th><th scope=col>SNP_end</th><th scope=col>nominal_pval</th><th scope=col>regression_slope</th><th scope=col>top_SNP</th><th scope=col>FDR</th></tr>\n",
       "\t<tr><th scope=col>&lt;chr&gt;</th><th scope=col>&lt;chr&gt;</th><th scope=col>&lt;int&gt;</th><th scope=col>&lt;int&gt;</th><th scope=col>&lt;chr&gt;</th><th scope=col>&lt;int&gt;</th><th scope=col>&lt;int&gt;</th><th scope=col>&lt;chr&gt;</th><th scope=col>&lt;chr&gt;</th><th scope=col>&lt;int&gt;</th><th scope=col>&lt;int&gt;</th><th scope=col>&lt;dbl&gt;</th><th scope=col>&lt;dbl&gt;</th><th scope=col>&lt;int&gt;</th><th scope=col>&lt;dbl&gt;</th></tr>\n",
       "</thead>\n",
       "<tbody>\n",
       "\t<tr><td>ENST00000544594.1</td><td>chr11</td><td>71814292</td><td>71814292</td><td>+</td><td>3967</td><td>-946115</td><td>11:70868177</td><td>chr11</td><td>70868177</td><td>70868177</td><td>3.32938e-06</td><td>-0.143849</td><td>0</td><td>0.0008643359</td></tr>\n",
       "\t<tr><td>ENST00000544594.1</td><td>chr11</td><td>71814292</td><td>71814292</td><td>+</td><td>3967</td><td>-945637</td><td>11:70868655</td><td>chr11</td><td>70868655</td><td>70868655</td><td>3.74290e-06</td><td>-0.142585</td><td>0</td><td>0.0009606373</td></tr>\n",
       "\t<tr><td>ENST00000544594.1</td><td>chr11</td><td>71814292</td><td>71814292</td><td>+</td><td>3967</td><td>-945004</td><td>11:70869288</td><td>chr11</td><td>70869288</td><td>70869288</td><td>3.76844e-06</td><td>-0.142499</td><td>0</td><td>0.0009664706</td></tr>\n",
       "\t<tr><td>ENST00000544594.1</td><td>chr11</td><td>71814292</td><td>71814292</td><td>+</td><td>3967</td><td>-944750</td><td>11:70869542</td><td>chr11</td><td>70869542</td><td>70869542</td><td>3.79628e-06</td><td>-0.142419</td><td>0</td><td>0.0009728959</td></tr>\n",
       "\t<tr><td>ENST00000544594.1</td><td>chr11</td><td>71814292</td><td>71814292</td><td>+</td><td>3967</td><td>-944543</td><td>11:70869749</td><td>chr11</td><td>70869749</td><td>70869749</td><td>2.96835e-06</td><td>-0.141641</td><td>1</td><td>0.0007793781</td></tr>\n",
       "\t<tr><td>ENST00000502597.2</td><td>chr11</td><td>71823750</td><td>71823750</td><td>+</td><td>3946</td><td>-181711</td><td>11:71642039</td><td>chr11</td><td>71642039</td><td>71642039</td><td>3.34871e-06</td><td> 0.218074</td><td>0</td><td>0.0008689127</td></tr>\n",
       "</tbody>\n",
       "</table>\n"
      ],
      "text/latex": [
       "A data.table: 6 × 15\n",
       "\\begin{tabular}{lllllllllllllll}\n",
       " transcript\\_id & gene\\_chr & gene\\_start & gene\\_end & strand & number\\_of\\_SNPs\\_tested & SNP\\_distance\\_to\\_TSS & SNP\\_id & SNP\\_chr & SNP\\_start & SNP\\_end & nominal\\_pval & regression\\_slope & top\\_SNP & FDR\\\\\n",
       " <chr> & <chr> & <int> & <int> & <chr> & <int> & <int> & <chr> & <chr> & <int> & <int> & <dbl> & <dbl> & <int> & <dbl>\\\\\n",
       "\\hline\n",
       "\t ENST00000544594.1 & chr11 & 71814292 & 71814292 & + & 3967 & -946115 & 11:70868177 & chr11 & 70868177 & 70868177 & 3.32938e-06 & -0.143849 & 0 & 0.0008643359\\\\\n",
       "\t ENST00000544594.1 & chr11 & 71814292 & 71814292 & + & 3967 & -945637 & 11:70868655 & chr11 & 70868655 & 70868655 & 3.74290e-06 & -0.142585 & 0 & 0.0009606373\\\\\n",
       "\t ENST00000544594.1 & chr11 & 71814292 & 71814292 & + & 3967 & -945004 & 11:70869288 & chr11 & 70869288 & 70869288 & 3.76844e-06 & -0.142499 & 0 & 0.0009664706\\\\\n",
       "\t ENST00000544594.1 & chr11 & 71814292 & 71814292 & + & 3967 & -944750 & 11:70869542 & chr11 & 70869542 & 70869542 & 3.79628e-06 & -0.142419 & 0 & 0.0009728959\\\\\n",
       "\t ENST00000544594.1 & chr11 & 71814292 & 71814292 & + & 3967 & -944543 & 11:70869749 & chr11 & 70869749 & 70869749 & 2.96835e-06 & -0.141641 & 1 & 0.0007793781\\\\\n",
       "\t ENST00000502597.2 & chr11 & 71823750 & 71823750 & + & 3946 & -181711 & 11:71642039 & chr11 & 71642039 & 71642039 & 3.34871e-06 &  0.218074 & 0 & 0.0008689127\\\\\n",
       "\\end{tabular}\n"
      ],
      "text/markdown": [
       "\n",
       "A data.table: 6 × 15\n",
       "\n",
       "| transcript_id &lt;chr&gt; | gene_chr &lt;chr&gt; | gene_start &lt;int&gt; | gene_end &lt;int&gt; | strand &lt;chr&gt; | number_of_SNPs_tested &lt;int&gt; | SNP_distance_to_TSS &lt;int&gt; | SNP_id &lt;chr&gt; | SNP_chr &lt;chr&gt; | SNP_start &lt;int&gt; | SNP_end &lt;int&gt; | nominal_pval &lt;dbl&gt; | regression_slope &lt;dbl&gt; | top_SNP &lt;int&gt; | FDR &lt;dbl&gt; |\n",
       "|---|---|---|---|---|---|---|---|---|---|---|---|---|---|---|\n",
       "| ENST00000544594.1 | chr11 | 71814292 | 71814292 | + | 3967 | -946115 | 11:70868177 | chr11 | 70868177 | 70868177 | 3.32938e-06 | -0.143849 | 0 | 0.0008643359 |\n",
       "| ENST00000544594.1 | chr11 | 71814292 | 71814292 | + | 3967 | -945637 | 11:70868655 | chr11 | 70868655 | 70868655 | 3.74290e-06 | -0.142585 | 0 | 0.0009606373 |\n",
       "| ENST00000544594.1 | chr11 | 71814292 | 71814292 | + | 3967 | -945004 | 11:70869288 | chr11 | 70869288 | 70869288 | 3.76844e-06 | -0.142499 | 0 | 0.0009664706 |\n",
       "| ENST00000544594.1 | chr11 | 71814292 | 71814292 | + | 3967 | -944750 | 11:70869542 | chr11 | 70869542 | 70869542 | 3.79628e-06 | -0.142419 | 0 | 0.0009728959 |\n",
       "| ENST00000544594.1 | chr11 | 71814292 | 71814292 | + | 3967 | -944543 | 11:70869749 | chr11 | 70869749 | 70869749 | 2.96835e-06 | -0.141641 | 1 | 0.0007793781 |\n",
       "| ENST00000502597.2 | chr11 | 71823750 | 71823750 | + | 3946 | -181711 | 11:71642039 | chr11 | 71642039 | 71642039 | 3.34871e-06 |  0.218074 | 0 | 0.0008689127 |\n",
       "\n"
      ],
      "text/plain": [
       "  transcript_id     gene_chr gene_start gene_end strand number_of_SNPs_tested\n",
       "1 ENST00000544594.1 chr11    71814292   71814292 +      3967                 \n",
       "2 ENST00000544594.1 chr11    71814292   71814292 +      3967                 \n",
       "3 ENST00000544594.1 chr11    71814292   71814292 +      3967                 \n",
       "4 ENST00000544594.1 chr11    71814292   71814292 +      3967                 \n",
       "5 ENST00000544594.1 chr11    71814292   71814292 +      3967                 \n",
       "6 ENST00000502597.2 chr11    71823750   71823750 +      3946                 \n",
       "  SNP_distance_to_TSS SNP_id      SNP_chr SNP_start SNP_end  nominal_pval\n",
       "1 -946115             11:70868177 chr11   70868177  70868177 3.32938e-06 \n",
       "2 -945637             11:70868655 chr11   70868655  70868655 3.74290e-06 \n",
       "3 -945004             11:70869288 chr11   70869288  70869288 3.76844e-06 \n",
       "4 -944750             11:70869542 chr11   70869542  70869542 3.79628e-06 \n",
       "5 -944543             11:70869749 chr11   70869749  70869749 2.96835e-06 \n",
       "6 -181711             11:71642039 chr11   71642039  71642039 3.34871e-06 \n",
       "  regression_slope top_SNP FDR         \n",
       "1 -0.143849        0       0.0008643359\n",
       "2 -0.142585        0       0.0009606373\n",
       "3 -0.142499        0       0.0009664706\n",
       "4 -0.142419        0       0.0009728959\n",
       "5 -0.141641        1       0.0007793781\n",
       "6  0.218074        0       0.0008689127"
      ]
     },
     "metadata": {},
     "output_type": "display_data"
    }
   ],
   "source": [
    "iqtl = fread('$PATH1/qtl/psychencode/DER-10b_hg19_isoQTL.FPKM5.all.txt')\n",
    "\n",
    "dim(iqtl)\n",
    "head(iqtl)\n"
   ]
  },
  {
   "cell_type": "code",
   "execution_count": 124,
   "metadata": {},
   "outputs": [
    {
     "data": {
      "text/html": [
       "<style>\n",
       ".list-inline {list-style: none; margin:0; padding: 0}\n",
       ".list-inline>li {display: inline-block}\n",
       ".list-inline>li:not(:last-child)::after {content: \"\\00b7\"; padding: 0 .5ex}\n",
       "</style>\n",
       "<ol class=list-inline><li>604286</li><li>16</li></ol>\n"
      ],
      "text/latex": [
       "\\begin{enumerate*}\n",
       "\\item 604286\n",
       "\\item 16\n",
       "\\end{enumerate*}\n"
      ],
      "text/markdown": [
       "1. 604286\n",
       "2. 16\n",
       "\n",
       "\n"
      ],
      "text/plain": [
       "[1] 604286     16"
      ]
     },
     "metadata": {},
     "output_type": "display_data"
    },
    {
     "data": {
      "text/html": [
       "<table>\n",
       "<caption>A data.table: 6 × 16</caption>\n",
       "<thead>\n",
       "\t<tr><th scope=col>transcript_id</th><th scope=col>gene_chr</th><th scope=col>gene_start</th><th scope=col>gene_end</th><th scope=col>strand</th><th scope=col>number_of_SNPs_tested</th><th scope=col>SNP_distance_to_TSS</th><th scope=col>SNP_id</th><th scope=col>SNP_chr</th><th scope=col>SNP_start</th><th scope=col>SNP_end</th><th scope=col>nominal_pval</th><th scope=col>regression_slope</th><th scope=col>top_SNP</th><th scope=col>FDR</th><th scope=col>tx_id_no_version</th></tr>\n",
       "\t<tr><th scope=col>&lt;chr&gt;</th><th scope=col>&lt;chr&gt;</th><th scope=col>&lt;int&gt;</th><th scope=col>&lt;int&gt;</th><th scope=col>&lt;chr&gt;</th><th scope=col>&lt;int&gt;</th><th scope=col>&lt;int&gt;</th><th scope=col>&lt;chr&gt;</th><th scope=col>&lt;chr&gt;</th><th scope=col>&lt;int&gt;</th><th scope=col>&lt;int&gt;</th><th scope=col>&lt;dbl&gt;</th><th scope=col>&lt;dbl&gt;</th><th scope=col>&lt;int&gt;</th><th scope=col>&lt;dbl&gt;</th><th scope=col>&lt;chr&gt;</th></tr>\n",
       "</thead>\n",
       "<tbody>\n",
       "\t<tr><td>ENST00000544594.1</td><td>chr11</td><td>71814292</td><td>71814292</td><td>+</td><td>3967</td><td>-946115</td><td>11:70868177</td><td>chr11</td><td>70868177</td><td>70868177</td><td>3.32938e-06</td><td>-0.143849</td><td>0</td><td>0.0008643359</td><td>ENST00000544594</td></tr>\n",
       "\t<tr><td>ENST00000544594.1</td><td>chr11</td><td>71814292</td><td>71814292</td><td>+</td><td>3967</td><td>-945637</td><td>11:70868655</td><td>chr11</td><td>70868655</td><td>70868655</td><td>3.74290e-06</td><td>-0.142585</td><td>0</td><td>0.0009606373</td><td>ENST00000544594</td></tr>\n",
       "\t<tr><td>ENST00000544594.1</td><td>chr11</td><td>71814292</td><td>71814292</td><td>+</td><td>3967</td><td>-945004</td><td>11:70869288</td><td>chr11</td><td>70869288</td><td>70869288</td><td>3.76844e-06</td><td>-0.142499</td><td>0</td><td>0.0009664706</td><td>ENST00000544594</td></tr>\n",
       "\t<tr><td>ENST00000544594.1</td><td>chr11</td><td>71814292</td><td>71814292</td><td>+</td><td>3967</td><td>-944750</td><td>11:70869542</td><td>chr11</td><td>70869542</td><td>70869542</td><td>3.79628e-06</td><td>-0.142419</td><td>0</td><td>0.0009728959</td><td>ENST00000544594</td></tr>\n",
       "\t<tr><td>ENST00000544594.1</td><td>chr11</td><td>71814292</td><td>71814292</td><td>+</td><td>3967</td><td>-944543</td><td>11:70869749</td><td>chr11</td><td>70869749</td><td>70869749</td><td>2.96835e-06</td><td>-0.141641</td><td>1</td><td>0.0007793781</td><td>ENST00000544594</td></tr>\n",
       "\t<tr><td>ENST00000502597.2</td><td>chr11</td><td>71823750</td><td>71823750</td><td>+</td><td>3946</td><td>-181711</td><td>11:71642039</td><td>chr11</td><td>71642039</td><td>71642039</td><td>3.34871e-06</td><td> 0.218074</td><td>0</td><td>0.0008689127</td><td>ENST00000502597</td></tr>\n",
       "</tbody>\n",
       "</table>\n"
      ],
      "text/latex": [
       "A data.table: 6 × 16\n",
       "\\begin{tabular}{llllllllllllllll}\n",
       " transcript\\_id & gene\\_chr & gene\\_start & gene\\_end & strand & number\\_of\\_SNPs\\_tested & SNP\\_distance\\_to\\_TSS & SNP\\_id & SNP\\_chr & SNP\\_start & SNP\\_end & nominal\\_pval & regression\\_slope & top\\_SNP & FDR & tx\\_id\\_no\\_version\\\\\n",
       " <chr> & <chr> & <int> & <int> & <chr> & <int> & <int> & <chr> & <chr> & <int> & <int> & <dbl> & <dbl> & <int> & <dbl> & <chr>\\\\\n",
       "\\hline\n",
       "\t ENST00000544594.1 & chr11 & 71814292 & 71814292 & + & 3967 & -946115 & 11:70868177 & chr11 & 70868177 & 70868177 & 3.32938e-06 & -0.143849 & 0 & 0.0008643359 & ENST00000544594\\\\\n",
       "\t ENST00000544594.1 & chr11 & 71814292 & 71814292 & + & 3967 & -945637 & 11:70868655 & chr11 & 70868655 & 70868655 & 3.74290e-06 & -0.142585 & 0 & 0.0009606373 & ENST00000544594\\\\\n",
       "\t ENST00000544594.1 & chr11 & 71814292 & 71814292 & + & 3967 & -945004 & 11:70869288 & chr11 & 70869288 & 70869288 & 3.76844e-06 & -0.142499 & 0 & 0.0009664706 & ENST00000544594\\\\\n",
       "\t ENST00000544594.1 & chr11 & 71814292 & 71814292 & + & 3967 & -944750 & 11:70869542 & chr11 & 70869542 & 70869542 & 3.79628e-06 & -0.142419 & 0 & 0.0009728959 & ENST00000544594\\\\\n",
       "\t ENST00000544594.1 & chr11 & 71814292 & 71814292 & + & 3967 & -944543 & 11:70869749 & chr11 & 70869749 & 70869749 & 2.96835e-06 & -0.141641 & 1 & 0.0007793781 & ENST00000544594\\\\\n",
       "\t ENST00000502597.2 & chr11 & 71823750 & 71823750 & + & 3946 & -181711 & 11:71642039 & chr11 & 71642039 & 71642039 & 3.34871e-06 &  0.218074 & 0 & 0.0008689127 & ENST00000502597\\\\\n",
       "\\end{tabular}\n"
      ],
      "text/markdown": [
       "\n",
       "A data.table: 6 × 16\n",
       "\n",
       "| transcript_id &lt;chr&gt; | gene_chr &lt;chr&gt; | gene_start &lt;int&gt; | gene_end &lt;int&gt; | strand &lt;chr&gt; | number_of_SNPs_tested &lt;int&gt; | SNP_distance_to_TSS &lt;int&gt; | SNP_id &lt;chr&gt; | SNP_chr &lt;chr&gt; | SNP_start &lt;int&gt; | SNP_end &lt;int&gt; | nominal_pval &lt;dbl&gt; | regression_slope &lt;dbl&gt; | top_SNP &lt;int&gt; | FDR &lt;dbl&gt; | tx_id_no_version &lt;chr&gt; |\n",
       "|---|---|---|---|---|---|---|---|---|---|---|---|---|---|---|---|\n",
       "| ENST00000544594.1 | chr11 | 71814292 | 71814292 | + | 3967 | -946115 | 11:70868177 | chr11 | 70868177 | 70868177 | 3.32938e-06 | -0.143849 | 0 | 0.0008643359 | ENST00000544594 |\n",
       "| ENST00000544594.1 | chr11 | 71814292 | 71814292 | + | 3967 | -945637 | 11:70868655 | chr11 | 70868655 | 70868655 | 3.74290e-06 | -0.142585 | 0 | 0.0009606373 | ENST00000544594 |\n",
       "| ENST00000544594.1 | chr11 | 71814292 | 71814292 | + | 3967 | -945004 | 11:70869288 | chr11 | 70869288 | 70869288 | 3.76844e-06 | -0.142499 | 0 | 0.0009664706 | ENST00000544594 |\n",
       "| ENST00000544594.1 | chr11 | 71814292 | 71814292 | + | 3967 | -944750 | 11:70869542 | chr11 | 70869542 | 70869542 | 3.79628e-06 | -0.142419 | 0 | 0.0009728959 | ENST00000544594 |\n",
       "| ENST00000544594.1 | chr11 | 71814292 | 71814292 | + | 3967 | -944543 | 11:70869749 | chr11 | 70869749 | 70869749 | 2.96835e-06 | -0.141641 | 1 | 0.0007793781 | ENST00000544594 |\n",
       "| ENST00000502597.2 | chr11 | 71823750 | 71823750 | + | 3946 | -181711 | 11:71642039 | chr11 | 71642039 | 71642039 | 3.34871e-06 |  0.218074 | 0 | 0.0008689127 | ENST00000502597 |\n",
       "\n"
      ],
      "text/plain": [
       "  transcript_id     gene_chr gene_start gene_end strand number_of_SNPs_tested\n",
       "1 ENST00000544594.1 chr11    71814292   71814292 +      3967                 \n",
       "2 ENST00000544594.1 chr11    71814292   71814292 +      3967                 \n",
       "3 ENST00000544594.1 chr11    71814292   71814292 +      3967                 \n",
       "4 ENST00000544594.1 chr11    71814292   71814292 +      3967                 \n",
       "5 ENST00000544594.1 chr11    71814292   71814292 +      3967                 \n",
       "6 ENST00000502597.2 chr11    71823750   71823750 +      3946                 \n",
       "  SNP_distance_to_TSS SNP_id      SNP_chr SNP_start SNP_end  nominal_pval\n",
       "1 -946115             11:70868177 chr11   70868177  70868177 3.32938e-06 \n",
       "2 -945637             11:70868655 chr11   70868655  70868655 3.74290e-06 \n",
       "3 -945004             11:70869288 chr11   70869288  70869288 3.76844e-06 \n",
       "4 -944750             11:70869542 chr11   70869542  70869542 3.79628e-06 \n",
       "5 -944543             11:70869749 chr11   70869749  70869749 2.96835e-06 \n",
       "6 -181711             11:71642039 chr11   71642039  71642039 3.34871e-06 \n",
       "  regression_slope top_SNP FDR          tx_id_no_version\n",
       "1 -0.143849        0       0.0008643359 ENST00000544594 \n",
       "2 -0.142585        0       0.0009606373 ENST00000544594 \n",
       "3 -0.142499        0       0.0009664706 ENST00000544594 \n",
       "4 -0.142419        0       0.0009728959 ENST00000544594 \n",
       "5 -0.141641        1       0.0007793781 ENST00000544594 \n",
       "6  0.218074        0       0.0008689127 ENST00000502597 "
      ]
     },
     "metadata": {},
     "output_type": "display_data"
    }
   ],
   "source": [
    "#add a tx id col without the version number to join on later\n",
    "iqtl$tx_id_no_version <- gsub(\"\\\\..*\",\"\",iqtl$transcript_id)\n",
    "dim(iqtl)\n",
    "head(iqtl)"
   ]
  },
  {
   "cell_type": "code",
   "execution_count": 125,
   "metadata": {},
   "outputs": [],
   "source": [
    "edb <- EnsDb.Hsapiens.v86\n",
    "tx <- transcripts(edb, columns=c(\"tx_id\", \"gene_id\", \"gene_name\"))"
   ]
  },
  {
   "cell_type": "code",
   "execution_count": 126,
   "metadata": {},
   "outputs": [
    {
     "data": {
      "text/html": [
       "<style>\n",
       ".list-inline {list-style: none; margin:0; padding: 0}\n",
       ".list-inline>li {display: inline-block}\n",
       ".list-inline>li:not(:last-child)::after {content: \"\\00b7\"; padding: 0 .5ex}\n",
       "</style>\n",
       "<ol class=list-inline><li>216741</li><li>2</li></ol>\n"
      ],
      "text/latex": [
       "\\begin{enumerate*}\n",
       "\\item 216741\n",
       "\\item 2\n",
       "\\end{enumerate*}\n"
      ],
      "text/markdown": [
       "1. 216741\n",
       "2. 2\n",
       "\n",
       "\n"
      ],
      "text/plain": [
       "[1] 216741      2"
      ]
     },
     "metadata": {},
     "output_type": "display_data"
    },
    {
     "data": {
      "text/html": [
       "<table>\n",
       "<caption>A matrix: 6 × 2 of type chr</caption>\n",
       "<thead>\n",
       "\t<tr><th scope=col>tx_id</th><th scope=col>name</th></tr>\n",
       "</thead>\n",
       "<tbody>\n",
       "\t<tr><td>ENST00000456328</td><td>DDX11L1  </td></tr>\n",
       "\t<tr><td>ENST00000450305</td><td>DDX11L1  </td></tr>\n",
       "\t<tr><td>ENST00000488147</td><td>WASH7P   </td></tr>\n",
       "\t<tr><td>ENST00000619216</td><td>MIR6859-1</td></tr>\n",
       "\t<tr><td>ENST00000473358</td><td>MIR1302-2</td></tr>\n",
       "\t<tr><td>ENST00000469289</td><td>MIR1302-2</td></tr>\n",
       "</tbody>\n",
       "</table>\n"
      ],
      "text/latex": [
       "A matrix: 6 × 2 of type chr\n",
       "\\begin{tabular}{ll}\n",
       " tx\\_id & name\\\\\n",
       "\\hline\n",
       "\t ENST00000456328 & DDX11L1  \\\\\n",
       "\t ENST00000450305 & DDX11L1  \\\\\n",
       "\t ENST00000488147 & WASH7P   \\\\\n",
       "\t ENST00000619216 & MIR6859-1\\\\\n",
       "\t ENST00000473358 & MIR1302-2\\\\\n",
       "\t ENST00000469289 & MIR1302-2\\\\\n",
       "\\end{tabular}\n"
      ],
      "text/markdown": [
       "\n",
       "A matrix: 6 × 2 of type chr\n",
       "\n",
       "| tx_id | name |\n",
       "|---|---|\n",
       "| ENST00000456328 | DDX11L1   |\n",
       "| ENST00000450305 | DDX11L1   |\n",
       "| ENST00000488147 | WASH7P    |\n",
       "| ENST00000619216 | MIR6859-1 |\n",
       "| ENST00000473358 | MIR1302-2 |\n",
       "| ENST00000469289 | MIR1302-2 |\n",
       "\n"
      ],
      "text/plain": [
       "     tx_id           name     \n",
       "[1,] ENST00000456328 DDX11L1  \n",
       "[2,] ENST00000450305 DDX11L1  \n",
       "[3,] ENST00000488147 WASH7P   \n",
       "[4,] ENST00000619216 MIR6859-1\n",
       "[5,] ENST00000473358 MIR1302-2\n",
       "[6,] ENST00000469289 MIR1302-2"
      ]
     },
     "metadata": {},
     "output_type": "display_data"
    }
   ],
   "source": [
    "mapping <- cbind(tx_id=tx$tx_id, name=tx$gene_name)\n",
    "dim(mapping)\n",
    "head(mapping)"
   ]
  },
  {
   "cell_type": "code",
   "execution_count": 127,
   "metadata": {},
   "outputs": [
    {
     "data": {
      "text/html": [
       "<style>\n",
       ".list-inline {list-style: none; margin:0; padding: 0}\n",
       ".list-inline>li {display: inline-block}\n",
       ".list-inline>li:not(:last-child)::after {content: \"\\00b7\"; padding: 0 .5ex}\n",
       "</style>\n",
       "<ol class=list-inline><li>216741</li><li>2</li></ol>\n"
      ],
      "text/latex": [
       "\\begin{enumerate*}\n",
       "\\item 216741\n",
       "\\item 2\n",
       "\\end{enumerate*}\n"
      ],
      "text/markdown": [
       "1. 216741\n",
       "2. 2\n",
       "\n",
       "\n"
      ],
      "text/plain": [
       "[1] 216741      2"
      ]
     },
     "metadata": {},
     "output_type": "display_data"
    },
    {
     "data": {
      "text/html": [
       "<table>\n",
       "<caption>A matrix: 6 × 2 of type chr</caption>\n",
       "<thead>\n",
       "\t<tr><th scope=col>tx_id</th><th scope=col>name</th></tr>\n",
       "</thead>\n",
       "<tbody>\n",
       "\t<tr><td>ENST00000456328</td><td>DDX11L1  </td></tr>\n",
       "\t<tr><td>ENST00000450305</td><td>DDX11L1  </td></tr>\n",
       "\t<tr><td>ENST00000488147</td><td>WASH7P   </td></tr>\n",
       "\t<tr><td>ENST00000619216</td><td>MIR6859-1</td></tr>\n",
       "\t<tr><td>ENST00000473358</td><td>MIR1302-2</td></tr>\n",
       "\t<tr><td>ENST00000469289</td><td>MIR1302-2</td></tr>\n",
       "</tbody>\n",
       "</table>\n"
      ],
      "text/latex": [
       "A matrix: 6 × 2 of type chr\n",
       "\\begin{tabular}{ll}\n",
       " tx\\_id & name\\\\\n",
       "\\hline\n",
       "\t ENST00000456328 & DDX11L1  \\\\\n",
       "\t ENST00000450305 & DDX11L1  \\\\\n",
       "\t ENST00000488147 & WASH7P   \\\\\n",
       "\t ENST00000619216 & MIR6859-1\\\\\n",
       "\t ENST00000473358 & MIR1302-2\\\\\n",
       "\t ENST00000469289 & MIR1302-2\\\\\n",
       "\\end{tabular}\n"
      ],
      "text/markdown": [
       "\n",
       "A matrix: 6 × 2 of type chr\n",
       "\n",
       "| tx_id | name |\n",
       "|---|---|\n",
       "| ENST00000456328 | DDX11L1   |\n",
       "| ENST00000450305 | DDX11L1   |\n",
       "| ENST00000488147 | WASH7P    |\n",
       "| ENST00000619216 | MIR6859-1 |\n",
       "| ENST00000473358 | MIR1302-2 |\n",
       "| ENST00000469289 | MIR1302-2 |\n",
       "\n"
      ],
      "text/plain": [
       "     tx_id           name     \n",
       "[1,] ENST00000456328 DDX11L1  \n",
       "[2,] ENST00000450305 DDX11L1  \n",
       "[3,] ENST00000488147 WASH7P   \n",
       "[4,] ENST00000619216 MIR6859-1\n",
       "[5,] ENST00000473358 MIR1302-2\n",
       "[6,] ENST00000469289 MIR1302-2"
      ]
     },
     "metadata": {},
     "output_type": "display_data"
    }
   ],
   "source": [
    "mapping <-mapping[!duplicated(mapping),]\n",
    "dim(mapping)\n",
    "head(mapping)"
   ]
  },
  {
   "cell_type": "code",
   "execution_count": 128,
   "metadata": {},
   "outputs": [
    {
     "data": {
      "text/html": [
       "<style>\n",
       ".list-inline {list-style: none; margin:0; padding: 0}\n",
       ".list-inline>li {display: inline-block}\n",
       ".list-inline>li:not(:last-child)::after {content: \"\\00b7\"; padding: 0 .5ex}\n",
       "</style>\n",
       "<ol class=list-inline><li>604286</li><li>17</li></ol>\n"
      ],
      "text/latex": [
       "\\begin{enumerate*}\n",
       "\\item 604286\n",
       "\\item 17\n",
       "\\end{enumerate*}\n"
      ],
      "text/markdown": [
       "1. 604286\n",
       "2. 17\n",
       "\n",
       "\n"
      ],
      "text/plain": [
       "[1] 604286     17"
      ]
     },
     "metadata": {},
     "output_type": "display_data"
    },
    {
     "data": {
      "text/html": [
       "<table>\n",
       "<caption>A data.table: 6 × 17</caption>\n",
       "<thead>\n",
       "\t<tr><th scope=col>tx_id_no_version</th><th scope=col>transcript_id</th><th scope=col>gene_chr</th><th scope=col>gene_start</th><th scope=col>gene_end</th><th scope=col>strand</th><th scope=col>number_of_SNPs_tested</th><th scope=col>SNP_distance_to_TSS</th><th scope=col>SNP_id</th><th scope=col>SNP_chr</th><th scope=col>SNP_start</th><th scope=col>SNP_end</th><th scope=col>nominal_pval</th><th scope=col>regression_slope</th><th scope=col>top_SNP</th><th scope=col>FDR</th><th scope=col>name</th></tr>\n",
       "\t<tr><th scope=col>&lt;chr&gt;</th><th scope=col>&lt;chr&gt;</th><th scope=col>&lt;chr&gt;</th><th scope=col>&lt;int&gt;</th><th scope=col>&lt;int&gt;</th><th scope=col>&lt;chr&gt;</th><th scope=col>&lt;int&gt;</th><th scope=col>&lt;int&gt;</th><th scope=col>&lt;chr&gt;</th><th scope=col>&lt;chr&gt;</th><th scope=col>&lt;int&gt;</th><th scope=col>&lt;int&gt;</th><th scope=col>&lt;dbl&gt;</th><th scope=col>&lt;dbl&gt;</th><th scope=col>&lt;int&gt;</th><th scope=col>&lt;dbl&gt;</th><th scope=col>&lt;chr&gt;</th></tr>\n",
       "</thead>\n",
       "<tbody>\n",
       "\t<tr><td>ENST00000000412</td><td>ENST00000000412.3</td><td>chr12</td><td>9096016</td><td>9096016</td><td>+</td><td>3599</td><td>-61643</td><td>12:9034373</td><td>chr12</td><td>9034373</td><td>9034373</td><td>2.36669e-07</td><td>-0.120444</td><td>0</td><td>7.729793e-05</td><td>M6PR</td></tr>\n",
       "\t<tr><td>ENST00000000412</td><td>ENST00000000412.3</td><td>chr12</td><td>9096016</td><td>9096016</td><td>+</td><td>3599</td><td>-59754</td><td>12:9036262</td><td>chr12</td><td>9036262</td><td>9036262</td><td>1.94990e-07</td><td>-0.121873</td><td>0</td><td>6.464181e-05</td><td>M6PR</td></tr>\n",
       "\t<tr><td>ENST00000000412</td><td>ENST00000000412.3</td><td>chr12</td><td>9096016</td><td>9096016</td><td>+</td><td>3599</td><td>-58425</td><td>12:9037591</td><td>chr12</td><td>9037591</td><td>9037591</td><td>3.17800e-08</td><td>-0.125820</td><td>0</td><td>1.198125e-05</td><td>M6PR</td></tr>\n",
       "\t<tr><td>ENST00000000412</td><td>ENST00000000412.3</td><td>chr12</td><td>9096016</td><td>9096016</td><td>+</td><td>3599</td><td>-57676</td><td>12:9038340</td><td>chr12</td><td>9038340</td><td>9038340</td><td>2.43235e-07</td><td>-0.120175</td><td>0</td><td>7.927935e-05</td><td>M6PR</td></tr>\n",
       "\t<tr><td>ENST00000000412</td><td>ENST00000000412.3</td><td>chr12</td><td>9096016</td><td>9096016</td><td>+</td><td>3599</td><td>-55774</td><td>12:9040242</td><td>chr12</td><td>9040242</td><td>9040242</td><td>1.04313e-08</td><td> 0.162043</td><td>0</td><td>4.248245e-06</td><td>M6PR</td></tr>\n",
       "\t<tr><td>ENST00000000412</td><td>ENST00000000412.3</td><td>chr12</td><td>9096016</td><td>9096016</td><td>+</td><td>3599</td><td>-54950</td><td>12:9041066</td><td>chr12</td><td>9041066</td><td>9041066</td><td>3.16729e-08</td><td>-0.125535</td><td>0</td><td>1.194344e-05</td><td>M6PR</td></tr>\n",
       "</tbody>\n",
       "</table>\n"
      ],
      "text/latex": [
       "A data.table: 6 × 17\n",
       "\\begin{tabular}{lllllllllllllllll}\n",
       " tx\\_id\\_no\\_version & transcript\\_id & gene\\_chr & gene\\_start & gene\\_end & strand & number\\_of\\_SNPs\\_tested & SNP\\_distance\\_to\\_TSS & SNP\\_id & SNP\\_chr & SNP\\_start & SNP\\_end & nominal\\_pval & regression\\_slope & top\\_SNP & FDR & name\\\\\n",
       " <chr> & <chr> & <chr> & <int> & <int> & <chr> & <int> & <int> & <chr> & <chr> & <int> & <int> & <dbl> & <dbl> & <int> & <dbl> & <chr>\\\\\n",
       "\\hline\n",
       "\t ENST00000000412 & ENST00000000412.3 & chr12 & 9096016 & 9096016 & + & 3599 & -61643 & 12:9034373 & chr12 & 9034373 & 9034373 & 2.36669e-07 & -0.120444 & 0 & 7.729793e-05 & M6PR\\\\\n",
       "\t ENST00000000412 & ENST00000000412.3 & chr12 & 9096016 & 9096016 & + & 3599 & -59754 & 12:9036262 & chr12 & 9036262 & 9036262 & 1.94990e-07 & -0.121873 & 0 & 6.464181e-05 & M6PR\\\\\n",
       "\t ENST00000000412 & ENST00000000412.3 & chr12 & 9096016 & 9096016 & + & 3599 & -58425 & 12:9037591 & chr12 & 9037591 & 9037591 & 3.17800e-08 & -0.125820 & 0 & 1.198125e-05 & M6PR\\\\\n",
       "\t ENST00000000412 & ENST00000000412.3 & chr12 & 9096016 & 9096016 & + & 3599 & -57676 & 12:9038340 & chr12 & 9038340 & 9038340 & 2.43235e-07 & -0.120175 & 0 & 7.927935e-05 & M6PR\\\\\n",
       "\t ENST00000000412 & ENST00000000412.3 & chr12 & 9096016 & 9096016 & + & 3599 & -55774 & 12:9040242 & chr12 & 9040242 & 9040242 & 1.04313e-08 &  0.162043 & 0 & 4.248245e-06 & M6PR\\\\\n",
       "\t ENST00000000412 & ENST00000000412.3 & chr12 & 9096016 & 9096016 & + & 3599 & -54950 & 12:9041066 & chr12 & 9041066 & 9041066 & 3.16729e-08 & -0.125535 & 0 & 1.194344e-05 & M6PR\\\\\n",
       "\\end{tabular}\n"
      ],
      "text/markdown": [
       "\n",
       "A data.table: 6 × 17\n",
       "\n",
       "| tx_id_no_version &lt;chr&gt; | transcript_id &lt;chr&gt; | gene_chr &lt;chr&gt; | gene_start &lt;int&gt; | gene_end &lt;int&gt; | strand &lt;chr&gt; | number_of_SNPs_tested &lt;int&gt; | SNP_distance_to_TSS &lt;int&gt; | SNP_id &lt;chr&gt; | SNP_chr &lt;chr&gt; | SNP_start &lt;int&gt; | SNP_end &lt;int&gt; | nominal_pval &lt;dbl&gt; | regression_slope &lt;dbl&gt; | top_SNP &lt;int&gt; | FDR &lt;dbl&gt; | name &lt;chr&gt; |\n",
       "|---|---|---|---|---|---|---|---|---|---|---|---|---|---|---|---|---|\n",
       "| ENST00000000412 | ENST00000000412.3 | chr12 | 9096016 | 9096016 | + | 3599 | -61643 | 12:9034373 | chr12 | 9034373 | 9034373 | 2.36669e-07 | -0.120444 | 0 | 7.729793e-05 | M6PR |\n",
       "| ENST00000000412 | ENST00000000412.3 | chr12 | 9096016 | 9096016 | + | 3599 | -59754 | 12:9036262 | chr12 | 9036262 | 9036262 | 1.94990e-07 | -0.121873 | 0 | 6.464181e-05 | M6PR |\n",
       "| ENST00000000412 | ENST00000000412.3 | chr12 | 9096016 | 9096016 | + | 3599 | -58425 | 12:9037591 | chr12 | 9037591 | 9037591 | 3.17800e-08 | -0.125820 | 0 | 1.198125e-05 | M6PR |\n",
       "| ENST00000000412 | ENST00000000412.3 | chr12 | 9096016 | 9096016 | + | 3599 | -57676 | 12:9038340 | chr12 | 9038340 | 9038340 | 2.43235e-07 | -0.120175 | 0 | 7.927935e-05 | M6PR |\n",
       "| ENST00000000412 | ENST00000000412.3 | chr12 | 9096016 | 9096016 | + | 3599 | -55774 | 12:9040242 | chr12 | 9040242 | 9040242 | 1.04313e-08 |  0.162043 | 0 | 4.248245e-06 | M6PR |\n",
       "| ENST00000000412 | ENST00000000412.3 | chr12 | 9096016 | 9096016 | + | 3599 | -54950 | 12:9041066 | chr12 | 9041066 | 9041066 | 3.16729e-08 | -0.125535 | 0 | 1.194344e-05 | M6PR |\n",
       "\n"
      ],
      "text/plain": [
       "  tx_id_no_version transcript_id     gene_chr gene_start gene_end strand\n",
       "1 ENST00000000412  ENST00000000412.3 chr12    9096016    9096016  +     \n",
       "2 ENST00000000412  ENST00000000412.3 chr12    9096016    9096016  +     \n",
       "3 ENST00000000412  ENST00000000412.3 chr12    9096016    9096016  +     \n",
       "4 ENST00000000412  ENST00000000412.3 chr12    9096016    9096016  +     \n",
       "5 ENST00000000412  ENST00000000412.3 chr12    9096016    9096016  +     \n",
       "6 ENST00000000412  ENST00000000412.3 chr12    9096016    9096016  +     \n",
       "  number_of_SNPs_tested SNP_distance_to_TSS SNP_id     SNP_chr SNP_start\n",
       "1 3599                  -61643              12:9034373 chr12   9034373  \n",
       "2 3599                  -59754              12:9036262 chr12   9036262  \n",
       "3 3599                  -58425              12:9037591 chr12   9037591  \n",
       "4 3599                  -57676              12:9038340 chr12   9038340  \n",
       "5 3599                  -55774              12:9040242 chr12   9040242  \n",
       "6 3599                  -54950              12:9041066 chr12   9041066  \n",
       "  SNP_end nominal_pval regression_slope top_SNP FDR          name\n",
       "1 9034373 2.36669e-07  -0.120444        0       7.729793e-05 M6PR\n",
       "2 9036262 1.94990e-07  -0.121873        0       6.464181e-05 M6PR\n",
       "3 9037591 3.17800e-08  -0.125820        0       1.198125e-05 M6PR\n",
       "4 9038340 2.43235e-07  -0.120175        0       7.927935e-05 M6PR\n",
       "5 9040242 1.04313e-08   0.162043        0       4.248245e-06 M6PR\n",
       "6 9041066 3.16729e-08  -0.125535        0       1.194344e-05 M6PR"
      ]
     },
     "metadata": {},
     "output_type": "display_data"
    }
   ],
   "source": [
    "qtl <- merge(x=iqtl, y=mapping, by.x='tx_id_no_version',by.y='tx_id', all.x=TRUE)\n",
    "dim(qtl)\n",
    "head(qtl)"
   ]
  },
  {
   "cell_type": "code",
   "execution_count": 129,
   "metadata": {},
   "outputs": [
    {
     "data": {
      "text/html": [
       "<style>\n",
       ".list-inline {list-style: none; margin:0; padding: 0}\n",
       ".list-inline>li {display: inline-block}\n",
       ".list-inline>li:not(:last-child)::after {content: \"\\00b7\"; padding: 0 .5ex}\n",
       "</style>\n",
       "<ol class=list-inline><li>5312508</li><li>6</li></ol>\n"
      ],
      "text/latex": [
       "\\begin{enumerate*}\n",
       "\\item 5312508\n",
       "\\item 6\n",
       "\\end{enumerate*}\n"
      ],
      "text/markdown": [
       "1. 5312508\n",
       "2. 6\n",
       "\n",
       "\n"
      ],
      "text/plain": [
       "[1] 5312508       6"
      ]
     },
     "metadata": {},
     "output_type": "display_data"
    },
    {
     "data": {
      "text/html": [
       "<table>\n",
       "<caption>A data.table: 6 × 6</caption>\n",
       "<thead>\n",
       "\t<tr><th scope=col>PEC_id</th><th scope=col>Rsid</th><th scope=col>chr</th><th scope=col>position</th><th scope=col>REF</th><th scope=col>ALT</th></tr>\n",
       "\t<tr><th scope=col>&lt;chr&gt;</th><th scope=col>&lt;chr&gt;</th><th scope=col>&lt;chr&gt;</th><th scope=col>&lt;int&gt;</th><th scope=col>&lt;chr&gt;</th><th scope=col>&lt;chr&gt;</th></tr>\n",
       "</thead>\n",
       "<tbody>\n",
       "\t<tr><td>1:927741</td><td>rs6665587  </td><td>chr1</td><td>927741</td><td>G</td><td>A</td></tr>\n",
       "\t<tr><td>1:928416</td><td>rs111754459</td><td>chr1</td><td>928416</td><td>G</td><td>A</td></tr>\n",
       "\t<tr><td>1:930377</td><td>rs3128109  </td><td>chr1</td><td>930377</td><td>C</td><td>T</td></tr>\n",
       "\t<tr><td>1:931548</td><td>rs2799062  </td><td>chr1</td><td>931548</td><td>G</td><td>T</td></tr>\n",
       "\t<tr><td>1:935715</td><td>rs3128114  </td><td>chr1</td><td>935715</td><td>C</td><td>T</td></tr>\n",
       "\t<tr><td>1:938125</td><td>rs2710868  </td><td>chr1</td><td>938125</td><td>G</td><td>A</td></tr>\n",
       "</tbody>\n",
       "</table>\n"
      ],
      "text/latex": [
       "A data.table: 6 × 6\n",
       "\\begin{tabular}{llllll}\n",
       " PEC\\_id & Rsid & chr & position & REF & ALT\\\\\n",
       " <chr> & <chr> & <chr> & <int> & <chr> & <chr>\\\\\n",
       "\\hline\n",
       "\t 1:927741 & rs6665587   & chr1 & 927741 & G & A\\\\\n",
       "\t 1:928416 & rs111754459 & chr1 & 928416 & G & A\\\\\n",
       "\t 1:930377 & rs3128109   & chr1 & 930377 & C & T\\\\\n",
       "\t 1:931548 & rs2799062   & chr1 & 931548 & G & T\\\\\n",
       "\t 1:935715 & rs3128114   & chr1 & 935715 & C & T\\\\\n",
       "\t 1:938125 & rs2710868   & chr1 & 938125 & G & A\\\\\n",
       "\\end{tabular}\n"
      ],
      "text/markdown": [
       "\n",
       "A data.table: 6 × 6\n",
       "\n",
       "| PEC_id &lt;chr&gt; | Rsid &lt;chr&gt; | chr &lt;chr&gt; | position &lt;int&gt; | REF &lt;chr&gt; | ALT &lt;chr&gt; |\n",
       "|---|---|---|---|---|---|\n",
       "| 1:927741 | rs6665587   | chr1 | 927741 | G | A |\n",
       "| 1:928416 | rs111754459 | chr1 | 928416 | G | A |\n",
       "| 1:930377 | rs3128109   | chr1 | 930377 | C | T |\n",
       "| 1:931548 | rs2799062   | chr1 | 931548 | G | T |\n",
       "| 1:935715 | rs3128114   | chr1 | 935715 | C | T |\n",
       "| 1:938125 | rs2710868   | chr1 | 938125 | G | A |\n",
       "\n"
      ],
      "text/plain": [
       "  PEC_id   Rsid        chr  position REF ALT\n",
       "1 1:927741 rs6665587   chr1 927741   G   A  \n",
       "2 1:928416 rs111754459 chr1 928416   G   A  \n",
       "3 1:930377 rs3128109   chr1 930377   C   T  \n",
       "4 1:931548 rs2799062   chr1 931548   G   T  \n",
       "5 1:935715 rs3128114   chr1 935715   C   T  \n",
       "6 1:938125 rs2710868   chr1 938125   G   A  "
      ]
     },
     "metadata": {},
     "output_type": "display_data"
    }
   ],
   "source": [
    "psych_snps <- fread(\"$PATH1/qtl/psychencode/SNP_Information_Table_with_Alleles.txt\")\n",
    "dim(psych_snps)\n",
    "head(psych_snps)"
   ]
  },
  {
   "cell_type": "code",
   "execution_count": 130,
   "metadata": {},
   "outputs": [
    {
     "data": {
      "text/html": [
       "<style>\n",
       ".list-inline {list-style: none; margin:0; padding: 0}\n",
       ".list-inline>li {display: inline-block}\n",
       ".list-inline>li:not(:last-child)::after {content: \"\\00b7\"; padding: 0 .5ex}\n",
       "</style>\n",
       "<ol class=list-inline><li>'data.table'</li><li>'data.frame'</li></ol>\n"
      ],
      "text/latex": [
       "\\begin{enumerate*}\n",
       "\\item 'data.table'\n",
       "\\item 'data.frame'\n",
       "\\end{enumerate*}\n"
      ],
      "text/markdown": [
       "1. 'data.table'\n",
       "2. 'data.frame'\n",
       "\n",
       "\n"
      ],
      "text/plain": [
       "[1] \"data.table\" \"data.frame\""
      ]
     },
     "metadata": {},
     "output_type": "display_data"
    },
    {
     "data": {
      "text/html": [
       "'list'"
      ],
      "text/latex": [
       "'list'"
      ],
      "text/markdown": [
       "'list'"
      ],
      "text/plain": [
       "[1] \"list\""
      ]
     },
     "metadata": {},
     "output_type": "display_data"
    },
    {
     "data": {
      "text/html": [
       "<style>\n",
       ".list-inline {list-style: none; margin:0; padding: 0}\n",
       ".list-inline>li {display: inline-block}\n",
       ".list-inline>li:not(:last-child)::after {content: \"\\00b7\"; padding: 0 .5ex}\n",
       "</style>\n",
       "<ol class=list-inline><li>604286</li><li>22</li></ol>\n"
      ],
      "text/latex": [
       "\\begin{enumerate*}\n",
       "\\item 604286\n",
       "\\item 22\n",
       "\\end{enumerate*}\n"
      ],
      "text/markdown": [
       "1. 604286\n",
       "2. 22\n",
       "\n",
       "\n"
      ],
      "text/plain": [
       "[1] 604286     22"
      ]
     },
     "metadata": {},
     "output_type": "display_data"
    },
    {
     "data": {
      "text/html": [
       "<table>\n",
       "<caption>A data.table: 6 × 22</caption>\n",
       "<thead>\n",
       "\t<tr><th scope=col>SNP_id</th><th scope=col>tx_id_no_version</th><th scope=col>transcript_id</th><th scope=col>gene_chr</th><th scope=col>gene_start</th><th scope=col>gene_end</th><th scope=col>strand</th><th scope=col>number_of_SNPs_tested</th><th scope=col>SNP_distance_to_TSS</th><th scope=col>SNP_chr</th><th scope=col>⋯</th><th scope=col>nominal_pval</th><th scope=col>regression_slope</th><th scope=col>top_SNP</th><th scope=col>FDR</th><th scope=col>name</th><th scope=col>Rsid</th><th scope=col>chr</th><th scope=col>position</th><th scope=col>REF</th><th scope=col>ALT</th></tr>\n",
       "\t<tr><th scope=col>&lt;chr&gt;</th><th scope=col>&lt;chr&gt;</th><th scope=col>&lt;chr&gt;</th><th scope=col>&lt;chr&gt;</th><th scope=col>&lt;int&gt;</th><th scope=col>&lt;int&gt;</th><th scope=col>&lt;chr&gt;</th><th scope=col>&lt;int&gt;</th><th scope=col>&lt;int&gt;</th><th scope=col>&lt;chr&gt;</th><th scope=col>⋯</th><th scope=col>&lt;dbl&gt;</th><th scope=col>&lt;dbl&gt;</th><th scope=col>&lt;int&gt;</th><th scope=col>&lt;dbl&gt;</th><th scope=col>&lt;chr&gt;</th><th scope=col>&lt;chr&gt;</th><th scope=col>&lt;chr&gt;</th><th scope=col>&lt;int&gt;</th><th scope=col>&lt;chr&gt;</th><th scope=col>&lt;chr&gt;</th></tr>\n",
       "</thead>\n",
       "<tbody>\n",
       "\t<tr><td>10:1005381</td><td>ENST00000381344</td><td>ENST00000381344.3</td><td>chr10</td><td>1095110</td><td>1095110</td><td>+</td><td>4321</td><td>-89729</td><td>chr10</td><td>⋯</td><td>6.93902e-18</td><td>-0.292960</td><td>0</td><td>7.383384e-15</td><td>IDI1</td><td>rs71494943</td><td>chr10</td><td>1005381</td><td>A</td><td>G</td></tr>\n",
       "\t<tr><td>10:1005381</td><td>ENST00000491735</td><td>ENST00000491735.1</td><td>chr10</td><td>1095110</td><td>1095110</td><td>+</td><td>4321</td><td>-89729</td><td>chr10</td><td>⋯</td><td>1.64236e-18</td><td> 0.304983</td><td>0</td><td>1.823801e-15</td><td>IDI1</td><td>rs71494943</td><td>chr10</td><td>1005381</td><td>A</td><td>G</td></tr>\n",
       "\t<tr><td>10:1005908</td><td>ENST00000381344</td><td>ENST00000381344.3</td><td>chr10</td><td>1095110</td><td>1095110</td><td>+</td><td>4321</td><td>-89202</td><td>chr10</td><td>⋯</td><td>1.59129e-23</td><td> 0.371512</td><td>0</td><td>2.380915e-20</td><td>IDI1</td><td>rs72478233</td><td>chr10</td><td>1005908</td><td>C</td><td>T</td></tr>\n",
       "\t<tr><td>10:1005908</td><td>ENST00000491735</td><td>ENST00000491735.1</td><td>chr10</td><td>1095110</td><td>1095110</td><td>+</td><td>4321</td><td>-89202</td><td>chr10</td><td>⋯</td><td>2.18675e-22</td><td>-0.370207</td><td>0</td><td>3.096439e-19</td><td>IDI1</td><td>rs72478233</td><td>chr10</td><td>1005908</td><td>C</td><td>T</td></tr>\n",
       "\t<tr><td>10:1012487</td><td>ENST00000381344</td><td>ENST00000381344.3</td><td>chr10</td><td>1095110</td><td>1095110</td><td>+</td><td>4321</td><td>-82623</td><td>chr10</td><td>⋯</td><td>1.07140e-19</td><td> 0.327537</td><td>0</td><td>1.294643e-16</td><td>IDI1</td><td>rs11599238</td><td>chr10</td><td>1012487</td><td>A</td><td>G</td></tr>\n",
       "\t<tr><td>10:1012487</td><td>ENST00000491735</td><td>ENST00000491735.1</td><td>chr10</td><td>1095110</td><td>1095110</td><td>+</td><td>4321</td><td>-82623</td><td>chr10</td><td>⋯</td><td>5.54669e-20</td><td>-0.337368</td><td>0</td><td>6.827092e-17</td><td>IDI1</td><td>rs11599238</td><td>chr10</td><td>1012487</td><td>A</td><td>G</td></tr>\n",
       "</tbody>\n",
       "</table>\n"
      ],
      "text/latex": [
       "A data.table: 6 × 22\n",
       "\\begin{tabular}{lllllllllllllllllllll}\n",
       " SNP\\_id & tx\\_id\\_no\\_version & transcript\\_id & gene\\_chr & gene\\_start & gene\\_end & strand & number\\_of\\_SNPs\\_tested & SNP\\_distance\\_to\\_TSS & SNP\\_chr & ⋯ & nominal\\_pval & regression\\_slope & top\\_SNP & FDR & name & Rsid & chr & position & REF & ALT\\\\\n",
       " <chr> & <chr> & <chr> & <chr> & <int> & <int> & <chr> & <int> & <int> & <chr> & ⋯ & <dbl> & <dbl> & <int> & <dbl> & <chr> & <chr> & <chr> & <int> & <chr> & <chr>\\\\\n",
       "\\hline\n",
       "\t 10:1005381 & ENST00000381344 & ENST00000381344.3 & chr10 & 1095110 & 1095110 & + & 4321 & -89729 & chr10 & ⋯ & 6.93902e-18 & -0.292960 & 0 & 7.383384e-15 & IDI1 & rs71494943 & chr10 & 1005381 & A & G\\\\\n",
       "\t 10:1005381 & ENST00000491735 & ENST00000491735.1 & chr10 & 1095110 & 1095110 & + & 4321 & -89729 & chr10 & ⋯ & 1.64236e-18 &  0.304983 & 0 & 1.823801e-15 & IDI1 & rs71494943 & chr10 & 1005381 & A & G\\\\\n",
       "\t 10:1005908 & ENST00000381344 & ENST00000381344.3 & chr10 & 1095110 & 1095110 & + & 4321 & -89202 & chr10 & ⋯ & 1.59129e-23 &  0.371512 & 0 & 2.380915e-20 & IDI1 & rs72478233 & chr10 & 1005908 & C & T\\\\\n",
       "\t 10:1005908 & ENST00000491735 & ENST00000491735.1 & chr10 & 1095110 & 1095110 & + & 4321 & -89202 & chr10 & ⋯ & 2.18675e-22 & -0.370207 & 0 & 3.096439e-19 & IDI1 & rs72478233 & chr10 & 1005908 & C & T\\\\\n",
       "\t 10:1012487 & ENST00000381344 & ENST00000381344.3 & chr10 & 1095110 & 1095110 & + & 4321 & -82623 & chr10 & ⋯ & 1.07140e-19 &  0.327537 & 0 & 1.294643e-16 & IDI1 & rs11599238 & chr10 & 1012487 & A & G\\\\\n",
       "\t 10:1012487 & ENST00000491735 & ENST00000491735.1 & chr10 & 1095110 & 1095110 & + & 4321 & -82623 & chr10 & ⋯ & 5.54669e-20 & -0.337368 & 0 & 6.827092e-17 & IDI1 & rs11599238 & chr10 & 1012487 & A & G\\\\\n",
       "\\end{tabular}\n"
      ],
      "text/markdown": [
       "\n",
       "A data.table: 6 × 22\n",
       "\n",
       "| SNP_id &lt;chr&gt; | tx_id_no_version &lt;chr&gt; | transcript_id &lt;chr&gt; | gene_chr &lt;chr&gt; | gene_start &lt;int&gt; | gene_end &lt;int&gt; | strand &lt;chr&gt; | number_of_SNPs_tested &lt;int&gt; | SNP_distance_to_TSS &lt;int&gt; | SNP_chr &lt;chr&gt; | ⋯ ⋯ | nominal_pval &lt;dbl&gt; | regression_slope &lt;dbl&gt; | top_SNP &lt;int&gt; | FDR &lt;dbl&gt; | name &lt;chr&gt; | Rsid &lt;chr&gt; | chr &lt;chr&gt; | position &lt;int&gt; | REF &lt;chr&gt; | ALT &lt;chr&gt; |\n",
       "|---|---|---|---|---|---|---|---|---|---|---|---|---|---|---|---|---|---|---|---|---|\n",
       "| 10:1005381 | ENST00000381344 | ENST00000381344.3 | chr10 | 1095110 | 1095110 | + | 4321 | -89729 | chr10 | ⋯ | 6.93902e-18 | -0.292960 | 0 | 7.383384e-15 | IDI1 | rs71494943 | chr10 | 1005381 | A | G |\n",
       "| 10:1005381 | ENST00000491735 | ENST00000491735.1 | chr10 | 1095110 | 1095110 | + | 4321 | -89729 | chr10 | ⋯ | 1.64236e-18 |  0.304983 | 0 | 1.823801e-15 | IDI1 | rs71494943 | chr10 | 1005381 | A | G |\n",
       "| 10:1005908 | ENST00000381344 | ENST00000381344.3 | chr10 | 1095110 | 1095110 | + | 4321 | -89202 | chr10 | ⋯ | 1.59129e-23 |  0.371512 | 0 | 2.380915e-20 | IDI1 | rs72478233 | chr10 | 1005908 | C | T |\n",
       "| 10:1005908 | ENST00000491735 | ENST00000491735.1 | chr10 | 1095110 | 1095110 | + | 4321 | -89202 | chr10 | ⋯ | 2.18675e-22 | -0.370207 | 0 | 3.096439e-19 | IDI1 | rs72478233 | chr10 | 1005908 | C | T |\n",
       "| 10:1012487 | ENST00000381344 | ENST00000381344.3 | chr10 | 1095110 | 1095110 | + | 4321 | -82623 | chr10 | ⋯ | 1.07140e-19 |  0.327537 | 0 | 1.294643e-16 | IDI1 | rs11599238 | chr10 | 1012487 | A | G |\n",
       "| 10:1012487 | ENST00000491735 | ENST00000491735.1 | chr10 | 1095110 | 1095110 | + | 4321 | -82623 | chr10 | ⋯ | 5.54669e-20 | -0.337368 | 0 | 6.827092e-17 | IDI1 | rs11599238 | chr10 | 1012487 | A | G |\n",
       "\n"
      ],
      "text/plain": [
       "  SNP_id     tx_id_no_version transcript_id     gene_chr gene_start gene_end\n",
       "1 10:1005381 ENST00000381344  ENST00000381344.3 chr10    1095110    1095110 \n",
       "2 10:1005381 ENST00000491735  ENST00000491735.1 chr10    1095110    1095110 \n",
       "3 10:1005908 ENST00000381344  ENST00000381344.3 chr10    1095110    1095110 \n",
       "4 10:1005908 ENST00000491735  ENST00000491735.1 chr10    1095110    1095110 \n",
       "5 10:1012487 ENST00000381344  ENST00000381344.3 chr10    1095110    1095110 \n",
       "6 10:1012487 ENST00000491735  ENST00000491735.1 chr10    1095110    1095110 \n",
       "  strand number_of_SNPs_tested SNP_distance_to_TSS SNP_chr <U+22EF>  \n",
       "1 +      4321                  -89729              chr10   <U+22EF>\n",
       "2 +      4321                  -89729              chr10   <U+22EF>\n",
       "3 +      4321                  -89202              chr10   <U+22EF>\n",
       "4 +      4321                  -89202              chr10   <U+22EF>\n",
       "5 +      4321                  -82623              chr10   <U+22EF>\n",
       "6 +      4321                  -82623              chr10   <U+22EF>\n",
       "  nominal_pval regression_slope top_SNP FDR          name Rsid       chr  \n",
       "1 6.93902e-18  -0.292960        0       7.383384e-15 IDI1 rs71494943 chr10\n",
       "2 1.64236e-18   0.304983        0       1.823801e-15 IDI1 rs71494943 chr10\n",
       "3 1.59129e-23   0.371512        0       2.380915e-20 IDI1 rs72478233 chr10\n",
       "4 2.18675e-22  -0.370207        0       3.096439e-19 IDI1 rs72478233 chr10\n",
       "5 1.07140e-19   0.327537        0       1.294643e-16 IDI1 rs11599238 chr10\n",
       "6 5.54669e-20  -0.337368        0       6.827092e-17 IDI1 rs11599238 chr10\n",
       "  position REF ALT\n",
       "1 1005381  A   G  \n",
       "2 1005381  A   G  \n",
       "3 1005908  C   T  \n",
       "4 1005908  C   T  \n",
       "5 1012487  A   G  \n",
       "6 1012487  A   G  "
      ]
     },
     "metadata": {},
     "output_type": "display_data"
    }
   ],
   "source": [
    "\n",
    "qtl <- merge(x=qtl, y=psych_snps, by.x = \"SNP_id\", by.y = \"PEC_id\",all.x=TRUE)\n",
    "class(qtl)\n",
    "typeof(qtl)\n",
    "dim(qtl)\n",
    "head(qtl)\n"
   ]
  },
  {
   "cell_type": "code",
   "execution_count": 131,
   "metadata": {},
   "outputs": [
    {
     "name": "stdout",
     "output_type": "stream",
     "text": [
      "[1] 8245\n",
      "[1] 8245\n",
      "[1] 604286\n",
      "[1] 2588\n"
     ]
    }
   ],
   "source": [
    "print(length(unique(qtl$tx_id_no_version)))\n",
    "print(length(unique(qtl$transcript_id)))\n",
    "print(length(qtl$transcript_id))\n",
    "print(length(unique(qtl$name)))"
   ]
  },
  {
   "cell_type": "code",
   "execution_count": 132,
   "metadata": {},
   "outputs": [
    {
     "name": "stdout",
     "output_type": "stream",
     "text": [
      "       transcript    gene\n",
      "1 ENST00000381344    IDI1\n",
      "2 ENST00000491735    IDI1\n",
      "3 ENST00000441611 BLOC1S2\n",
      "4 ENST00000370372 BLOC1S2\n",
      "5 ENST00000299179  MRPL43\n",
      "6 ENST00000318325  MRPL43\n",
      "[1] 8245\n",
      "[1] 8245\n"
     ]
    }
   ],
   "source": [
    "gene_transcript_df <- qtl %>% dplyr::select(tx_id_no_version, name) %>% mutate(transcript = tx_id_no_version, gene = name) %>% dplyr::select(transcript, gene) %>% distinct\n",
    "print(head(gene_transcript_df))\n",
    "print(nrow(unique(gene_transcript_df)))\n",
    "print(nrow(gene_transcript_df))"
   ]
  },
  {
   "cell_type": "code",
   "execution_count": 133,
   "metadata": {},
   "outputs": [
    {
     "name": "stdout",
     "output_type": "stream",
     "text": [
      "[1] 5 2\n",
      "       transcript      gene\n",
      "1 ENST00000374767 NIPSNAP3A\n",
      "2 ENST00000471001 NIPSNAP3A\n",
      "3 ENST00000374720   SLC44A1\n",
      "4 ENST00000374724   SLC44A1\n",
      "5 ENST00000436716   SLC44A1\n"
     ]
    }
   ],
   "source": [
    "#now filter down gene_transcript_df to only include genes in our list\n",
    "filtered_gene_transcript_df <- gene_transcript_df %>% dplyr::filter(gene %in% evidence_genes)\n",
    "print(dim(filtered_gene_transcript_df))\n",
    "print(head(filtered_gene_transcript_df))"
   ]
  },
  {
   "cell_type": "code",
   "execution_count": 134,
   "metadata": {},
   "outputs": [
    {
     "data": {
      "text/html": [
       "<style>\n",
       ".list-inline {list-style: none; margin:0; padding: 0}\n",
       ".list-inline>li {display: inline-block}\n",
       ".list-inline>li:not(:last-child)::after {content: \"\\00b7\"; padding: 0 .5ex}\n",
       "</style>\n",
       "<ol class=list-inline><li>604286</li><li>23</li></ol>\n"
      ],
      "text/latex": [
       "\\begin{enumerate*}\n",
       "\\item 604286\n",
       "\\item 23\n",
       "\\end{enumerate*}\n"
      ],
      "text/markdown": [
       "1. 604286\n",
       "2. 23\n",
       "\n",
       "\n"
      ],
      "text/plain": [
       "[1] 604286     23"
      ]
     },
     "metadata": {},
     "output_type": "display_data"
    },
    {
     "data": {
      "text/html": [
       "<table>\n",
       "<caption>A data.table: 6 × 23</caption>\n",
       "<thead>\n",
       "\t<tr><th scope=col>SNP_id</th><th scope=col>tx_id_no_version</th><th scope=col>transcript_id</th><th scope=col>gene_chr</th><th scope=col>gene_start</th><th scope=col>gene_end</th><th scope=col>strand</th><th scope=col>number_of_SNPs_tested</th><th scope=col>SNP_distance_to_TSS</th><th scope=col>SNP_chr</th><th scope=col>⋯</th><th scope=col>regression_slope</th><th scope=col>top_SNP</th><th scope=col>FDR</th><th scope=col>name</th><th scope=col>Rsid</th><th scope=col>chr</th><th scope=col>position</th><th scope=col>REF</th><th scope=col>ALT</th><th scope=col>var_id</th></tr>\n",
       "\t<tr><th scope=col>&lt;chr&gt;</th><th scope=col>&lt;chr&gt;</th><th scope=col>&lt;chr&gt;</th><th scope=col>&lt;chr&gt;</th><th scope=col>&lt;int&gt;</th><th scope=col>&lt;int&gt;</th><th scope=col>&lt;chr&gt;</th><th scope=col>&lt;int&gt;</th><th scope=col>&lt;int&gt;</th><th scope=col>&lt;chr&gt;</th><th scope=col>⋯</th><th scope=col>&lt;dbl&gt;</th><th scope=col>&lt;int&gt;</th><th scope=col>&lt;dbl&gt;</th><th scope=col>&lt;chr&gt;</th><th scope=col>&lt;chr&gt;</th><th scope=col>&lt;chr&gt;</th><th scope=col>&lt;int&gt;</th><th scope=col>&lt;chr&gt;</th><th scope=col>&lt;chr&gt;</th><th scope=col>&lt;chr&gt;</th></tr>\n",
       "</thead>\n",
       "<tbody>\n",
       "\t<tr><td>10:1005381</td><td>ENST00000381344</td><td>ENST00000381344.3</td><td>chr10</td><td>1095110</td><td>1095110</td><td>+</td><td>4321</td><td>-89729</td><td>chr10</td><td>⋯</td><td>-0.292960</td><td>0</td><td>7.383384e-15</td><td>IDI1</td><td>rs71494943</td><td>chr10</td><td>1005381</td><td>A</td><td>G</td><td>10:1005381:A:G</td></tr>\n",
       "\t<tr><td>10:1005381</td><td>ENST00000491735</td><td>ENST00000491735.1</td><td>chr10</td><td>1095110</td><td>1095110</td><td>+</td><td>4321</td><td>-89729</td><td>chr10</td><td>⋯</td><td> 0.304983</td><td>0</td><td>1.823801e-15</td><td>IDI1</td><td>rs71494943</td><td>chr10</td><td>1005381</td><td>A</td><td>G</td><td>10:1005381:A:G</td></tr>\n",
       "\t<tr><td>10:1005908</td><td>ENST00000381344</td><td>ENST00000381344.3</td><td>chr10</td><td>1095110</td><td>1095110</td><td>+</td><td>4321</td><td>-89202</td><td>chr10</td><td>⋯</td><td> 0.371512</td><td>0</td><td>2.380915e-20</td><td>IDI1</td><td>rs72478233</td><td>chr10</td><td>1005908</td><td>C</td><td>T</td><td>10:1005908:C:T</td></tr>\n",
       "\t<tr><td>10:1005908</td><td>ENST00000491735</td><td>ENST00000491735.1</td><td>chr10</td><td>1095110</td><td>1095110</td><td>+</td><td>4321</td><td>-89202</td><td>chr10</td><td>⋯</td><td>-0.370207</td><td>0</td><td>3.096439e-19</td><td>IDI1</td><td>rs72478233</td><td>chr10</td><td>1005908</td><td>C</td><td>T</td><td>10:1005908:C:T</td></tr>\n",
       "\t<tr><td>10:1012487</td><td>ENST00000381344</td><td>ENST00000381344.3</td><td>chr10</td><td>1095110</td><td>1095110</td><td>+</td><td>4321</td><td>-82623</td><td>chr10</td><td>⋯</td><td> 0.327537</td><td>0</td><td>1.294643e-16</td><td>IDI1</td><td>rs11599238</td><td>chr10</td><td>1012487</td><td>A</td><td>G</td><td>10:1012487:A:G</td></tr>\n",
       "\t<tr><td>10:1012487</td><td>ENST00000491735</td><td>ENST00000491735.1</td><td>chr10</td><td>1095110</td><td>1095110</td><td>+</td><td>4321</td><td>-82623</td><td>chr10</td><td>⋯</td><td>-0.337368</td><td>0</td><td>6.827092e-17</td><td>IDI1</td><td>rs11599238</td><td>chr10</td><td>1012487</td><td>A</td><td>G</td><td>10:1012487:A:G</td></tr>\n",
       "</tbody>\n",
       "</table>\n"
      ],
      "text/latex": [
       "A data.table: 6 × 23\n",
       "\\begin{tabular}{lllllllllllllllllllll}\n",
       " SNP\\_id & tx\\_id\\_no\\_version & transcript\\_id & gene\\_chr & gene\\_start & gene\\_end & strand & number\\_of\\_SNPs\\_tested & SNP\\_distance\\_to\\_TSS & SNP\\_chr & ⋯ & regression\\_slope & top\\_SNP & FDR & name & Rsid & chr & position & REF & ALT & var\\_id\\\\\n",
       " <chr> & <chr> & <chr> & <chr> & <int> & <int> & <chr> & <int> & <int> & <chr> & ⋯ & <dbl> & <int> & <dbl> & <chr> & <chr> & <chr> & <int> & <chr> & <chr> & <chr>\\\\\n",
       "\\hline\n",
       "\t 10:1005381 & ENST00000381344 & ENST00000381344.3 & chr10 & 1095110 & 1095110 & + & 4321 & -89729 & chr10 & ⋯ & -0.292960 & 0 & 7.383384e-15 & IDI1 & rs71494943 & chr10 & 1005381 & A & G & 10:1005381:A:G\\\\\n",
       "\t 10:1005381 & ENST00000491735 & ENST00000491735.1 & chr10 & 1095110 & 1095110 & + & 4321 & -89729 & chr10 & ⋯ &  0.304983 & 0 & 1.823801e-15 & IDI1 & rs71494943 & chr10 & 1005381 & A & G & 10:1005381:A:G\\\\\n",
       "\t 10:1005908 & ENST00000381344 & ENST00000381344.3 & chr10 & 1095110 & 1095110 & + & 4321 & -89202 & chr10 & ⋯ &  0.371512 & 0 & 2.380915e-20 & IDI1 & rs72478233 & chr10 & 1005908 & C & T & 10:1005908:C:T\\\\\n",
       "\t 10:1005908 & ENST00000491735 & ENST00000491735.1 & chr10 & 1095110 & 1095110 & + & 4321 & -89202 & chr10 & ⋯ & -0.370207 & 0 & 3.096439e-19 & IDI1 & rs72478233 & chr10 & 1005908 & C & T & 10:1005908:C:T\\\\\n",
       "\t 10:1012487 & ENST00000381344 & ENST00000381344.3 & chr10 & 1095110 & 1095110 & + & 4321 & -82623 & chr10 & ⋯ &  0.327537 & 0 & 1.294643e-16 & IDI1 & rs11599238 & chr10 & 1012487 & A & G & 10:1012487:A:G\\\\\n",
       "\t 10:1012487 & ENST00000491735 & ENST00000491735.1 & chr10 & 1095110 & 1095110 & + & 4321 & -82623 & chr10 & ⋯ & -0.337368 & 0 & 6.827092e-17 & IDI1 & rs11599238 & chr10 & 1012487 & A & G & 10:1012487:A:G\\\\\n",
       "\\end{tabular}\n"
      ],
      "text/markdown": [
       "\n",
       "A data.table: 6 × 23\n",
       "\n",
       "| SNP_id &lt;chr&gt; | tx_id_no_version &lt;chr&gt; | transcript_id &lt;chr&gt; | gene_chr &lt;chr&gt; | gene_start &lt;int&gt; | gene_end &lt;int&gt; | strand &lt;chr&gt; | number_of_SNPs_tested &lt;int&gt; | SNP_distance_to_TSS &lt;int&gt; | SNP_chr &lt;chr&gt; | ⋯ ⋯ | regression_slope &lt;dbl&gt; | top_SNP &lt;int&gt; | FDR &lt;dbl&gt; | name &lt;chr&gt; | Rsid &lt;chr&gt; | chr &lt;chr&gt; | position &lt;int&gt; | REF &lt;chr&gt; | ALT &lt;chr&gt; | var_id &lt;chr&gt; |\n",
       "|---|---|---|---|---|---|---|---|---|---|---|---|---|---|---|---|---|---|---|---|---|\n",
       "| 10:1005381 | ENST00000381344 | ENST00000381344.3 | chr10 | 1095110 | 1095110 | + | 4321 | -89729 | chr10 | ⋯ | -0.292960 | 0 | 7.383384e-15 | IDI1 | rs71494943 | chr10 | 1005381 | A | G | 10:1005381:A:G |\n",
       "| 10:1005381 | ENST00000491735 | ENST00000491735.1 | chr10 | 1095110 | 1095110 | + | 4321 | -89729 | chr10 | ⋯ |  0.304983 | 0 | 1.823801e-15 | IDI1 | rs71494943 | chr10 | 1005381 | A | G | 10:1005381:A:G |\n",
       "| 10:1005908 | ENST00000381344 | ENST00000381344.3 | chr10 | 1095110 | 1095110 | + | 4321 | -89202 | chr10 | ⋯ |  0.371512 | 0 | 2.380915e-20 | IDI1 | rs72478233 | chr10 | 1005908 | C | T | 10:1005908:C:T |\n",
       "| 10:1005908 | ENST00000491735 | ENST00000491735.1 | chr10 | 1095110 | 1095110 | + | 4321 | -89202 | chr10 | ⋯ | -0.370207 | 0 | 3.096439e-19 | IDI1 | rs72478233 | chr10 | 1005908 | C | T | 10:1005908:C:T |\n",
       "| 10:1012487 | ENST00000381344 | ENST00000381344.3 | chr10 | 1095110 | 1095110 | + | 4321 | -82623 | chr10 | ⋯ |  0.327537 | 0 | 1.294643e-16 | IDI1 | rs11599238 | chr10 | 1012487 | A | G | 10:1012487:A:G |\n",
       "| 10:1012487 | ENST00000491735 | ENST00000491735.1 | chr10 | 1095110 | 1095110 | + | 4321 | -82623 | chr10 | ⋯ | -0.337368 | 0 | 6.827092e-17 | IDI1 | rs11599238 | chr10 | 1012487 | A | G | 10:1012487:A:G |\n",
       "\n"
      ],
      "text/plain": [
       "  SNP_id     tx_id_no_version transcript_id     gene_chr gene_start gene_end\n",
       "1 10:1005381 ENST00000381344  ENST00000381344.3 chr10    1095110    1095110 \n",
       "2 10:1005381 ENST00000491735  ENST00000491735.1 chr10    1095110    1095110 \n",
       "3 10:1005908 ENST00000381344  ENST00000381344.3 chr10    1095110    1095110 \n",
       "4 10:1005908 ENST00000491735  ENST00000491735.1 chr10    1095110    1095110 \n",
       "5 10:1012487 ENST00000381344  ENST00000381344.3 chr10    1095110    1095110 \n",
       "6 10:1012487 ENST00000491735  ENST00000491735.1 chr10    1095110    1095110 \n",
       "  strand number_of_SNPs_tested SNP_distance_to_TSS SNP_chr <U+22EF>  \n",
       "1 +      4321                  -89729              chr10   <U+22EF>\n",
       "2 +      4321                  -89729              chr10   <U+22EF>\n",
       "3 +      4321                  -89202              chr10   <U+22EF>\n",
       "4 +      4321                  -89202              chr10   <U+22EF>\n",
       "5 +      4321                  -82623              chr10   <U+22EF>\n",
       "6 +      4321                  -82623              chr10   <U+22EF>\n",
       "  regression_slope top_SNP FDR          name Rsid       chr   position REF ALT\n",
       "1 -0.292960        0       7.383384e-15 IDI1 rs71494943 chr10 1005381  A   G  \n",
       "2  0.304983        0       1.823801e-15 IDI1 rs71494943 chr10 1005381  A   G  \n",
       "3  0.371512        0       2.380915e-20 IDI1 rs72478233 chr10 1005908  C   T  \n",
       "4 -0.370207        0       3.096439e-19 IDI1 rs72478233 chr10 1005908  C   T  \n",
       "5  0.327537        0       1.294643e-16 IDI1 rs11599238 chr10 1012487  A   G  \n",
       "6 -0.337368        0       6.827092e-17 IDI1 rs11599238 chr10 1012487  A   G  \n",
       "  var_id        \n",
       "1 10:1005381:A:G\n",
       "2 10:1005381:A:G\n",
       "3 10:1005908:C:T\n",
       "4 10:1005908:C:T\n",
       "5 10:1012487:A:G\n",
       "6 10:1012487:A:G"
      ]
     },
     "metadata": {},
     "output_type": "display_data"
    }
   ],
   "source": [
    "#add a chr:bp:ref:alt col\n",
    "qtl$'var_id' <- paste0(qtl$SNP_id,\":\",qtl$REF,\":\",qtl$ALT)\n",
    "dim(qtl)\n",
    "head(qtl)"
   ]
  },
  {
   "cell_type": "code",
   "execution_count": 135,
   "metadata": {},
   "outputs": [
    {
     "data": {
      "text/html": [
       "5"
      ],
      "text/latex": [
       "5"
      ],
      "text/markdown": [
       "5"
      ],
      "text/plain": [
       "[1] 5"
      ]
     },
     "metadata": {},
     "output_type": "display_data"
    },
    {
     "name": "stdout",
     "output_type": "stream",
     "text": [
      "[1] \"NIPSNAP3A ENST00000374767\"\n",
      "[1] \"NIPSNAP3A ENST00000471001\"\n",
      "[1] \"SLC44A1 ENST00000374720\"\n",
      "[1] \"SLC44A1 ENST00000374724\"\n",
      "[1] \"SLC44A1 ENST00000436716\"\n"
     ]
    }
   ],
   "source": [
    "nrow(filtered_gene_transcript_df)\n",
    "for(i in 1:nrow(filtered_gene_transcript_df))\n",
    "{\n",
    "    row <- filtered_gene_transcript_df[i,]\n",
    "    print(paste0(row$gene, \" \", row$transcript))\n",
    "    isoqtl_fn = paste0(out_dir,'/', row$gene, \"_\", row$transcript, '_isoqtl.tsv')\n",
    "    gwasout_fn = paste0(out_dir,'/', row$gene, \"_\", row$transcript, '_gwas.tsv')\n",
    "\n",
    "    isoqtl_gene = qtl %>% dplyr::filter(name == row$gene) %>% dplyr::filter(tx_id_no_version == row$transcript) %>%\n",
    "    mutate(rsid = Rsid, pval = nominal_pval) %>% dplyr::select(rsid, var_id, pval)\n",
    "    gwas %>% dplyr::filter(ID2 %in% isoqtl_gene$var_id) %>% \n",
    "    mutate(rsid = SNP, var_id = ID2, pval = p) %>% dplyr::select(rsid, var_id, pval) %>%\n",
    "    fwrite(gwasout_fn, sep='\\t')\n",
    "    fwrite(isoqtl_gene, isoqtl_fn, sep='\\t')\n",
    "}\n",
    " "
   ]
  },
  {
   "cell_type": "code",
   "execution_count": null,
   "metadata": {},
   "outputs": [],
   "source": []
  },
  {
   "cell_type": "code",
   "execution_count": null,
   "metadata": {},
   "outputs": [],
   "source": []
  },
  {
   "cell_type": "markdown",
   "metadata": {},
   "source": [
    "## 7) fQTL (cell fraction QTL)\n",
    "no gene or transcript id available in the data so we will just check for risk variants"
   ]
  },
  {
   "cell_type": "code",
   "execution_count": 14,
   "metadata": {},
   "outputs": [
    {
     "data": {
      "text/html": [
       "<style>\n",
       ".list-inline {list-style: none; margin:0; padding: 0}\n",
       ".list-inline>li {display: inline-block}\n",
       ".list-inline>li:not(:last-child)::after {content: \"\\00b7\"; padding: 0 .5ex}\n",
       "</style>\n",
       "<ol class=list-inline><li>4199</li><li>6</li></ol>\n"
      ],
      "text/latex": [
       "\\begin{enumerate*}\n",
       "\\item 4199\n",
       "\\item 6\n",
       "\\end{enumerate*}\n"
      ],
      "text/markdown": [
       "1. 4199\n",
       "2. 6\n",
       "\n",
       "\n"
      ],
      "text/plain": [
       "[1] 4199    6"
      ]
     },
     "metadata": {},
     "output_type": "display_data"
    },
    {
     "data": {
      "text/html": [
       "<table>\n",
       "<caption>A data.table: 6 × 6</caption>\n",
       "<thead>\n",
       "\t<tr><th scope=col>#Cell_Type</th><th scope=col>Chromosome_of_variant</th><th scope=col>Locus_of_variant</th><th scope=col>Nominal_p_val_of_association</th><th scope=col>Bonferroni_corrected_p_val</th><th scope=col>Regression_slope</th></tr>\n",
       "\t<tr><th scope=col>&lt;chr&gt;</th><th scope=col>&lt;chr&gt;</th><th scope=col>&lt;int&gt;</th><th scope=col>&lt;dbl&gt;</th><th scope=col>&lt;dbl&gt;</th><th scope=col>&lt;dbl&gt;</th></tr>\n",
       "</thead>\n",
       "<tbody>\n",
       "\t<tr><td>Ex3</td><td>chr1</td><td>1307638</td><td>6.34747e-11</td><td>3.372099e-03</td><td> 0.621200</td></tr>\n",
       "\t<tr><td>Ex3</td><td>chr1</td><td>4026068</td><td>2.51291e-23</td><td>1.334986e-15</td><td>-0.340486</td></tr>\n",
       "\t<tr><td>Ex3</td><td>chr1</td><td>8188316</td><td>8.03655e-11</td><td>4.269424e-03</td><td>-0.259089</td></tr>\n",
       "\t<tr><td>Ex4</td><td>chr1</td><td>1288583</td><td>5.65267e-13</td><td>3.002986e-05</td><td>-0.346556</td></tr>\n",
       "\t<tr><td>Ex4</td><td>chr1</td><td>3360036</td><td>4.65523e-15</td><td>2.473095e-07</td><td>-0.340727</td></tr>\n",
       "\t<tr><td>Ex4</td><td>chr1</td><td>4026068</td><td>2.19210e-34</td><td>1.164555e-26</td><td>-0.416653</td></tr>\n",
       "</tbody>\n",
       "</table>\n"
      ],
      "text/latex": [
       "A data.table: 6 × 6\n",
       "\\begin{tabular}{llllll}\n",
       " \\#Cell\\_Type & Chromosome\\_of\\_variant & Locus\\_of\\_variant & Nominal\\_p\\_val\\_of\\_association & Bonferroni\\_corrected\\_p\\_val & Regression\\_slope\\\\\n",
       " <chr> & <chr> & <int> & <dbl> & <dbl> & <dbl>\\\\\n",
       "\\hline\n",
       "\t Ex3 & chr1 & 1307638 & 6.34747e-11 & 3.372099e-03 &  0.621200\\\\\n",
       "\t Ex3 & chr1 & 4026068 & 2.51291e-23 & 1.334986e-15 & -0.340486\\\\\n",
       "\t Ex3 & chr1 & 8188316 & 8.03655e-11 & 4.269424e-03 & -0.259089\\\\\n",
       "\t Ex4 & chr1 & 1288583 & 5.65267e-13 & 3.002986e-05 & -0.346556\\\\\n",
       "\t Ex4 & chr1 & 3360036 & 4.65523e-15 & 2.473095e-07 & -0.340727\\\\\n",
       "\t Ex4 & chr1 & 4026068 & 2.19210e-34 & 1.164555e-26 & -0.416653\\\\\n",
       "\\end{tabular}\n"
      ],
      "text/markdown": [
       "\n",
       "A data.table: 6 × 6\n",
       "\n",
       "| #Cell_Type &lt;chr&gt; | Chromosome_of_variant &lt;chr&gt; | Locus_of_variant &lt;int&gt; | Nominal_p_val_of_association &lt;dbl&gt; | Bonferroni_corrected_p_val &lt;dbl&gt; | Regression_slope &lt;dbl&gt; |\n",
       "|---|---|---|---|---|---|\n",
       "| Ex3 | chr1 | 1307638 | 6.34747e-11 | 3.372099e-03 |  0.621200 |\n",
       "| Ex3 | chr1 | 4026068 | 2.51291e-23 | 1.334986e-15 | -0.340486 |\n",
       "| Ex3 | chr1 | 8188316 | 8.03655e-11 | 4.269424e-03 | -0.259089 |\n",
       "| Ex4 | chr1 | 1288583 | 5.65267e-13 | 3.002986e-05 | -0.346556 |\n",
       "| Ex4 | chr1 | 3360036 | 4.65523e-15 | 2.473095e-07 | -0.340727 |\n",
       "| Ex4 | chr1 | 4026068 | 2.19210e-34 | 1.164555e-26 | -0.416653 |\n",
       "\n"
      ],
      "text/plain": [
       "  #Cell_Type Chromosome_of_variant Locus_of_variant\n",
       "1 Ex3        chr1                  1307638         \n",
       "2 Ex3        chr1                  4026068         \n",
       "3 Ex3        chr1                  8188316         \n",
       "4 Ex4        chr1                  1288583         \n",
       "5 Ex4        chr1                  3360036         \n",
       "6 Ex4        chr1                  4026068         \n",
       "  Nominal_p_val_of_association Bonferroni_corrected_p_val Regression_slope\n",
       "1 6.34747e-11                  3.372099e-03                0.621200       \n",
       "2 2.51291e-23                  1.334986e-15               -0.340486       \n",
       "3 8.03655e-11                  4.269424e-03               -0.259089       \n",
       "4 5.65267e-13                  3.002986e-05               -0.346556       \n",
       "5 4.65523e-15                  2.473095e-07               -0.340727       \n",
       "6 2.19210e-34                  1.164555e-26               -0.416653       "
      ]
     },
     "metadata": {},
     "output_type": "display_data"
    }
   ],
   "source": [
    "fqtl = fread('$PATH1/qtl/psychencode/DER-11_hg19_fQTL.significant.txt')\n",
    "\n",
    "dim(fqtl)\n",
    "head(fqtl)\n"
   ]
  },
  {
   "cell_type": "code",
   "execution_count": 61,
   "metadata": {},
   "outputs": [
    {
     "name": "stdout",
     "output_type": "stream",
     "text": [
      "   #Cell_Type Chromosome_of_variant Locus_of_variant\n",
      "1:        Ex3                  chr1          1307638\n",
      "2:        Ex3                  chr1          4026068\n",
      "3:        Ex3                  chr1          8188316\n",
      "4:        Ex4                  chr1          1288583\n",
      "5:        Ex4                  chr1          3360036\n",
      "6:        Ex4                  chr1          4026068\n",
      "   Nominal_p_val_of_association Bonferroni_corrected_p_val Regression_slope\n",
      "1:                  6.34747e-11               3.372099e-03         0.621200\n",
      "2:                  2.51291e-23               1.334986e-15        -0.340486\n",
      "3:                  8.03655e-11               4.269424e-03        -0.259089\n",
      "4:                  5.65267e-13               3.002986e-05        -0.346556\n",
      "5:                  4.65523e-15               2.473095e-07        -0.340727\n",
      "6:                  2.19210e-34               1.164555e-26        -0.416653\n",
      "      CHR:BP\n",
      "1: 1:1307638\n",
      "2: 1:4026068\n",
      "3: 1:8188316\n",
      "4: 1:1288583\n",
      "5: 1:3360036\n",
      "6: 1:4026068\n"
     ]
    }
   ],
   "source": [
    "#need to add CHR:BP to the fQTL data\n",
    "fqtl$\"CHR:BP\" <- paste0(gsub(\"chr\",\"\",fqtl$\"Chromosome_of_variant\"),\":\", fqtl$\"Locus_of_variant\")\n",
    "print(head(fqtl))"
   ]
  },
  {
   "cell_type": "code",
   "execution_count": 76,
   "metadata": {},
   "outputs": [
    {
     "name": "stdout",
     "output_type": "stream",
     "text": [
      "  #Cell_Type Chromosome_of_variant Locus_of_variant\n",
      "1        Ex3                  chr1        154898185\n",
      "  Nominal_p_val_of_association Bonferroni_corrected_p_val Regression_slope\n",
      "1                         0.05                      0.005              0.5\n",
      "       CHR:BP\n",
      "1 1:154898185\n"
     ]
    }
   ],
   "source": [
    "testrow <- data.frame(\"#Cell_Type\"=\"Ex3\",\"Chromosome_of_variant\"=\"chr1\",\"Locus_of_variant\"=154898185,\"Nominal_p_val_of_association\"=0.05,\"Bonferroni_corrected_p_val\"=0.005,\"Regression_slope\"=0.5,\"CHR:BP\"=\"1:154898185\")\n",
    "colnames(testrow) <- colnames(fqtl)\n",
    "print(testrow)"
   ]
  },
  {
   "cell_type": "code",
   "execution_count": 77,
   "metadata": {},
   "outputs": [],
   "source": [
    "fqtl <- rbind(fqtl, testrow)"
   ]
  },
  {
   "cell_type": "code",
   "execution_count": 78,
   "metadata": {},
   "outputs": [
    {
     "name": "stdout",
     "output_type": "stream",
     "text": [
      "[1]  1 10\n",
      "        CHR:BP Locus Number         SNP CHR #Cell_Type Chromosome_of_variant\n",
      "1: 1:154898185            1 rs114138760   1        Ex3                  chr1\n",
      "   Locus_of_variant Nominal_p_val_of_association Bonferroni_corrected_p_val\n",
      "1:        154898185                         0.05                      0.005\n",
      "   Regression_slope\n",
      "1:              0.5\n"
     ]
    }
   ],
   "source": [
    "#merge the risk variants with the fQTL data to see if they are in the data\n",
    "risk_fQTL_snps <- merge(x=variant_data, y=fqtl, by.x=\"CHR:BP\", by.y=\"CHR:BP\")\n",
    "print(dim(risk_fQTL_snps))\n",
    "print(head(risk_fQTL_snps))"
   ]
  }
 ],
 "metadata": {
  "kernelspec": {
   "display_name": "Python 3",
   "language": "python",
   "name": "python3"
  },
  "language_info": {
   "codemirror_mode": {
    "name": "ipython",
    "version": 3
   },
   "file_extension": ".py",
   "mimetype": "text/x-python",
   "name": "python",
   "nbconvert_exporter": "python",
   "pygments_lexer": "ipython3",
   "version": "3.7.3"
  }
 },
 "nbformat": 4,
 "nbformat_minor": 4
}
