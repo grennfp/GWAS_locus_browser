{
 "cells": [
  {
   "cell_type": "markdown",
   "metadata": {},
   "source": [
    "# GWAS Locus Browser QTL and GWAS Gene Data for (1) all Genes or (2) one Gene\n",
    "- **Author(s)** - Frank Grenn and Hirotaka Iwaki\n",
    "- **Date Started** - October 2019\n",
    "- **Quick Description:** collect eQTL and GWAS data for genes\n",
    "- **Data:** "
   ]
  },
  {
   "cell_type": "code",
   "execution_count": null,
   "metadata": {},
   "outputs": [],
   "source": [
    "library(data.table)\n",
    "library(dplyr)"
   ]
  },
  {
   "cell_type": "code",
   "execution_count": null,
   "metadata": {},
   "outputs": [],
   "source": [
    "WRKDIR = '$PATH/AppDataProcessing'\n",
    "QTLDIR = paste0(WRKDIR,'/qtl')\n",
    "TSVDIR = paste0(QTLDIR,'/tsv')\n",
    "dir.create(TSVDIR)"
   ]
  },
  {
   "cell_type": "markdown",
   "metadata": {},
   "source": [
    "## (1) All Genes\n",
    "\n",
    "* #### (a) get the genes we want data for\n",
    "* #### (b) get the gwas data\n",
    "* #### (c) get the eqtl data\n",
    "* #### (d) generate blood eqtl and gwas tsvs for each gene\n",
    "* #### (e) generate brain eqtl tsvs for each gene using a swarm job\n",
    "* #### (f) generate brain GWAS TSVs for each gene\n",
    "* #### (g) next steps\n",
    "\n",
    "### (a) get the genes we want data for\n",
    "from the `genes_by_locus.csv`"
   ]
  },
  {
   "cell_type": "code",
   "execution_count": null,
   "metadata": {},
   "outputs": [],
   "source": [
    "evidence <- fread(\"$PATH/AppDataProcessing/genes_by_locus.csv\")\n",
    "\n",
    "\n",
    "evidence_genes <- evidence$GENE\n",
    "\n",
    "length(evidence_genes)\n",
    "head(evidence_genes)\n"
   ]
  },
  {
   "cell_type": "markdown",
   "metadata": {},
   "source": [
    "### (b) get the gwas data for (i) meta5 or (ii) progression or (iii) asian gwas\n",
    "\n",
    "#### (i) meta5"
   ]
  },
  {
   "cell_type": "code",
   "execution_count": null,
   "metadata": {},
   "outputs": [],
   "source": [
    "#META5\n",
    "#gwas_in = paste0('$PATH/summary_stats/resultsForSmr_filtered.tab.gz')\n",
    "gwas_id=\"META5\"\n",
    "dir.create(paste0(TSVDIR,'/',gwas_id))\n",
    "gwas_in = \"$PATH/AppDataProcessing/meta5_sumstats_harmonized.csv\"\n",
    "evidence_genes <- evidence[which(evidence$GWAS==gwas_id),]$GENE\n",
    "print(length(evidence_genes))\n",
    "\n",
    "\n",
    "gwas = fread(gwas_in)\n",
    "dim(gwas)\n",
    "head(gwas)\n",
    "\n"
   ]
  },
  {
   "cell_type": "markdown",
   "metadata": {},
   "source": [
    "#### (ii) progression (NOTE: need to run notebook twice for this because each locus has its own summary stats file)\n",
    "\n"
   ]
  },
  {
   "cell_type": "markdown",
   "metadata": {},
   "source": [
    "##### Using HY3 Sum Stats File OR..."
   ]
  },
  {
   "cell_type": "code",
   "execution_count": null,
   "metadata": {},
   "outputs": [],
   "source": [
    "#Progression Loci\n",
    "gwas_id=\"Progression\"\n",
    "dir.create(paste0(TSVDIR,'/',gwas_id))\n",
    "\n",
    "##rs382940, 9:108058562, 2\n",
    "#gwas_in = paste0('$PATH/AppDataProcessing/locuszoom/surv_HY3.txt')\n",
    "gwas_in = paste0('$PATH/AppDataProcessing/prog_hy_sumstats_harmonized.csv')\n",
    "evidence_genes <- evidence[which((evidence$LOC_NUM==2) & (evidence$GWAS==gwas_id)),]$GENE\n",
    "\n",
    "\n",
    "\n",
    "print(length(evidence_genes))\n",
    "print(evidence_genes)\n",
    "\n",
    "gwas = fread(gwas_in)\n",
    "\n",
    "\n",
    "head(gwas)\n",
    "dim(gwas)"
   ]
  },
  {
   "cell_type": "markdown",
   "metadata": {},
   "source": [
    "##### ... Using INS Sum Stats File"
   ]
  },
  {
   "cell_type": "code",
   "execution_count": null,
   "metadata": {},
   "outputs": [],
   "source": [
    "#Progression Loci\n",
    "gwas_id=\"Progression\"\n",
    "dir.create(paste0(TSVDIR,'/',gwas_id))\n",
    "\n",
    "\n",
    "##rs61863020, 10:112956055, 1\n",
    "##gwas_in = paste0('$PATH/AppDataProcessing/locuszoom/base_INS.txt')\n",
    "gwas_in = paste0('$PATH/AppDataProcessing/prog_ins_sumstats_harmonized.csv')\n",
    "evidence_genes <- evidence[which(evidence$LOC_NUM==1 & evidence$GWAS==gwas_id),]$GENE\n",
    "\n",
    "print(length(evidence_genes))\n",
    "print(evidence_genes)\n",
    "\n",
    "gwas = fread(gwas_in)\n",
    "\n",
    "\n",
    "head(gwas)\n",
    "dim(gwas)"
   ]
  },
  {
   "cell_type": "markdown",
   "metadata": {},
   "source": [
    "#### (iii) Asian Gwas"
   ]
  },
  {
   "cell_type": "code",
   "execution_count": null,
   "metadata": {},
   "outputs": [],
   "source": [
    "gwas_id=\"Asian\"\n",
    "dir.create(paste0(TSVDIR,'/',gwas_id))\n",
    "#gwas_in = paste0(\"$PATH/summary_stats/asian_GWAS/6724PDcases-24851controls-5843213snps-summary-stats-metaP-SE.txt.gz\")\n",
    "gwas_in = \"$PATH/AppDataProcessing/asiangwas_sumstats_harmonized.csv\"\n",
    "evidence_genes <- evidence[which(evidence$GWAS==gwas_id),]$GENE\n",
    "print(length(evidence_genes))"
   ]
  },
  {
   "cell_type": "code",
   "execution_count": null,
   "metadata": {},
   "outputs": [],
   "source": [
    "\n",
    "\n",
    "gwas = fread(gwas_in)\n",
    "\n",
    "\n",
    "head(gwas)\n",
    "dim(gwas)"
   ]
  },
  {
   "cell_type": "code",
   "execution_count": null,
   "metadata": {},
   "outputs": [],
   "source": []
  },
  {
   "cell_type": "markdown",
   "metadata": {},
   "source": [
    "### (c) get the eqtl data"
   ]
  },
  {
   "cell_type": "code",
   "execution_count": null,
   "metadata": {},
   "outputs": [],
   "source": [
    "eqtl = fread('$PATH/tool/eQTL/cis-eQTL_significant_20181017.txt.gz')\n",
    "dim(eqtl)\n",
    "head(eqtl)\n"
   ]
  },
  {
   "cell_type": "markdown",
   "metadata": {},
   "source": [
    "### (d) generate blood eqtl and gwas tsvs for each gene"
   ]
  },
  {
   "cell_type": "code",
   "execution_count": null,
   "metadata": {},
   "outputs": [],
   "source": [
    "GWASTSVDIR=paste0(TSVDIR,'/',gwas_id)\n",
    "#proj = '$PATH/AppDataProcessing/qtl/'\n",
    "#gwasoutfold = paste0(proj, 'tsv/')\n",
    "count <- 0\n",
    "print(length(evidence_genes))\n",
    "for(gene in evidence_genes)\n",
    "{\n",
    "    # blood eqtl\n",
    "    eqtl_fn = paste0(GWASTSVDIR,'/', gene, '_blood_eqtl.tsv')\n",
    "    gwasout_fn = paste0(GWASTSVDIR,'/',  gene, '_blood_gwas.tsv')\n",
    "\n",
    "    eqtl_gene = eqtl %>% filter(GeneSymbol == gene) %>% \n",
    "    mutate(RSID = SNP, P = Pvalue) %>% select(RSID, P)\n",
    "    gwas %>% filter(RSID %in% eqtl_gene$RSID) %>% \n",
    "    select(RSID, P) %>%\n",
    "    fwrite(gwasout_fn, sep='\\t')\n",
    "    fwrite(eqtl_gene, eqtl_fn, sep='\\t')\n",
    "}\n",
    " "
   ]
  },
  {
   "cell_type": "markdown",
   "metadata": {},
   "source": [
    "### (e) generate brain eQTL TSVs for each gene using a swarm job\n",
    "\n",
    "generate the swarm file"
   ]
  },
  {
   "cell_type": "code",
   "execution_count": null,
   "metadata": {},
   "outputs": [],
   "source": [
    "\n",
    "\n",
    "count = 0\n",
    "for(gene in evidence_genes)\n",
    "{\n",
    "  #print(paste0(gene, \" \", count))\n",
    "\n",
    "  line = paste0('$PATH/GBA_age_of_onset/EQTL/smr_Linux',\n",
    "                ' --beqtl-summary $PATH/QTL/Brain-eMeta/Brain-eMeta',\n",
    "                ' --thread-num 1',\n",
    "                ' --query 5.0e-2',\n",
    "                ' --gene ', gene, \n",
    "                ' --cis-wind 2000',\n",
    "                ' --out ',GWASTSVDIR,'/', gene, '_brain_eqtl')\n",
    "    write(line,file=\"script/generate_brain_eqtl.swarm\",append=TRUE)\n",
    "    #count = count +1\n",
    "}\n",
    " "
   ]
  },
  {
   "cell_type": "markdown",
   "metadata": {},
   "source": [
    "print the command to run the swarm file"
   ]
  },
  {
   "cell_type": "code",
   "execution_count": null,
   "metadata": {},
   "outputs": [],
   "source": [
    "print('swarm -f generate_brain_eqtl.swarm -g 10 --partition quick --time 00:02:00')"
   ]
  },
  {
   "cell_type": "markdown",
   "metadata": {},
   "source": [
    "### (f) generate brain GWAS TSVs for each gene"
   ]
  },
  {
   "cell_type": "code",
   "execution_count": null,
   "metadata": {},
   "outputs": [],
   "source": [
    "for(gene in evidence_genes)\n",
    "{   \n",
    "  # brain eqtl\n",
    "  eqtl_fn = paste0(GWASTSVDIR,'/', gene, '_brain_eqtl.tsv')\n",
    "  gwasout_fn = paste0(GWASTSVDIR, '/',  gene, '_brain_gwas.tsv')\n",
    "\n",
    "    \n",
    "  if(file.exists(paste0(GWASTSVDIR,'/',gene, '_brain_eqtl.txt')))\n",
    "  {\n",
    "      qtls = fread(paste0(GWASTSVDIR,'/',gene, '_brain_eqtl.txt'))\n",
    "      cispos = qtls %>% group_by(Chr, Gene) %>% mutate(n = n()) %>% \n",
    "        arrange(desc(n)) %>% \n",
    "        ungroup() %>%\n",
    "        distinct(Chr, .keep_all = T) %>% \n",
    "        rename(GeneChr = Chr) %>%\n",
    "        select(Gene, GeneChr) \n",
    "      qtls_cis = inner_join(qtls, cispos, by='Gene') %>% \n",
    "        filter(Chr==GeneChr) %>%\n",
    "        data.frame() %>%\n",
    "        .[grep('rs', .$SNP),] %>%\n",
    "        mutate(RSID = SNP, P = p) %>% \n",
    "        select(RSID, P)\n",
    "      fwrite(qtls_cis, eqtl_fn, sep='\\t')\n",
    "\n",
    "      gwas %>% filter(RSID %in% qtls_cis$RSID) %>%\n",
    "        select(RSID, P) %>%\n",
    "        fwrite(gwasout_fn, sep='\\t')    \n",
    "      \n",
    "  }\n",
    "  \n",
    "}"
   ]
  },
  {
   "cell_type": "markdown",
   "metadata": {},
   "source": [
    "### (g) next steps\n",
    "\n",
    "next we need to see which genes we can create plots for. Now start running `QTL_Proxy_SNPS.ipynb`"
   ]
  },
  {
   "cell_type": "markdown",
   "metadata": {},
   "source": [
    "## (2) For One Gene\n",
    "useful with genes that have alternate names (looking at you _RAB7L1/RAB29_!)\n",
    "\n",
    "* #### (a) specify the data gene names\n",
    "* #### (b) get the gwas data\n",
    "* #### (c) get the eqtl data\n",
    "* #### (d) generate blood eqtl and gwas tsvs for each gene\n",
    "* #### (e) generate brain eqtl tsvs for each gene using a swarm job\n",
    "* #### (f) generate brain GWAS TSVs for each gene\n",
    "* #### (g) next steps\n",
    "\n",
    "### (a) specify the data gene names"
   ]
  },
  {
   "cell_type": "code",
   "execution_count": null,
   "metadata": {},
   "outputs": [],
   "source": [
    "#name of the gene in the eqtl data\n",
    "eqtl_gene_name <- \"RAB7L1\"\n",
    "#name of the gene in the gwas data\n",
    "gwas_gene_name <-\"RAB29\"\n",
    "#what gene name you want the files to show for the gene\n",
    "final_gene_file_name <-\"RAB29\""
   ]
  },
  {
   "cell_type": "markdown",
   "metadata": {},
   "source": [
    "### (b) get the gwas data"
   ]
  },
  {
   "cell_type": "code",
   "execution_count": null,
   "metadata": {},
   "outputs": [],
   "source": [
    "#META5\n",
    "gwas_id = \"META5\"\n",
    "dir.create(paste0(TSVDIR,'/',gwas_id))\n",
    "gwas_in = \"$PATH/AppDataProcessing/meta5_sumstats_harmonized.csv\"\n",
    "gwas = fread(gwas_in)\n",
    "dim(gwas)\n",
    "head(gwas)\n",
    "\n",
    "GWASTSVDIR=paste0(TSVDIR,'/',gwas_id)"
   ]
  },
  {
   "cell_type": "markdown",
   "metadata": {},
   "source": [
    "### (c) get the eqtl data"
   ]
  },
  {
   "cell_type": "code",
   "execution_count": null,
   "metadata": {},
   "outputs": [],
   "source": [
    "eqtl = fread('$PATH/tool/eQTL/cis-eQTL_significant_20181017.txt.gz')\n",
    "dim(eqtl)\n",
    "head(eqtl)"
   ]
  },
  {
   "cell_type": "markdown",
   "metadata": {},
   "source": [
    "### (d) generate blood eqtl and gwas tsvs for each gene"
   ]
  },
  {
   "cell_type": "code",
   "execution_count": null,
   "metadata": {},
   "outputs": [],
   "source": [
    "\n",
    "# blood eqtl\n",
    "eqtl_fn = paste0(GWASTSVDIR,'/', final_gene_file_name, '_blood_eqtl.tsv')\n",
    "gwasout_fn = paste0(GWASTSVDIR,'/',  final_gene_file_name, '_blood_gwas.tsv')\n",
    "\n",
    "#for etql (named RAB7L1)\n",
    "eqtl_gene = eqtl %>% filter(GeneSymbol == eqtl_gene_name) %>% \n",
    "mutate(RSID = SNP, P = Pvalue) %>% select(RSID, P)\n",
    "\n",
    "fwrite(eqtl_gene, eqtl_fn, sep='\\t')\n",
    "\n",
    "#for gwas (named RAB29)\n",
    "gwas %>% filter(RSID %in% eqtl_gene$RSID) %>% \n",
    "select(RSID, P) %>%\n",
    "fwrite(gwasout_fn, sep='\\t')\n",
    "\n",
    "\n",
    " "
   ]
  },
  {
   "cell_type": "markdown",
   "metadata": {},
   "source": [
    "### (e) generate brain eqtl tsvs for each gene using a swarm job"
   ]
  },
  {
   "cell_type": "code",
   "execution_count": null,
   "metadata": {},
   "outputs": [],
   "source": [
    "\n",
    "\n",
    "print(paste0('$PATH/GBA_age_of_onset/EQTL/smr_Linux',\n",
    "            ' --beqtl-summary $PATH/GENERAL/QTL/Brain-eMeta/Brain-eMeta',\n",
    "            ' --thread-num 1',\n",
    "            ' --query 5.0e-2',\n",
    "            ' --gene ', eqtl_gene_name, \n",
    "            ' --cis-wind 2000',\n",
    "            ' --out ',GWASTSVDIR,'/', final_gene_file_name, '_brain_eqtl'))\n",
    "\n",
    " "
   ]
  },
  {
   "cell_type": "markdown",
   "metadata": {},
   "source": [
    "### (f) generate brain GWAS TSVs for each gene"
   ]
  },
  {
   "cell_type": "code",
   "execution_count": null,
   "metadata": {},
   "outputs": [],
   "source": [
    "\n",
    "# brain eqtl\n",
    "eqtl_fn = paste0(GWASTSVDIR,'/', final_gene_file_name, '_brain_eqtl.tsv')\n",
    "gwasout_fn = paste0(GWASTSVDIR,'/',  final_gene_file_name, '_brain_gwas.tsv')\n",
    "\n",
    "\n",
    "if(file.exists(paste0(GWASTSVDIR,'/',final_gene_file_name, '_brain_eqtl.txt')))\n",
    "{\n",
    "  qtls = fread(paste0(GWASTSVDIR,'/',final_gene_file_name, '_brain_eqtl.txt'))\n",
    "  cispos = qtls %>% group_by(Chr, Gene) %>% mutate(n = n()) %>% \n",
    "    arrange(desc(n)) %>% \n",
    "    ungroup() %>%\n",
    "    distinct(Chr, .keep_all = T) %>% \n",
    "    rename(GeneChr = Chr) %>%\n",
    "    select(Gene, GeneChr) \n",
    "  qtls_cis = inner_join(qtls, cispos, by='Gene') %>% \n",
    "    filter(Chr==GeneChr) %>%\n",
    "    data.frame() %>%\n",
    "    .[grep('rs', .$SNP),] %>%\n",
    "    mutate(RSID = SNP, P = p) %>% \n",
    "    select(RSID, P)\n",
    "  fwrite(qtls_cis, eqtl_fn, sep='\\t')\n",
    "\n",
    "  gwas %>% filter(RSID %in% qtls_cis$RSID) %>%\n",
    "    select(RSID, P) %>%\n",
    "    fwrite(gwasout_fn, sep='\\t')    \n",
    "\n",
    "}\n",
    "\n"
   ]
  },
  {
   "cell_type": "markdown",
   "metadata": {},
   "source": [
    "### (g) next steps\n",
    "\n",
    "next we need to see which genes we can create plots for. Now start running `QTL_Proxy_SNPS.ipynb`"
   ]
  },
  {
   "cell_type": "code",
   "execution_count": null,
   "metadata": {},
   "outputs": [],
   "source": []
  }
 ],
 "metadata": {
  "kernelspec": {
   "display_name": "R",
   "language": "R",
   "name": "ir"
  },
  "language_info": {
   "codemirror_mode": {
    "name": "ipython",
    "version": 3
   },
   "file_extension": ".py",
   "mimetype": "text/x-python",
   "name": "python",
   "nbconvert_exporter": "python",
   "pygments_lexer": "ipython3",
   "version": "3.7.3"
  }
 },
 "nbformat": 4,
 "nbformat_minor": 4
}
