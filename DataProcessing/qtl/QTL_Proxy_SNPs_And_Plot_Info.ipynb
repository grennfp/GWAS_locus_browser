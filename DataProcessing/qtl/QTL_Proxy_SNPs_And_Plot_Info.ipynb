{
 "cells": [
  {
   "cell_type": "markdown",
   "metadata": {},
   "source": [
    "# Generate QTL Plot Info From Data\n",
    "- **Author(s)** - Frank Grenn\n",
    "- **Date Started** - May 2020\n",
    "- **Quick Description:** Identify which genes we can create different qtl Locus Compare plots for. See if there is enough data to create a plot and if the plot has the risk variant in its data. Output a file per plot type (brain eqtl, blood eqtl, psychencode eqtl, psychencode isoqtl) describing which genes we can plot\n",
    "\n",
    "need to have tsvs for all genes across all loci and all gwases to generate the complete file at the end of this notebook. this may require multiple runs of the `QTL_Generate_Data.ipynb` and `QTL_Generate_Data_Psychencode.ipynb` (a run for each gwas summary stats file)"
   ]
  },
  {
   "cell_type": "code",
   "execution_count": null,
   "metadata": {},
   "outputs": [],
   "source": [
    "library(data.table)\n",
    "library(dplyr)"
   ]
  },
  {
   "cell_type": "code",
   "execution_count": null,
   "metadata": {},
   "outputs": [],
   "source": [
    "#location of the plot data tsvs created previously\n",
    "tsv_dir <- \"/path/to/AppDataProcessing/qtl/tsv\""
   ]
  },
  {
   "cell_type": "markdown",
   "metadata": {},
   "source": [
    "## (1) Create a Dataframe Containing Information for all the Plots\n",
    "\n",
    "we want a plot for each gene, each feature (blood, brain) on each locus\n"
   ]
  },
  {
   "cell_type": "code",
   "execution_count": null,
   "metadata": {},
   "outputs": [],
   "source": [
    "evidence <- fread(\"/path/to/AppDataProcessing/genes_by_locus.csv\")\n",
    "head(evidence)"
   ]
  },
  {
   "cell_type": "code",
   "execution_count": null,
   "metadata": {},
   "outputs": [],
   "source": [
    "gwas_risk_variants <- fread(\"/path/to/AppDataProcessing/gwas_risk_variants.csv\")\n",
    "dim(gwas_risk_variants)\n",
    "head(gwas_risk_variants)"
   ]
  },
  {
   "cell_type": "code",
   "execution_count": null,
   "metadata": {},
   "outputs": [],
   "source": [
    "#merge the evidence df with the variant df\n",
    "#this is done to account for loci with multiple snps (ex: locus 1 has three risk variants, so we should try to create three plots for each gene on that locus)\n",
    "plot_df <- merge(x=evidence, y=gwas_risk_variants, by.x = c(\"GWAS\",\"LOC_NUM\"), by.y = c(\"GWAS\",\"LOC_NUM\"), all.x = TRUE, allow.cartesian = TRUE)\n",
    "\n",
    "plot_df <- plot_df[with(plot_df, order(GWAS,LOC_NUM, GENE, RSID)),]\n",
    "plot_df$'forced_lead_variant' <- \"NA\"\n",
    "plot_df$'forced_lead_variant_r2' <- 0\n",
    "plot_df$'reason' <- \"NA\"\n",
    "plot_df$'num_snps' <- 0\n",
    "plot_df$'can_plot' <- NA\n",
    "plot_df$'has_plot' <- NA\n"
   ]
  },
  {
   "cell_type": "code",
   "execution_count": null,
   "metadata": {},
   "outputs": [],
   "source": [
    "dim(plot_df)\n",
    "head(plot_df)\n",
    "tail(plot_df)"
   ]
  },
  {
   "cell_type": "markdown",
   "metadata": {},
   "source": [
    "## (2) Obtain Proxy SNPS Per Locus\n",
    "\n",
    "use LDlinkR to generate a list of snps with a LD R2 > 0.7 for each risk variant\n",
    "\n",
    "run this in terminal. Queries must be made sequentially for LDlinkR to work (so don't bother changing the script to run in parallel)\n"
   ]
  },
  {
   "cell_type": "code",
   "execution_count": null,
   "metadata": {},
   "outputs": [],
   "source": [
    "print(\"Rscript getRiskSNPProxies.R\")"
   ]
  },
  {
   "cell_type": "markdown",
   "metadata": {},
   "source": [
    "##### Setup function to lookup proxies"
   ]
  },
  {
   "cell_type": "code",
   "execution_count": null,
   "metadata": {},
   "outputs": [],
   "source": [
    "proxy_dir = \"/path/to/AppDataProcessing/qtl/proxy_snps\"\n",
    "check_for_proxy <- function(row,df){\n",
    "    #load the proxy snps\n",
    "    proxies <- fread(paste0(proxy_dir,\"/\",row$RSID,\"_proxies.csv\"))\n",
    "    \n",
    "    #if we even have any proxy snps for the risk variant\n",
    "    if(nrow(proxies)>0)\n",
    "    {\n",
    "        #merge the proxy snp df with the data df\n",
    "        merged <- merge(df, proxies, by.x = \"RSID\", by.y = \"RS_Number\")\n",
    "\n",
    "        if(nrow(merged) > 0)\n",
    "        {\n",
    "            best_ld_snp <- merged[which.max(merged$R2),]\n",
    "            row$'forced_lead_variant' <- best_ld_snp$RSID\n",
    "            row$'forced_lead_variant_r2' <- best_ld_snp$R2\n",
    "            row$'reason' <- \"plot has a good proxy snp\"\n",
    "            row$can_plot <- TRUE\n",
    "            #print(row$'forced_lead_variant')\n",
    "            #print(best_ld_snp$RSID[1])\n",
    "        }\n",
    "        else\n",
    "        {\n",
    "            row$'reason' <- \"risk variants proxies not in plot data\"\n",
    "            row$can_plot <- TRUE#FALSE\n",
    "        }\n",
    "    }\n",
    "    else\n",
    "    {\n",
    "        row$'reason' <- \"risk variant has no proxies\"\n",
    "        row$can_plot <- TRUE#FALSE\n",
    "    }\n",
    "    row\n",
    "\n",
    "}"
   ]
  },
  {
   "cell_type": "markdown",
   "metadata": {},
   "source": [
    "## (3) Process the eQTL Brain data\n",
    "\n"
   ]
  },
  {
   "cell_type": "code",
   "execution_count": null,
   "metadata": {},
   "outputs": [],
   "source": [
    "brain_df <- plot_df\n",
    "brain_df$feature <- 'brain'\n"
   ]
  },
  {
   "cell_type": "code",
   "execution_count": null,
   "metadata": {},
   "outputs": [],
   "source": [
    "dim(brain_df)\n",
    "head(brain_df)\n"
   ]
  },
  {
   "cell_type": "code",
   "execution_count": null,
   "metadata": {},
   "outputs": [],
   "source": [
    "for (rownum in 1:nrow(brain_df))\n",
    "{\n",
    "\n",
    "  #print(rownum)\n",
    "  \n",
    "\n",
    "  \n",
    "  row <- brain_df[rownum,]\n",
    "  \n",
    "  chr <- row$CHR\n",
    "  rsid <- row$RSID\n",
    "  gene <- row$GENE\n",
    "  feature <- row$feature\n",
    "  \n",
    "  gwas <- row$GWAS\n",
    "\n",
    "  #print(paste0(\"checking\", snp, \" \" , gene, \" \", feature))\n",
    "  ###now check the tsvs for data\n",
    "  #get file path strings\n",
    "  gwas_fn = paste0(tsv_dir, '/',gwas,'/', gene, '_',feature,'_gwas.tsv')\n",
    "  \n",
    "  eqtl_fn = paste0(tsv_dir, '/',gwas,'/', gene, '_',feature,'_eqtl.tsv')\n",
    "  \n",
    "  #check if the files actually exist\n",
    "  if(file.exists(gwas_fn) && file.exists(eqtl_fn))\n",
    "  {\n",
    "      #print(paste0(\"checking\", rsid, \" \" , gene, \" \", feature, \" \" , row$GWAS))\n",
    "    #print(\"files exist\")\n",
    "    #read the tsv files\n",
    "    g = read.table(gwas_fn, header = T)\n",
    "    e = read.table(eqtl_fn, header = T)\n",
    "    \n",
    "    #if they both aren't empty \n",
    "    if(nrow(g)!=0 && nrow(e)!=0)\n",
    "    {\n",
    "      \n",
    "      #merge them by rsid\n",
    "      df = merge(g, e, by = 'RSID')\n",
    "      #print(\"df:\")\n",
    "      #print(head(df))\n",
    "        \n",
    "      if(nrow(df)!=0)\n",
    "      {\n",
    "          row$num_snps <- nrow(df)  \n",
    "          #check if the risk variant is already in the data. If so, then we are fine\n",
    "          if(row$RSID %in% df$RSID)\n",
    "          {\n",
    "           # print(\"we have the risk snp!!!\")\n",
    "            row$'forced_lead_variant' <- row$RSID\n",
    "            row$'forced_lead_variant_r2' <- 1\n",
    "            row$'reason' <- \"has risk variant\"\n",
    "            row$can_plot <- TRUE\n",
    "\n",
    "          }\n",
    "          #otherwise we need to check for an available proxy snp\n",
    "          else\n",
    "          {\n",
    "              row <- check_for_proxy(row, df)\n",
    "          }\n",
    " \n",
    "      }\n",
    "      #if no data after merging\n",
    "      else\n",
    "      {\n",
    "          row$'reason' <- \"no common snps between qtl and gwas data\"\n",
    "          row$can_plot <- FALSE\n",
    "      }\n",
    "   \n",
    "\n",
    "    }\n",
    "    #if either file is empty\n",
    "    else\n",
    "    {\n",
    "      row$'reason' <- \"gwas and/or qtl data empty\"\n",
    "      row$can_plot <- FALSE\n",
    "    }\n",
    "  }\n",
    "  #if the files don't even exist\n",
    "  else\n",
    "  {\n",
    "      row$'reason' <- \"gwas and/or qtl data empty\"\n",
    "      row$can_plot <- FALSE\n",
    "  }\n",
    "  brain_df[rownum,] <- row\n",
    "\n",
    "}"
   ]
  },
  {
   "cell_type": "code",
   "execution_count": null,
   "metadata": {},
   "outputs": [],
   "source": [
    "dim(brain_df)\n",
    "head(brain_df)\n",
    "\n",
    "write.csv(brain_df,file=\"/path/to/AppDataProcessing/qtl/brain_qtl_info.csv\",row.names=F,col.names=F)"
   ]
  },
  {
   "cell_type": "markdown",
   "metadata": {},
   "source": [
    "## (4) Process the eQTL Blood data\n",
    "\n"
   ]
  },
  {
   "cell_type": "code",
   "execution_count": null,
   "metadata": {},
   "outputs": [],
   "source": [
    "blood_df <- plot_df\n",
    "blood_df$feature <- 'blood'\n",
    "\n",
    "(dim(blood_df))\n",
    "(head(blood_df))"
   ]
  },
  {
   "cell_type": "code",
   "execution_count": null,
   "metadata": {},
   "outputs": [],
   "source": [
    "for (rownum in 1:nrow(blood_df))\n",
    "{\n",
    "\n",
    "  #print(rownum)\n",
    "  \n",
    "\n",
    "  \n",
    "  row <- blood_df[rownum,]\n",
    "  \n",
    "  chr <- row$CHR\n",
    "  rsid <- row$RSID\n",
    "  gene <- row$GENE\n",
    "  feature <- row$feature\n",
    "  \n",
    "  gwas <- row$GWAS\n",
    "\n",
    "  #print(paste0(\"checking\", snp, \" \" , gene, \" \", feature))\n",
    "  ###now check the tsvs for data\n",
    "  #get file path strings\n",
    "  gwas_fn = paste0(tsv_dir, '/',gwas,'/', gene, '_',feature,'_gwas.tsv')\n",
    "  \n",
    "  eqtl_fn = paste0(tsv_dir, '/',gwas,'/', gene, '_',feature,'_eqtl.tsv')\n",
    "  \n",
    "  #check if the files actually exist\n",
    "  if(file.exists(gwas_fn) && file.exists(eqtl_fn))\n",
    "  {\n",
    "      #print(paste0(\"checking\", rsid, \" \" , gene, \" \", feature, \" \" , row$GWAS))\n",
    "    #print(\"files exist\")\n",
    "    #read the tsv files\n",
    "    g = read.table(gwas_fn, header = T)\n",
    "    e = read.table(eqtl_fn, header = T)\n",
    "    \n",
    "    #if they both aren't empty \n",
    "    if(nrow(g)!=0 && nrow(e)!=0)\n",
    "    {\n",
    "      \n",
    "      #merge them by rsid\n",
    "      df = merge(g, e, by = 'RSID')\n",
    "      #print(\"df:\")\n",
    "      #print(head(df))\n",
    "        \n",
    "      if(nrow(df)!=0)\n",
    "      {\n",
    "          row$num_snps <- nrow(df)  \n",
    "          #check if the risk variant is already in the data. If so, then we are fine\n",
    "          if(row$RSID %in% df$RSID)\n",
    "          {\n",
    "           # print(\"we have the risk snp!!!\")\n",
    "            row$'forced_lead_variant' <- row$RSID\n",
    "            row$'forced_lead_variant_r2' <- 1\n",
    "            row$'reason' <- \"has risk variant\"\n",
    "            row$can_plot <- TRUE\n",
    "\n",
    "          }\n",
    "          #otherwise we need to check for an available proxy snp\n",
    "          else\n",
    "          {\n",
    "              row <- check_for_proxy(row, df)\n",
    "          }\n",
    " \n",
    "      }\n",
    "      #if no data after merging\n",
    "      else\n",
    "      {\n",
    "          row$'reason' <- \"no common snps between qtl and gwas data\"\n",
    "          row$can_plot <- FALSE\n",
    "      }\n",
    "   \n",
    "\n",
    "    }\n",
    "    #if either file is empty\n",
    "    else\n",
    "    {\n",
    "      row$'reason' <- \"gwas and/or qtl data empty\"\n",
    "      row$can_plot <- FALSE\n",
    "    }\n",
    "  }\n",
    "  #if the files don't even exist\n",
    "  else\n",
    "  {\n",
    "      row$'reason' <- \"gwas and/or qtl data empty\"\n",
    "      row$can_plot <- FALSE\n",
    "  }\n",
    "  blood_df[rownum,] <- row\n",
    "\n",
    "}"
   ]
  },
  {
   "cell_type": "code",
   "execution_count": null,
   "metadata": {},
   "outputs": [],
   "source": [
    "dim(blood_df)\n",
    "head(blood_df)\n",
    "\n",
    "write.csv(blood_df,file=\"/path/to/AppDataProcessing/qtl/blood_qtl_info.csv\",row.names=F,col.names=F)"
   ]
  },
  {
   "cell_type": "markdown",
   "metadata": {},
   "source": [
    "## (5) Process the PsychENCODE eQTL data\n",
    "\n"
   ]
  },
  {
   "cell_type": "code",
   "execution_count": null,
   "metadata": {},
   "outputs": [],
   "source": [
    "pe_eqtl_df <- plot_df\n",
    "pe_eqtl_df$feature <- 'e_pe'\n",
    "\n",
    "(dim(pe_eqtl_df))\n",
    "(head(pe_eqtl_df))"
   ]
  },
  {
   "cell_type": "code",
   "execution_count": null,
   "metadata": {},
   "outputs": [],
   "source": [
    "for (rownum in 1:nrow(pe_eqtl_df))\n",
    "{\n",
    "\n",
    "  #print(rownum)\n",
    "  \n",
    "\n",
    "  \n",
    "  row <- pe_eqtl_df[rownum,]\n",
    "  \n",
    "  chr <- row$CHR\n",
    "  rsid <- row$RSID\n",
    "  gene <- row$GENE\n",
    "  feature <- row$feature\n",
    "  \n",
    "  gwas <- row$GWAS\n",
    "\n",
    "  #print(paste0(\"checking\", snp, \" \" , gene, \" \", feature))\n",
    "  ###now check the tsvs for data\n",
    "  #get file path strings\n",
    "  gwas_fn = paste0(tsv_dir, '/',gwas,'/', gene, '_',feature,'_gwas.tsv')\n",
    "  \n",
    "  eqtl_fn = paste0(tsv_dir, '/',gwas,'/', gene, '_',feature,'_eqtl.tsv')\n",
    "  \n",
    "  #check if the files actually exist\n",
    "  if(file.exists(gwas_fn) && file.exists(eqtl_fn))\n",
    "  {\n",
    "      #print(paste0(\"checking\", rsid, \" \" , gene, \" \", feature, \" \" , row$GWAS))\n",
    "    #print(\"files exist\")\n",
    "    #read the tsv files\n",
    "    g = read.table(gwas_fn, header = T)\n",
    "    e = read.table(eqtl_fn, header = T)\n",
    "    \n",
    "    #if they both aren't empty \n",
    "    if(nrow(g)!=0 && nrow(e)!=0)\n",
    "    {\n",
    "      \n",
    "      #merge them by rsid\n",
    "      df = merge(g, e, by = 'RSID')\n",
    "      #print(\"df:\")\n",
    "      #print(head(df))\n",
    "        \n",
    "      if(nrow(df)!=0)\n",
    "      {\n",
    "          row$num_snps <- nrow(df)  \n",
    "          #check if the risk variant is already in the data. If so, then we are fine\n",
    "          if(row$RSID %in% df$RSID)\n",
    "          {\n",
    "           # print(\"we have the risk snp!!!\")\n",
    "            row$'forced_lead_variant' <- row$RSID\n",
    "            row$'forced_lead_variant_r2' <- 1\n",
    "            row$'reason' <- \"has risk variant\"\n",
    "            row$can_plot <- TRUE\n",
    "\n",
    "          }\n",
    "          #otherwise we need to check for an available proxy snp\n",
    "          else\n",
    "          {\n",
    "              row <- check_for_proxy(row, df)\n",
    "          }\n",
    " \n",
    "      }\n",
    "      #if no data after merging\n",
    "      else\n",
    "      {\n",
    "          row$'reason' <- \"no common snps between qtl and gwas data\"\n",
    "          row$can_plot <- FALSE\n",
    "      }\n",
    "   \n",
    "\n",
    "    }\n",
    "    #if either file is empty\n",
    "    else\n",
    "    {\n",
    "      row$'reason' <- \"gwas and/or qtl data empty\"\n",
    "      row$can_plot <- FALSE\n",
    "    }\n",
    "  }\n",
    "  #if the files don't even exist\n",
    "  else\n",
    "  {\n",
    "      row$'reason' <- \"gwas and/or qtl data empty\"\n",
    "      row$can_plot <- FALSE\n",
    "  }\n",
    "  pe_eqtl_df[rownum,] <- row\n",
    "\n",
    "}"
   ]
  },
  {
   "cell_type": "code",
   "execution_count": null,
   "metadata": {},
   "outputs": [],
   "source": [
    "dim(pe_eqtl_df)\n",
    "head(pe_eqtl_df)\n",
    "\n",
    "write.csv(pe_eqtl_df,file=\"/path/to/AppDataProcessing/qtl/pe_eqtl_info.csv\",row.names=F,col.names=F)"
   ]
  },
  {
   "cell_type": "code",
   "execution_count": null,
   "metadata": {},
   "outputs": [],
   "source": [
    "has_pe_eqtl <- (pe_eqtl_df[which(pe_eqtl_df$can_plot==TRUE),])\n",
    "dim(has_pe_eqtl)\n",
    "head(has_pe_eqtl)"
   ]
  },
  {
   "cell_type": "markdown",
   "metadata": {},
   "source": [
    "## (6) Process the PsychENCODE isoQTL data\n",
    "handle this differently because one gene may have multiple transcripts\n"
   ]
  },
  {
   "cell_type": "code",
   "execution_count": null,
   "metadata": {},
   "outputs": [],
   "source": [
    "pe_isoqtl_df <- plot_df\n",
    "pe_isoqtl_df$feature <- 'i_pe'\n",
    "\n",
    "(dim(pe_isoqtl_df))\n",
    "(head(pe_isoqtl_df))"
   ]
  },
  {
   "cell_type": "code",
   "execution_count": null,
   "metadata": {},
   "outputs": [],
   "source": [
    "tsv_dir"
   ]
  },
  {
   "cell_type": "code",
   "execution_count": null,
   "metadata": {},
   "outputs": [],
   "source": [
    "gwas_folders <- list.files(paste0(tsv_dir))\n",
    "gwas_folders"
   ]
  },
  {
   "cell_type": "code",
   "execution_count": null,
   "metadata": {},
   "outputs": [],
   "source": [
    "\n",
    "file_df <- NULL\n",
    "for (gwas in gwas_folders)\n",
    "{\n",
    "    gwas_files <- list.files(paste0(tsv_dir,\"/\",gwas))\n",
    "    for(file in gwas_files)\n",
    "    {\n",
    " \n",
    "        row <- NULL\n",
    "        if(grepl(\"isoqtl\", file, fixed=TRUE))\n",
    "        {\n",
    "\n",
    "            split <- strsplit(file,split=\"_\",fixed=T)\n",
    "\n",
    "            row <- data.frame(\"gene\"=split[[1]][1],\"transcript\"=split[[1]][2])\n",
    "\n",
    "            file_df <- rbind(file_df, row)\n",
    "        }\n",
    "    }\n",
    "}\n",
    "print(dim(file_df))\n",
    "print(head(file_df))"
   ]
  },
  {
   "cell_type": "code",
   "execution_count": null,
   "metadata": {},
   "outputs": [],
   "source": [
    "pe_isoqtl_only_df <- merge(x = file_df, y = pe_isoqtl_df, by.x = \"gene\", by.y = \"GENE\", all.x = TRUE, allow.cartesian = TRUE)\n",
    "print(dim(pe_isoqtl_only_df))\n",
    "print(head(pe_isoqtl_only_df))"
   ]
  },
  {
   "cell_type": "code",
   "execution_count": null,
   "metadata": {},
   "outputs": [],
   "source": [
    "names(pe_isoqtl_only_df)[names(pe_isoqtl_only_df) == 'gene'] <- 'GENE'\n",
    "names(pe_isoqtl_only_df)[names(pe_isoqtl_only_df) == 'transcript'] <- 'TRANSCRIPT'\n",
    "print(names(pe_isoqtl_only_df))"
   ]
  },
  {
   "cell_type": "code",
   "execution_count": null,
   "metadata": {},
   "outputs": [],
   "source": [
    "pe_isoqtl_df <- NA\n",
    "for (rownum in 1:nrow(pe_isoqtl_only_df))\n",
    "{\n",
    "\n",
    "  #print(rownum)\n",
    "  \n",
    "\n",
    "  \n",
    "  row <- pe_isoqtl_only_df[rownum,]\n",
    "  \n",
    "  chr <- row$CHR\n",
    "  rsid <- row$RSID\n",
    "  gene <- row$GENE\n",
    "  feature <- row$feature\n",
    "  transcript <- row$TRANSCRIPT\n",
    "  \n",
    "  gwas <- row$GWAS\n",
    "\n",
    "  #print(paste0(\"checking\", snp, \" \" , gene, \" \", feature))\n",
    "  ###now check the tsvs for data\n",
    "  #get file path strings\n",
    "  gwas_fn = paste0(tsv_dir, '/',gwas,'/', gene, '_', transcript, '_',feature,'_gwas.tsv')\n",
    "  \n",
    "  eqtl_fn = paste0(tsv_dir, '/',gwas,'/', gene, '_', transcript, '_',feature,'_isoqtl.tsv')\n",
    "  \n",
    "  #check if the files actually exist\n",
    "  if(file.exists(gwas_fn) && file.exists(eqtl_fn))\n",
    "  {\n",
    "      #print(paste0(\"checking\", rsid, \" \" , gene, \" \", feature, \" \" , row$GWAS))\n",
    "    #print(\"files exist\")\n",
    "    #read the tsv files\n",
    "    g = read.table(gwas_fn, header = T)\n",
    "    e = read.table(eqtl_fn, header = T)\n",
    "    \n",
    "    #if they both aren't empty \n",
    "    if(nrow(g)!=0 && nrow(e)!=0)\n",
    "    {\n",
    "      \n",
    "      #merge them by rsid\n",
    "      df = merge(g, e, by = 'RSID')\n",
    "      #print(\"df:\")\n",
    "      #print(head(df))\n",
    "        \n",
    "      if(nrow(df)!=0)\n",
    "      {\n",
    "          row$num_snps <- nrow(df)  \n",
    "          #check if the risk variant is already in the data. If so, then we are fine\n",
    "          if(row$RSID %in% df$RSID)\n",
    "          {\n",
    "           # print(\"we have the risk snp!!!\")\n",
    "            row$'forced_lead_variant' <- row$RSID\n",
    "            row$'forced_lead_variant_r2' <- 1\n",
    "            row$'reason' <- \"has risk variant\"\n",
    "            row$can_plot <- TRUE\n",
    "\n",
    "          }\n",
    "          #otherwise we need to check for an available proxy snp\n",
    "          else\n",
    "          {\n",
    "              row <- check_for_proxy(row, df)\n",
    "          }\n",
    " \n",
    "      }\n",
    "      #if no data after merging\n",
    "      else\n",
    "      {\n",
    "          row$'reason' <- \"no common snps between qtl and gwas data\"\n",
    "          row$can_plot <- FALSE\n",
    "      }\n",
    "   \n",
    "\n",
    "    }\n",
    "    #if either file is empty\n",
    "    else\n",
    "    {\n",
    "      row$'reason' <- \"gwas and/or qtl data empty\"\n",
    "      row$can_plot <- FALSE\n",
    "    }\n",
    "  }\n",
    "  #if the files don't even exist\n",
    "  else\n",
    "  {\n",
    "      row$'reason' <- \"gwas and/or qtl data empty\"\n",
    "      row$can_plot <- FALSE\n",
    "  }\n",
    "  if(row$forced_lead_variant!='NA')\n",
    "  {\n",
    "      print(row)\n",
    "  }\n",
    "  if(is.na(pe_isoqtl_df))\n",
    "  {\n",
    "      pe_isoqtl_df <- row\n",
    "  }\n",
    "  else \n",
    "  {\n",
    "      pe_isoqtl_df <- rbind(pe_isoqtl_df, row)\n",
    "  }\n",
    "\n",
    "}"
   ]
  },
  {
   "cell_type": "code",
   "execution_count": null,
   "metadata": {},
   "outputs": [],
   "source": [
    "dim(pe_isoqtl_df)\n",
    "head(pe_isoqtl_df)\n",
    "\n",
    "write.csv(pe_isoqtl_df,file=\"/path/to/AppDataProcessing/qtl/pe_isoqtl_info.csv\",row.names=F,col.names=F)"
   ]
  },
  {
   "cell_type": "code",
   "execution_count": null,
   "metadata": {},
   "outputs": [],
   "source": [
    "has_isoqtl <- (pe_isoqtl_df[which(pe_isoqtl_df$forced_lead_variant!='NA'),])\n",
    "dim(has_isoqtl)\n",
    "head(has_isoqtl)"
   ]
  },
  {
   "cell_type": "markdown",
   "metadata": {},
   "source": [
    "## (7) Combine all the `_info.csv` files into one"
   ]
  },
  {
   "cell_type": "code",
   "execution_count": null,
   "metadata": {},
   "outputs": [],
   "source": [
    "dim(pe_isoqtl_df)\n",
    "dim(pe_eqtl_df)\n",
    "dim(brain_df)\n",
    "dim(blood_df)"
   ]
  },
  {
   "cell_type": "code",
   "execution_count": null,
   "metadata": {},
   "outputs": [],
   "source": [
    "pe_eqtl_df$TRANSCRIPT <- NA\n",
    "brain_df$TRANSCRIPT <- NA\n",
    "blood_df$TRANSCRIPT <- NA"
   ]
  },
  {
   "cell_type": "code",
   "execution_count": null,
   "metadata": {},
   "outputs": [],
   "source": [
    "all_plot_info <- rbind(pe_isoqtl_df,pe_eqtl_df,brain_df,blood_df)\n",
    "dim(all_plot_info)\n",
    "head(all_plot_info)"
   ]
  },
  {
   "cell_type": "code",
   "execution_count": null,
   "metadata": {},
   "outputs": [],
   "source": [
    "write.csv(all_plot_info,file=\"/path/to/AppDataProcessing/qtl/all_qtl_info.csv\",row.names=F,col.names=F)"
   ]
  },
  {
   "cell_type": "markdown",
   "metadata": {},
   "source": [
    "## (8) Archive the tsvs to copy locally"
   ]
  },
  {
   "cell_type": "code",
   "execution_count": null,
   "metadata": {},
   "outputs": [],
   "source": [
    "print(\"tar -zcvf tsv.tar.gz tsv/\")"
   ]
  },
  {
   "cell_type": "markdown",
   "metadata": {},
   "source": [
    "## (9) Next Steps\n",
    "\n",
    "next we want to create the plots\n",
    "\n",
    "so copy the `tsv` folder, and the `all_qtl_info.csv` file locally\n",
    "\n",
    "we need to run the plot generating code locally because `locuscompareR` uses code to query a sql database for LD values and that doesn't work very well on biowulf\n",
    "\n",
    "run the plot generation script with the `nohup` option to run in background locally"
   ]
  },
  {
   "cell_type": "code",
   "execution_count": null,
   "metadata": {},
   "outputs": [],
   "source": []
  }
 ],
 "metadata": {
  "kernelspec": {
   "display_name": "R/3.6",
   "language": "R",
   "name": "ir36"
  },
  "language_info": {
   "codemirror_mode": "r",
   "file_extension": ".r",
   "mimetype": "text/x-r-source",
   "name": "R",
   "pygments_lexer": "r",
   "version": "3.6.3"
  }
 },
 "nbformat": 4,
 "nbformat_minor": 4
}
